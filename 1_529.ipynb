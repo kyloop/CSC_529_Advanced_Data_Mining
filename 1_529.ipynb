{
 "cells": [
  {
   "cell_type": "code",
   "execution_count": 1,
   "metadata": {},
   "outputs": [],
   "source": [
    "import pandas as pd\n",
    "import numpy as np\n",
    "import matplotlib.pyplot as plt\n",
    "% matplotlib inline"
   ]
  },
  {
   "cell_type": "code",
   "execution_count": 2,
   "metadata": {},
   "outputs": [
    {
     "name": "stdout",
     "output_type": "stream",
     "text": [
      "The dimenision of the original dataset is  (595212, 58)\n"
     ]
    },
    {
     "data": {
      "text/html": [
       "<div>\n",
       "<style scoped>\n",
       "    .dataframe tbody tr th:only-of-type {\n",
       "        vertical-align: middle;\n",
       "    }\n",
       "\n",
       "    .dataframe tbody tr th {\n",
       "        vertical-align: top;\n",
       "    }\n",
       "\n",
       "    .dataframe thead th {\n",
       "        text-align: right;\n",
       "    }\n",
       "</style>\n",
       "<table border=\"1\" class=\"dataframe\">\n",
       "  <thead>\n",
       "    <tr style=\"text-align: right;\">\n",
       "      <th></th>\n",
       "      <th>target</th>\n",
       "      <th>ps_ind_01</th>\n",
       "      <th>ps_ind_02_cat</th>\n",
       "      <th>ps_ind_03</th>\n",
       "      <th>ps_ind_04_cat</th>\n",
       "      <th>ps_ind_05_cat</th>\n",
       "      <th>ps_ind_06_bin</th>\n",
       "      <th>ps_ind_07_bin</th>\n",
       "      <th>ps_ind_08_bin</th>\n",
       "      <th>ps_ind_09_bin</th>\n",
       "      <th>...</th>\n",
       "      <th>ps_calc_11</th>\n",
       "      <th>ps_calc_12</th>\n",
       "      <th>ps_calc_13</th>\n",
       "      <th>ps_calc_14</th>\n",
       "      <th>ps_calc_15_bin</th>\n",
       "      <th>ps_calc_16_bin</th>\n",
       "      <th>ps_calc_17_bin</th>\n",
       "      <th>ps_calc_18_bin</th>\n",
       "      <th>ps_calc_19_bin</th>\n",
       "      <th>ps_calc_20_bin</th>\n",
       "    </tr>\n",
       "    <tr>\n",
       "      <th>id</th>\n",
       "      <th></th>\n",
       "      <th></th>\n",
       "      <th></th>\n",
       "      <th></th>\n",
       "      <th></th>\n",
       "      <th></th>\n",
       "      <th></th>\n",
       "      <th></th>\n",
       "      <th></th>\n",
       "      <th></th>\n",
       "      <th></th>\n",
       "      <th></th>\n",
       "      <th></th>\n",
       "      <th></th>\n",
       "      <th></th>\n",
       "      <th></th>\n",
       "      <th></th>\n",
       "      <th></th>\n",
       "      <th></th>\n",
       "      <th></th>\n",
       "      <th></th>\n",
       "    </tr>\n",
       "  </thead>\n",
       "  <tbody>\n",
       "    <tr>\n",
       "      <th>7</th>\n",
       "      <td>0</td>\n",
       "      <td>2</td>\n",
       "      <td>2</td>\n",
       "      <td>5</td>\n",
       "      <td>1</td>\n",
       "      <td>0</td>\n",
       "      <td>0</td>\n",
       "      <td>1</td>\n",
       "      <td>0</td>\n",
       "      <td>0</td>\n",
       "      <td>...</td>\n",
       "      <td>9</td>\n",
       "      <td>1</td>\n",
       "      <td>5</td>\n",
       "      <td>8</td>\n",
       "      <td>0</td>\n",
       "      <td>1</td>\n",
       "      <td>1</td>\n",
       "      <td>0</td>\n",
       "      <td>0</td>\n",
       "      <td>1</td>\n",
       "    </tr>\n",
       "    <tr>\n",
       "      <th>9</th>\n",
       "      <td>0</td>\n",
       "      <td>1</td>\n",
       "      <td>1</td>\n",
       "      <td>7</td>\n",
       "      <td>0</td>\n",
       "      <td>0</td>\n",
       "      <td>0</td>\n",
       "      <td>0</td>\n",
       "      <td>1</td>\n",
       "      <td>0</td>\n",
       "      <td>...</td>\n",
       "      <td>3</td>\n",
       "      <td>1</td>\n",
       "      <td>1</td>\n",
       "      <td>9</td>\n",
       "      <td>0</td>\n",
       "      <td>1</td>\n",
       "      <td>1</td>\n",
       "      <td>0</td>\n",
       "      <td>1</td>\n",
       "      <td>0</td>\n",
       "    </tr>\n",
       "    <tr>\n",
       "      <th>13</th>\n",
       "      <td>0</td>\n",
       "      <td>5</td>\n",
       "      <td>4</td>\n",
       "      <td>9</td>\n",
       "      <td>1</td>\n",
       "      <td>0</td>\n",
       "      <td>0</td>\n",
       "      <td>0</td>\n",
       "      <td>1</td>\n",
       "      <td>0</td>\n",
       "      <td>...</td>\n",
       "      <td>4</td>\n",
       "      <td>2</td>\n",
       "      <td>7</td>\n",
       "      <td>7</td>\n",
       "      <td>0</td>\n",
       "      <td>1</td>\n",
       "      <td>1</td>\n",
       "      <td>0</td>\n",
       "      <td>1</td>\n",
       "      <td>0</td>\n",
       "    </tr>\n",
       "    <tr>\n",
       "      <th>16</th>\n",
       "      <td>0</td>\n",
       "      <td>0</td>\n",
       "      <td>1</td>\n",
       "      <td>2</td>\n",
       "      <td>0</td>\n",
       "      <td>0</td>\n",
       "      <td>1</td>\n",
       "      <td>0</td>\n",
       "      <td>0</td>\n",
       "      <td>0</td>\n",
       "      <td>...</td>\n",
       "      <td>2</td>\n",
       "      <td>2</td>\n",
       "      <td>4</td>\n",
       "      <td>9</td>\n",
       "      <td>0</td>\n",
       "      <td>0</td>\n",
       "      <td>0</td>\n",
       "      <td>0</td>\n",
       "      <td>0</td>\n",
       "      <td>0</td>\n",
       "    </tr>\n",
       "    <tr>\n",
       "      <th>17</th>\n",
       "      <td>0</td>\n",
       "      <td>0</td>\n",
       "      <td>2</td>\n",
       "      <td>0</td>\n",
       "      <td>1</td>\n",
       "      <td>0</td>\n",
       "      <td>1</td>\n",
       "      <td>0</td>\n",
       "      <td>0</td>\n",
       "      <td>0</td>\n",
       "      <td>...</td>\n",
       "      <td>3</td>\n",
       "      <td>1</td>\n",
       "      <td>1</td>\n",
       "      <td>3</td>\n",
       "      <td>0</td>\n",
       "      <td>0</td>\n",
       "      <td>0</td>\n",
       "      <td>1</td>\n",
       "      <td>1</td>\n",
       "      <td>0</td>\n",
       "    </tr>\n",
       "  </tbody>\n",
       "</table>\n",
       "<p>5 rows × 58 columns</p>\n",
       "</div>"
      ],
      "text/plain": [
       "    target  ps_ind_01  ps_ind_02_cat  ps_ind_03  ps_ind_04_cat  ps_ind_05_cat  \\\n",
       "id                                                                              \n",
       "7        0          2              2          5              1              0   \n",
       "9        0          1              1          7              0              0   \n",
       "13       0          5              4          9              1              0   \n",
       "16       0          0              1          2              0              0   \n",
       "17       0          0              2          0              1              0   \n",
       "\n",
       "    ps_ind_06_bin  ps_ind_07_bin  ps_ind_08_bin  ps_ind_09_bin  \\\n",
       "id                                                               \n",
       "7               0              1              0              0   \n",
       "9               0              0              1              0   \n",
       "13              0              0              1              0   \n",
       "16              1              0              0              0   \n",
       "17              1              0              0              0   \n",
       "\n",
       "         ...        ps_calc_11  ps_calc_12  ps_calc_13  ps_calc_14  \\\n",
       "id       ...                                                         \n",
       "7        ...                 9           1           5           8   \n",
       "9        ...                 3           1           1           9   \n",
       "13       ...                 4           2           7           7   \n",
       "16       ...                 2           2           4           9   \n",
       "17       ...                 3           1           1           3   \n",
       "\n",
       "    ps_calc_15_bin  ps_calc_16_bin  ps_calc_17_bin  ps_calc_18_bin  \\\n",
       "id                                                                   \n",
       "7                0               1               1               0   \n",
       "9                0               1               1               0   \n",
       "13               0               1               1               0   \n",
       "16               0               0               0               0   \n",
       "17               0               0               0               1   \n",
       "\n",
       "    ps_calc_19_bin  ps_calc_20_bin  \n",
       "id                                  \n",
       "7                0               1  \n",
       "9                1               0  \n",
       "13               1               0  \n",
       "16               0               0  \n",
       "17               1               0  \n",
       "\n",
       "[5 rows x 58 columns]"
      ]
     },
     "execution_count": 2,
     "metadata": {},
     "output_type": "execute_result"
    }
   ],
   "source": [
    "#df = pd.read_csv(\"./Desktop/Depaul/csc529/Homework/Final Project/train.csv\")\n",
    "df = pd.read_csv(\"./train2.csv\")\n",
    "df = df.set_index(\"id\")\n",
    "print(\"The dimenision of the original dataset is \",df.shape)\n",
    "df.head(5)"
   ]
  },
  {
   "cell_type": "code",
   "execution_count": 147,
   "metadata": {},
   "outputs": [
    {
     "data": {
      "text/html": [
       "<div>\n",
       "<style scoped>\n",
       "    .dataframe tbody tr th:only-of-type {\n",
       "        vertical-align: middle;\n",
       "    }\n",
       "\n",
       "    .dataframe tbody tr th {\n",
       "        vertical-align: top;\n",
       "    }\n",
       "\n",
       "    .dataframe thead th {\n",
       "        text-align: right;\n",
       "    }\n",
       "</style>\n",
       "<table border=\"1\" class=\"dataframe\">\n",
       "  <thead>\n",
       "    <tr style=\"text-align: right;\">\n",
       "      <th></th>\n",
       "      <th>A</th>\n",
       "      <th>B</th>\n",
       "      <th>C</th>\n",
       "    </tr>\n",
       "  </thead>\n",
       "  <tbody>\n",
       "    <tr>\n",
       "      <th>0</th>\n",
       "      <td>1</td>\n",
       "      <td>3</td>\n",
       "      <td>5</td>\n",
       "    </tr>\n",
       "    <tr>\n",
       "      <th>1</th>\n",
       "      <td>-1</td>\n",
       "      <td>9</td>\n",
       "      <td>19</td>\n",
       "    </tr>\n",
       "  </tbody>\n",
       "</table>\n",
       "</div>"
      ],
      "text/plain": [
       "   A  B   C\n",
       "0  1  3   5\n",
       "1 -1  9  19"
      ]
     },
     "execution_count": 147,
     "metadata": {},
     "output_type": "execute_result"
    }
   ],
   "source": [
    "play = pd.DataFrame(list(zip([1,-1,2],[3,9,8],[5,19,-1])), columns=(\"A\",\"B\",\"C\"))\n",
    "play = play[play.loc[:,\"C\"]!=-1]\n",
    "play"
   ]
  },
  {
   "cell_type": "code",
   "execution_count": 6,
   "metadata": {},
   "outputs": [
    {
     "name": "stdout",
     "output_type": "stream",
     "text": [
      "target (0, 58)\n",
      "ps_ind_01 (0, 58)\n",
      "ps_ind_02_cat (0, 58)\n",
      "ps_ind_03 (0, 58)\n",
      "ps_ind_04_cat (0, 58)\n",
      "ps_ind_05_cat (0, 58)\n",
      "ps_ind_06_bin (0, 58)\n",
      "ps_ind_07_bin (0, 58)\n",
      "ps_ind_08_bin (0, 58)\n",
      "ps_ind_09_bin (0, 58)\n",
      "ps_ind_10_bin (0, 58)\n",
      "ps_ind_11_bin (0, 58)\n",
      "ps_ind_12_bin (0, 58)\n",
      "ps_ind_13_bin (0, 58)\n",
      "ps_ind_14 (0, 58)\n",
      "ps_ind_15 (0, 58)\n",
      "ps_ind_16_bin (0, 58)\n",
      "ps_ind_17_bin (0, 58)\n",
      "ps_ind_18_bin (0, 58)\n",
      "ps_reg_01 (0, 58)\n",
      "ps_reg_02 (0, 58)\n",
      "ps_reg_03 (0, 58)\n",
      "ps_car_01_cat (0, 58)\n",
      "ps_car_02_cat (0, 58)\n",
      "ps_car_03_cat (0, 58)\n",
      "ps_car_04_cat (0, 58)\n",
      "ps_car_05_cat (0, 58)\n",
      "ps_car_06_cat (0, 58)\n",
      "ps_car_07_cat (0, 58)\n",
      "ps_car_08_cat (0, 58)\n",
      "ps_car_09_cat (0, 58)\n",
      "ps_car_10_cat (0, 58)\n",
      "ps_car_11_cat (0, 58)\n",
      "ps_car_11 (0, 58)\n",
      "ps_car_12 (0, 58)\n",
      "ps_car_13 (0, 58)\n",
      "ps_car_14 (0, 58)\n",
      "ps_car_15 (0, 58)\n",
      "ps_calc_01 (0, 58)\n",
      "ps_calc_02 (0, 58)\n",
      "ps_calc_03 (0, 58)\n",
      "ps_calc_04 (0, 58)\n",
      "ps_calc_05 (0, 58)\n",
      "ps_calc_06 (0, 58)\n",
      "ps_calc_07 (0, 58)\n",
      "ps_calc_08 (0, 58)\n",
      "ps_calc_09 (0, 58)\n",
      "ps_calc_10 (0, 58)\n",
      "ps_calc_11 (0, 58)\n",
      "ps_calc_12 (0, 58)\n",
      "ps_calc_13 (0, 58)\n",
      "ps_calc_14 (0, 58)\n",
      "ps_calc_15_bin (0, 58)\n",
      "ps_calc_16_bin (0, 58)\n",
      "ps_calc_17_bin (0, 58)\n",
      "ps_calc_18_bin (0, 58)\n",
      "ps_calc_19_bin (0, 58)\n",
      "ps_calc_20_bin (0, 58)\n"
     ]
    }
   ],
   "source": [
    "col_index_lst=list(df2.columns)\n",
    "for col_name in col_index_lst:\n",
    "    print(\"%s %s\"% (col_name,df2[df2.loc[:,col_name]==-1].shape))"
   ]
  },
  {
   "cell_type": "code",
   "execution_count": 297,
   "metadata": {},
   "outputs": [],
   "source": [
    "df3 = df.copy()\n",
    "for col_name in col_index_lst:\n",
    "    df3 = df3[df3.loc[:,col_name] != -1]"
   ]
  },
  {
   "cell_type": "code",
   "execution_count": 432,
   "metadata": {},
   "outputs": [
    {
     "data": {
      "text/plain": [
       "2.346099760217401"
      ]
     },
     "execution_count": 432,
     "metadata": {},
     "output_type": "execute_result"
    }
   ],
   "source": [
    "#df.ps_car_11[df3.ps_car_11.value_counts().max()]\n",
    "\n",
    "#pd.DataFrame(df.ps_car_02_cat[df.ps_car_02_cat != -1].value_counts()).reset_index()\n",
    "df2.loc[:,\"ps_car_11\"][df2.loc[:,\"ps_car_11\"] != -1].mean()"
   ]
  },
  {
   "cell_type": "code",
   "execution_count": 431,
   "metadata": {},
   "outputs": [
    {
     "data": {
      "text/plain": [
       "-1.0    5\n",
       "Name: ps_car_11, dtype: int64"
      ]
     },
     "execution_count": 431,
     "metadata": {},
     "output_type": "execute_result"
    }
   ],
   "source": [
    "df.loc[:,\"ps_car_11\"][df.loc[:,\"ps_car_11\"] == -1].value_counts()"
   ]
  },
  {
   "cell_type": "code",
   "execution_count": 438,
   "metadata": {},
   "outputs": [
    {
     "data": {
      "text/plain": [
       "id\n",
       "334459    -1.0\n",
       "356241    -1.0\n",
       "567304    -1.0\n",
       "1185902   -1.0\n",
       "1333531   -1.0\n",
       "Name: ps_car_11, dtype: float64"
      ]
     },
     "execution_count": 438,
     "metadata": {},
     "output_type": "execute_result"
    }
   ],
   "source": [
    "df2.loc[:,\"ps_car_11\"][df2.loc[:,\"ps_car_11\"] == -1]"
   ]
  },
  {
   "cell_type": "code",
   "execution_count": 5,
   "metadata": {},
   "outputs": [
    {
     "name": "stderr",
     "output_type": "stream",
     "text": [
      "/Users/KevQuant/anaconda/lib/python3.6/site-packages/ipykernel_launcher.py:2: SettingWithCopyWarning: \n",
      "A value is trying to be set on a copy of a slice from a DataFrame\n",
      "\n",
      "See the caveats in the documentation: http://pandas.pydata.org/pandas-docs/stable/indexing.html#indexing-view-versus-copy\n",
      "  \n",
      "/Users/KevQuant/anaconda/lib/python3.6/site-packages/ipykernel_launcher.py:3: SettingWithCopyWarning: \n",
      "A value is trying to be set on a copy of a slice from a DataFrame\n",
      "\n",
      "See the caveats in the documentation: http://pandas.pydata.org/pandas-docs/stable/indexing.html#indexing-view-versus-copy\n",
      "  This is separate from the ipykernel package so we can avoid doing imports until\n",
      "/Users/KevQuant/anaconda/lib/python3.6/site-packages/ipykernel_launcher.py:4: SettingWithCopyWarning: \n",
      "A value is trying to be set on a copy of a slice from a DataFrame\n",
      "\n",
      "See the caveats in the documentation: http://pandas.pydata.org/pandas-docs/stable/indexing.html#indexing-view-versus-copy\n",
      "  after removing the cwd from sys.path.\n",
      "/Users/KevQuant/anaconda/lib/python3.6/site-packages/ipykernel_launcher.py:6: SettingWithCopyWarning: \n",
      "A value is trying to be set on a copy of a slice from a DataFrame\n",
      "\n",
      "See the caveats in the documentation: http://pandas.pydata.org/pandas-docs/stable/indexing.html#indexing-view-versus-copy\n",
      "  \n",
      "/Users/KevQuant/anaconda/lib/python3.6/site-packages/ipykernel_launcher.py:7: SettingWithCopyWarning: \n",
      "A value is trying to be set on a copy of a slice from a DataFrame\n",
      "\n",
      "See the caveats in the documentation: http://pandas.pydata.org/pandas-docs/stable/indexing.html#indexing-view-versus-copy\n",
      "  import sys\n",
      "/Users/KevQuant/anaconda/lib/python3.6/site-packages/ipykernel_launcher.py:8: SettingWithCopyWarning: \n",
      "A value is trying to be set on a copy of a slice from a DataFrame\n",
      "\n",
      "See the caveats in the documentation: http://pandas.pydata.org/pandas-docs/stable/indexing.html#indexing-view-versus-copy\n",
      "  \n",
      "/Users/KevQuant/anaconda/lib/python3.6/site-packages/ipykernel_launcher.py:9: SettingWithCopyWarning: \n",
      "A value is trying to be set on a copy of a slice from a DataFrame\n",
      "\n",
      "See the caveats in the documentation: http://pandas.pydata.org/pandas-docs/stable/indexing.html#indexing-view-versus-copy\n",
      "  if __name__ == '__main__':\n",
      "/Users/KevQuant/anaconda/lib/python3.6/site-packages/ipykernel_launcher.py:10: SettingWithCopyWarning: \n",
      "A value is trying to be set on a copy of a slice from a DataFrame\n",
      "\n",
      "See the caveats in the documentation: http://pandas.pydata.org/pandas-docs/stable/indexing.html#indexing-view-versus-copy\n",
      "  # Remove the CWD from sys.path while we load stuff.\n",
      "/Users/KevQuant/anaconda/lib/python3.6/site-packages/ipykernel_launcher.py:11: SettingWithCopyWarning: \n",
      "A value is trying to be set on a copy of a slice from a DataFrame\n",
      "\n",
      "See the caveats in the documentation: http://pandas.pydata.org/pandas-docs/stable/indexing.html#indexing-view-versus-copy\n",
      "  # This is added back by InteractiveShellApp.init_path()\n",
      "/Users/KevQuant/anaconda/lib/python3.6/site-packages/ipykernel_launcher.py:12: SettingWithCopyWarning: \n",
      "A value is trying to be set on a copy of a slice from a DataFrame\n",
      "\n",
      "See the caveats in the documentation: http://pandas.pydata.org/pandas-docs/stable/indexing.html#indexing-view-versus-copy\n",
      "  if sys.path[0] == '':\n",
      "/Users/KevQuant/anaconda/lib/python3.6/site-packages/ipykernel_launcher.py:14: SettingWithCopyWarning: \n",
      "A value is trying to be set on a copy of a slice from a DataFrame\n",
      "\n",
      "See the caveats in the documentation: http://pandas.pydata.org/pandas-docs/stable/indexing.html#indexing-view-versus-copy\n",
      "  \n",
      "/Users/KevQuant/anaconda/lib/python3.6/site-packages/ipykernel_launcher.py:15: SettingWithCopyWarning: \n",
      "A value is trying to be set on a copy of a slice from a DataFrame\n",
      "\n",
      "See the caveats in the documentation: http://pandas.pydata.org/pandas-docs/stable/indexing.html#indexing-view-versus-copy\n",
      "  from ipykernel import kernelapp as app\n",
      "/Users/KevQuant/anaconda/lib/python3.6/site-packages/ipykernel_launcher.py:16: SettingWithCopyWarning: \n",
      "A value is trying to be set on a copy of a slice from a DataFrame\n",
      "\n",
      "See the caveats in the documentation: http://pandas.pydata.org/pandas-docs/stable/indexing.html#indexing-view-versus-copy\n",
      "  app.launch_new_instance()\n"
     ]
    }
   ],
   "source": [
    "df2=df\n",
    "df2.loc[:,\"ps_ind_02_cat\"][df2.loc[:,\"ps_ind_02_cat\"] == -1] = pd.DataFrame(df2.ps_ind_02_cat[df2.ps_ind_02_cat != -1].value_counts()).reset_index().loc[0,\"index\"]\n",
    "df2.loc[:,\"ps_ind_04_cat\"][df2.loc[:,\"ps_ind_04_cat\"] == -1] = pd.DataFrame(df2.ps_ind_02_cat[df2.ps_ind_02_cat != -1].value_counts()).reset_index().loc[0,\"index\"]\n",
    "df2.loc[:,\"ps_ind_05_cat\"][df2.loc[:,\"ps_ind_05_cat\"] == -1] = pd.DataFrame(df2.ps_ind_05_cat[df2.ps_ind_05_cat != -1].value_counts()).reset_index().loc[0,\"index\"]\n",
    "\n",
    "df2.loc[:,\"ps_reg_03\"][df2.loc[:,\"ps_reg_03\"]==-1] = df2.loc[:,\"ps_reg_03\"][df2.loc[:,\"ps_reg_03\"] != -1].mean()\n",
    "df2.loc[:,\"ps_car_01_cat\"][df2.loc[:,\"ps_car_01_cat\"] == -1] = pd.DataFrame(df2.ps_car_01_cat[df2.ps_car_01_cat != -1].value_counts()).reset_index().loc[0,\"index\"]\n",
    "df2.loc[:,\"ps_car_02_cat\"][df2.loc[:,\"ps_car_02_cat\"] == -1] = pd.DataFrame(df2.ps_car_02_cat[df2.ps_car_02_cat != -1].value_counts()).reset_index().loc[0,\"index\"]\n",
    "df2.loc[:,\"ps_car_03_cat\"][df2.loc[:,\"ps_car_03_cat\"] == -1] = pd.DataFrame(df2.ps_car_03_cat[df2.ps_car_03_cat != -1].value_counts()).reset_index().loc[0,\"index\"]\n",
    "df2.loc[:,\"ps_car_05_cat\"][df2.loc[:,\"ps_car_05_cat\"] == -1] = pd.DataFrame(df2.ps_car_05_cat[df2.ps_car_05_cat != -1].value_counts()).reset_index().loc[0,\"index\"]\n",
    "df2.loc[:,\"ps_car_07_cat\"][df2.loc[:,\"ps_car_07_cat\"] == -1] = pd.DataFrame(df2.ps_car_07_cat[df2.ps_car_07_cat != -1].value_counts()).reset_index().loc[0,\"index\"]\n",
    "df2.loc[:,\"ps_car_09_cat\"][df2.loc[:,\"ps_car_09_cat\"] == -1] = pd.DataFrame(df2.ps_car_09_cat[df2.ps_car_09_cat != -1].value_counts()).reset_index().loc[0,\"index\"]\n",
    "\n",
    "df2.loc[:,\"ps_car_11\"][df2.loc[:,\"ps_car_11\"] == -1] = df2.loc[:,\"ps_car_11\"][df2.loc[:,\"ps_car_11\"] != -1].mean()\n",
    "df2.loc[:,\"ps_car_12\"][df2.loc[:,\"ps_car_12\"] == -1] = df2.loc[:,\"ps_car_12\"][df2.loc[:,\"ps_car_12\"] != -1].mean()\n",
    "df2.loc[:,\"ps_car_14\"][df2.loc[:,\"ps_car_14\"] == -1] = df2.loc[:,\"ps_car_14\"][df2.loc[:,\"ps_car_14\"] != -1].mean()"
   ]
  },
  {
   "cell_type": "code",
   "execution_count": 244,
   "metadata": {},
   "outputs": [
    {
     "data": {
      "text/plain": [
       "0    119261\n",
       "1      5670\n",
       "Name: target, dtype: int64"
      ]
     },
     "execution_count": 244,
     "metadata": {},
     "output_type": "execute_result"
    }
   ],
   "source": [
    "df3.target.value_counts()"
   ]
  },
  {
   "cell_type": "code",
   "execution_count": 161,
   "metadata": {},
   "outputs": [
    {
     "data": {
      "text/html": [
       "<div>\n",
       "<style scoped>\n",
       "    .dataframe tbody tr th:only-of-type {\n",
       "        vertical-align: middle;\n",
       "    }\n",
       "\n",
       "    .dataframe tbody tr th {\n",
       "        vertical-align: top;\n",
       "    }\n",
       "\n",
       "    .dataframe thead th {\n",
       "        text-align: right;\n",
       "    }\n",
       "</style>\n",
       "<table border=\"1\" class=\"dataframe\">\n",
       "  <thead>\n",
       "    <tr style=\"text-align: right;\">\n",
       "      <th></th>\n",
       "      <th>ps_ind_01</th>\n",
       "      <th>ps_ind_02_cat</th>\n",
       "      <th>ps_ind_03</th>\n",
       "      <th>ps_ind_04_cat</th>\n",
       "      <th>ps_ind_05_cat</th>\n",
       "      <th>ps_ind_06_bin</th>\n",
       "      <th>ps_ind_07_bin</th>\n",
       "      <th>ps_ind_08_bin</th>\n",
       "      <th>ps_ind_09_bin</th>\n",
       "      <th>ps_ind_10_bin</th>\n",
       "      <th>...</th>\n",
       "      <th>ps_calc_11</th>\n",
       "      <th>ps_calc_12</th>\n",
       "      <th>ps_calc_13</th>\n",
       "      <th>ps_calc_14</th>\n",
       "      <th>ps_calc_15_bin</th>\n",
       "      <th>ps_calc_16_bin</th>\n",
       "      <th>ps_calc_17_bin</th>\n",
       "      <th>ps_calc_18_bin</th>\n",
       "      <th>ps_calc_19_bin</th>\n",
       "      <th>ps_calc_20_bin</th>\n",
       "    </tr>\n",
       "    <tr>\n",
       "      <th>id</th>\n",
       "      <th></th>\n",
       "      <th></th>\n",
       "      <th></th>\n",
       "      <th></th>\n",
       "      <th></th>\n",
       "      <th></th>\n",
       "      <th></th>\n",
       "      <th></th>\n",
       "      <th></th>\n",
       "      <th></th>\n",
       "      <th></th>\n",
       "      <th></th>\n",
       "      <th></th>\n",
       "      <th></th>\n",
       "      <th></th>\n",
       "      <th></th>\n",
       "      <th></th>\n",
       "      <th></th>\n",
       "      <th></th>\n",
       "      <th></th>\n",
       "      <th></th>\n",
       "    </tr>\n",
       "  </thead>\n",
       "  <tbody>\n",
       "    <tr>\n",
       "      <th>16</th>\n",
       "      <td>0</td>\n",
       "      <td>1</td>\n",
       "      <td>2</td>\n",
       "      <td>0</td>\n",
       "      <td>0</td>\n",
       "      <td>1</td>\n",
       "      <td>0</td>\n",
       "      <td>0</td>\n",
       "      <td>0</td>\n",
       "      <td>0</td>\n",
       "      <td>...</td>\n",
       "      <td>2</td>\n",
       "      <td>2</td>\n",
       "      <td>4</td>\n",
       "      <td>9</td>\n",
       "      <td>0</td>\n",
       "      <td>0</td>\n",
       "      <td>0</td>\n",
       "      <td>0</td>\n",
       "      <td>0</td>\n",
       "      <td>0</td>\n",
       "    </tr>\n",
       "    <tr>\n",
       "      <th>22</th>\n",
       "      <td>5</td>\n",
       "      <td>1</td>\n",
       "      <td>4</td>\n",
       "      <td>0</td>\n",
       "      <td>0</td>\n",
       "      <td>1</td>\n",
       "      <td>0</td>\n",
       "      <td>0</td>\n",
       "      <td>0</td>\n",
       "      <td>0</td>\n",
       "      <td>...</td>\n",
       "      <td>7</td>\n",
       "      <td>1</td>\n",
       "      <td>3</td>\n",
       "      <td>6</td>\n",
       "      <td>1</td>\n",
       "      <td>0</td>\n",
       "      <td>1</td>\n",
       "      <td>0</td>\n",
       "      <td>1</td>\n",
       "      <td>0</td>\n",
       "    </tr>\n",
       "    <tr>\n",
       "      <th>28</th>\n",
       "      <td>1</td>\n",
       "      <td>1</td>\n",
       "      <td>2</td>\n",
       "      <td>0</td>\n",
       "      <td>0</td>\n",
       "      <td>0</td>\n",
       "      <td>1</td>\n",
       "      <td>0</td>\n",
       "      <td>0</td>\n",
       "      <td>0</td>\n",
       "      <td>...</td>\n",
       "      <td>3</td>\n",
       "      <td>5</td>\n",
       "      <td>0</td>\n",
       "      <td>6</td>\n",
       "      <td>0</td>\n",
       "      <td>1</td>\n",
       "      <td>0</td>\n",
       "      <td>0</td>\n",
       "      <td>1</td>\n",
       "      <td>0</td>\n",
       "    </tr>\n",
       "  </tbody>\n",
       "</table>\n",
       "<p>3 rows × 57 columns</p>\n",
       "</div>"
      ],
      "text/plain": [
       "    ps_ind_01  ps_ind_02_cat  ps_ind_03  ps_ind_04_cat  ps_ind_05_cat  \\\n",
       "id                                                                      \n",
       "16          0              1          2              0              0   \n",
       "22          5              1          4              0              0   \n",
       "28          1              1          2              0              0   \n",
       "\n",
       "    ps_ind_06_bin  ps_ind_07_bin  ps_ind_08_bin  ps_ind_09_bin  ps_ind_10_bin  \\\n",
       "id                                                                              \n",
       "16              1              0              0              0              0   \n",
       "22              1              0              0              0              0   \n",
       "28              0              1              0              0              0   \n",
       "\n",
       "         ...        ps_calc_11  ps_calc_12  ps_calc_13  ps_calc_14  \\\n",
       "id       ...                                                         \n",
       "16       ...                 2           2           4           9   \n",
       "22       ...                 7           1           3           6   \n",
       "28       ...                 3           5           0           6   \n",
       "\n",
       "    ps_calc_15_bin  ps_calc_16_bin  ps_calc_17_bin  ps_calc_18_bin  \\\n",
       "id                                                                   \n",
       "16               0               0               0               0   \n",
       "22               1               0               1               0   \n",
       "28               0               1               0               0   \n",
       "\n",
       "    ps_calc_19_bin  ps_calc_20_bin  \n",
       "id                                  \n",
       "16               0               0  \n",
       "22               1               0  \n",
       "28               1               0  \n",
       "\n",
       "[3 rows x 57 columns]"
      ]
     },
     "execution_count": 161,
     "metadata": {},
     "output_type": "execute_result"
    }
   ],
   "source": [
    "Y3 = df3.target\n",
    "X3 = df3.loc[:, \"ps_ind_01\":]\n",
    "X3.head(3)"
   ]
  },
  {
   "cell_type": "code",
   "execution_count": 3,
   "metadata": {},
   "outputs": [
    {
     "name": "stdout",
     "output_type": "stream",
     "text": [
      "0    573518\n",
      "1     21694\n",
      "Name: target, dtype: int64\n"
     ]
    },
    {
     "data": {
      "image/png": "[encoded data removed]",
      "text/plain": [
       "<matplotlib.figure.Figure at 0x109198518>"
      ]
     },
     "metadata": {},
     "output_type": "display_data"
    }
   ],
   "source": [
    "#Visualize the proportion of the target variables\n",
    "fig = plt.figure(figsize = (15,5))\n",
    "\n",
    "ax = fig.add_subplot(1,1,1)\n",
    "print(df[\"target\"].value_counts())\n",
    "df[\"target\"].value_counts().plot(kind='bar', color='blue')\n",
    "plt.xlabel(\"Class Labels\")\n",
    "plt.ylabel(\"Count\")\n",
    "plt.title(\"Class Labels Distribution\")\n",
    "plt.show()"
   ]
  },
  {
   "cell_type": "markdown",
   "metadata": {},
   "source": [
    "As we can observe the above, the proportion of class labels (0 & 1) are very imbalanced. SMOTE technique might be one of our approach to achieve a better result. The SMOTE process includes Over-Sampling the Minority Class and Under-Sampling the Majority Class. "
   ]
  },
  {
   "cell_type": "code",
   "execution_count": 5,
   "metadata": {},
   "outputs": [],
   "source": [
    "#Set y as the target variable Table\n",
    "Y = df.target\n",
    "#Set X_norm as the Normalized predictor variables Table\n",
    "X_norm = df.iloc[:,1:]\n",
    "#Set X as the predictor variables Table\n",
    "X = df.iloc[:,1:]"
   ]
  },
  {
   "cell_type": "code",
   "execution_count": 13,
   "metadata": {},
   "outputs": [
    {
     "name": "stderr",
     "output_type": "stream",
     "text": [
      "/Users/KevQuant/anaconda/lib/python3.6/site-packages/sklearn/cross_validation.py:41: DeprecationWarning: This module was deprecated in version 0.18 in favor of the model_selection module into which all the refactored classes and functions are moved. Also note that the interface of the new CV iterators are different from that of this module. This module will be removed in 0.20.\n",
      "  \"This module will be removed in 0.20.\", DeprecationWarning)\n"
     ]
    }
   ],
   "source": [
    "#Split the train set, test set, train class, test class\n",
    "from sklearn.cross_validation import train_test_split\n",
    "x_train,x_test,y_train,y_test = train_test_split(X, \n",
    "                                                 #Predictor Variables\n",
    "                                                 Y, \n",
    "                                                 #Class labels\n",
    "                                                 stratify=y, \n",
    "                                                 #data is split in a stratified fashion, using this as the class labels\n",
    "                                                 test_size=0.34,\n",
    "                                                 #Test size is set as 34% of entire set\n",
    "                                                 random_state=28,\n",
    "                                                 # Set the randon state for spliting data  in same order\n",
    "                                                )"
   ]
  },
  {
   "cell_type": "code",
   "execution_count": 14,
   "metadata": {},
   "outputs": [
    {
     "name": "stdout",
     "output_type": "stream",
     "text": [
      "The dimenision of Training Sample is  (392839, 57)\n",
      "The dimenision of Training Target Classes is  (392839,)\n",
      "The dimenision of Testing Sample is  (202373, 57)\n",
      "The dimenision of Testing Target Classes is  (202373,)\n"
     ]
    }
   ],
   "source": [
    "#Double check the dimenision of the Data Samples\n",
    "print(\"The dimenision of Training Sample is \",x_train.shape)\n",
    "print(\"The dimenision of Training Target Classes is \",y_train.shape)\n",
    "print(\"The dimenision of Testing Sample is \",x_test.shape)\n",
    "print(\"The dimenision of Testing Target Classes is \",y_test.shape)"
   ]
  },
  {
   "cell_type": "code",
   "execution_count": 15,
   "metadata": {},
   "outputs": [],
   "source": [
    "#Import Desision Tree, Naive Bayes , K-Nearest Neighors\n",
    "from sklearn import neighbors, tree, naive_bayes"
   ]
  },
  {
   "cell_type": "code",
   "execution_count": 16,
   "metadata": {},
   "outputs": [
    {
     "data": {
      "text/plain": [
       "DecisionTreeClassifier(class_weight=None, criterion='gini', max_depth=None,\n",
       "            max_features=None, max_leaf_nodes=None,\n",
       "            min_impurity_decrease=0.0, min_impurity_split=None,\n",
       "            min_samples_leaf=1, min_samples_split=2,\n",
       "            min_weight_fraction_leaf=0.0, presort=False, random_state=None,\n",
       "            splitter='best')"
      ]
     },
     "execution_count": 16,
     "metadata": {},
     "output_type": "execute_result"
    }
   ],
   "source": [
    "#Set up Decision Tree classifier with ALL default setting\n",
    "treeclf = tree.DecisionTreeClassifier()\n",
    "#Plug in the train dataset with target class\n",
    "treeclf = treeclf.fit(x_train, y_train)\n",
    "treeclf"
   ]
  },
  {
   "cell_type": "code",
   "execution_count": 17,
   "metadata": {},
   "outputs": [
    {
     "name": "stdout",
     "output_type": "stream",
     "text": [
      "(202373,)\n"
     ]
    }
   ],
   "source": [
    "#Classify the Target Class\n",
    "y_pre = treeclf.predict(x_test)\n",
    "print (y_pre.shape)"
   ]
  },
  {
   "cell_type": "code",
   "execution_count": 34,
   "metadata": {},
   "outputs": [
    {
     "name": "stdout",
     "output_type": "stream",
     "text": [
      "             precision    recall  f1-score   support\n",
      "\n",
      "          0       0.96      0.95      0.96    194997\n",
      "          1       0.04      0.06      0.05      7376\n",
      "\n",
      "avg / total       0.93      0.92      0.92    202373\n",
      "\n",
      "---Confusion Matrix---\n",
      "[[185400   9597]\n",
      " [  6926    450]]\n",
      "\n",
      "Specificity: Decision Tree Classifier: 95.078 percent\n",
      "Sensitivity: Decision Tree Classifier: 6.101 percent\n",
      "\n",
      "Accuracy of Training: Decision Tree Classifier: 100.000 percent\n",
      "Accuracy of Training: Decision Tree Classifier: 91.835 percent\n"
     ]
    }
   ],
   "source": [
    "#Generate the Classification Report\n",
    "#Generate the precision, recall, F1 score for each class\n",
    "from sklearn.metrics import classification_report\n",
    "print(classification_report(y_test, y_pre))\n",
    "#Generate confustion matrix \n",
    "#Columns represent the Actual Values 1 through 3 from top to bottom\n",
    "#Rows represent the Predicted Values 1 through 3 from left to right\n",
    "from sklearn.metrics import confusion_matrix\n",
    "tree_cm = confusion_matrix(y_test, y_pre, labels=[0,1])\n",
    "print(\"---Confusion Matrix---\")\n",
    "print (tree_cm)\n",
    "print()\n",
    "tree_specficity = tree_cm[0,0] / (tree_cm[0,0]+tree_cm[0,1])\n",
    "tree_sensitivity = tree_cm[1,1] / (tree_cm[1,0]+tree_cm[1,1])\n",
    "print(\"Specificity: Decision Tree Classifier: %0.3f percent\" % (tree_specficity*100))\n",
    "print(\"Sensitivity: Decision Tree Classifier: %0.3f percent\" %(tree_sensitivity*100))\n",
    "print()\n",
    "#The average Accuracy score across the train instances\n",
    "print (\"Accuracy of Training: Decision Tree Classifier: %0.3f percent\" %(treeclf.score(x_train, y_train)*100))\n",
    "from sklearn.metrics import accuracy_score\n",
    "print(\"Accuracy of Training: Decision Tree Classifier: %0.3f percent\" %(accuracy_score(y_test, y_pre)*100))"
   ]
  },
  {
   "cell_type": "markdown",
   "metadata": {},
   "source": [
    "##By GridSearch and Cross-Validation: "
   ]
  },
  {
   "cell_type": "code",
   "execution_count": 8,
   "metadata": {},
   "outputs": [],
   "source": [
    "from sklearn import tree, naive_bayes, neighbors\n",
    "from sklearn.model_selection import train_test_split\n",
    "from sklearn.model_selection import GridSearchCV\n",
    "from sklearn.metrics import classification_report"
   ]
  },
  {
   "cell_type": "code",
   "execution_count": 10,
   "metadata": {},
   "outputs": [
    {
     "name": "stdout",
     "output_type": "stream",
     "text": [
      "(595212, 57)\n",
      "(595212,)\n"
     ]
    }
   ],
   "source": [
    "Y = df.target\n",
    "X= df.iloc[:,1:]\n",
    "X.shape\n",
    "\n",
    "X=np.array(X)\n",
    "Y=np.array(Y)\n",
    "\n",
    "print(X.shape)\n",
    "print(Y.shape)"
   ]
  },
  {
   "cell_type": "code",
   "execution_count": 12,
   "metadata": {},
   "outputs": [
    {
     "data": {
      "text/plain": [
       "array([[  2.,   2.,   5., ...,   0.,   0.,   1.],\n",
       "       [  1.,   1.,   7., ...,   0.,   1.,   0.],\n",
       "       [  5.,   4.,   9., ...,   0.,   1.,   0.],\n",
       "       ..., \n",
       "       [  1.,   1.,  10., ...,   0.,   0.,   0.],\n",
       "       [  5.,   2.,   3., ...,   1.,   0.,   0.],\n",
       "       [  0.,   1.,   8., ...,   0.,   0.,   0.]])"
      ]
     },
     "execution_count": 12,
     "metadata": {},
     "output_type": "execute_result"
    }
   ],
   "source": [
    "X"
   ]
  },
  {
   "cell_type": "code",
   "execution_count": 15,
   "metadata": {},
   "outputs": [
    {
     "name": "stdout",
     "output_type": "stream",
     "text": [
      "# Tuning D.T. parameters for recall\n",
      "\n",
      "Best parameters set found on development set:\n",
      "\n",
      "{'criterion': 'gini', 'max_depth': 25}\n",
      "\n",
      "Grid scores on development set:\n",
      "\n",
      "0.500 (+/-0.000) for {'criterion': 'entropy', 'max_depth': 5}\n",
      "0.504 (+/-0.001) for {'criterion': 'entropy', 'max_depth': 15}\n",
      "0.506 (+/-0.002) for {'criterion': 'entropy', 'max_depth': 25}\n",
      "0.505 (+/-0.001) for {'criterion': 'entropy', 'max_depth': 35}\n",
      "0.506 (+/-0.002) for {'criterion': 'entropy', 'max_depth': 45}\n",
      "0.505 (+/-0.002) for {'criterion': 'entropy', 'max_depth': 55}\n",
      "0.506 (+/-0.002) for {'criterion': 'entropy', 'max_depth': 65}\n",
      "0.500 (+/-0.000) for {'criterion': 'gini', 'max_depth': 5}\n",
      "0.503 (+/-0.000) for {'criterion': 'gini', 'max_depth': 15}\n",
      "0.507 (+/-0.000) for {'criterion': 'gini', 'max_depth': 25}\n",
      "0.507 (+/-0.002) for {'criterion': 'gini', 'max_depth': 35}\n",
      "0.505 (+/-0.001) for {'criterion': 'gini', 'max_depth': 45}\n",
      "0.507 (+/-0.002) for {'criterion': 'gini', 'max_depth': 55}\n",
      "0.506 (+/-0.003) for {'criterion': 'gini', 'max_depth': 65}\n",
      "\n",
      "Detailed classification report:\n",
      "\n",
      "The model is trained on the full development set.\n",
      "The scores are computed on the full evaluation set.\n",
      "\n",
      "             precision    recall  f1-score   support\n",
      "\n",
      "          0       0.96      0.97      0.97    194997\n",
      "          1       0.05      0.04      0.04      7376\n",
      "\n",
      "avg / total       0.93      0.93      0.93    202373\n",
      "\n",
      "\n"
     ]
    }
   ],
   "source": [
    "#Split the train set, test set, train class, test class\n",
    "from sklearn.cross_validation import train_test_split\n",
    "x_train,x_test,y_train,y_test = train_test_split(X, \n",
    "                                                 #Predictor Variables\n",
    "                                                 Y, \n",
    "                                                 #Class labels\n",
    "                                                 stratify=Y, \n",
    "                                                 #data is split in a stratified fashion, using this as the class labels\n",
    "                                                 test_size=0.34,\n",
    "                                                 #Test size is set as 34% of entire set\n",
    "                                                 random_state=28,\n",
    "                                                 # Set the randon state for spliting data  in same order\n",
    "                                                )\n",
    "\n",
    "#Pre-set parameters for the classifier\n",
    "max_depth_lst=list(np.arange(5,70,10))\n",
    "tuned_parameters = [{\"criterion\" : [\"entropy\"],\n",
    "                     \"max_depth\": max_depth_lst}, \n",
    "                    {\"criterion\" : [\"gini\"],\n",
    "                     \"max_depth\": max_depth_lst}]\n",
    "\n",
    "scores = ['recall']\n",
    "\n",
    "for score in scores:\n",
    "    print(\"# Tuning D.T. parameters for %s\" % score)\n",
    "    print()\n",
    "    #Find the best parameters value to the classifier by cross-validation method\n",
    "    clf = GridSearchCV(tree.DecisionTreeClassifier(), tuned_parameters, cv=2, scoring='%s_macro' % score)\n",
    " \n",
    "    clf.fit(x_train, y_train)\n",
    "    \n",
    "    print(\"Best parameters set found on development set:\")\n",
    "    print()\n",
    "    print(clf.best_params_)\n",
    "    print()\n",
    "    print(\"Grid scores on development set:\")\n",
    "    print()\n",
    "    means = clf.cv_results_['mean_test_score']\n",
    "    stds = clf.cv_results_['std_test_score']\n",
    "    for mean, std, params in zip(means, stds, clf.cv_results_['params']):\n",
    "        print(\"%0.3f (+/-%0.03f) for %r\"\n",
    "              % (mean, std * 2, params))\n",
    "    print()\n",
    "\n",
    "    print(\"Detailed classification report:\")\n",
    "    print()\n",
    "    print(\"The model is trained on the full development set.\")\n",
    "    print(\"The scores are computed on the full evaluation set.\")\n",
    "    print()\n",
    "    y_true, y_pred = y_test, clf.predict(x_test)\n",
    "    print(classification_report(y_true, y_pred))\n",
    "    print()"
   ]
  },
  {
   "cell_type": "code",
   "execution_count": 18,
   "metadata": {},
   "outputs": [
    {
     "name": "stdout",
     "output_type": "stream",
     "text": [
      "The Score of Training dataset 0.988175817574\n",
      "The Score of Testing dataset 0.933355734214\n",
      " \n",
      "[[378406    115]\n",
      " [  4530   9788]]\n",
      " \n",
      "Decision Tree Classifier: Specificity on Training Raw Data is  0.999696185945\n",
      "Decision Tree Classifier: Sensivtivity on Training Raw Data is  0.683615030032\n",
      " \n",
      "[[188570   6427]\n",
      " [  7060    316]]\n",
      " \n",
      "Decision Tree Classifier: Specificity on Testing Raw Data is  0.967040518572\n",
      "Decision Tree Classifier: Sensivtivity on Testing Raw Data is  0.04284164859\n"
     ]
    }
   ],
   "source": [
    "#Split the train set, test set, train class, test class\n",
    "from sklearn.cross_validation import train_test_split\n",
    "x_train,x_test,y_train,y_test = train_test_split(X, \n",
    "                                                 #Predictor Variables\n",
    "                                                 Y, \n",
    "                                                 #Class labels\n",
    "                                                 stratify=Y, \n",
    "                                                 #data is split in a stratified fashion, using this as the class labels\n",
    "                                                 test_size=0.34,\n",
    "                                                 #Test size is set as 34% of entire set\n",
    "                                                 random_state=28,\n",
    "                                                 # Set the randon state for spliting data  in same order\n",
    "                                                )\n",
    "clf = tree.DecisionTreeClassifier(criterion = \"gini\", \n",
    "                                  random_state=28,\n",
    "                                  max_depth=25 )\n",
    "                                  #min_samples_split= 4, \n",
    "                                  #min_samples_leaf= 1)\n",
    "clf.fit(x_train,y_train)\n",
    "print(\"The Score of Training dataset\",clf.score(x_train, y_train))\n",
    "print(\"The Score of Testing dataset\",clf.score(x_test, y_test))\n",
    "print(' ')\n",
    "\n",
    "clf.fit(x_train,y_train)\n",
    "pred_train = clf.predict(x_train)\n",
    "from sklearn.metrics import confusion_matrix\n",
    "cm = confusion_matrix(y_train, pred_train) #Generate the confusion matrix\n",
    "print(cm)\n",
    "print(' ')\n",
    "\n",
    "#Class 1 means True Customers\n",
    "specificity1_train = cm[0,0]/(cm[0,0]+cm[0,1])\n",
    "sensitivity1_train = cm[1,1]/(cm[1,0]+cm[1,1])\n",
    "print(\"Decision Tree Classifier: Specificity on Training Raw Data is \", specificity1_train)\n",
    "print(\"Decision Tree Classifier: Sensivtivity on Training Raw Data is \", sensitivity1_train)\n",
    "print(' ')\n",
    "\n",
    "#Use the SAME classifier to predict on the provided Testing Set\n",
    "pred_test = clf.predict(x_test)\n",
    "from sklearn.metrics import confusion_matrix\n",
    "cm = confusion_matrix(y_test, pred_test) #Generate the confusion matrix\n",
    "print(cm)\n",
    "print(' ')\n",
    "\n",
    "#Class 1 means True Customers\n",
    "specificity1_test = cm[0,0]/(cm[0,0]+cm[0,1])\n",
    "sensitivity1_test = cm[1,1]/(cm[1,0]+cm[1,1])\n",
    "print(\"Decision Tree Classifier: Specificity on Testing Raw Data is \", specificity1_test)\n",
    "print(\"Decision Tree Classifier: Sensivtivity on Testing Raw Data is \", sensitivity1_test)"
   ]
  },
  {
   "cell_type": "code",
   "execution_count": 40,
   "metadata": {},
   "outputs": [
    {
     "name": "stdout",
     "output_type": "stream",
     "text": [
      "# Tuning N.B. parameters for recall\n",
      "\n",
      "Best parameters set found on development set:\n",
      "\n",
      "{'binarize': 0.89000009999999996}\n",
      "\n",
      "Grid scores on development set:\n",
      "\n",
      "0.501 (+/-0.000) for {'binarize': 9.9999999999999995e-08}\n",
      "0.501 (+/-0.000) for {'binarize': 0.0100001}\n",
      "0.501 (+/-0.000) for {'binarize': 0.0200001}\n",
      "0.501 (+/-0.000) for {'binarize': 0.030000099999999998}\n",
      "0.501 (+/-0.000) for {'binarize': 0.040000100000000004}\n",
      "0.501 (+/-0.000) for {'binarize': 0.050000100000000006}\n",
      "0.501 (+/-0.000) for {'binarize': 0.060000100000000001}\n",
      "0.501 (+/-0.000) for {'binarize': 0.07000010000000001}\n",
      "0.501 (+/-0.000) for {'binarize': 0.080000100000000005}\n",
      "0.501 (+/-0.000) for {'binarize': 0.0900001}\n",
      "0.501 (+/-0.000) for {'binarize': 0.10000010000000001}\n",
      "0.501 (+/-0.000) for {'binarize': 0.1100001}\n",
      "0.501 (+/-0.000) for {'binarize': 0.1200001}\n",
      "0.501 (+/-0.000) for {'binarize': 0.13000010000000001}\n",
      "0.501 (+/-0.000) for {'binarize': 0.14000010000000002}\n",
      "0.501 (+/-0.000) for {'binarize': 0.1500001}\n",
      "0.501 (+/-0.000) for {'binarize': 0.16000010000000001}\n",
      "0.501 (+/-0.000) for {'binarize': 0.17000010000000002}\n",
      "0.501 (+/-0.000) for {'binarize': 0.1800001}\n",
      "0.501 (+/-0.000) for {'binarize': 0.19000010000000001}\n",
      "0.501 (+/-0.001) for {'binarize': 0.20000010000000001}\n",
      "0.501 (+/-0.001) for {'binarize': 0.2100001}\n",
      "0.501 (+/-0.001) for {'binarize': 0.2200001}\n",
      "0.501 (+/-0.001) for {'binarize': 0.23000010000000001}\n",
      "0.501 (+/-0.001) for {'binarize': 0.24000009999999999}\n",
      "0.501 (+/-0.001) for {'binarize': 0.2500001}\n",
      "0.501 (+/-0.001) for {'binarize': 0.26000010000000001}\n",
      "0.501 (+/-0.001) for {'binarize': 0.27000010000000002}\n",
      "0.501 (+/-0.001) for {'binarize': 0.28000010000000003}\n",
      "0.501 (+/-0.001) for {'binarize': 0.29000009999999998}\n",
      "0.501 (+/-0.001) for {'binarize': 0.30000009999999999}\n",
      "0.501 (+/-0.001) for {'binarize': 0.3100001}\n",
      "0.501 (+/-0.001) for {'binarize': 0.32000010000000001}\n",
      "0.501 (+/-0.001) for {'binarize': 0.33000010000000002}\n",
      "0.501 (+/-0.001) for {'binarize': 0.34000010000000003}\n",
      "0.501 (+/-0.001) for {'binarize': 0.35000010000000004}\n",
      "0.501 (+/-0.001) for {'binarize': 0.36000009999999999}\n",
      "0.501 (+/-0.001) for {'binarize': 0.3700001}\n",
      "0.501 (+/-0.001) for {'binarize': 0.38000010000000001}\n",
      "0.501 (+/-0.001) for {'binarize': 0.39000010000000002}\n",
      "0.502 (+/-0.001) for {'binarize': 0.40000010000000003}\n",
      "0.502 (+/-0.001) for {'binarize': 0.41000010000000003}\n",
      "0.502 (+/-0.001) for {'binarize': 0.42000009999999999}\n",
      "0.502 (+/-0.001) for {'binarize': 0.4300001}\n",
      "0.502 (+/-0.001) for {'binarize': 0.44000010000000001}\n",
      "0.502 (+/-0.001) for {'binarize': 0.45000010000000001}\n",
      "0.502 (+/-0.001) for {'binarize': 0.46000010000000002}\n",
      "0.502 (+/-0.001) for {'binarize': 0.47000010000000003}\n",
      "0.502 (+/-0.001) for {'binarize': 0.48000009999999999}\n",
      "0.502 (+/-0.001) for {'binarize': 0.49000009999999999}\n",
      "0.503 (+/-0.001) for {'binarize': 0.50000009999999995}\n",
      "0.502 (+/-0.001) for {'binarize': 0.51000009999999996}\n",
      "0.502 (+/-0.001) for {'binarize': 0.52000009999999997}\n",
      "0.503 (+/-0.001) for {'binarize': 0.53000009999999997}\n",
      "0.503 (+/-0.001) for {'binarize': 0.54000009999999998}\n",
      "0.503 (+/-0.000) for {'binarize': 0.55000009999999999}\n",
      "0.502 (+/-0.000) for {'binarize': 0.5600001}\n",
      "0.502 (+/-0.001) for {'binarize': 0.57000010000000001}\n",
      "0.502 (+/-0.001) for {'binarize': 0.58000009999999991}\n",
      "0.502 (+/-0.001) for {'binarize': 0.59000009999999992}\n",
      "0.502 (+/-0.001) for {'binarize': 0.60000009999999993}\n",
      "0.502 (+/-0.001) for {'binarize': 0.61000009999999993}\n",
      "0.502 (+/-0.001) for {'binarize': 0.62000009999999994}\n",
      "0.502 (+/-0.001) for {'binarize': 0.63000009999999995}\n",
      "0.502 (+/-0.001) for {'binarize': 0.64000009999999996}\n",
      "0.502 (+/-0.001) for {'binarize': 0.65000009999999997}\n",
      "0.502 (+/-0.001) for {'binarize': 0.66000009999999998}\n",
      "0.502 (+/-0.001) for {'binarize': 0.67000009999999999}\n",
      "0.502 (+/-0.001) for {'binarize': 0.6800001}\n",
      "0.502 (+/-0.001) for {'binarize': 0.69000010000000001}\n",
      "0.502 (+/-0.000) for {'binarize': 0.70000010000000001}\n",
      "0.502 (+/-0.000) for {'binarize': 0.71000009999999991}\n",
      "0.502 (+/-0.000) for {'binarize': 0.72000009999999992}\n",
      "0.502 (+/-0.000) for {'binarize': 0.73000009999999993}\n",
      "0.502 (+/-0.000) for {'binarize': 0.74000009999999994}\n",
      "0.502 (+/-0.000) for {'binarize': 0.75000009999999995}\n",
      "0.502 (+/-0.000) for {'binarize': 0.76000009999999996}\n",
      "0.502 (+/-0.000) for {'binarize': 0.77000009999999997}\n",
      "0.502 (+/-0.000) for {'binarize': 0.78000009999999997}\n",
      "0.502 (+/-0.000) for {'binarize': 0.79000009999999998}\n",
      "0.503 (+/-0.000) for {'binarize': 0.80000009999999999}\n",
      "0.503 (+/-0.000) for {'binarize': 0.8100001}\n",
      "0.503 (+/-0.000) for {'binarize': 0.82000010000000001}\n",
      "0.503 (+/-0.001) for {'binarize': 0.83000010000000002}\n",
      "0.503 (+/-0.001) for {'binarize': 0.84000009999999992}\n",
      "0.503 (+/-0.001) for {'binarize': 0.85000009999999993}\n",
      "0.503 (+/-0.001) for {'binarize': 0.86000009999999993}\n",
      "0.503 (+/-0.001) for {'binarize': 0.87000009999999994}\n",
      "0.503 (+/-0.001) for {'binarize': 0.88000009999999995}\n",
      "0.503 (+/-0.001) for {'binarize': 0.89000009999999996}\n",
      "0.503 (+/-0.001) for {'binarize': 0.90000009999999997}\n",
      "0.503 (+/-0.001) for {'binarize': 0.91000009999999998}\n",
      "0.503 (+/-0.001) for {'binarize': 0.92000009999999999}\n",
      "0.503 (+/-0.001) for {'binarize': 0.9300001}\n",
      "0.503 (+/-0.001) for {'binarize': 0.94000010000000001}\n",
      "0.503 (+/-0.001) for {'binarize': 0.95000010000000001}\n",
      "0.503 (+/-0.001) for {'binarize': 0.96000009999999991}\n",
      "0.503 (+/-0.000) for {'binarize': 0.97000009999999992}\n",
      "0.503 (+/-0.000) for {'binarize': 0.98000009999999993}\n",
      "0.503 (+/-0.001) for {'binarize': 0.99000009999999994}\n",
      "0.501 (+/-0.000) for {'alpha': 0.10000000000000001}\n",
      "0.501 (+/-0.000) for {'alpha': 0.1090909090909091}\n",
      "0.501 (+/-0.000) for {'alpha': 0.11818181818181819}\n",
      "0.501 (+/-0.000) for {'alpha': 0.12727272727272729}\n",
      "0.501 (+/-0.000) for {'alpha': 0.13636363636363635}\n",
      "0.501 (+/-0.000) for {'alpha': 0.14545454545454545}\n",
      "0.501 (+/-0.000) for {'alpha': 0.15454545454545454}\n",
      "0.501 (+/-0.000) for {'alpha': 0.16363636363636364}\n",
      "0.501 (+/-0.000) for {'alpha': 0.17272727272727273}\n",
      "0.501 (+/-0.000) for {'alpha': 0.18181818181818182}\n",
      "0.501 (+/-0.000) for {'alpha': 0.19090909090909092}\n",
      "0.501 (+/-0.000) for {'alpha': 0.20000000000000001}\n",
      "0.501 (+/-0.000) for {'alpha': 0.20909090909090911}\n",
      "0.501 (+/-0.000) for {'alpha': 0.2181818181818182}\n",
      "0.501 (+/-0.000) for {'alpha': 0.22727272727272727}\n",
      "0.501 (+/-0.000) for {'alpha': 0.23636363636363636}\n",
      "0.501 (+/-0.000) for {'alpha': 0.24545454545454545}\n",
      "0.501 (+/-0.000) for {'alpha': 0.25454545454545452}\n",
      "0.501 (+/-0.000) for {'alpha': 0.26363636363636367}\n",
      "0.501 (+/-0.000) for {'alpha': 0.27272727272727271}\n",
      "0.501 (+/-0.000) for {'alpha': 0.28181818181818186}\n",
      "0.501 (+/-0.000) for {'alpha': 0.29090909090909089}\n",
      "0.501 (+/-0.000) for {'alpha': 0.29999999999999999}\n",
      "0.501 (+/-0.000) for {'alpha': 0.30909090909090908}\n",
      "0.501 (+/-0.000) for {'alpha': 0.31818181818181818}\n",
      "0.501 (+/-0.000) for {'alpha': 0.32727272727272727}\n",
      "0.501 (+/-0.000) for {'alpha': 0.33636363636363636}\n",
      "0.501 (+/-0.000) for {'alpha': 0.34545454545454546}\n",
      "0.501 (+/-0.000) for {'alpha': 0.3545454545454545}\n",
      "0.501 (+/-0.000) for {'alpha': 0.36363636363636365}\n",
      "0.501 (+/-0.000) for {'alpha': 0.37272727272727268}\n",
      "0.501 (+/-0.000) for {'alpha': 0.38181818181818183}\n",
      "0.501 (+/-0.000) for {'alpha': 0.39090909090909087}\n",
      "0.501 (+/-0.000) for {'alpha': 0.40000000000000002}\n",
      "0.501 (+/-0.000) for {'alpha': 0.40909090909090906}\n",
      "0.501 (+/-0.000) for {'alpha': 0.41818181818181821}\n",
      "0.501 (+/-0.000) for {'alpha': 0.42727272727272725}\n",
      "0.501 (+/-0.000) for {'alpha': 0.4363636363636364}\n",
      "0.501 (+/-0.000) for {'alpha': 0.44545454545454544}\n",
      "0.501 (+/-0.000) for {'alpha': 0.45454545454545459}\n",
      "0.501 (+/-0.000) for {'alpha': 0.46363636363636362}\n",
      "0.501 (+/-0.000) for {'alpha': 0.47272727272727266}\n",
      "0.501 (+/-0.000) for {'alpha': 0.48181818181818181}\n",
      "0.501 (+/-0.000) for {'alpha': 0.49090909090909085}\n",
      "0.501 (+/-0.000) for {'alpha': 0.5}\n",
      "0.501 (+/-0.000) for {'alpha': 0.50909090909090904}\n",
      "0.501 (+/-0.000) for {'alpha': 0.51818181818181819}\n",
      "0.501 (+/-0.000) for {'alpha': 0.52727272727272723}\n",
      "0.501 (+/-0.000) for {'alpha': 0.53636363636363638}\n",
      "0.501 (+/-0.000) for {'alpha': 0.54545454545454541}\n",
      "0.501 (+/-0.000) for {'alpha': 0.55454545454545456}\n",
      "0.501 (+/-0.000) for {'alpha': 0.5636363636363636}\n",
      "0.501 (+/-0.000) for {'alpha': 0.57272727272727275}\n",
      "0.501 (+/-0.000) for {'alpha': 0.58181818181818179}\n",
      "0.501 (+/-0.000) for {'alpha': 0.59090909090909094}\n",
      "0.501 (+/-0.000) for {'alpha': 0.59999999999999998}\n",
      "0.501 (+/-0.000) for {'alpha': 0.60909090909090902}\n",
      "0.501 (+/-0.000) for {'alpha': 0.61818181818181817}\n",
      "0.501 (+/-0.000) for {'alpha': 0.6272727272727272}\n",
      "0.501 (+/-0.000) for {'alpha': 0.63636363636363635}\n",
      "0.501 (+/-0.000) for {'alpha': 0.64545454545454539}\n",
      "0.501 (+/-0.000) for {'alpha': 0.65454545454545454}\n",
      "0.501 (+/-0.000) for {'alpha': 0.66363636363636358}\n",
      "0.501 (+/-0.000) for {'alpha': 0.67272727272727273}\n",
      "0.501 (+/-0.000) for {'alpha': 0.68181818181818177}\n",
      "0.501 (+/-0.000) for {'alpha': 0.69090909090909081}\n",
      "0.501 (+/-0.000) for {'alpha': 0.69999999999999996}\n",
      "0.501 (+/-0.000) for {'alpha': 0.70909090909090899}\n",
      "0.501 (+/-0.000) for {'alpha': 0.71818181818181814}\n",
      "0.501 (+/-0.000) for {'alpha': 0.72727272727272718}\n",
      "0.501 (+/-0.000) for {'alpha': 0.73636363636363633}\n",
      "0.501 (+/-0.000) for {'alpha': 0.74545454545454537}\n",
      "0.501 (+/-0.000) for {'alpha': 0.75454545454545452}\n",
      "0.501 (+/-0.000) for {'alpha': 0.76363636363636356}\n",
      "0.501 (+/-0.000) for {'alpha': 0.77272727272727271}\n",
      "0.501 (+/-0.000) for {'alpha': 0.78181818181818175}\n",
      "0.501 (+/-0.000) for {'alpha': 0.79090909090909089}\n",
      "0.501 (+/-0.000) for {'alpha': 0.79999999999999993}\n",
      "0.501 (+/-0.000) for {'alpha': 0.80909090909090908}\n",
      "0.501 (+/-0.000) for {'alpha': 0.81818181818181812}\n",
      "0.501 (+/-0.000) for {'alpha': 0.82727272727272727}\n",
      "0.501 (+/-0.000) for {'alpha': 0.83636363636363631}\n",
      "0.501 (+/-0.000) for {'alpha': 0.84545454545454535}\n",
      "0.501 (+/-0.000) for {'alpha': 0.8545454545454545}\n",
      "0.501 (+/-0.000) for {'alpha': 0.86363636363636354}\n",
      "0.501 (+/-0.000) for {'alpha': 0.87272727272727268}\n",
      "0.501 (+/-0.000) for {'alpha': 0.88181818181818172}\n",
      "0.501 (+/-0.000) for {'alpha': 0.89090909090909087}\n",
      "0.501 (+/-0.000) for {'alpha': 0.89999999999999991}\n",
      "0.501 (+/-0.000) for {'alpha': 0.90909090909090906}\n",
      "0.501 (+/-0.000) for {'alpha': 0.9181818181818181}\n",
      "0.501 (+/-0.000) for {'alpha': 0.92727272727272725}\n",
      "0.501 (+/-0.000) for {'alpha': 0.93636363636363629}\n",
      "0.501 (+/-0.000) for {'alpha': 0.94545454545454544}\n",
      "0.501 (+/-0.000) for {'alpha': 0.95454545454545447}\n",
      "0.501 (+/-0.000) for {'alpha': 0.96363636363636362}\n",
      "0.501 (+/-0.000) for {'alpha': 0.97272727272727266}\n",
      "0.501 (+/-0.000) for {'alpha': 0.9818181818181817}\n",
      "0.501 (+/-0.000) for {'alpha': 0.99090909090909085}\n",
      "0.501 (+/-0.000) for {'alpha': 1.0}\n",
      "\n",
      "Detailed classification report:\n",
      "\n",
      "The model is trained on the full development set.\n",
      "The scores are computed on the full evaluation set.\n",
      "\n"
     ]
    },
    {
     "name": "stdout",
     "output_type": "stream",
     "text": [
      "             precision    recall  f1-score   support\n",
      "\n",
      "          0       0.96      1.00      0.98    194997\n",
      "          1       0.13      0.01      0.01      7376\n",
      "\n",
      "avg / total       0.93      0.96      0.95    202373\n",
      "\n",
      "\n"
     ]
    }
   ],
   "source": [
    "#Split the train set, test set, train class, test class\n",
    "from sklearn.cross_validation import train_test_split\n",
    "x_train,x_test,y_train,y_test = train_test_split(X, \n",
    "                                                 #Predictor Variables\n",
    "                                                 Y, \n",
    "                                                 #Class labels\n",
    "                                                 stratify=Y, \n",
    "                                                 #data is split in a stratified fashion, using this as the class labels\n",
    "                                                 test_size=0.34,\n",
    "                                                 #Test size is set as 34% of entire set\n",
    "                                                 random_state=28,\n",
    "                                                 # Set the randon state for spliting data  in same order\n",
    "                                                )\n",
    "\n",
    "#Pre-set parameters for the classifier\n",
    "from sklearn.naive_bayes import BernoulliNB\n",
    "binarize_lst = list(np.arange(0.0000001,1,0.01))\n",
    "alpha_lst = list(np.linspace(0.1,1,100))\n",
    "tuned_parameters = [{\"binarize\": binarize_lst},\n",
    "                    {\"alpha\": alpha_lst}]\n",
    "\n",
    "scores = ['recall']\n",
    "\n",
    "for score in scores:\n",
    "    print(\"# Tuning N.B. parameters for %s\" % score)\n",
    "    print()\n",
    "    #Find the best parameters value to the classifier by cross-validation method\n",
    "    clf = GridSearchCV(BernoulliNB(), tuned_parameters, cv=5, scoring='%s_macro' % score)\n",
    " \n",
    "    clf.fit(x_train, y_train)\n",
    "    \n",
    "    print(\"Best parameters set found on development set:\")\n",
    "    print()\n",
    "    print(clf.best_params_)\n",
    "    print()\n",
    "    print(\"Grid scores on development set:\")\n",
    "    print()\n",
    "    means = clf.cv_results_['mean_test_score']\n",
    "    stds = clf.cv_results_['std_test_score']\n",
    "    for mean, std, params in zip(means, stds, clf.cv_results_['params']):\n",
    "        print(\"%0.3f (+/-%0.03f) for %r\"\n",
    "              % (mean, std * 2, params))\n",
    "    print()\n",
    "\n",
    "    print(\"Detailed classification report:\")\n",
    "    print()\n",
    "    print(\"The model is trained on the full development set.\")\n",
    "    print(\"The scores are computed on the full evaluation set.\")\n",
    "    print()\n",
    "    y_true, y_pred = y_test, clf.predict(x_test)\n",
    "    print(classification_report(y_true, y_pred))\n",
    "    print()"
   ]
  },
  {
   "cell_type": "code",
   "execution_count": 59,
   "metadata": {},
   "outputs": [
    {
     "name": "stdout",
     "output_type": "stream",
     "text": [
      "The Score of Training dataset 0.961905513455\n",
      "The Score of Testing dataset 0.961911915127\n",
      " \n",
      "[[377760    761]\n",
      " [ 14204    114]]\n",
      " \n",
      "Bernoulli Naive Bayes Classifier: Specificity on Training Raw Data is  0.997989543513\n",
      "Bernoulli Naive Bayes Classifier: Sensivtivity on Training Raw Data is  0.00796200586674\n",
      " \n",
      "[[194607    390]\n",
      " [  7318     58]]\n",
      " \n",
      "Bernoulli Naive Bayes Classifier: Specificity on Testing Raw Data is  0.99799996923\n",
      "Bernoulli Naive Bayes Classifier: Sensivtivity on Testing Raw Data is  0.00786334056399\n"
     ]
    }
   ],
   "source": [
    "#Split the train set, test set, train class, test class\n",
    "from sklearn.cross_validation import train_test_split\n",
    "x_train,x_test,y_train,y_test = train_test_split(np.array(X), \n",
    "                                                 #Predictor Variables\n",
    "                                                 np.array(Y), \n",
    "                                                 #Class labels\n",
    "                                                 stratify=Y, \n",
    "                                                 #data is split in a stratified fashion, using this as the class labels\n",
    "                                                 test_size=0.34,\n",
    "                                                 #Test size is set as 34% of entire set\n",
    "                                                 random_state=28,\n",
    "                                                 # Set the randon state for spliting data  in same order\n",
    "                                                )\n",
    "clf = BernoulliNB(binarize=0.89000009999999996)\n",
    "\n",
    "clf.fit(x_train,y_train)\n",
    "print(\"The Score of Training dataset\",clf.score(x_train, y_train))\n",
    "print(\"The Score of Testing dataset\",clf.score(x_test, y_test))\n",
    "print(' ')\n",
    "\n",
    "clf.fit(x_train,y_train)\n",
    "pred_train = clf.predict(x_train)\n",
    "from sklearn.metrics import confusion_matrix\n",
    "cm = confusion_matrix(y_train, pred_train) #Generate the confusion matrix\n",
    "print(cm)\n",
    "print(' ')\n",
    "\n",
    "#Class 1 means True Customers\n",
    "specificity1_train = cm[0,0]/(cm[0,0]+cm[0,1])\n",
    "sensitivity1_train = cm[1,1]/(cm[1,0]+cm[1,1])\n",
    "print(\"Bernoulli Naive Bayes Classifier: Specificity on Training Raw Data is \", specificity1_train)\n",
    "print(\"Bernoulli Naive Bayes Classifier: Sensivtivity on Training Raw Data is \", sensitivity1_train)\n",
    "print(' ')\n",
    "\n",
    "#Use the SAME classifier to predict on the provided Testing Set\n",
    "pred_test = clf.predict(x_test)\n",
    "from sklearn.metrics import confusion_matrix\n",
    "cm = confusion_matrix(y_test, pred_test) #Generate the confusion matrix\n",
    "print(cm)\n",
    "print(' ')\n",
    "\n",
    "#Class 1 means True Customers\n",
    "specificity1_test = cm[0,0]/(cm[0,0]+cm[0,1])\n",
    "sensitivity1_test = cm[1,1]/(cm[1,0]+cm[1,1])\n",
    "print(\"Bernoulli Naive Bayes Classifier: Specificity on Testing Raw Data is \", specificity1_test)\n",
    "print(\"Bernoulli Naive Bayes Classifier: Sensivtivity on Testing Raw Data is \", sensitivity1_test)"
   ]
  },
  {
   "cell_type": "code",
   "execution_count": null,
   "metadata": {},
   "outputs": [
    {
     "name": "stdout",
     "output_type": "stream",
     "text": [
      "# Tuning KNN parameters for recall\n",
      "\n"
     ]
    }
   ],
   "source": [
    "#Split the train set, test set, train class, test class\n",
    "from sklearn.cross_validation import train_test_split\n",
    "x_train,x_test,y_train,y_test = train_test_split(np.array(X_norm), \n",
    "                                                 #Predictor Variables\n",
    "                                                 np.array(Y), \n",
    "                                                 #Class labels\n",
    "                                                 stratify=Y, \n",
    "                                                 #data is split in a stratified fashion, using this as the class labels\n",
    "                                                 test_size=0.34,\n",
    "                                                 #Test size is set as 34% of entire set\n",
    "                                                 random_state=28,\n",
    "                                                 # Set the randon state for spliting data  in same order\n",
    "                                                )\n",
    "\n",
    "#Pre-set parameters for the classifier\n",
    "from sklearn.neighbors import KNeighborsClassifier\n",
    "#binarize_lst = list(np.arange(0.0000001,1,0.01))\n",
    "#alpha_lst = list(np.linspace(0.1,1,100))\n",
    "n_neighbors_lst = list(np.linspace(5,10,5, dtype=np.int64))\n",
    "tuned_parameters = [{\"n_neighbors\":n_neighbors_lst}, \n",
    "                    {\"weights\":['distance']},\n",
    "                    {\"metric\":['minkowski']}]\n",
    "\n",
    "scores = ['recall']\n",
    "\n",
    "for score in scores:\n",
    "    print(\"# Tuning KNN parameters for %s\" % score)\n",
    "    print()\n",
    "    #Find the best parameters value to the classifier by cross-validation method\n",
    "    clf = GridSearchCV(neighbors.KNeighborsClassifier(), tuned_parameters, cv=5, scoring='%s_macro' % score)\n",
    " \n",
    "    clf.fit(x_train, y_train)\n",
    "    \n",
    "    print(\"Best parameters set found on development set:\")\n",
    "    print()\n",
    "    print(clf.best_params_)\n",
    "    print()\n",
    "    print(\"Grid scores on development set:\")\n",
    "    print()\n",
    "    means = clf.cv_results_['mean_test_score']\n",
    "    stds = clf.cv_results_['std_test_score']\n",
    "    for mean, std, params in zip(means, stds, clf.cv_results_['params']):\n",
    "        print(\"%0.3f (+/-%0.03f) for %r\"\n",
    "              % (mean, std * 2, params))\n",
    "    print()\n",
    "\n",
    "    print(\"Detailed classification report:\")\n",
    "    print()\n",
    "    print(\"The model is trained on the full development set.\")\n",
    "    print(\"The scores are computed on the full evaluation set.\")\n",
    "    print()\n",
    "    y_true, y_pred = y_test, clf.predict(x_test)\n",
    "    print(classification_report(y_true, y_pred))\n",
    "    print()"
   ]
  },
  {
   "cell_type": "markdown",
   "metadata": {},
   "source": [
    "##****Check KNN ****"
   ]
  },
  {
   "cell_type": "markdown",
   "metadata": {},
   "source": [
    "SVM + SMOTE"
   ]
  },
  {
   "cell_type": "code",
   "execution_count": 450,
   "metadata": {},
   "outputs": [],
   "source": [
    "X2 = df2.loc[:,\"ps_ind_01\":]\n",
    "Y2 = df2.loc[:,\"target\"]"
   ]
  },
  {
   "cell_type": "code",
   "execution_count": 421,
   "metadata": {},
   "outputs": [
    {
     "name": "stdout",
     "output_type": "stream",
     "text": [
      "[ 0.90951193  0.02546386  0.01104802  0.00704067  0.00629573  0.00609606\n",
      "  0.00530995  0.00454164  0.00361306  0.00292483]\n",
      "[[-40.23522617   3.19669802   0.88656851  -6.53140223   2.02838233\n",
      "   -3.64226821  -1.44229512  -3.4445299    1.15663363  -0.62531328]\n",
      " [ 33.76951063   4.24840968  -5.03994568   4.53360286  -1.32507927\n",
      "   -2.30169749   1.64738455   1.51723045  -2.2592173    1.85282651]\n",
      " [-40.27989154   6.49883373   4.53002852   2.43584695  -1.34797038\n",
      "   -1.54734564   1.15759172  -2.49000293  -1.90281242  -0.73220963]]\n"
     ]
    },
    {
     "data": {
      "image/png": "[encoded data removed]",
      "text/plain": [
       "<matplotlib.figure.Figure at 0x15badfc18>"
      ]
     },
     "metadata": {},
     "output_type": "display_data"
    }
   ],
   "source": [
    "from sklearn.decomposition import PCA, NMF\n",
    "n_component=10\n",
    "pca = PCA(n_components=n_component, \n",
    "          random_state = 28, \n",
    "          iterated_power=10)\n",
    "pca.fit_transform(np.array(X2))\n",
    "print(pca.explained_variance_ratio_)\n",
    "var_ratio_lst = pca.explained_variance_ratio_\n",
    "n_compo_lst = list(map(int,np.linspace(1,n_component,n_component)))\n",
    "\n",
    "plt.bar(n_compo_lst,var_ratio_lst)\n",
    "\n",
    "print(X4[0:3])"
   ]
  },
  {
   "cell_type": "code",
   "execution_count": 458,
   "metadata": {},
   "outputs": [
    {
     "name": "stdout",
     "output_type": "stream",
     "text": [
      "{'classify__C': 0.001, 'reduce_dim': PCA(copy=True, iterated_power=7, n_components=1, random_state=None,\n",
      "  svd_solver='auto', tol=0.0, whiten=False), 'reduce_dim__n_components': 1}\n"
     ]
    },
    {
     "data": {
      "text/plain": [
       "<matplotlib.legend.Legend at 0x1190b5358>"
      ]
     },
     "execution_count": 458,
     "metadata": {},
     "output_type": "execute_result"
    },
    {
     "data": {
      "image/png": "[encoded data removed]",
      "text/plain": [
       "<matplotlib.figure.Figure at 0x1137b0710>"
      ]
     },
     "metadata": {},
     "output_type": "display_data"
    }
   ],
   "source": [
    "import numpy as np\n",
    "import matplotlib.pyplot as plt\n",
    "from sklearn.datasets import load_digits\n",
    "from sklearn.model_selection import GridSearchCV\n",
    "from sklearn.pipeline import Pipeline\n",
    "from sklearn.svm import LinearSVC\n",
    "from sklearn.decomposition import PCA, NMF\n",
    "from sklearn.feature_selection import SelectKBest, chi2\n",
    "\n",
    "pipe = Pipeline([('reduce_dim', PCA()),\n",
    "                 ('classify', LinearSVC())])\n",
    "\n",
    "#N_FEATURES_OPTIONS = [2, 4, 8]\n",
    "N_FEATURES_OPTIONS = [1]\n",
    "#C_OPTIONS = [1, 10, 100, 1000]\n",
    "C_OPTIONS = [0.001]\n",
    "#kernel_Option = [\"linear\",\"rbf\",\"poly\"]\n",
    "\n",
    "param_grid = [{'reduce_dim': [PCA(iterated_power=7)],\n",
    "               'reduce_dim__n_components': N_FEATURES_OPTIONS,\n",
    "               'classify__C': C_OPTIONS},\n",
    "              {'reduce_dim': [SelectKBest(chi2)],\n",
    "               'reduce_dim__k': N_FEATURES_OPTIONS,\n",
    "               'classify__C': C_OPTIONS}]\n",
    "\n",
    "#reducer_labels = ['PCA', 'NMF', 'KBest(chi2)']\n",
    "reducer_labels = ['PCA',  'KBest(chi2)']\n",
    "\n",
    "grid = GridSearchCV(pipe, cv=3, n_jobs=1, param_grid=param_grid) #Use Recall as scoring method\n",
    "digits = load_digits()\n",
    "grid.fit(np.array(X2), np.array(Y2))\n",
    "\n",
    "print(grid.best_params_)\n",
    "mean_scores = np.array(grid.cv_results_['mean_test_score'])\n",
    "# scores are in the order of param_grid iteration, which is alphabetical\n",
    "mean_scores = mean_scores.reshape(len(C_OPTIONS), -1, len(N_FEATURES_OPTIONS))\n",
    "# select score for best C\n",
    "mean_scores = mean_scores.max(axis=0)\n",
    "bar_offsets = (np.arange(len(N_FEATURES_OPTIONS)) *(len(reducer_labels) + 1) + .5)\n",
    "\n",
    "plt.figure()\n",
    "COLORS = 'bgrcmyk'\n",
    "for i, (label, reducer_scores) in enumerate(zip(reducer_labels, mean_scores)):\n",
    "    plt.bar(bar_offsets + i, reducer_scores, label=label, color=COLORS[i])\n",
    "\n",
    "plt.title(\"Comparing feature reduction techniques\")\n",
    "plt.xlabel('Reduced number of features')\n",
    "plt.xticks(bar_offsets + len(reducer_labels) / 2, N_FEATURES_OPTIONS)\n",
    "plt.ylabel('Classification accuracy')\n",
    "plt.ylim((0, 1))\n",
    "plt.legend(loc='upper left')"
   ]
  },
  {
   "cell_type": "code",
   "execution_count": 470,
   "metadata": {},
   "outputs": [
    {
     "name": "stdout",
     "output_type": "stream",
     "text": [
      "Original dataset shape Counter({0: 573518, 1: 21694})\n",
      "Resampled dataset shape Counter({0: 573518, 1: 400000})\n"
     ]
    }
   ],
   "source": [
    "from collections import Counter\n",
    "from sklearn.datasets import make_classification\n",
    "from imblearn.over_sampling import SMOTE \n",
    "\n",
    "print('Original dataset shape {}'.format(Counter(Y2)))\n",
    "#sm = SMOTE(ratio = {1:400000},random_state=42)\n",
    "sm = SMOTE(random_state=42)\n",
    "X_res, Y_res = sm.fit_sample(X2, Y2)\n",
    "print('Resampled dataset shape {}'.format(Counter(Y_res)))\n"
   ]
  },
  {
   "cell_type": "code",
   "execution_count": 471,
   "metadata": {},
   "outputs": [
    {
     "name": "stdout",
     "output_type": "stream",
     "text": [
      "The Score of Training dataset 0.963552498606\n",
      "The Score of Testing dataset 0.963552450179\n",
      " \n",
      "[[378521      0]\n",
      " [ 14318      0]]\n",
      " \n",
      "Bernoulli Naive Bayes Classifier: Specificity on Training Raw Data is  1.0\n",
      "Bernoulli Naive Bayes Classifier: Sensivtivity on Training Raw Data is  0.0\n",
      " \n"
     ]
    },
    {
     "ename": "KeyboardInterrupt",
     "evalue": "",
     "output_type": "error",
     "traceback": [
      "\u001b[0;31m---------------------------------------------------------------------------\u001b[0m",
      "\u001b[0;31mKeyboardInterrupt\u001b[0m                         Traceback (most recent call last)",
      "\u001b[0;32m<ipython-input-471-483fdb9ed3a1>\u001b[0m in \u001b[0;36m<module>\u001b[0;34m()\u001b[0m\n\u001b[1;32m     42\u001b[0m \u001b[0;34m\u001b[0m\u001b[0m\n\u001b[1;32m     43\u001b[0m \u001b[0;31m#Use the SAME classifier to predict on the provided Testing Set\u001b[0m\u001b[0;34m\u001b[0m\u001b[0;34m\u001b[0m\u001b[0m\n\u001b[0;32m---> 44\u001b[0;31m \u001b[0mpred_test\u001b[0m \u001b[0;34m=\u001b[0m \u001b[0mclf\u001b[0m\u001b[0;34m.\u001b[0m\u001b[0mpredict\u001b[0m\u001b[0;34m(\u001b[0m\u001b[0mx_test\u001b[0m\u001b[0;34m)\u001b[0m\u001b[0;34m\u001b[0m\u001b[0m\n\u001b[0m\u001b[1;32m     45\u001b[0m \u001b[0;32mfrom\u001b[0m \u001b[0msklearn\u001b[0m\u001b[0;34m.\u001b[0m\u001b[0mmetrics\u001b[0m \u001b[0;32mimport\u001b[0m \u001b[0mconfusion_matrix\u001b[0m\u001b[0;34m\u001b[0m\u001b[0m\n\u001b[1;32m     46\u001b[0m \u001b[0mcm\u001b[0m \u001b[0;34m=\u001b[0m \u001b[0mconfusion_matrix\u001b[0m\u001b[0;34m(\u001b[0m\u001b[0my_test\u001b[0m\u001b[0;34m,\u001b[0m \u001b[0mpred_test\u001b[0m\u001b[0;34m)\u001b[0m \u001b[0;31m#Generate the confusion matrix\u001b[0m\u001b[0;34m\u001b[0m\u001b[0m\n",
      "\u001b[0;32m~/anaconda/lib/python3.6/site-packages/sklearn/svm/base.py\u001b[0m in \u001b[0;36mpredict\u001b[0;34m(self, X)\u001b[0m\n\u001b[1;32m    546\u001b[0m             \u001b[0mClass\u001b[0m \u001b[0mlabels\u001b[0m \u001b[0;32mfor\u001b[0m \u001b[0msamples\u001b[0m \u001b[0;32min\u001b[0m \u001b[0mX\u001b[0m\u001b[0;34m.\u001b[0m\u001b[0;34m\u001b[0m\u001b[0m\n\u001b[1;32m    547\u001b[0m         \"\"\"\n\u001b[0;32m--> 548\u001b[0;31m         \u001b[0my\u001b[0m \u001b[0;34m=\u001b[0m \u001b[0msuper\u001b[0m\u001b[0;34m(\u001b[0m\u001b[0mBaseSVC\u001b[0m\u001b[0;34m,\u001b[0m \u001b[0mself\u001b[0m\u001b[0;34m)\u001b[0m\u001b[0;34m.\u001b[0m\u001b[0mpredict\u001b[0m\u001b[0;34m(\u001b[0m\u001b[0mX\u001b[0m\u001b[0;34m)\u001b[0m\u001b[0;34m\u001b[0m\u001b[0m\n\u001b[0m\u001b[1;32m    549\u001b[0m         \u001b[0;32mreturn\u001b[0m \u001b[0mself\u001b[0m\u001b[0;34m.\u001b[0m\u001b[0mclasses_\u001b[0m\u001b[0;34m.\u001b[0m\u001b[0mtake\u001b[0m\u001b[0;34m(\u001b[0m\u001b[0mnp\u001b[0m\u001b[0;34m.\u001b[0m\u001b[0masarray\u001b[0m\u001b[0;34m(\u001b[0m\u001b[0my\u001b[0m\u001b[0;34m,\u001b[0m \u001b[0mdtype\u001b[0m\u001b[0;34m=\u001b[0m\u001b[0mnp\u001b[0m\u001b[0;34m.\u001b[0m\u001b[0mintp\u001b[0m\u001b[0;34m)\u001b[0m\u001b[0;34m)\u001b[0m\u001b[0;34m\u001b[0m\u001b[0m\n\u001b[1;32m    550\u001b[0m \u001b[0;34m\u001b[0m\u001b[0m\n",
      "\u001b[0;32m~/anaconda/lib/python3.6/site-packages/sklearn/svm/base.py\u001b[0m in \u001b[0;36mpredict\u001b[0;34m(self, X)\u001b[0m\n\u001b[1;32m    308\u001b[0m         \u001b[0mX\u001b[0m \u001b[0;34m=\u001b[0m \u001b[0mself\u001b[0m\u001b[0;34m.\u001b[0m\u001b[0m_validate_for_predict\u001b[0m\u001b[0;34m(\u001b[0m\u001b[0mX\u001b[0m\u001b[0;34m)\u001b[0m\u001b[0;34m\u001b[0m\u001b[0m\n\u001b[1;32m    309\u001b[0m         \u001b[0mpredict\u001b[0m \u001b[0;34m=\u001b[0m \u001b[0mself\u001b[0m\u001b[0;34m.\u001b[0m\u001b[0m_sparse_predict\u001b[0m \u001b[0;32mif\u001b[0m \u001b[0mself\u001b[0m\u001b[0;34m.\u001b[0m\u001b[0m_sparse\u001b[0m \u001b[0;32melse\u001b[0m \u001b[0mself\u001b[0m\u001b[0;34m.\u001b[0m\u001b[0m_dense_predict\u001b[0m\u001b[0;34m\u001b[0m\u001b[0m\n\u001b[0;32m--> 310\u001b[0;31m         \u001b[0;32mreturn\u001b[0m \u001b[0mpredict\u001b[0m\u001b[0;34m(\u001b[0m\u001b[0mX\u001b[0m\u001b[0;34m)\u001b[0m\u001b[0;34m\u001b[0m\u001b[0m\n\u001b[0m\u001b[1;32m    311\u001b[0m \u001b[0;34m\u001b[0m\u001b[0m\n\u001b[1;32m    312\u001b[0m     \u001b[0;32mdef\u001b[0m \u001b[0m_dense_predict\u001b[0m\u001b[0;34m(\u001b[0m\u001b[0mself\u001b[0m\u001b[0;34m,\u001b[0m \u001b[0mX\u001b[0m\u001b[0;34m)\u001b[0m\u001b[0;34m:\u001b[0m\u001b[0;34m\u001b[0m\u001b[0m\n",
      "\u001b[0;32m~/anaconda/lib/python3.6/site-packages/sklearn/svm/base.py\u001b[0m in \u001b[0;36m_dense_predict\u001b[0;34m(self, X)\u001b[0m\n\u001b[1;32m    331\u001b[0m             \u001b[0mself\u001b[0m\u001b[0;34m.\u001b[0m\u001b[0mprobA_\u001b[0m\u001b[0;34m,\u001b[0m \u001b[0mself\u001b[0m\u001b[0;34m.\u001b[0m\u001b[0mprobB_\u001b[0m\u001b[0;34m,\u001b[0m \u001b[0msvm_type\u001b[0m\u001b[0;34m=\u001b[0m\u001b[0msvm_type\u001b[0m\u001b[0;34m,\u001b[0m \u001b[0mkernel\u001b[0m\u001b[0;34m=\u001b[0m\u001b[0mkernel\u001b[0m\u001b[0;34m,\u001b[0m\u001b[0;34m\u001b[0m\u001b[0m\n\u001b[1;32m    332\u001b[0m             \u001b[0mdegree\u001b[0m\u001b[0;34m=\u001b[0m\u001b[0mself\u001b[0m\u001b[0;34m.\u001b[0m\u001b[0mdegree\u001b[0m\u001b[0;34m,\u001b[0m \u001b[0mcoef0\u001b[0m\u001b[0;34m=\u001b[0m\u001b[0mself\u001b[0m\u001b[0;34m.\u001b[0m\u001b[0mcoef0\u001b[0m\u001b[0;34m,\u001b[0m \u001b[0mgamma\u001b[0m\u001b[0;34m=\u001b[0m\u001b[0mself\u001b[0m\u001b[0;34m.\u001b[0m\u001b[0m_gamma\u001b[0m\u001b[0;34m,\u001b[0m\u001b[0;34m\u001b[0m\u001b[0m\n\u001b[0;32m--> 333\u001b[0;31m             cache_size=self.cache_size)\n\u001b[0m\u001b[1;32m    334\u001b[0m \u001b[0;34m\u001b[0m\u001b[0m\n\u001b[1;32m    335\u001b[0m     \u001b[0;32mdef\u001b[0m \u001b[0m_sparse_predict\u001b[0m\u001b[0;34m(\u001b[0m\u001b[0mself\u001b[0m\u001b[0;34m,\u001b[0m \u001b[0mX\u001b[0m\u001b[0;34m)\u001b[0m\u001b[0;34m:\u001b[0m\u001b[0;34m\u001b[0m\u001b[0m\n",
      "\u001b[0;31mKeyboardInterrupt\u001b[0m: "
     ]
    }
   ],
   "source": [
    "#Split the train set, test set, train class, test class\n",
    "from sklearn.cross_validation import train_test_split\n",
    "x_train,x_test,y_train,y_test = train_test_split(np.array(X_res), \n",
    "                                                 #Predictor Variables\n",
    "                                                 np.array(Y_res), \n",
    "                                                 #Class labels\n",
    "                                                 stratify=Y, \n",
    "                                                 #data is split in a stratified fashion, using this as the class labels\n",
    "                                                 test_size=0.34,\n",
    "                                                 #Test size is set as 34% of entire set\n",
    "                                                 random_state=28\n",
    "                                                 # Set the randon state for spliting data  in same order\n",
    "                                                )\n",
    "\n",
    "from sklearn.decomposition import PCA\n",
    "from sklearn.svm import SVC\n",
    "\n",
    "pca=PCA(n_components=5)\n",
    "pca.fit(x_train)\n",
    "x_train = pca.transform(x_train)\n",
    "x_test = pca.transform(x_test)\n",
    "\n",
    "clf = SVC(C=0.001, kernel = \"rbf\")\n",
    "clf.fit(x_train,y_train)\n",
    "print(\"The Score of Training dataset\",clf.score(x_train, y_train))\n",
    "print(\"The Score of Testing dataset\",clf.score(x_test, y_test))\n",
    "print(' ')\n",
    "\n",
    "clf.fit(x_train,y_train)\n",
    "pred_train = clf.predict(x_train)\n",
    "from sklearn.metrics import confusion_matrix\n",
    "cm = confusion_matrix(y_train, pred_train) #Generate the confusion matrix\n",
    "print(cm)\n",
    "print(' ')\n",
    "\n",
    "#Class 1 means True Customers\n",
    "specificity1_train = cm[0,0]/(cm[0,0]+cm[0,1])\n",
    "sensitivity1_train = cm[1,1]/(cm[1,0]+cm[1,1])\n",
    "print(\"Bernoulli Naive Bayes Classifier: Specificity on Training Raw Data is \", specificity1_train)\n",
    "print(\"Bernoulli Naive Bayes Classifier: Sensivtivity on Training Raw Data is \", sensitivity1_train)\n",
    "print(' ')\n",
    "\n",
    "#Use the SAME classifier to predict on the provided Testing Set\n",
    "pred_test = clf.predict(x_test)\n",
    "from sklearn.metrics import confusion_matrix\n",
    "cm = confusion_matrix(y_test, pred_test) #Generate the confusion matrix\n",
    "print(cm)\n",
    "print(' ')\n",
    "\n",
    "#Class 1 means True Customers\n",
    "specificity1_test = cm[0,0]/(cm[0,0]+cm[0,1])\n",
    "sensitivity1_test = cm[1,1]/(cm[1,0]+cm[1,1])\n",
    "print(\"Bernoulli Naive Bayes Classifier: Specificity on Testing Raw Data is \", specificity1_test)\n",
    "print(\"Bernoulli Naive Bayes Classifier: Sensivtivity on Testing Raw Data is \", sensitivity1_test)"
   ]
  },
  {
   "cell_type": "code",
   "execution_count": 234,
   "metadata": {},
   "outputs": [
    {
     "data": {
      "text/plain": [
       "LinearSVC(C=0.01, class_weight=None, dual=True, fit_intercept=True,\n",
       "     intercept_scaling=1, loss='squared_hinge', max_iter=1000,\n",
       "     multi_class='ovr', penalty='l2', random_state=None, tol=0.0001,\n",
       "     verbose=0)"
      ]
     },
     "execution_count": 234,
     "metadata": {},
     "output_type": "execute_result"
    }
   ],
   "source": [
    "from sklearn.decomposition import PCA\n",
    "from sklearn.svm import LinearSVC\n",
    "\n",
    "pca=PCA(n_components=1)\n",
    "pca.fit(X3)\n",
    "X3_pca = pca.transform(X3)\n",
    "\n",
    "svc=LinearSVC(C=0.01)\n",
    "svc.fit(X3_pca, Y3)\n"
   ]
  },
  {
   "cell_type": "code",
   "execution_count": 218,
   "metadata": {},
   "outputs": [
    {
     "data": {
      "text/plain": [
       "(124931,)"
      ]
     },
     "execution_count": 218,
     "metadata": {},
     "output_type": "execute_result"
    }
   ],
   "source": [
    "Y3.shape"
   ]
  },
  {
   "cell_type": "code",
   "execution_count": 5,
   "metadata": {},
   "outputs": [
    {
     "name": "stdout",
     "output_type": "stream",
     "text": [
      "Original dataset shape Counter({1: 900, 0: 100})\n",
      "Resampled dataset shape Counter({1: 900, 0: 500})\n"
     ]
    }
   ],
   "source": [
    "from collections import Counter\n",
    "from sklearn.datasets import make_classification\n",
    "from imblearn.over_sampling import SMOTE \n",
    "X, y = make_classification(n_classes=2, class_sep=2,\n",
    "                           weights=[0.1, 0.9], n_informative=3, n_redundant=1, flip_y=0,\n",
    "                           n_features=20, n_clusters_per_class=1, n_samples=1000, random_state=10)\n",
    "print('Original dataset shape {}'.format(Counter(y)))\n",
    "sm = SMOTE(ratio = {0:500},random_state=42)\n",
    "X_res, y_res = sm.fit_sample(X, y)\n",
    "print('Resampled dataset shape {}'.format(Counter(y_res)))\n"
   ]
  },
  {
   "cell_type": "code",
   "execution_count": 228,
   "metadata": {},
   "outputs": [
    {
     "data": {
      "text/plain": [
       "(124931, 2)"
      ]
     },
     "execution_count": 228,
     "metadata": {},
     "output_type": "execute_result"
    }
   ],
   "source": [
    "pca=PCA(n_components=2)\n",
    "X3_pca = pca.fit_transform(X3)\n",
    "X3_pca.shape"
   ]
  },
  {
   "cell_type": "code",
   "execution_count": 51,
   "metadata": {},
   "outputs": [
    {
     "data": {
      "text/plain": [
       "(1000, 20)"
      ]
     },
     "execution_count": 51,
     "metadata": {},
     "output_type": "execute_result"
    }
   ],
   "source": [
    "X.shape"
   ]
  },
  {
   "cell_type": "code",
   "execution_count": 230,
   "metadata": {},
   "outputs": [
    {
     "data": {
      "text/plain": [
       "array([[ 0.,  1.,  2., ...,  0.,  0.,  0.],\n",
       "       [ 5.,  1.,  4., ...,  0.,  1.,  0.],\n",
       "       [ 1.,  1.,  2., ...,  0.,  1.,  0.],\n",
       "       ..., \n",
       "       [ 4.,  1.,  3., ...,  0.,  1.,  0.],\n",
       "       [ 3.,  2.,  3., ...,  0.,  0.,  0.],\n",
       "       [ 0.,  3.,  6., ...,  0.,  0.,  0.]])"
      ]
     },
     "execution_count": 230,
     "metadata": {},
     "output_type": "execute_result"
    }
   ],
   "source": [
    "X3"
   ]
  },
  {
   "cell_type": "code",
   "execution_count": null,
   "metadata": {},
   "outputs": [],
   "source": []
  },
  {
   "cell_type": "code",
   "execution_count": 38,
   "metadata": {},
   "outputs": [],
   "source": [
    "#Function run the classifier\n",
    "def calc_params(x_train,x_test,y_train, clf):\n",
    "    model=clf\n",
    "    model = model.fit(x_train,y_train)\n",
    "    pred_train = model.predict(x_train)\n",
    "    pred_test = model.predict(x_test)\n",
    "    return pred_train, pred_test\n",
    "\n",
    "#Function to calculate the accuracy of classifier\n",
    "def calc_accuracy(pred_train, pred_test, y_train, y_test):\n",
    "    train_score = accuracy_score(y_train, pred_train)\n",
    "    test_score = accuracy_score(y_test, pred_test)\n",
    "    return train_score, test_score"
   ]
  },
  {
   "cell_type": "code",
   "execution_count": 41,
   "metadata": {},
   "outputs": [
    {
     "name": "stdout",
     "output_type": "stream",
     "text": [
      "Single Classifier Decision Tree with Criterion = Gini\n",
      "Mean of Score of Training Set: 100.0 %\n",
      "Mean of Score of Testing Set: 91.8682756174 %\n",
      "\n",
      "Mean of Specificity: 95.056 percent\n",
      "Mean of Sensitivity: 6.365 percent\n"
     ]
    }
   ],
   "source": [
    "train_score_lst = []\n",
    "test_score_lst = []\n",
    "specificity_lst = []\n",
    "sensitivity_lst = []\n",
    "\n",
    "from sklearn.cross_validation import KFold\n",
    "K=5 #Set the number of Fold Cross Validataion\n",
    "cv = KFold(len(X),K,shuffle=True, random_state=28)\n",
    "clf = tree.DecisionTreeClassifier(\"gini\") #Test on Decision Tree Classifier with default setting\n",
    "\n",
    "for i , (train,test) in enumerate(cv):\n",
    "    #Plug in the \"calc_params\" function\n",
    "    pred_train, pred_test = calc_params([X[k] for k in train],\n",
    "                                        [X[k] for k in test],\n",
    "                                        y[train], \n",
    "                                        clf)\n",
    "    #plug in the \"calc_accuracy\" function\n",
    "    train_score, test_score = calc_accuracy(pred_train, pred_test, y[train], y[test])\n",
    "    \n",
    "    #Store Accuracy of Training and Testing into lists\n",
    "    train_score_lst.append(train_score)\n",
    "    test_score_lst.append(test_score)\n",
    "    \n",
    "    from sklearn.metrics import confusion_matrix\n",
    "    tree_cm = confusion_matrix(y[test], pred_test, labels=[0,1])\n",
    "    tree_specficity = tree_cm[0,0] / (tree_cm[0,0]+tree_cm[0,1])\n",
    "    tree_sensitivity = tree_cm[1,1] / (tree_cm[1,0]+tree_cm[1,1])\n",
    "\n",
    "    specificity_lst.append(tree_specficity)\n",
    "    sensitivity_lst.append(tree_sensitivity)\n",
    "\n",
    "print(\"Single Classifier Decision Tree with Criterion = Gini\")\n",
    "print(\"Mean of Score of Training Set:\",np.mean(train_score_lst)*100,\"%\")\n",
    "print(\"Mean of Score of Testing Set:\",np.mean(test_score_lst)*100,\"%\")\n",
    "print()\n",
    "print(\"Mean of Specificity: %0.3f percent\" % (np.mean(tree_specficity*100)))\n",
    "print(\"Mean of Sensitivity: %0.3f percent\" %(np.mean(tree_sensitivity*100)))"
   ]
  },
  {
   "cell_type": "code",
   "execution_count": 42,
   "metadata": {},
   "outputs": [
    {
     "name": "stdout",
     "output_type": "stream",
     "text": [
      "Single Classifier Decision Tree with Criterion = Entropy\n",
      "Mean of Score of Training Set: 100.0 %\n",
      "Mean of Score of Testing Set: 92.2338593883 %\n",
      "\n",
      "Mean of Specificity: 95.472 percent\n",
      "Mean of Sensitivity: 5.433 percent\n"
     ]
    }
   ],
   "source": [
    "train_score_lst=[]\n",
    "test_score_lst=[]\n",
    "\n",
    "from sklearn.cross_validation import KFold\n",
    "K=5 #Set the number of Fold Cross Validataion\n",
    "cv = KFold(len(X),K,shuffle=True, random_state=28)\n",
    "clf = tree.DecisionTreeClassifier(criterion=\"entropy\") #Test on Decision Tree Classifier with default setting\n",
    "\n",
    "for i , (train,test) in enumerate(cv):\n",
    "    #Plug in the \"calc_params\" function\n",
    "    pred_train, pred_test = calc_params([X[k] for k in train],\n",
    "                                        [X[k] for k in test],\n",
    "                                        y[train], \n",
    "                                        clf)\n",
    "    #plug in the \"calc_accuracy\" function\n",
    "    train_score, test_score = calc_accuracy(pred_train, pred_test, y[train], y[test])\n",
    "    \n",
    "    #Store Accuracy of Training and Testing into lists\n",
    "    train_score_lst.append(train_score)\n",
    "    test_score_lst.append(test_score)\n",
    "    \n",
    "    from sklearn.metrics import confusion_matrix\n",
    "    tree_cm = confusion_matrix(y[test], pred_test, labels=[0,1])\n",
    "    tree_specficity = tree_cm[0,0] / (tree_cm[0,0]+tree_cm[0,1])\n",
    "    tree_sensitivity = tree_cm[1,1] / (tree_cm[1,0]+tree_cm[1,1])\n",
    "\n",
    "    specificity_lst.append(tree_specficity)\n",
    "    sensitivity_lst.append(tree_sensitivity)\n",
    "\n",
    "print(\"Single Classifier Decision Tree with Criterion = Entropy\")\n",
    "print(\"Mean of Score of Training Set:\",np.mean(train_score_lst)*100,\"%\")\n",
    "print(\"Mean of Score of Testing Set:\",np.mean(test_score_lst)*100,\"%\")\n",
    "print()\n",
    "print(\"Mean of Specificity: %0.3f percent\" % (np.mean(tree_specficity*100)))\n",
    "print(\"Mean of Sensitivity: %0.3f percent\" %(np.mean(tree_sensitivity*100)))"
   ]
  },
  {
   "cell_type": "code",
   "execution_count": 75,
   "metadata": {},
   "outputs": [
    {
     "name": "stdout",
     "output_type": "stream",
     "text": [
      "Single Classifier Naive Bayes\n",
      "Mean of Score of Training Set: 90.5010737542 %\n",
      "Mean of Score of Testing Set: 90.4906144361 %\n"
     ]
    }
   ],
   "source": [
    "train_score_lst=[]\n",
    "test_score_lst=[]\n",
    "\n",
    "from sklearn.cross_validation import KFold\n",
    "K=5 #Set the number of Fold Cross Validataion\n",
    "cv = KFold(len(X),K,shuffle=True, random_state=28)\n",
    "clf = naive_bayes.GaussianNB() #Set up Naive Bayes classifier with ALL default setting\n",
    "\n",
    "for i , (train,test) in enumerate(cv):\n",
    "    #Plug in the \"calc_params\" function\n",
    "    pred_train, pred_test = calc_params([X[k] for k in train],\n",
    "                                        [X[k] for k in test],\n",
    "                                        y[train], \n",
    "                                        clf)\n",
    "    #plug in the \"calc_accuracy\" function\n",
    "    train_score, test_score = calc_accuracy(pred_train, pred_test, y[train], y[test])\n",
    "    \n",
    "    #Store Accuracy of Training and Testing into lists\n",
    "    train_score_lst.append(train_score)\n",
    "    test_score_lst.append(test_score)\n",
    "\n",
    "print(\"Single Classifier Naive Bayes\")\n",
    "print(\"Mean of Score of Training Set:\",np.mean(train_score_lst)*100,\"%\")\n",
    "print(\"Mean of Score of Testing Set:\",np.mean(test_score_lst)*100,\"%\")"
   ]
  },
  {
   "cell_type": "code",
   "execution_count": 35,
   "metadata": {},
   "outputs": [],
   "source": [
    "#Set the neigbhors and run the KNN Classifier \n",
    "n_neighbors=1\n",
    "knnclf = neighbors.KNeighborsClassifier(n_neighbors, weights='distance',metric='minkowski')"
   ]
  },
  {
   "cell_type": "code",
   "execution_count": 36,
   "metadata": {},
   "outputs": [
    {
     "ename": "NameError",
     "evalue": "name 'calc_params' is not defined",
     "output_type": "error",
     "traceback": [
      "\u001b[0;31m---------------------------------------------------------------------------\u001b[0m",
      "\u001b[0;31mNameError\u001b[0m                                 Traceback (most recent call last)",
      "\u001b[0;32m<ipython-input-36-8ebeeaae0792>\u001b[0m in \u001b[0;36m<module>\u001b[0;34m()\u001b[0m\n\u001b[1;32m     12\u001b[0m     \u001b[0;32mfor\u001b[0m \u001b[0mi\u001b[0m \u001b[0;34m,\u001b[0m \u001b[0;34m(\u001b[0m\u001b[0mtrain\u001b[0m\u001b[0;34m,\u001b[0m\u001b[0mtest\u001b[0m\u001b[0;34m)\u001b[0m \u001b[0;32min\u001b[0m \u001b[0menumerate\u001b[0m\u001b[0;34m(\u001b[0m\u001b[0mcv\u001b[0m\u001b[0;34m)\u001b[0m\u001b[0;34m:\u001b[0m\u001b[0;34m\u001b[0m\u001b[0m\n\u001b[1;32m     13\u001b[0m         \u001b[0;31m#Plug in the \"calc_params\" function\u001b[0m\u001b[0;34m\u001b[0m\u001b[0;34m\u001b[0m\u001b[0m\n\u001b[0;32m---> 14\u001b[0;31m         pred_train, pred_test = calc_params([X[k] for k in train],\n\u001b[0m\u001b[1;32m     15\u001b[0m                                             \u001b[0;34m[\u001b[0m\u001b[0mX\u001b[0m\u001b[0;34m[\u001b[0m\u001b[0mk\u001b[0m\u001b[0;34m]\u001b[0m \u001b[0;32mfor\u001b[0m \u001b[0mk\u001b[0m \u001b[0;32min\u001b[0m \u001b[0mtest\u001b[0m\u001b[0;34m]\u001b[0m\u001b[0;34m,\u001b[0m\u001b[0;34m\u001b[0m\u001b[0m\n\u001b[1;32m     16\u001b[0m                                             \u001b[0my\u001b[0m\u001b[0;34m[\u001b[0m\u001b[0mtrain\u001b[0m\u001b[0;34m]\u001b[0m\u001b[0;34m,\u001b[0m\u001b[0;34m\u001b[0m\u001b[0m\n",
      "\u001b[0;31mNameError\u001b[0m: name 'calc_params' is not defined"
     ]
    }
   ],
   "source": [
    "train_score_lst=[]\n",
    "test_score_lst=[]\n",
    "\n",
    "from sklearn.cross_validation import KFold\n",
    "K=5 #Set the number of Fold Cross Validataion\n",
    "cv = KFold(len(X),K,shuffle=True, random_state=28)\n",
    "\n",
    "for n_neighbors in range(1,11):\n",
    "    clf = neighbors.KNeighborsClassifier(n_neighbors, weights='distance',metric='minkowski')\n",
    "\n",
    "\n",
    "    for i , (train,test) in enumerate(cv):\n",
    "        #Plug in the \"calc_params\" function\n",
    "        pred_train, pred_test = calc_params([X[k] for k in train],\n",
    "                                            [X[k] for k in test],\n",
    "                                            y[train], \n",
    "                                            clf)\n",
    "        #plug in the \"calc_accuracy\" function\n",
    "        train_score, test_score = calc_accuracy(pred_train, pred_test, y[train], y[test])\n",
    "\n",
    "        #Store Accuracy of Training and Testing into lists\n",
    "        train_score_lst.append(train_score)\n",
    "        test_score_lst.append(test_score)\n",
    "\n",
    "print(\"Single Classifier Naive Bayes\")\n",
    "print(\"Mean of Score of Training Set:\",np.mean(train_score_lst)*100,\"%\")\n",
    "print(\"Mean of Score of Testing Set:\",np.mean(test_score_lst)*100,\"%\")"
   ]
  },
  {
   "cell_type": "code",
   "execution_count": null,
   "metadata": {},
   "outputs": [],
   "source": []
  },
  {
   "cell_type": "code",
   "execution_count": null,
   "metadata": {},
   "outputs": [],
   "source": []
  },
  {
   "cell_type": "code",
   "execution_count": null,
   "metadata": {},
   "outputs": [],
   "source": []
  }
 ],
 "metadata": {
  "kernelspec": {
   "display_name": "Python 3",
   "language": "python",
   "name": "python3"
  },
  "language_info": {
   "codemirror_mode": {
    "name": "ipython",
    "version": 3
   },
   "file_extension": ".py",
   "mimetype": "text/x-python",
   "name": "python",
   "nbconvert_exporter": "python",
   "pygments_lexer": "ipython3",
   "version": "3.6.4"
  }
 },
 "nbformat": 4,
 "nbformat_minor": 2
}
