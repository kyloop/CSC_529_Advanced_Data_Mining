{
 "cells": [
  {
   "cell_type": "code",
   "execution_count": null,
   "metadata": {},
   "outputs": [],
   "source": []
  },
  {
   "cell_type": "code",
   "execution_count": 1,
   "metadata": {},
   "outputs": [],
   "source": [
    "import pandas as pd\n",
    "import numpy as np\n",
    "import matplotlib.pyplot as plt"
   ]
  },
  {
   "cell_type": "code",
   "execution_count": 2,
   "metadata": {},
   "outputs": [
    {
     "data": {
      "text/html": [
       "<div>\n",
       "<table border=\"1\" class=\"dataframe\">\n",
       "  <thead>\n",
       "    <tr style=\"text-align: right;\">\n",
       "      <th></th>\n",
       "      <th>0</th>\n",
       "      <th>1</th>\n",
       "      <th>2</th>\n",
       "      <th>3</th>\n",
       "      <th>4</th>\n",
       "      <th>5</th>\n",
       "      <th>6</th>\n",
       "      <th>7</th>\n",
       "      <th>8</th>\n",
       "      <th>9</th>\n",
       "      <th>10</th>\n",
       "      <th>11</th>\n",
       "      <th>12</th>\n",
       "      <th>13</th>\n",
       "    </tr>\n",
       "  </thead>\n",
       "  <tbody>\n",
       "    <tr>\n",
       "      <th>0</th>\n",
       "      <td>1</td>\n",
       "      <td>14.23</td>\n",
       "      <td>1.71</td>\n",
       "      <td>2.43</td>\n",
       "      <td>15.6</td>\n",
       "      <td>127</td>\n",
       "      <td>2.80</td>\n",
       "      <td>3.06</td>\n",
       "      <td>0.28</td>\n",
       "      <td>2.29</td>\n",
       "      <td>5.64</td>\n",
       "      <td>1.04</td>\n",
       "      <td>3.92</td>\n",
       "      <td>1065</td>\n",
       "    </tr>\n",
       "    <tr>\n",
       "      <th>1</th>\n",
       "      <td>1</td>\n",
       "      <td>13.20</td>\n",
       "      <td>1.78</td>\n",
       "      <td>2.14</td>\n",
       "      <td>11.2</td>\n",
       "      <td>100</td>\n",
       "      <td>2.65</td>\n",
       "      <td>2.76</td>\n",
       "      <td>0.26</td>\n",
       "      <td>1.28</td>\n",
       "      <td>4.38</td>\n",
       "      <td>1.05</td>\n",
       "      <td>3.40</td>\n",
       "      <td>1050</td>\n",
       "    </tr>\n",
       "  </tbody>\n",
       "</table>\n",
       "</div>"
      ],
      "text/plain": [
       "   0      1     2     3     4    5     6     7     8     9     10    11    12  \\\n",
       "0   1  14.23  1.71  2.43  15.6  127  2.80  3.06  0.28  2.29  5.64  1.04  3.92   \n",
       "1   1  13.20  1.78  2.14  11.2  100  2.65  2.76  0.26  1.28  4.38  1.05  3.40   \n",
       "\n",
       "     13  \n",
       "0  1065  \n",
       "1  1050  "
      ]
     },
     "execution_count": 2,
     "metadata": {},
     "output_type": "execute_result"
    }
   ],
   "source": [
    "#Read the csv from the web source\n",
    "wine = pd.read_csv(\"https://archive.ics.uci.edu/ml/machine-learning-databases/wine/wine.data\",\n",
    "                   sep=\",\",header=None)\n",
    "wine.head(2)"
   ]
  },
  {
   "cell_type": "code",
   "execution_count": 3,
   "metadata": {},
   "outputs": [
    {
     "name": "stdout",
     "output_type": "stream",
     "text": [
      "Index(['Labels', 'Alcohol', 'Malic_acid', 'Ash', 'Alca_ash', 'Magnesium',\n",
      "       'phenols', 'Flavanoids', 'Nonflav_phenols', 'Proanthocyanins',\n",
      "       'Color_int', 'Hue', 'diluted_wines', 'Proline'],\n",
      "      dtype='object')\n"
     ]
    },
    {
     "data": {
      "text/html": [
       "<div>\n",
       "<table border=\"1\" class=\"dataframe\">\n",
       "  <thead>\n",
       "    <tr style=\"text-align: right;\">\n",
       "      <th></th>\n",
       "      <th>Labels</th>\n",
       "      <th>Alcohol</th>\n",
       "      <th>Malic_acid</th>\n",
       "      <th>Ash</th>\n",
       "      <th>Alca_ash</th>\n",
       "      <th>Magnesium</th>\n",
       "      <th>phenols</th>\n",
       "      <th>Flavanoids</th>\n",
       "      <th>Nonflav_phenols</th>\n",
       "      <th>Proanthocyanins</th>\n",
       "      <th>Color_int</th>\n",
       "      <th>Hue</th>\n",
       "      <th>diluted_wines</th>\n",
       "      <th>Proline</th>\n",
       "    </tr>\n",
       "  </thead>\n",
       "  <tbody>\n",
       "    <tr>\n",
       "      <th>0</th>\n",
       "      <td>1</td>\n",
       "      <td>14.23</td>\n",
       "      <td>1.71</td>\n",
       "      <td>2.43</td>\n",
       "      <td>15.6</td>\n",
       "      <td>127</td>\n",
       "      <td>2.80</td>\n",
       "      <td>3.06</td>\n",
       "      <td>0.28</td>\n",
       "      <td>2.29</td>\n",
       "      <td>5.64</td>\n",
       "      <td>1.04</td>\n",
       "      <td>3.92</td>\n",
       "      <td>1065</td>\n",
       "    </tr>\n",
       "    <tr>\n",
       "      <th>1</th>\n",
       "      <td>1</td>\n",
       "      <td>13.20</td>\n",
       "      <td>1.78</td>\n",
       "      <td>2.14</td>\n",
       "      <td>11.2</td>\n",
       "      <td>100</td>\n",
       "      <td>2.65</td>\n",
       "      <td>2.76</td>\n",
       "      <td>0.26</td>\n",
       "      <td>1.28</td>\n",
       "      <td>4.38</td>\n",
       "      <td>1.05</td>\n",
       "      <td>3.40</td>\n",
       "      <td>1050</td>\n",
       "    </tr>\n",
       "  </tbody>\n",
       "</table>\n",
       "</div>"
      ],
      "text/plain": [
       "   Labels  Alcohol  Malic_acid   Ash  Alca_ash  Magnesium  phenols  \\\n",
       "0       1    14.23        1.71  2.43      15.6        127     2.80   \n",
       "1       1    13.20        1.78  2.14      11.2        100     2.65   \n",
       "\n",
       "   Flavanoids  Nonflav_phenols  Proanthocyanins  Color_int   Hue  \\\n",
       "0        3.06             0.28             2.29       5.64  1.04   \n",
       "1        2.76             0.26             1.28       4.38  1.05   \n",
       "\n",
       "   diluted_wines  Proline  \n",
       "0           3.92     1065  \n",
       "1           3.40     1050  "
      ]
     },
     "execution_count": 3,
     "metadata": {},
     "output_type": "execute_result"
    }
   ],
   "source": [
    "#Naming all the columns based on the source information\n",
    "wine.columns=[\"Labels\",\"Alcohol\",\"Malic_acid\",\"Ash\",\"Alca_ash\",\"Magnesium\",\"phenols\",\n",
    "           \"Flavanoids\",\"Nonflav_phenols\",\"Proanthocyanins\",\n",
    "           \"Color_int\",\"Hue\",\"diluted_wines\",\"Proline\"]\n",
    "print(wine.columns)\n",
    "wine.head(2)"
   ]
  },
  {
   "cell_type": "code",
   "execution_count": 4,
   "metadata": {},
   "outputs": [
    {
     "name": "stdout",
     "output_type": "stream",
     "text": [
      "Target table size is (178,)\n"
     ]
    },
    {
     "data": {
      "text/plain": [
       "0    1\n",
       "1    1\n",
       "2    1\n",
       "3    1\n",
       "4    1\n",
       "Name: Labels, dtype: int64"
      ]
     },
     "execution_count": 4,
     "metadata": {},
     "output_type": "execute_result"
    }
   ],
   "source": [
    "#Assign Target labels to a new table\n",
    "y=wine['Labels']\n",
    "print(\"Target table size is\",y.shape)\n",
    "y.head(5)"
   ]
  },
  {
   "cell_type": "code",
   "execution_count": 5,
   "metadata": {},
   "outputs": [
    {
     "name": "stdout",
     "output_type": "stream",
     "text": [
      "Predictor variables size is  (178, 13)\n"
     ]
    },
    {
     "data": {
      "text/html": [
       "<div>\n",
       "<table border=\"1\" class=\"dataframe\">\n",
       "  <thead>\n",
       "    <tr style=\"text-align: right;\">\n",
       "      <th></th>\n",
       "      <th>Alcohol</th>\n",
       "      <th>Malic_acid</th>\n",
       "      <th>Ash</th>\n",
       "      <th>Alca_ash</th>\n",
       "      <th>Magnesium</th>\n",
       "      <th>phenols</th>\n",
       "      <th>Flavanoids</th>\n",
       "      <th>Nonflav_phenols</th>\n",
       "      <th>Proanthocyanins</th>\n",
       "      <th>Color_int</th>\n",
       "      <th>Hue</th>\n",
       "      <th>diluted_wines</th>\n",
       "      <th>Proline</th>\n",
       "    </tr>\n",
       "  </thead>\n",
       "  <tbody>\n",
       "    <tr>\n",
       "      <th>0</th>\n",
       "      <td>14.23</td>\n",
       "      <td>1.71</td>\n",
       "      <td>2.43</td>\n",
       "      <td>15.6</td>\n",
       "      <td>127</td>\n",
       "      <td>2.80</td>\n",
       "      <td>3.06</td>\n",
       "      <td>0.28</td>\n",
       "      <td>2.29</td>\n",
       "      <td>5.64</td>\n",
       "      <td>1.04</td>\n",
       "      <td>3.92</td>\n",
       "      <td>1065</td>\n",
       "    </tr>\n",
       "    <tr>\n",
       "      <th>1</th>\n",
       "      <td>13.20</td>\n",
       "      <td>1.78</td>\n",
       "      <td>2.14</td>\n",
       "      <td>11.2</td>\n",
       "      <td>100</td>\n",
       "      <td>2.65</td>\n",
       "      <td>2.76</td>\n",
       "      <td>0.26</td>\n",
       "      <td>1.28</td>\n",
       "      <td>4.38</td>\n",
       "      <td>1.05</td>\n",
       "      <td>3.40</td>\n",
       "      <td>1050</td>\n",
       "    </tr>\n",
       "    <tr>\n",
       "      <th>2</th>\n",
       "      <td>13.16</td>\n",
       "      <td>2.36</td>\n",
       "      <td>2.67</td>\n",
       "      <td>18.6</td>\n",
       "      <td>101</td>\n",
       "      <td>2.80</td>\n",
       "      <td>3.24</td>\n",
       "      <td>0.30</td>\n",
       "      <td>2.81</td>\n",
       "      <td>5.68</td>\n",
       "      <td>1.03</td>\n",
       "      <td>3.17</td>\n",
       "      <td>1185</td>\n",
       "    </tr>\n",
       "    <tr>\n",
       "      <th>3</th>\n",
       "      <td>14.37</td>\n",
       "      <td>1.95</td>\n",
       "      <td>2.50</td>\n",
       "      <td>16.8</td>\n",
       "      <td>113</td>\n",
       "      <td>3.85</td>\n",
       "      <td>3.49</td>\n",
       "      <td>0.24</td>\n",
       "      <td>2.18</td>\n",
       "      <td>7.80</td>\n",
       "      <td>0.86</td>\n",
       "      <td>3.45</td>\n",
       "      <td>1480</td>\n",
       "    </tr>\n",
       "    <tr>\n",
       "      <th>4</th>\n",
       "      <td>13.24</td>\n",
       "      <td>2.59</td>\n",
       "      <td>2.87</td>\n",
       "      <td>21.0</td>\n",
       "      <td>118</td>\n",
       "      <td>2.80</td>\n",
       "      <td>2.69</td>\n",
       "      <td>0.39</td>\n",
       "      <td>1.82</td>\n",
       "      <td>4.32</td>\n",
       "      <td>1.04</td>\n",
       "      <td>2.93</td>\n",
       "      <td>735</td>\n",
       "    </tr>\n",
       "  </tbody>\n",
       "</table>\n",
       "</div>"
      ],
      "text/plain": [
       "   Alcohol  Malic_acid   Ash  Alca_ash  Magnesium  phenols  Flavanoids  \\\n",
       "0    14.23        1.71  2.43      15.6        127     2.80        3.06   \n",
       "1    13.20        1.78  2.14      11.2        100     2.65        2.76   \n",
       "2    13.16        2.36  2.67      18.6        101     2.80        3.24   \n",
       "3    14.37        1.95  2.50      16.8        113     3.85        3.49   \n",
       "4    13.24        2.59  2.87      21.0        118     2.80        2.69   \n",
       "\n",
       "   Nonflav_phenols  Proanthocyanins  Color_int   Hue  diluted_wines  Proline  \n",
       "0             0.28             2.29       5.64  1.04           3.92     1065  \n",
       "1             0.26             1.28       4.38  1.05           3.40     1050  \n",
       "2             0.30             2.81       5.68  1.03           3.17     1185  \n",
       "3             0.24             2.18       7.80  0.86           3.45     1480  \n",
       "4             0.39             1.82       4.32  1.04           2.93      735  "
      ]
     },
     "execution_count": 5,
     "metadata": {},
     "output_type": "execute_result"
    }
   ],
   "source": [
    "X=wine.ix[:,1:]\n",
    "print(\"Predictor variables size is \", X.shape)\n",
    "X.head(5)"
   ]
  },
  {
   "cell_type": "markdown",
   "metadata": {},
   "source": [
    "##Problem 1-a"
   ]
  },
  {
   "cell_type": "code",
   "execution_count": 29,
   "metadata": {},
   "outputs": [],
   "source": [
    "#Split the train set, test set, train class, test class\n",
    "from sklearn.cross_validation import train_test_split\n",
    "x_train,x_test,y_train,y_test = train_test_split(X, #Predictor Variables\n",
    "                                                 y, #Class labels\n",
    "                                                 stratify=y, #data is split in a stratified fashion, using this as the class labels\n",
    "                                                 test_size=0.34,#Test size is set as 34% of entire set\n",
    "                                                 random_state=2) # Set the randon state for spliting data  in same order"
   ]
  },
  {
   "cell_type": "code",
   "execution_count": 30,
   "metadata": {},
   "outputs": [
    {
     "name": "stdout",
     "output_type": "stream",
     "text": [
      "(117, 13)\n",
      "(61, 13)\n",
      "(117,)\n",
      "(61,)\n"
     ]
    }
   ],
   "source": [
    "print(x_train.shape)\n",
    "print(x_test.shape)\n",
    "print(y_train.shape)\n",
    "print(y_test.shape)"
   ]
  },
  {
   "cell_type": "code",
   "execution_count": 21,
   "metadata": {},
   "outputs": [],
   "source": [
    "#Import Desision Tree, Naive Bayes , K-Nearest Neighors\n",
    "from sklearn import neighbors, tree, naive_bayes"
   ]
  },
  {
   "cell_type": "code",
   "execution_count": 31,
   "metadata": {},
   "outputs": [
    {
     "data": {
      "text/plain": [
       "DecisionTreeClassifier(class_weight=None, criterion='gini', max_depth=None,\n",
       "            max_features=None, max_leaf_nodes=None,\n",
       "            min_impurity_split=1e-07, min_samples_leaf=1,\n",
       "            min_samples_split=2, min_weight_fraction_leaf=0.0,\n",
       "            presort=False, random_state=None, splitter='best')"
      ]
     },
     "execution_count": 31,
     "metadata": {},
     "output_type": "execute_result"
    }
   ],
   "source": [
    "#Set up Decision Tree classifier with ALL default setting\n",
    "treeclf = tree.DecisionTreeClassifier(criterion = \"gini\", \n",
    "                                      random_state = 28,\n",
    "                                      max_depth=3, \n",
    "                                      min_samples_leaf=2)\n",
    "#Plug in the train dataset with target class\n",
    "treeclf = treeclf.fit(x_train, y_train)\n",
    "treeclf"
   ]
  },
  {
   "cell_type": "code",
   "execution_count": 32,
   "metadata": {},
   "outputs": [
    {
     "name": "stdout",
     "output_type": "stream",
     "text": [
      "(61,)\n"
     ]
    }
   ],
   "source": [
    "#Classify the Target Class\n",
    "y_pre = treeclf.predict(x_test)\n",
    "print (y_pre.shape)"
   ]
  },
  {
   "cell_type": "code",
   "execution_count": 33,
   "metadata": {},
   "outputs": [
    {
     "name": "stdout",
     "output_type": "stream",
     "text": [
      "100.0 %\n"
     ]
    }
   ],
   "source": [
    "#The average Accuracy score across the train instances\n",
    "print (treeclf.score(x_train, y_train)*100,\"%\")"
   ]
  },
  {
   "cell_type": "code",
   "execution_count": 34,
   "metadata": {},
   "outputs": [
    {
     "name": "stdout",
     "output_type": "stream",
     "text": [
      "93.4426229508 %\n"
     ]
    }
   ],
   "source": [
    "from sklearn.metrics import accuracy_score\n",
    "print(accuracy_score(y_test, y_pre)*100,\"%\")"
   ]
  },
  {
   "cell_type": "markdown",
   "metadata": {},
   "source": [
    "####Repeat 100 times on Holdout Partition and Decision Tree Model to calculate their Means, Variances, Confidence Interval"
   ]
  },
  {
   "cell_type": "code",
   "execution_count": 164,
   "metadata": {},
   "outputs": [],
   "source": [
    "n_times=100 #Preset 35 times trial \n",
    "train_score_lst=[] #Preset the Train score list\n",
    "test_score_lst=[] #Preset the Test score list\n",
    "\n",
    "for i in range(1,n_times+1):\n",
    "\n",
    "    #Split the train set, test set, train class, test class\n",
    "    from sklearn.cross_validation import train_test_split\n",
    "    x_train,x_test,y_train,y_test = train_test_split(X, #Predictor Variables\n",
    "                                                     y, #Class labels\n",
    "                                                     stratify=y, #data is split in a stratified fashion, using this as the class labels\n",
    "                                                     test_size=0.34,#Test size is set as 34% of entire set\n",
    "                                                     random_state=i) # Set the randon state for spliting data  in same order\n",
    "\n",
    "    #Set up Decision Tree classifier with the optimal setting from Assignment #1\n",
    "    treeclf = tree.DecisionTreeClassifier(criterion = \"gini\", \n",
    "                                          random_state = 28,\n",
    "                                          max_depth=3, \n",
    "                                          min_samples_leaf=2)\n",
    "    #Plug in the train dataset with target class\n",
    "    treeclf = treeclf.fit(x_train, y_train)\n",
    "    #Predict y value on testing data\n",
    "    y_pre = treeclf.predict(x_test)\n",
    "\n",
    "    #Calculate the Accuracy Score of the Training and Testing Set\n",
    "    train_score_lst.append(treeclf.score(x_train, y_train))\n",
    "    test_score_lst.append(accuracy_score(y_test, y_pre))\n",
    "    \n"
   ]
  },
  {
   "cell_type": "code",
   "execution_count": 230,
   "metadata": {},
   "outputs": [
    {
     "data": {
      "text/plain": [
       "(61, 13)"
      ]
     },
     "execution_count": 230,
     "metadata": {},
     "output_type": "execute_result"
    }
   ],
   "source": [
    "x_test.shape"
   ]
  },
  {
   "cell_type": "markdown",
   "metadata": {},
   "source": [
    "####Calculate the Means of Training and Testing Data"
   ]
  },
  {
   "cell_type": "code",
   "execution_count": 165,
   "metadata": {},
   "outputs": [
    {
     "name": "stdout",
     "output_type": "stream",
     "text": [
      "Decision Tree Result:\n",
      "Mean of Accuracy of Training Data is  97.89 %\n",
      "Mean of Accuracy of Testing Data is  90.0 %\n"
     ]
    }
   ],
   "source": [
    "train_score_lst_DT = train_score_lst\n",
    "test_score_lst_DT = test_score_lst\n",
    "\n",
    "train_mean=np.mean(np.array(train_score_lst))\n",
    "test_mean=np.mean(np.array(test_score_lst))\n",
    "\n",
    "print(\"Decision Tree Result:\")\n",
    "print(\"Mean of Accuracy of Training Data is \",round(train_mean*100,2),'%')\n",
    "print(\"Mean of Accuracy of Testing Data is \",round(test_mean*100,2),'%')"
   ]
  },
  {
   "cell_type": "code",
   "execution_count": 233,
   "metadata": {},
   "outputs": [
    {
     "data": {
      "text/plain": [
       "100"
      ]
     },
     "execution_count": 233,
     "metadata": {},
     "output_type": "execute_result"
    }
   ],
   "source": []
  },
  {
   "cell_type": "markdown",
   "metadata": {},
   "source": [
    "####Calculate the Variances of Training and Testing Data"
   ]
  },
  {
   "cell_type": "code",
   "execution_count": 166,
   "metadata": {},
   "outputs": [
    {
     "name": "stdout",
     "output_type": "stream",
     "text": [
      "Decision Tree Result:\n",
      "Variance of Accuracy of Training Data is  0.000266571699905\n",
      "Variance of Accuracy of Testing Data is  0.00204514915345\n"
     ]
    }
   ],
   "source": [
    "train_var = np.var(np.array(train_score_lst))\n",
    "test_var = np.var(np.array(test_score_lst))\n",
    "\n",
    "print(\"Decision Tree Result:\")\n",
    "print(\"Variance of Accuracy of Training Data is \",train_var)\n",
    "print(\"Variance of Accuracy of Testing Data is \",test_var)"
   ]
  },
  {
   "cell_type": "markdown",
   "metadata": {},
   "source": [
    "####Confidence Interval"
   ]
  },
  {
   "cell_type": "code",
   "execution_count": 167,
   "metadata": {},
   "outputs": [
    {
     "name": "stdout",
     "output_type": "stream",
     "text": [
      "Decision Tree Result:\n",
      "95 Percent Confidence Interval of Training Data is (0.953,1.005)\n",
      "90 Percent Confidence Interval of Training Data is (0.957,1.001)\n",
      "80 Percent Confidence Interval of Training Data is (0.962,0.996)\n"
     ]
    }
   ],
   "source": [
    "#p,q, n values setting\n",
    "p=train_mean\n",
    "q=1-p\n",
    "n=len(x_train)\n",
    "\n",
    "print(\"Decision Tree Result:\")\n",
    "\n",
    "#95% C.I.\n",
    "z=1.96\n",
    "ci_left, ci_right = (p)-(z*np.sqrt(p*q/n)), (p)+(z*np.sqrt(p*q/n))\n",
    "print(\"95 Percent Confidence Interval of Training Data is (%0.3f,%0.3f)\"%(ci_left,ci_right))\n",
    "\n",
    "#90% C.I.\n",
    "z=1.65\n",
    "ci_left, ci_right = (p)-(z*np.sqrt(p*q/n)), (p)+(z*np.sqrt(p*q/n))\n",
    "print(\"90 Percent Confidence Interval of Training Data is (%0.3f,%0.3f)\"%(ci_left,ci_right))\n",
    "\n",
    "#80%C.I.\n",
    "z=1.28\n",
    "ci_left, ci_right = (p)-(z*np.sqrt(p*q/n)), (p)+(z*np.sqrt(p*q/n))\n",
    "print(\"80 Percent Confidence Interval of Training Data is (%0.3f,%0.3f)\"%(ci_left,ci_right))"
   ]
  },
  {
   "cell_type": "code",
   "execution_count": 168,
   "metadata": {},
   "outputs": [
    {
     "name": "stdout",
     "output_type": "stream",
     "text": [
      "Decision Tree Result:\n",
      "95 Percent Confidence Interval of Testing Data is (0.825,0.975)\n",
      "90 Percent Confidence Interval of Testing Data is (0.837,0.963)\n",
      "80 Percent Confidence Interval of Testing Data is (0.851,0.949)\n"
     ]
    }
   ],
   "source": [
    "#p,q, n values setting\n",
    "p=test_mean\n",
    "q=1-p\n",
    "n=len(x_test)\n",
    "\n",
    "print(\"Decision Tree Result:\")\n",
    "\n",
    "#95% C.I.\n",
    "z=1.96\n",
    "ci_left, ci_right = (p)-(z*np.sqrt(p*q/n)), (p)+(z*np.sqrt(p*q/n))\n",
    "print(\"95 Percent Confidence Interval of Testing Data is (%0.3f,%0.3f)\"%(ci_left,ci_right))\n",
    "\n",
    "#90% C.I.\n",
    "z=1.65\n",
    "ci_left, ci_right = (p)-(z*np.sqrt(p*q/n)), (p)+(z*np.sqrt(p*q/n))\n",
    "print(\"90 Percent Confidence Interval of Testing Data is (%0.3f,%0.3f)\"%(ci_left,ci_right))\n",
    "\n",
    "#80%C.I.\n",
    "z=1.28\n",
    "ci_left, ci_right = (p)-(z*np.sqrt(p*q/n)), (p)+(z*np.sqrt(p*q/n))\n",
    "print(\"80 Percent Confidence Interval of Testing Data is (%0.3f,%0.3f)\"%(ci_left,ci_right))"
   ]
  },
  {
   "cell_type": "markdown",
   "metadata": {},
   "source": [
    "####Repeat 100 times on Holdout Partition and Naive Bayes Model to calculate their Means, Variances, Confidence Interval"
   ]
  },
  {
   "cell_type": "code",
   "execution_count": 169,
   "metadata": {},
   "outputs": [],
   "source": [
    "n_times=100 #Preset 35 times trial \n",
    "train_score_lst=[] #Preset the Train score list\n",
    "test_score_lst=[] #Preset the Test score list\n",
    "\n",
    "for i in range(1,n_times+1):\n",
    "\n",
    "    #Split the train set, test set, train class, test class\n",
    "    from sklearn.cross_validation import train_test_split\n",
    "    x_train,x_test,y_train,y_test = train_test_split(X, #Predictor Variables\n",
    "                                                     y, #Class labels\n",
    "                                                     stratify=y, #data is split in a stratified fashion, using this as the class labels\n",
    "                                                     test_size=0.34,#Test size is set as 34% of entire set\n",
    "                                                     random_state=i) # Set the randon state for spliting data  in same order\n",
    "\n",
    "   #Set up Naive Bayes classifier with ALL default setting\n",
    "    nbclf = naive_bayes.GaussianNB()\n",
    "    #Plug in the 66% of training set of data\n",
    "    nbclf=nbclf.fit(x_train,y_train)\n",
    "    #Predict y value on testing data\n",
    "    y_pre = nbclf.predict(x_test)\n",
    "\n",
    "    #Calculate the Accuracy Score of the Training and Testing Set\n",
    "    train_score_lst.append(nbclf.score(x_train, y_train))\n",
    "    test_score_lst.append(accuracy_score(y_test, y_pre))"
   ]
  },
  {
   "cell_type": "markdown",
   "metadata": {},
   "source": [
    "####Calculate the Means of Training and Testing Data"
   ]
  },
  {
   "cell_type": "code",
   "execution_count": 170,
   "metadata": {},
   "outputs": [
    {
     "name": "stdout",
     "output_type": "stream",
     "text": [
      "Naive Bayes Classifer Result:\n",
      "Mean of Accuracy of Training Data is  98.43 %\n",
      "Mean of Accuracy of Testing Data is  97.57 %\n"
     ]
    }
   ],
   "source": [
    "train_score_lst_nb = train_score_lst\n",
    "test_score_lst_nb = test_score_lst\n",
    "\n",
    "train_mean=np.mean(np.array(train_score_lst))\n",
    "test_mean=np.mean(np.array(test_score_lst))\n",
    "\n",
    "print(\"Naive Bayes Classifer Result:\")\n",
    "print(\"Mean of Accuracy of Training Data is \",round(train_mean*100,2),'%')\n",
    "print(\"Mean of Accuracy of Testing Data is \",round(test_mean*100,2),'%')"
   ]
  },
  {
   "cell_type": "markdown",
   "metadata": {},
   "source": [
    "####Calculate the Variances of Training and Testing Data"
   ]
  },
  {
   "cell_type": "code",
   "execution_count": 171,
   "metadata": {},
   "outputs": [
    {
     "name": "stdout",
     "output_type": "stream",
     "text": [
      "Naive Bayes Classifer Result:\n",
      "Variance of Accuracy of Training Data is  7.1181240412e-05\n",
      "Variance of Accuracy of Testing Data is  0.000249825315775\n"
     ]
    }
   ],
   "source": [
    "train_var = np.var(np.array(train_score_lst))\n",
    "test_var = np.var(np.array(test_score_lst))\n",
    "\n",
    "print(\"Naive Bayes Classifer Result:\")\n",
    "print(\"Variance of Accuracy of Training Data is \",train_var)\n",
    "print(\"Variance of Accuracy of Testing Data is \",test_var)"
   ]
  },
  {
   "cell_type": "markdown",
   "metadata": {},
   "source": [
    "####Confidence Interval"
   ]
  },
  {
   "cell_type": "code",
   "execution_count": 172,
   "metadata": {},
   "outputs": [
    {
     "name": "stdout",
     "output_type": "stream",
     "text": [
      "Decision Tree Result:\n",
      "95 Percent Confidence Interval of Training Data is (0.962,1.007)\n",
      "90 Percent Confidence Interval of Training Data is (0.965,1.003)\n",
      "80 Percent Confidence Interval of Training Data is (0.970,0.999)\n"
     ]
    }
   ],
   "source": [
    "#p,q, n values setting\n",
    "p=train_mean\n",
    "q=1-p\n",
    "n=len(x_train)\n",
    "\n",
    "print(\"Decision Tree Result:\")\n",
    "\n",
    "#95% C.I.\n",
    "z=1.96\n",
    "ci_left, ci_right = (p)-(z*np.sqrt(p*q/n)), (p)+(z*np.sqrt(p*q/n))\n",
    "print(\"95 Percent Confidence Interval of Training Data is (%0.3f,%0.3f)\"%(ci_left,ci_right))\n",
    "\n",
    "#90% C.I.\n",
    "z=1.65\n",
    "ci_left, ci_right = (p)-(z*np.sqrt(p*q/n)), (p)+(z*np.sqrt(p*q/n))\n",
    "print(\"90 Percent Confidence Interval of Training Data is (%0.3f,%0.3f)\"%(ci_left,ci_right))\n",
    "\n",
    "#80%C.I.\n",
    "z=1.28\n",
    "ci_left, ci_right = (p)-(z*np.sqrt(p*q/n)), (p)+(z*np.sqrt(p*q/n))\n",
    "print(\"80 Percent Confidence Interval of Training Data is (%0.3f,%0.3f)\"%(ci_left,ci_right))"
   ]
  },
  {
   "cell_type": "code",
   "execution_count": 173,
   "metadata": {},
   "outputs": [
    {
     "name": "stdout",
     "output_type": "stream",
     "text": [
      "Decision Tree Result:\n",
      "95 Percent Confidence Interval of Testing Data is (0.937,1.014)\n",
      "90 Percent Confidence Interval of Testing Data is (0.943,1.008)\n",
      "80 Percent Confidence Interval of Testing Data is (0.951,1.001)\n"
     ]
    }
   ],
   "source": [
    "#p,q, n values setting\n",
    "p=test_mean\n",
    "q=1-p\n",
    "n=len(x_test)\n",
    "\n",
    "print(\"Decision Tree Result:\")\n",
    "\n",
    "#95% C.I.\n",
    "z=1.96\n",
    "ci_left, ci_right = (p)-(z*np.sqrt(p*q/n)), (p)+(z*np.sqrt(p*q/n))\n",
    "print(\"95 Percent Confidence Interval of Testing Data is (%0.3f,%0.3f)\"%(ci_left,ci_right))\n",
    "\n",
    "#90% C.I.\n",
    "z=1.65\n",
    "ci_left, ci_right = (p)-(z*np.sqrt(p*q/n)), (p)+(z*np.sqrt(p*q/n))\n",
    "print(\"90 Percent Confidence Interval of Testing Data is (%0.3f,%0.3f)\"%(ci_left,ci_right))\n",
    "\n",
    "#80%C.I.\n",
    "z=1.28\n",
    "ci_left, ci_right = (p)-(z*np.sqrt(p*q/n)), (p)+(z*np.sqrt(p*q/n))\n",
    "print(\"80 Percent Confidence Interval of Testing Data is (%0.3f,%0.3f)\"%(ci_left,ci_right))"
   ]
  },
  {
   "cell_type": "markdown",
   "metadata": {},
   "source": [
    "##Problem-1-b: Paired t-test\n",
    "\n",
    "Paired t-test with the following Hypothesis:\n",
    "\n",
    "P0 (Null): Mean Accuracy of TWO Models are the SAME\n",
    "\n",
    "Pa (Alternative): Mean Accuracy of TWO Models are different from each other\n",
    "\n",
    "Based on the calculation below, we could summarize as the following:\n",
    "\n",
    "Training Set: The t-statistics is -192.38 with df=99 (Degree of Freedom) which means that the corresponding p-value is greater 0.25. With assumed 95% Confidence Interval, we could NOT reject he P0 Null hypothesis, we should collect more data for further analysis\n",
    "\n",
    "Testing Set: The t-statistics is -353.363645575 with df=99 (Degree of Freedom) which means that the corresponding p-value is greater 0.25. With assumed 95% Confidence Interval, we could NOT reject he P0 Null hypothesis, we should collect more data for further analysis."
   ]
  },
  {
   "cell_type": "code",
   "execution_count": 246,
   "metadata": {},
   "outputs": [
    {
     "name": "stdout",
     "output_type": "stream",
     "text": [
      "Table Size is  (100, 3)\n"
     ]
    },
    {
     "data": {
      "text/html": [
       "<div>\n",
       "<table border=\"1\" class=\"dataframe\">\n",
       "  <thead>\n",
       "    <tr style=\"text-align: right;\">\n",
       "      <th></th>\n",
       "      <th>DT_train_score</th>\n",
       "      <th>nb_train_score</th>\n",
       "      <th>Score_Difference</th>\n",
       "    </tr>\n",
       "  </thead>\n",
       "  <tbody>\n",
       "    <tr>\n",
       "      <th>0</th>\n",
       "      <td>0.991453</td>\n",
       "      <td>0.982906</td>\n",
       "      <td>0.008547</td>\n",
       "    </tr>\n",
       "    <tr>\n",
       "      <th>1</th>\n",
       "      <td>0.991453</td>\n",
       "      <td>0.965812</td>\n",
       "      <td>0.025641</td>\n",
       "    </tr>\n",
       "    <tr>\n",
       "      <th>2</th>\n",
       "      <td>0.974359</td>\n",
       "      <td>0.982906</td>\n",
       "      <td>-0.008547</td>\n",
       "    </tr>\n",
       "    <tr>\n",
       "      <th>3</th>\n",
       "      <td>0.957265</td>\n",
       "      <td>0.974359</td>\n",
       "      <td>-0.017094</td>\n",
       "    </tr>\n",
       "    <tr>\n",
       "      <th>4</th>\n",
       "      <td>1.000000</td>\n",
       "      <td>0.991453</td>\n",
       "      <td>0.008547</td>\n",
       "    </tr>\n",
       "  </tbody>\n",
       "</table>\n",
       "</div>"
      ],
      "text/plain": [
       "   DT_train_score  nb_train_score  Score_Difference\n",
       "0        0.991453        0.982906          0.008547\n",
       "1        0.991453        0.965812          0.025641\n",
       "2        0.974359        0.982906         -0.008547\n",
       "3        0.957265        0.974359         -0.017094\n",
       "4        1.000000        0.991453          0.008547"
      ]
     },
     "execution_count": 246,
     "metadata": {},
     "output_type": "execute_result"
    }
   ],
   "source": [
    "#Calculate Difference of Score of Training Data of the Decision Tree and Naive Bayes Models\n",
    "diff_score = list(map(lambda x,y: x-y, train_score_lst_DT,train_score_lst_nb))\n",
    "\n",
    "#Transform the Score lists into DataFrame\n",
    "df = pd.DataFrame(list(zip(train_score_lst_DT,train_score_lst_nb,diff_score)), \n",
    "                  columns=['DT_train_score','nb_train_score','Score_Difference'])\n",
    "print(\"Table Size is \",df.shape)\n",
    "df.head(5)"
   ]
  },
  {
   "cell_type": "code",
   "execution_count": 247,
   "metadata": {},
   "outputs": [
    {
     "name": "stdout",
     "output_type": "stream",
     "text": [
      "Mean of Score Difference is  -0.005384615384615371\n",
      "Variance of Score Difference is  0.0002798899949897102\n",
      "Sample size of Training Set is  100\n",
      "Degree of Freedom is  99\n",
      "Calculated t-Statistic is  -192.383274894\n"
     ]
    }
   ],
   "source": [
    "Score_mean = df['Score_Difference'].mean()\n",
    "Score_var = df['Score_Difference'].var()\n",
    "print(\"Mean of Score Difference is \",df['Score_Difference'].mean())\n",
    "print(\"Variance of Score Difference is \",df['Score_Difference'].var())\n",
    "print(\"Sample size of Training Set is \", df.shape[0])\n",
    "print(\"Degree of Freedom is \", df.shape[0]-1)\n",
    "\n",
    "#Calculate t statistic:\n",
    "t_stat = Score_mean / (Score_var/np.sqrt(df.shape[0]))\n",
    "print(\"Calculated t-Statistic is \", t_stat)"
   ]
  },
  {
   "cell_type": "code",
   "execution_count": 248,
   "metadata": {},
   "outputs": [
    {
     "name": "stdout",
     "output_type": "stream",
     "text": [
      "Table Size is  (100, 3)\n"
     ]
    },
    {
     "data": {
      "text/html": [
       "<div>\n",
       "<table border=\"1\" class=\"dataframe\">\n",
       "  <thead>\n",
       "    <tr style=\"text-align: right;\">\n",
       "      <th></th>\n",
       "      <th>DT_test_score</th>\n",
       "      <th>nb_test_score</th>\n",
       "      <th>Score_Difference</th>\n",
       "    </tr>\n",
       "  </thead>\n",
       "  <tbody>\n",
       "    <tr>\n",
       "      <th>0</th>\n",
       "      <td>0.950820</td>\n",
       "      <td>0.983607</td>\n",
       "      <td>-0.032787</td>\n",
       "    </tr>\n",
       "    <tr>\n",
       "      <th>1</th>\n",
       "      <td>0.934426</td>\n",
       "      <td>0.967213</td>\n",
       "      <td>-0.032787</td>\n",
       "    </tr>\n",
       "    <tr>\n",
       "      <th>2</th>\n",
       "      <td>0.852459</td>\n",
       "      <td>0.967213</td>\n",
       "      <td>-0.114754</td>\n",
       "    </tr>\n",
       "    <tr>\n",
       "      <th>3</th>\n",
       "      <td>0.885246</td>\n",
       "      <td>0.950820</td>\n",
       "      <td>-0.065574</td>\n",
       "    </tr>\n",
       "    <tr>\n",
       "      <th>4</th>\n",
       "      <td>0.918033</td>\n",
       "      <td>0.983607</td>\n",
       "      <td>-0.065574</td>\n",
       "    </tr>\n",
       "  </tbody>\n",
       "</table>\n",
       "</div>"
      ],
      "text/plain": [
       "   DT_test_score  nb_test_score  Score_Difference\n",
       "0       0.950820       0.983607         -0.032787\n",
       "1       0.934426       0.967213         -0.032787\n",
       "2       0.852459       0.967213         -0.114754\n",
       "3       0.885246       0.950820         -0.065574\n",
       "4       0.918033       0.983607         -0.065574"
      ]
     },
     "execution_count": 248,
     "metadata": {},
     "output_type": "execute_result"
    }
   ],
   "source": [
    "#Calculate Difference of Score of Testing Data of the Decision Tree and Naive Bayes Models\n",
    "diff_score = list(map(lambda x,y: x-y, test_score_lst_DT,test_score_lst_nb))\n",
    "\n",
    "#Transform the Score lists into DataFrame\n",
    "df = pd.DataFrame(list(zip(test_score_lst_DT,test_score_lst_nb,diff_score)), \n",
    "                  columns=['DT_test_score','nb_test_score','Score_Difference'])\n",
    "print(\"Table Size is \",df.shape)\n",
    "df.head(5)"
   ]
  },
  {
   "cell_type": "code",
   "execution_count": 249,
   "metadata": {},
   "outputs": [
    {
     "name": "stdout",
     "output_type": "stream",
     "text": [
      "Mean of Score Difference is  -0.07573770491803276\n",
      "Variance of Score Difference is  0.002143336075074855\n",
      "Sample size of Testing Set is  100\n",
      "Degree of Freedom is  99\n",
      "Calculated t-Statistic is  -353.363645575\n"
     ]
    }
   ],
   "source": [
    "Score_mean = df['Score_Difference'].mean()\n",
    "Score_var = df['Score_Difference'].var()\n",
    "print(\"Mean of Score Difference is \",df['Score_Difference'].mean())\n",
    "print(\"Variance of Score Difference is \",df['Score_Difference'].var())\n",
    "print(\"Sample size of Testing Set is \", df.shape[0])\n",
    "print(\"Degree of Freedom is \", df.shape[0]-1)\n",
    "\n",
    "#Calculate t statistic:\n",
    "t_stat = Score_mean / (Score_var/np.sqrt(df.shape[0]))\n",
    "print(\"Calculated t-Statistic is \", t_stat)"
   ]
  },
  {
   "cell_type": "markdown",
   "metadata": {},
   "source": [
    "##Problem-2\n",
    "\n"
   ]
  },
  {
   "cell_type": "code",
   "execution_count": 11,
   "metadata": {},
   "outputs": [],
   "source": [
    "#Import Desision Tree, Naive Bayes , K-Nearest Neighors\n",
    "from sklearn import neighbors, tree, naive_bayes\n",
    "from sklearn.metrics import accuracy_score"
   ]
  },
  {
   "cell_type": "code",
   "execution_count": 12,
   "metadata": {},
   "outputs": [],
   "source": [
    "train_size_lst = np.arange(0.25,0.86,0.1) #Preset Size of Training Data\n",
    "DT_train_score_lst=[] #Preset the Train score list\n",
    "DT_test_score_lst=[] #Preset the Test score list\n",
    "\n",
    "for i in train_size_lst:\n",
    "\n",
    "    #Split the train set, test set, train class, test class\n",
    "    from sklearn.cross_validation import train_test_split\n",
    "    x_train,x_test,y_train,y_test = train_test_split(X, #Predictor Variables\n",
    "                                                     y, #Class labels\n",
    "                                                     stratify=y, #data is split in a stratified fashion, using this as the class labels\n",
    "                                                     test_size=1-i,#Iterating the size of Training data set\n",
    "                                                     random_state=28) # Set the randon state for spliting data  in same order\n",
    "\n",
    "    #Set up Decision Tree classifier with the optimal setting from Assignment #1\n",
    "    treeclf = tree.DecisionTreeClassifier(criterion = \"gini\", \n",
    "                                          random_state = 28,\n",
    "                                          max_depth=3, \n",
    "                                          min_samples_leaf=2)\n",
    "    #Plug in the train dataset with target class\n",
    "    treeclf = treeclf.fit(x_train, y_train)\n",
    "    #Predict y value on testing data\n",
    "    y_pre = treeclf.predict(x_test)\n",
    "\n",
    "    #Calculate the Accuracy Score of the Training and Testing Set\n",
    "    DT_train_score_lst.append(treeclf.score(x_train, y_train))\n",
    "    DT_test_score_lst.append(accuracy_score(y_test, y_pre))\n",
    "    \n",
    "\n"
   ]
  },
  {
   "cell_type": "code",
   "execution_count": 13,
   "metadata": {},
   "outputs": [
    {
     "data": {
      "text/plain": [
       "[0.95454545454545459,\n",
       " 0.967741935483871,\n",
       " 0.98750000000000004,\n",
       " 0.98969072164948457,\n",
       " 0.99130434782608701,\n",
       " 0.99248120300751874,\n",
       " 0.99337748344370858]"
      ]
     },
     "execution_count": 13,
     "metadata": {},
     "output_type": "execute_result"
    }
   ],
   "source": [
    "DT_train_score_lst"
   ]
  },
  {
   "cell_type": "code",
   "execution_count": 14,
   "metadata": {},
   "outputs": [
    {
     "data": {
      "text/plain": [
       "[0.79104477611940294,\n",
       " 0.87068965517241381,\n",
       " 0.9285714285714286,\n",
       " 0.9135802469135802,\n",
       " 0.95238095238095233,\n",
       " 0.9555555555555556,\n",
       " 0.92592592592592593]"
      ]
     },
     "execution_count": 14,
     "metadata": {},
     "output_type": "execute_result"
    }
   ],
   "source": [
    "DT_test_score_lst"
   ]
  },
  {
   "cell_type": "code",
   "execution_count": 15,
   "metadata": {},
   "outputs": [],
   "source": [
    "train_size_lst = np.arange(0.25,0.86,0.1) #Preset Size of Training Data\n",
    "nb_train_score_lst=[] #Preset the Train score list\n",
    "nb_test_score_lst=[] #Preset the Test score list\n",
    "\n",
    "for i in train_size_lst:\n",
    "\n",
    "    #Split the train set, test set, train class, test class\n",
    "    from sklearn.cross_validation import train_test_split\n",
    "    x_train,x_test,y_train,y_test = train_test_split(X, #Predictor Variables\n",
    "                                                     y, #Class labels\n",
    "                                                     stratify=y, #data is split in a stratified fashion, using this as the class labels\n",
    "                                                     test_size=1-i,#Iterating the size of Training data set\n",
    "                                                     random_state=28) # Set the randon state for spliting data  in same order\n",
    "\n",
    "   #Set up Naive Bayes classifier with ALL default setting\n",
    "    nbclf = naive_bayes.GaussianNB()\n",
    "    #Plug in the 66% of training set of data\n",
    "    nbclf=nbclf.fit(x_train,y_train)\n",
    "    #Predict y value on testing data\n",
    "    y_pre = nbclf.predict(x_test)\n",
    "\n",
    "    #Calculate the Accuracy Score of the Training and Testing Set\n",
    "    nb_train_score_lst.append(nbclf.score(x_train, y_train))\n",
    "    nb_test_score_lst.append(accuracy_score(y_test, y_pre))"
   ]
  },
  {
   "cell_type": "code",
   "execution_count": 16,
   "metadata": {},
   "outputs": [
    {
     "data": {
      "text/plain": [
       "[0.97727272727272729,\n",
       " 0.9838709677419355,\n",
       " 0.97499999999999998,\n",
       " 0.97938144329896903,\n",
       " 0.9826086956521739,\n",
       " 0.98496240601503759,\n",
       " 0.98675496688741726]"
      ]
     },
     "execution_count": 16,
     "metadata": {},
     "output_type": "execute_result"
    }
   ],
   "source": [
    "nb_train_score_lst"
   ]
  },
  {
   "cell_type": "code",
   "execution_count": 17,
   "metadata": {},
   "outputs": [
    {
     "data": {
      "text/plain": [
       "[0.9850746268656716,\n",
       " 0.99137931034482762,\n",
       " 0.98979591836734693,\n",
       " 0.97530864197530864,\n",
       " 0.98412698412698407,\n",
       " 1.0,\n",
       " 0.96296296296296291]"
      ]
     },
     "execution_count": 17,
     "metadata": {},
     "output_type": "execute_result"
    }
   ],
   "source": [
    "nb_test_score_lst"
   ]
  },
  {
   "cell_type": "code",
   "execution_count": 33,
   "metadata": {},
   "outputs": [
    {
     "name": "stdout",
     "output_type": "stream",
     "text": [
      "The size of Accuracy Table (7, 4)\n"
     ]
    },
    {
     "data": {
      "text/html": [
       "<div>\n",
       "<table border=\"1\" class=\"dataframe\">\n",
       "  <thead>\n",
       "    <tr style=\"text-align: right;\">\n",
       "      <th></th>\n",
       "      <th>DT_train_Acc</th>\n",
       "      <th>DT_test_Acc</th>\n",
       "      <th>nb_train_Acc</th>\n",
       "      <th>nb_test_Acc</th>\n",
       "    </tr>\n",
       "  </thead>\n",
       "  <tbody>\n",
       "    <tr>\n",
       "      <th>0.25</th>\n",
       "      <td>0.954545</td>\n",
       "      <td>0.791045</td>\n",
       "      <td>0.977273</td>\n",
       "      <td>0.985075</td>\n",
       "    </tr>\n",
       "    <tr>\n",
       "      <th>0.35</th>\n",
       "      <td>0.967742</td>\n",
       "      <td>0.870690</td>\n",
       "      <td>0.983871</td>\n",
       "      <td>0.991379</td>\n",
       "    </tr>\n",
       "    <tr>\n",
       "      <th>0.45</th>\n",
       "      <td>0.987500</td>\n",
       "      <td>0.928571</td>\n",
       "      <td>0.975000</td>\n",
       "      <td>0.989796</td>\n",
       "    </tr>\n",
       "    <tr>\n",
       "      <th>0.55</th>\n",
       "      <td>0.989691</td>\n",
       "      <td>0.913580</td>\n",
       "      <td>0.979381</td>\n",
       "      <td>0.975309</td>\n",
       "    </tr>\n",
       "    <tr>\n",
       "      <th>0.65</th>\n",
       "      <td>0.991304</td>\n",
       "      <td>0.952381</td>\n",
       "      <td>0.982609</td>\n",
       "      <td>0.984127</td>\n",
       "    </tr>\n",
       "    <tr>\n",
       "      <th>0.75</th>\n",
       "      <td>0.992481</td>\n",
       "      <td>0.955556</td>\n",
       "      <td>0.984962</td>\n",
       "      <td>1.000000</td>\n",
       "    </tr>\n",
       "    <tr>\n",
       "      <th>0.85</th>\n",
       "      <td>0.993377</td>\n",
       "      <td>0.925926</td>\n",
       "      <td>0.986755</td>\n",
       "      <td>0.962963</td>\n",
       "    </tr>\n",
       "  </tbody>\n",
       "</table>\n",
       "</div>"
      ],
      "text/plain": [
       "      DT_train_Acc  DT_test_Acc  nb_train_Acc  nb_test_Acc\n",
       "0.25      0.954545     0.791045      0.977273     0.985075\n",
       "0.35      0.967742     0.870690      0.983871     0.991379\n",
       "0.45      0.987500     0.928571      0.975000     0.989796\n",
       "0.55      0.989691     0.913580      0.979381     0.975309\n",
       "0.65      0.991304     0.952381      0.982609     0.984127\n",
       "0.75      0.992481     0.955556      0.984962     1.000000\n",
       "0.85      0.993377     0.925926      0.986755     0.962963"
      ]
     },
     "execution_count": 33,
     "metadata": {},
     "output_type": "execute_result"
    }
   ],
   "source": [
    "df2 = pd.DataFrame(list(zip(DT_train_score_lst, DT_test_score_lst,nb_train_score_lst,nb_test_score_lst)), \n",
    "             columns = ['DT_train_Acc','DT_test_Acc','nb_train_Acc','nb_test_Acc'],\n",
    "            index = np.arange(0.25,0.86,0.1))\n",
    "print(\"The size of Accuracy Table\",df2.shape)\n",
    "df2"
   ]
  },
  {
   "cell_type": "code",
   "execution_count": 81,
   "metadata": {},
   "outputs": [
    {
     "name": "stdout",
     "output_type": "stream",
     "text": [
      "(7, 4)\n"
     ]
    },
    {
     "data": {
      "text/html": [
       "<div>\n",
       "<table border=\"1\" class=\"dataframe\">\n",
       "  <thead>\n",
       "    <tr style=\"text-align: right;\">\n",
       "      <th></th>\n",
       "      <th>DT_Resubstition_Err</th>\n",
       "      <th>DT_Generalization_Err</th>\n",
       "      <th>nb_Resubstition_Err</th>\n",
       "      <th>nb_Generalization_Err</th>\n",
       "    </tr>\n",
       "  </thead>\n",
       "  <tbody>\n",
       "    <tr>\n",
       "      <th>0.25</th>\n",
       "      <td>0.045455</td>\n",
       "      <td>0.208955</td>\n",
       "      <td>0.022727</td>\n",
       "      <td>0.014925</td>\n",
       "    </tr>\n",
       "    <tr>\n",
       "      <th>0.35</th>\n",
       "      <td>0.032258</td>\n",
       "      <td>0.129310</td>\n",
       "      <td>0.016129</td>\n",
       "      <td>0.008621</td>\n",
       "    </tr>\n",
       "    <tr>\n",
       "      <th>0.45</th>\n",
       "      <td>0.012500</td>\n",
       "      <td>0.071429</td>\n",
       "      <td>0.025000</td>\n",
       "      <td>0.010204</td>\n",
       "    </tr>\n",
       "    <tr>\n",
       "      <th>0.55</th>\n",
       "      <td>0.010309</td>\n",
       "      <td>0.086420</td>\n",
       "      <td>0.020619</td>\n",
       "      <td>0.024691</td>\n",
       "    </tr>\n",
       "    <tr>\n",
       "      <th>0.65</th>\n",
       "      <td>0.008696</td>\n",
       "      <td>0.047619</td>\n",
       "      <td>0.017391</td>\n",
       "      <td>0.015873</td>\n",
       "    </tr>\n",
       "    <tr>\n",
       "      <th>0.75</th>\n",
       "      <td>0.007519</td>\n",
       "      <td>0.044444</td>\n",
       "      <td>0.015038</td>\n",
       "      <td>0.000000</td>\n",
       "    </tr>\n",
       "    <tr>\n",
       "      <th>0.85</th>\n",
       "      <td>0.006623</td>\n",
       "      <td>0.074074</td>\n",
       "      <td>0.013245</td>\n",
       "      <td>0.037037</td>\n",
       "    </tr>\n",
       "  </tbody>\n",
       "</table>\n",
       "</div>"
      ],
      "text/plain": [
       "      DT_Resubstition_Err  DT_Generalization_Err  nb_Resubstition_Err  \\\n",
       "0.25             0.045455               0.208955             0.022727   \n",
       "0.35             0.032258               0.129310             0.016129   \n",
       "0.45             0.012500               0.071429             0.025000   \n",
       "0.55             0.010309               0.086420             0.020619   \n",
       "0.65             0.008696               0.047619             0.017391   \n",
       "0.75             0.007519               0.044444             0.015038   \n",
       "0.85             0.006623               0.074074             0.013245   \n",
       "\n",
       "      nb_Generalization_Err  \n",
       "0.25               0.014925  \n",
       "0.35               0.008621  \n",
       "0.45               0.010204  \n",
       "0.55               0.024691  \n",
       "0.65               0.015873  \n",
       "0.75               0.000000  \n",
       "0.85               0.037037  "
      ]
     },
     "execution_count": 81,
     "metadata": {},
     "output_type": "execute_result"
    }
   ],
   "source": [
    "df3=np.ones(df2.shape)\n",
    "df3=pd.DataFrame(df3, index = np.arange(0.25,0.86,0.1) )\n",
    "Err_df= pd.DataFrame(df3.values-df2.values, \n",
    "                     index= np.arange(0.25,0.86,0.1), \n",
    "                     columns = ['DT_Resubstition_Err',\n",
    "                                'DT_Generalization_Err',\n",
    "                                'nb_Resubstition_Err',\n",
    "                                'nb_Generalization_Err'])\n",
    "print(Err_df.shape)\n",
    "Err_df"
   ]
  },
  {
   "cell_type": "code",
   "execution_count": 83,
   "metadata": {},
   "outputs": [
    {
     "data": {
      "image/png": "[encoded data removed]",
      "text/plain": [
       "<matplotlib.figure.Figure at 0x1218b0cc0>"
      ]
     },
     "metadata": {},
     "output_type": "display_data"
    }
   ],
   "source": [
    "Err_df.plot(x=Err_df.index.values, figsize=(10,5))\n",
    "plt.title(\"Resubstituation Error and Generalization Error VS Size of Training Data\")\n",
    "plt.xlabel(\"Size of Training Data of Overall (%)\")\n",
    "plt.ylabel(\"Error Rate (%)\")\n",
    "plt.show()"
   ]
  },
  {
   "cell_type": "markdown",
   "metadata": {},
   "source": [
    "##Problem-2\n",
    "\n",
    "Ans:\n",
    "\n",
    "Based on the analysis below, we could observe that the Error Rate on the Training and Testing data are generally Higher when the size of Training data set is small. The Error Rates gradually decline when the size of Training data increases, especially happening in the training dataset (Blue: Decision Tree, Green: Naive Bayes). On the other hand, there is different on the testing data. The Generalization error (Error from Testing data) bounces back up when the size of Training data passes approximately 75%. The bounce-back incident is properably occured due to the over-fitting problem. When the size of Training set weight too much than the Testing data, the overfitting problem would be arised. Besides, we could also observe that the under-fitting problem occurs when the size of training data is too less. \n",
    "\n",
    "Also Based on the below, the Decision Tree model comes up a under-fitting appearance, The Generalization Error (from testing data) is 4-fold higher than the Resubstitution Error when the size of Training data is ONLY 25%. In this case, I believe that is normal because Decision Tree is sensitive to the size of Training and Testing data. The classification cases are built in the Tree, the accuracy of D.T. all depends on the number cases are built in the Tree, the more built-in cases, the more accurate result. On the contrary, the Naive Bayes model is built by the probabilities, so that it is NOT that sensitive to the size of Training data, so that we could see that the deficiency between the training and testing data is not too far. "
   ]
  },
  {
   "cell_type": "markdown",
   "metadata": {},
   "source": [
    "##Problem 3: ROC and Lift Curve"
   ]
  },
  {
   "cell_type": "code",
   "execution_count": 92,
   "metadata": {},
   "outputs": [
    {
     "data": {
      "text/plain": [
       "2    71\n",
       "1    59\n",
       "3    48\n",
       "Name: Labels, dtype: int64"
      ]
     },
     "execution_count": 92,
     "metadata": {},
     "output_type": "execute_result"
    }
   ],
   "source": [
    "#Check the number of each classes\n",
    "y.value_counts()"
   ]
  },
  {
   "cell_type": "code",
   "execution_count": 105,
   "metadata": {},
   "outputs": [],
   "source": [
    "wine2=wine\n",
    "#Convert Class 2 and 3 into 0. However, we keep the Class 1\n",
    "wine2[wine2.Labels==2]=0\n",
    "wine2[wine2.Labels==3]=0"
   ]
  },
  {
   "cell_type": "code",
   "execution_count": 107,
   "metadata": {},
   "outputs": [
    {
     "data": {
      "text/plain": [
       "0    119\n",
       "1     59\n",
       "Name: Labels, dtype: int64"
      ]
     },
     "execution_count": 107,
     "metadata": {},
     "output_type": "execute_result"
    }
   ],
   "source": [
    "#Recheck the number of Class labels\n",
    "y = wine2['Labels']\n",
    "y.value_counts()"
   ]
  },
  {
   "cell_type": "code",
   "execution_count": 113,
   "metadata": {},
   "outputs": [
    {
     "name": "stdout",
     "output_type": "stream",
     "text": [
      "The size of the predictor variables are  (178, 13)\n"
     ]
    },
    {
     "data": {
      "text/html": [
       "<div>\n",
       "<table border=\"1\" class=\"dataframe\">\n",
       "  <thead>\n",
       "    <tr style=\"text-align: right;\">\n",
       "      <th></th>\n",
       "      <th>Alcohol</th>\n",
       "      <th>Malic_acid</th>\n",
       "      <th>Ash</th>\n",
       "      <th>Alca_ash</th>\n",
       "      <th>Magnesium</th>\n",
       "      <th>phenols</th>\n",
       "      <th>Flavanoids</th>\n",
       "      <th>Nonflav_phenols</th>\n",
       "      <th>Proanthocyanins</th>\n",
       "      <th>Color_int</th>\n",
       "      <th>Hue</th>\n",
       "      <th>diluted_wines</th>\n",
       "      <th>Proline</th>\n",
       "    </tr>\n",
       "  </thead>\n",
       "  <tbody>\n",
       "    <tr>\n",
       "      <th>0</th>\n",
       "      <td>14.23</td>\n",
       "      <td>1.71</td>\n",
       "      <td>2.43</td>\n",
       "      <td>15.6</td>\n",
       "      <td>127</td>\n",
       "      <td>2.80</td>\n",
       "      <td>3.06</td>\n",
       "      <td>0.28</td>\n",
       "      <td>2.29</td>\n",
       "      <td>5.64</td>\n",
       "      <td>1.04</td>\n",
       "      <td>3.92</td>\n",
       "      <td>1065</td>\n",
       "    </tr>\n",
       "    <tr>\n",
       "      <th>1</th>\n",
       "      <td>13.20</td>\n",
       "      <td>1.78</td>\n",
       "      <td>2.14</td>\n",
       "      <td>11.2</td>\n",
       "      <td>100</td>\n",
       "      <td>2.65</td>\n",
       "      <td>2.76</td>\n",
       "      <td>0.26</td>\n",
       "      <td>1.28</td>\n",
       "      <td>4.38</td>\n",
       "      <td>1.05</td>\n",
       "      <td>3.40</td>\n",
       "      <td>1050</td>\n",
       "    </tr>\n",
       "    <tr>\n",
       "      <th>2</th>\n",
       "      <td>13.16</td>\n",
       "      <td>2.36</td>\n",
       "      <td>2.67</td>\n",
       "      <td>18.6</td>\n",
       "      <td>101</td>\n",
       "      <td>2.80</td>\n",
       "      <td>3.24</td>\n",
       "      <td>0.30</td>\n",
       "      <td>2.81</td>\n",
       "      <td>5.68</td>\n",
       "      <td>1.03</td>\n",
       "      <td>3.17</td>\n",
       "      <td>1185</td>\n",
       "    </tr>\n",
       "  </tbody>\n",
       "</table>\n",
       "</div>"
      ],
      "text/plain": [
       "   Alcohol  Malic_acid   Ash  Alca_ash  Magnesium  phenols  Flavanoids  \\\n",
       "0    14.23        1.71  2.43      15.6        127     2.80        3.06   \n",
       "1    13.20        1.78  2.14      11.2        100     2.65        2.76   \n",
       "2    13.16        2.36  2.67      18.6        101     2.80        3.24   \n",
       "\n",
       "   Nonflav_phenols  Proanthocyanins  Color_int   Hue  diluted_wines  Proline  \n",
       "0             0.28             2.29       5.64  1.04           3.92     1065  \n",
       "1             0.26             1.28       4.38  1.05           3.40     1050  \n",
       "2             0.30             2.81       5.68  1.03           3.17     1185  "
      ]
     },
     "execution_count": 113,
     "metadata": {},
     "output_type": "execute_result"
    }
   ],
   "source": [
    "X=wine2.ix[:,1:]\n",
    "print(\"The size of the predictor variables are \",X.shape)\n",
    "X.head(3)"
   ]
  },
  {
   "cell_type": "code",
   "execution_count": null,
   "metadata": {},
   "outputs": [],
   "source": [
    "#Split the train set, test set, train class, test class\n",
    "from sklearn.cross_validation import train_test_split\n",
    "x_train,x_test,y_train,y_test = train_test_split(X, #Predictor Variables\n",
    "                                                 y, #Class labels\n",
    "                                                 stratify=y, #data is split in a stratified fashion, using this as the class labels\n",
    "                                                 test_size=0.34,#Test size is set as 34% of entire set\n",
    "                                                 random_state=28) # Set the randon state for spliting data  in same order"
   ]
  },
  {
   "cell_type": "code",
   "execution_count": 99,
   "metadata": {},
   "outputs": [],
   "source": [
    "nbclf = naive_bayes.GaussianNB(priors=[0.1,0.9])\n",
    "#Plug in the 66% of training set of data\n",
    "nbclf=nbclf.fit(x_train,y_train)\n",
    "#Predict y value on testing data\n",
    "y_pre = nbclf.predict(x_test)"
   ]
  },
  {
   "cell_type": "code",
   "execution_count": 117,
   "metadata": {},
   "outputs": [],
   "source": [
    "class_threshold=np.arange(0.1,0.91,0.1)\n",
    "nb_train_score_lst=[] #Preset the Train score list\n",
    "nb_test_score_lst=[] #Preset the Test score list\n",
    "\n",
    "for i in class_threshold:\n",
    "\n",
    "    #Split the train set, test set, train class, test class\n",
    "    from sklearn.cross_validation import train_test_split\n",
    "    x_train,x_test,y_train,y_test = train_test_split(X, #Predictor Variables\n",
    "                                                     y, #Class labels\n",
    "                                                     stratify=y, #data is split in a stratified fashion, using this as the class labels\n",
    "                                                     test_size=0.34,#Size of Training data set is 34% of Overall\n",
    "                                                     random_state=28) # Set the randon state for spliting data  in same order\n",
    "\n",
    "   #Set up Naive Bayes classifier with ALL default setting\n",
    "    nbclf = naive_bayes.GaussianNB(priors=[i,1-i])\n",
    "    #Plug in the 66% of training set of data\n",
    "    nbclf=nbclf.fit(x_train,y_train)\n",
    "    #Predict y value on testing data\n",
    "    y_pre = nbclf.predict(x_test)\n",
    "\n",
    "    #Calculate the Accuracy Score of the Training and Testing Set\n",
    "    nb_train_score_lst.append(nbclf.score(x_train, y_train))\n",
    "    nb_test_score_lst.append(accuracy_score(y_test, y_pre))"
   ]
  },
  {
   "cell_type": "code",
   "execution_count": 137,
   "metadata": {},
   "outputs": [
    {
     "data": {
      "text/plain": [
       "array([[ 0.98373876,  0.01626124],\n",
       "       [ 0.03175404,  0.96824596],\n",
       "       [ 0.03175404,  0.96824596],\n",
       "       [ 0.03175404,  0.96824596],\n",
       "       [ 0.98373876,  0.01626124],\n",
       "       [ 0.98373876,  0.01626124],\n",
       "       [ 0.98373876,  0.01626124],\n",
       "       [ 0.03175404,  0.96824596],\n",
       "       [ 0.98373876,  0.01626124],\n",
       "       [ 0.98373876,  0.01626124],\n",
       "       [ 0.03175404,  0.96824596],\n",
       "       [ 0.03175404,  0.96824596],\n",
       "       [ 0.03175404,  0.96824596],\n",
       "       [ 0.98373876,  0.01626124],\n",
       "       [ 0.03175404,  0.96824596],\n",
       "       [ 0.98373876,  0.01626124],\n",
       "       [ 0.98373876,  0.01626124],\n",
       "       [ 0.98373876,  0.01626124],\n",
       "       [ 0.03175404,  0.96824596],\n",
       "       [ 0.98373876,  0.01626124],\n",
       "       [ 0.98373876,  0.01626124],\n",
       "       [ 0.98373876,  0.01626124],\n",
       "       [ 0.03175404,  0.96824596],\n",
       "       [ 0.98373876,  0.01626124],\n",
       "       [ 0.03175404,  0.96824596],\n",
       "       [ 0.98373876,  0.01626124],\n",
       "       [ 0.03175404,  0.96824596],\n",
       "       [ 0.03175404,  0.96824596],\n",
       "       [ 0.98373876,  0.01626124],\n",
       "       [ 0.98373876,  0.01626124],\n",
       "       [ 0.98373876,  0.01626124],\n",
       "       [ 0.98373876,  0.01626124],\n",
       "       [ 0.98373876,  0.01626124],\n",
       "       [ 0.98373876,  0.01626124],\n",
       "       [ 0.98373876,  0.01626124],\n",
       "       [ 0.98373876,  0.01626124],\n",
       "       [ 0.98373876,  0.01626124],\n",
       "       [ 0.98373876,  0.01626124],\n",
       "       [ 0.98373876,  0.01626124],\n",
       "       [ 0.03175404,  0.96824596],\n",
       "       [ 0.98373876,  0.01626124],\n",
       "       [ 0.03175404,  0.96824596],\n",
       "       [ 0.98373876,  0.01626124],\n",
       "       [ 0.98373876,  0.01626124],\n",
       "       [ 0.98373876,  0.01626124],\n",
       "       [ 0.98373876,  0.01626124],\n",
       "       [ 0.03175404,  0.96824596],\n",
       "       [ 0.98373876,  0.01626124],\n",
       "       [ 0.98373876,  0.01626124],\n",
       "       [ 0.03175404,  0.96824596],\n",
       "       [ 0.98373876,  0.01626124],\n",
       "       [ 0.03175404,  0.96824596],\n",
       "       [ 0.03175404,  0.96824596],\n",
       "       [ 0.98373876,  0.01626124],\n",
       "       [ 0.98373876,  0.01626124],\n",
       "       [ 0.03175404,  0.96824596],\n",
       "       [ 0.98373876,  0.01626124],\n",
       "       [ 0.98373876,  0.01626124],\n",
       "       [ 0.98373876,  0.01626124],\n",
       "       [ 0.98373876,  0.01626124],\n",
       "       [ 0.98373876,  0.01626124]])"
      ]
     },
     "execution_count": 137,
     "metadata": {},
     "output_type": "execute_result"
    }
   ],
   "source": [
    "nbclf = naive_bayes.GaussianNB()\n",
    "#Plug in the 66% of training set of data\n",
    "nbclf=nbclf.fit(x_train,y_train)\n",
    "#Predict y value on testing data\n",
    "y_pre = nbclf.predict_proba(x_test)\n",
    "\n",
    "\n",
    "from sklearn.calibration import CalibratedClassifierCV\n",
    "clf_sigmoid = CalibratedClassifierCV(nbclf, cv=2, method='sigmoid')\n",
    "\n",
    "clf_sigmoid.fit(X, y)\n",
    "\n",
    "clf_sigmoid.predict_proba(x_test)\n",
    "\n",
    "#Calculate the Accuracy Score of the Training and Testing Set\n",
    "#nb_train_score_lst.append(nbclf.score(x_train, y_train))\n",
    "#nb_test_score_lst.append(accuracy_score(y_test, y_pre))"
   ]
  },
  {
   "cell_type": "code",
   "execution_count": 197,
   "metadata": {},
   "outputs": [],
   "source": [
    "from sklearn.cross_validation import train_test_split\n",
    "x_train,x_test,y_train,y_test = train_test_split(X, #Predictor Variables\n",
    "                                                 y, #Class labels\n",
    "                                                 stratify=y, #data is split in a stratified fashion, using this as the class labels\n",
    "                                                 test_size=0.34,#Size of Training data set is 34% of Overall\n",
    "                                                 random_state=28) # Set the rand\n",
    "\n",
    "nbclf = naive_bayes.GaussianNB()\n",
    "#Plug in the 66% of training set of data\n",
    "nbclf=nbclf.fit(x_train,y_train)\n",
    "#Predict y value on testing data\n",
    "y_pre = nbclf.predict_proba(x_test)[:,0]\n",
    "fpr, tpr, thre = metrics.roc_curve(y_test, y_pre,pos_label=0)\n",
    "\n"
   ]
  },
  {
   "cell_type": "code",
   "execution_count": 219,
   "metadata": {},
   "outputs": [
    {
     "data": {
      "image/png": "[encoded data removed]",
      "text/plain": [
       "<matplotlib.figure.Figure at 0x1216f90f0>"
      ]
     },
     "metadata": {},
     "output_type": "display_data"
    }
   ],
   "source": [
    "df4=pd.DataFrame(list(zip(fpr, tpr)), columns=['fpr','tpr'])\n",
    "df4.plot(y=\"tpr\", x=\"fpr\", figsize=(10,10))\n",
    "plt.plot([0, 1], [0, 1], color='orange',lw=2, linestyle='--')\n",
    "\n",
    "plt.show()"
   ]
  },
  {
   "cell_type": "code",
   "execution_count": 221,
   "metadata": {},
   "outputs": [
    {
     "data": {
      "text/plain": [
       "0     0.000000\n",
       "1     0.000000\n",
       "2     0.352941\n",
       "3     0.352941\n",
       "4     0.588235\n",
       "5     0.588235\n",
       "6     0.647059\n",
       "7     0.647059\n",
       "8     0.705882\n",
       "9     0.705882\n",
       "10    0.823529\n",
       "11    0.823529\n",
       "12    0.882353\n",
       "13    0.882353\n",
       "14    0.941176\n",
       "15    0.941176\n",
       "16    1.000000\n",
       "Name: tpr, dtype: float64"
      ]
     },
     "execution_count": 221,
     "metadata": {},
     "output_type": "execute_result"
    }
   ],
   "source": [
    "df4.tpr"
   ]
  },
  {
   "cell_type": "code",
   "execution_count": 222,
   "metadata": {},
   "outputs": [
    {
     "data": {
      "text/plain": [
       "0     0.000000\n",
       "1     0.058824\n",
       "2     0.058824\n",
       "3     0.176471\n",
       "4     0.176471\n",
       "5     0.235294\n",
       "6     0.235294\n",
       "7     0.294118\n",
       "8     0.294118\n",
       "9     0.529412\n",
       "10    0.529412\n",
       "11    0.705882\n",
       "12    0.705882\n",
       "13    0.882353\n",
       "14    0.882353\n",
       "15    1.000000\n",
       "16    1.000000\n",
       "Name: fpr, dtype: float64"
      ]
     },
     "execution_count": 222,
     "metadata": {},
     "output_type": "execute_result"
    }
   ],
   "source": [
    "df4.fpr"
   ]
  },
  {
   "cell_type": "code",
   "execution_count": 224,
   "metadata": {},
   "outputs": [
    {
     "data": {
      "text/plain": [
       "array([  1.91939429e+00,   9.19394292e-01,   8.56383891e-01,\n",
       "         7.35774212e-01,   6.54744392e-01,   5.99215967e-01,\n",
       "         5.75230382e-01,   5.40653767e-01,   5.24488902e-01,\n",
       "         4.43481017e-01,   2.27936666e-01,   1.36566668e-01,\n",
       "         1.29186031e-01,   3.83614700e-02,   4.58836433e-03,\n",
       "         5.36834488e-04,   2.83086983e-04])"
      ]
     },
     "execution_count": 224,
     "metadata": {},
     "output_type": "execute_result"
    }
   ],
   "source": [
    "thre"
   ]
  },
  {
   "cell_type": "code",
   "execution_count": 226,
   "metadata": {},
   "outputs": [
    {
     "data": {
      "text/plain": [
       "[]"
      ]
     },
     "execution_count": 226,
     "metadata": {},
     "output_type": "execute_result"
    }
   ],
   "source": [
    "pd.Data\n",
    "plt.plot(x=tpr - fpr,y=thre)"
   ]
  },
  {
   "cell_type": "code",
   "execution_count": null,
   "metadata": {},
   "outputs": [],
   "source": []
  },
  {
   "cell_type": "code",
   "execution_count": null,
   "metadata": {},
   "outputs": [],
   "source": []
  },
  {
   "cell_type": "code",
   "execution_count": 179,
   "metadata": {},
   "outputs": [],
   "source": [
    "from sklearn import metrics\n",
    "import pandas as pd\n",
    "\n",
    "preds = clf.predict_proba(Xtest)[:,1]\n",
    "fpr, tpr, thre = metrics.roc_curve(ytest, preds)\n",
    "\n"
   ]
  },
  {
   "cell_type": "code",
   "execution_count": 172,
   "metadata": {},
   "outputs": [
    {
     "data": {
      "text/plain": [
       "array([ 0.84457494,  2.20626674,  0.43683862,  0.7269132 ,  1.26611278,\n",
       "       -1.03365111, -2.12154817,  1.72926855,  0.91747982,  1.02446603])"
      ]
     },
     "execution_count": 172,
     "metadata": {},
     "output_type": "execute_result"
    }
   ],
   "source": [
    "Xtest[0]"
   ]
  },
  {
   "cell_type": "code",
   "execution_count": 169,
   "metadata": {},
   "outputs": [
    {
     "data": {
      "text/plain": [
       "array([ 0.16666667,  0.83333333,  0.83333333,  1.        ,  1.        ])"
      ]
     },
     "execution_count": 169,
     "metadata": {},
     "output_type": "execute_result"
    }
   ],
   "source": [
    "tpr"
   ]
  },
  {
   "cell_type": "code",
   "execution_count": 159,
   "metadata": {},
   "outputs": [
    {
     "data": {
      "text/plain": [
       "array([ 0.97952012,  0.96163966,  0.9570438 ,  0.90482551,  0.90457716,\n",
       "        0.90219787,  0.90204473,  0.88178632,  0.87806147,  0.87337085,\n",
       "        0.87283757,  0.86627654,  0.86256331,  0.85707842,  0.85548799,\n",
       "        0.85073481,  0.85009382,  0.8451732 ,  0.84470609,  0.8407024 ,\n",
       "        0.83984027,  0.83628602,  0.83554555,  0.83227749,  0.83170318,\n",
       "        0.82057517,  0.81962852,  0.81854602,  0.81854488,  0.80718887,\n",
       "        0.80654891,  0.80536585,  0.80364105,  0.79951923,  0.79937013,\n",
       "        0.79545078,  0.7934301 ,  0.78269572,  0.77874691,  0.77293886,\n",
       "        0.77216113,  0.77015097,  0.76841693,  0.76720292,  0.7670143 ,\n",
       "        0.76539541,  0.76361043,  0.7613243 ,  0.76099377,  0.74752706,\n",
       "        0.74691862,  0.74481255,  0.74389626,  0.74211724,  0.73872625,\n",
       "        0.73824094,  0.7380421 ,  0.72970165,  0.72768295,  0.72567404,\n",
       "        0.72565226,  0.72486977,  0.72326671,  0.72048387,  0.72042036,\n",
       "        0.7191587 ,  0.71746965,  0.71704246,  0.71264008,  0.70961407,\n",
       "        0.70898988,  0.70564611,  0.70491235,  0.70328197,  0.7020535 ,\n",
       "        0.70004236,  0.69998465,  0.69796828,  0.69609436,  0.69395822,\n",
       "        0.69265907,  0.6882367 ,  0.68661506,  0.68652466,  0.68647474,\n",
       "        0.67951788,  0.67918577,  0.67855555,  0.67842677,  0.67589772,\n",
       "        0.67222639,  0.6677504 ,  0.66668   ,  0.66624492,  0.66510969,\n",
       "        0.6616772 ,  0.65808385,  0.65588127,  0.655837  ,  0.65552434,\n",
       "        0.65215778,  0.65111086,  0.64836799,  0.64587938,  0.64500731,\n",
       "        0.64225196,  0.64220352,  0.64056773,  0.63910878,  0.63766502,\n",
       "        0.63451537,  0.62913081,  0.6281608 ,  0.62750034,  0.62697591,\n",
       "        0.62587618,  0.62501966,  0.62062864,  0.62030871,  0.61340202,\n",
       "        0.61044997,  0.6078041 ,  0.60684022,  0.60621699,  0.60557983,\n",
       "        0.60540026,  0.60478503,  0.60408029,  0.60359594,  0.60177511,\n",
       "        0.60126471,  0.5998004 ,  0.59849123,  0.59744381,  0.59713442,\n",
       "        0.5969772 ,  0.59632879,  0.59445729,  0.59305812,  0.59296877,\n",
       "        0.59045526,  0.59044897,  0.58976136,  0.58516375,  0.58482249,\n",
       "        0.58454766,  0.58406349,  0.58292455,  0.58274418,  0.58259382,\n",
       "        0.58247836,  0.58021278,  0.5765049 ,  0.57447629,  0.57394585,\n",
       "        0.57330569,  0.57323849,  0.57238604,  0.57150984,  0.571292  ,\n",
       "        0.5707697 ,  0.56616218,  0.56338416,  0.55820906,  0.55748433,\n",
       "        0.55712216,  0.55445396,  0.55393007,  0.55138931,  0.54774795,\n",
       "        0.54759366,  0.54714603,  0.54585024,  0.54394413,  0.5421818 ,\n",
       "        0.54142835,  0.54133867,  0.54054179,  0.53909154,  0.53638346,\n",
       "        0.52743221,  0.52503955,  0.52497293,  0.52442482,  0.52244081,\n",
       "        0.52202012,  0.51881925,  0.51871361,  0.51864397,  0.51575925,\n",
       "        0.51380345,  0.512302  ,  0.5120638 ,  0.50982366,  0.50855615,\n",
       "        0.50782269,  0.5055336 ,  0.49975337,  0.49856869,  0.49660402,\n",
       "        0.4955136 ,  0.49528205,  0.49286384,  0.49215755,  0.4917008 ,\n",
       "        0.49069212,  0.48809359,  0.48663838,  0.48621813,  0.48422698,\n",
       "        0.48144969,  0.48125865,  0.48061923,  0.47673814,  0.475352  ,\n",
       "        0.47476859,  0.473322  ,  0.47309213,  0.47221045,  0.47118748,\n",
       "        0.46780969,  0.46737568,  0.46690113,  0.46554248,  0.46377851,\n",
       "        0.46331414,  0.46125745,  0.45942725,  0.45749924,  0.45749575,\n",
       "        0.45666053,  0.45602504,  0.4462137 ,  0.44461376,  0.44221101,\n",
       "        0.44114195,  0.4380165 ,  0.43604009,  0.4334518 ,  0.43336583,\n",
       "        0.43277837,  0.43264043,  0.43148217,  0.43146424,  0.42889298,\n",
       "        0.42835478,  0.42050748,  0.42031313,  0.4175953 ,  0.41744666,\n",
       "        0.41260167,  0.41246551,  0.40962134,  0.40830691,  0.40758725,\n",
       "        0.40729487,  0.40703242,  0.40597161,  0.40549878,  0.40319193,\n",
       "        0.40061769,  0.39812719,  0.39739459,  0.39711673,  0.39618699,\n",
       "        0.39571127,  0.38502205,  0.38399278,  0.38360741,  0.38346465,\n",
       "        0.37639136,  0.37638645,  0.37572814,  0.37416206,  0.37321113,\n",
       "        0.37175479,  0.37122382,  0.37096784,  0.3708826 ,  0.37037289,\n",
       "        0.36741395,  0.36321602,  0.35990769,  0.35919261,  0.35759286,\n",
       "        0.35750733,  0.35552923,  0.35541063,  0.35450971,  0.3528091 ,\n",
       "        0.35255283,  0.35218237,  0.35161567,  0.35148975,  0.35054632,\n",
       "        0.35045631,  0.3501229 ,  0.34937144,  0.3451004 ,  0.34427075,\n",
       "        0.34100629,  0.34064885,  0.33853877,  0.33835742,  0.33645413,\n",
       "        0.33617112,  0.32708331,  0.32622092,  0.32195923,  0.32069105,\n",
       "        0.31764185,  0.31481634,  0.31220693,  0.31177606,  0.31159459,\n",
       "        0.31134757,  0.30774174,  0.30735977,  0.30368261,  0.30333677,\n",
       "        0.30195078,  0.29727893,  0.29721874,  0.2962466 ,  0.29526351,\n",
       "        0.29509245,  0.29103827,  0.29049702,  0.2881493 ,  0.28779346,\n",
       "        0.28746608,  0.28666785,  0.2853316 ,  0.28501767,  0.27923631,\n",
       "        0.27843369,  0.27628833,  0.27569777,  0.27546625,  0.27287107,\n",
       "        0.27109276,  0.26998955,  0.24988728,  0.24980971,  0.24789704,\n",
       "        0.24722566,  0.24351921,  0.24265744,  0.23756996,  0.23731717,\n",
       "        0.23663558,  0.236084  ,  0.23525712,  0.2349392 ,  0.23263855,\n",
       "        0.23076612,  0.22856096,  0.22810588,  0.22360909,  0.22311295,\n",
       "        0.22042578,  0.22042349,  0.21778914,  0.21547865,  0.21186608,\n",
       "        0.21055   ,  0.20943474,  0.20872481,  0.20803335,  0.20641954,\n",
       "        0.19970112,  0.19897646,  0.19847183,  0.19738295,  0.19328742,\n",
       "        0.19313051,  0.18306477,  0.18084635,  0.17690942,  0.17648503,\n",
       "        0.17610007,  0.17343198,  0.17306177,  0.16971096,  0.16909371,\n",
       "        0.1680222 ,  0.16667354,  0.16520132,  0.15471222,  0.15289768,\n",
       "        0.15030183,  0.14556073,  0.13788639,  0.13610093,  0.12638938,\n",
       "        0.12451496,  0.12434836,  0.1218716 ,  0.11181244,  0.11066191,\n",
       "        0.10786999,  0.10769119,  0.10492027,  0.10356871,  0.09950889,\n",
       "        0.08998397,  0.08447288,  0.08234172,  0.08061696,  0.07826797,\n",
       "        0.03850009,  0.03581124,  0.02178702])"
      ]
     },
     "execution_count": 159,
     "metadata": {},
     "output_type": "execute_result"
    }
   ],
   "source": [
    "thre"
   ]
  }
 ],
 "metadata": {
  "kernelspec": {
   "display_name": "Python 3",
   "language": "python",
   "name": "python3"
  },
  "language_info": {
   "codemirror_mode": {
    "name": "ipython",
    "version": 3
   },
   "file_extension": ".py",
   "mimetype": "text/x-python",
   "name": "python",
   "nbconvert_exporter": "python",
   "pygments_lexer": "ipython3",
   "version": "3.6.0"
  }
 },
 "nbformat": 4,
 "nbformat_minor": 2
}
