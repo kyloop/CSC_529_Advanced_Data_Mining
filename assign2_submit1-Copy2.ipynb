{
 "cells": [
  {
   "cell_type": "code",
   "execution_count": null,
   "metadata": {},
   "outputs": [],
   "source": []
  },
  {
   "cell_type": "code",
   "execution_count": 176,
   "metadata": {},
   "outputs": [],
   "source": [
    "import pandas as pd\n",
    "import numpy as np\n",
    "import matplotlib.pyplot as plt"
   ]
  },
  {
   "cell_type": "code",
   "execution_count": 177,
   "metadata": {},
   "outputs": [
    {
     "data": {
      "text/html": [
       "<div>\n",
       "<table border=\"1\" class=\"dataframe\">\n",
       "  <thead>\n",
       "    <tr style=\"text-align: right;\">\n",
       "      <th></th>\n",
       "      <th>0</th>\n",
       "      <th>1</th>\n",
       "      <th>2</th>\n",
       "      <th>3</th>\n",
       "      <th>4</th>\n",
       "      <th>5</th>\n",
       "      <th>6</th>\n",
       "      <th>7</th>\n",
       "      <th>8</th>\n",
       "      <th>9</th>\n",
       "      <th>10</th>\n",
       "      <th>11</th>\n",
       "      <th>12</th>\n",
       "      <th>13</th>\n",
       "    </tr>\n",
       "  </thead>\n",
       "  <tbody>\n",
       "    <tr>\n",
       "      <th>0</th>\n",
       "      <td>1</td>\n",
       "      <td>14.23</td>\n",
       "      <td>1.71</td>\n",
       "      <td>2.43</td>\n",
       "      <td>15.6</td>\n",
       "      <td>127</td>\n",
       "      <td>2.80</td>\n",
       "      <td>3.06</td>\n",
       "      <td>0.28</td>\n",
       "      <td>2.29</td>\n",
       "      <td>5.64</td>\n",
       "      <td>1.04</td>\n",
       "      <td>3.92</td>\n",
       "      <td>1065</td>\n",
       "    </tr>\n",
       "    <tr>\n",
       "      <th>1</th>\n",
       "      <td>1</td>\n",
       "      <td>13.20</td>\n",
       "      <td>1.78</td>\n",
       "      <td>2.14</td>\n",
       "      <td>11.2</td>\n",
       "      <td>100</td>\n",
       "      <td>2.65</td>\n",
       "      <td>2.76</td>\n",
       "      <td>0.26</td>\n",
       "      <td>1.28</td>\n",
       "      <td>4.38</td>\n",
       "      <td>1.05</td>\n",
       "      <td>3.40</td>\n",
       "      <td>1050</td>\n",
       "    </tr>\n",
       "  </tbody>\n",
       "</table>\n",
       "</div>"
      ],
      "text/plain": [
       "   0      1     2     3     4    5     6     7     8     9     10    11    12  \\\n",
       "0   1  14.23  1.71  2.43  15.6  127  2.80  3.06  0.28  2.29  5.64  1.04  3.92   \n",
       "1   1  13.20  1.78  2.14  11.2  100  2.65  2.76  0.26  1.28  4.38  1.05  3.40   \n",
       "\n",
       "     13  \n",
       "0  1065  \n",
       "1  1050  "
      ]
     },
     "execution_count": 177,
     "metadata": {},
     "output_type": "execute_result"
    }
   ],
   "source": [
    "#Read the csv from the web source\n",
    "wine = pd.read_csv(\"https://archive.ics.uci.edu/ml/machine-learning-databases/wine/wine.data\",\n",
    "                   sep=\",\",header=None)\n",
    "wine.head(2)"
   ]
  },
  {
   "cell_type": "code",
   "execution_count": 178,
   "metadata": {},
   "outputs": [
    {
     "name": "stdout",
     "output_type": "stream",
     "text": [
      "Index(['Labels', 'Alcohol', 'Malic_acid', 'Ash', 'Alca_ash', 'Magnesium',\n",
      "       'phenols', 'Flavanoids', 'Nonflav_phenols', 'Proanthocyanins',\n",
      "       'Color_int', 'Hue', 'diluted_wines', 'Proline'],\n",
      "      dtype='object')\n"
     ]
    },
    {
     "data": {
      "text/html": [
       "<div>\n",
       "<table border=\"1\" class=\"dataframe\">\n",
       "  <thead>\n",
       "    <tr style=\"text-align: right;\">\n",
       "      <th></th>\n",
       "      <th>Labels</th>\n",
       "      <th>Alcohol</th>\n",
       "      <th>Malic_acid</th>\n",
       "      <th>Ash</th>\n",
       "      <th>Alca_ash</th>\n",
       "      <th>Magnesium</th>\n",
       "      <th>phenols</th>\n",
       "      <th>Flavanoids</th>\n",
       "      <th>Nonflav_phenols</th>\n",
       "      <th>Proanthocyanins</th>\n",
       "      <th>Color_int</th>\n",
       "      <th>Hue</th>\n",
       "      <th>diluted_wines</th>\n",
       "      <th>Proline</th>\n",
       "    </tr>\n",
       "  </thead>\n",
       "  <tbody>\n",
       "    <tr>\n",
       "      <th>0</th>\n",
       "      <td>1</td>\n",
       "      <td>14.23</td>\n",
       "      <td>1.71</td>\n",
       "      <td>2.43</td>\n",
       "      <td>15.6</td>\n",
       "      <td>127</td>\n",
       "      <td>2.80</td>\n",
       "      <td>3.06</td>\n",
       "      <td>0.28</td>\n",
       "      <td>2.29</td>\n",
       "      <td>5.64</td>\n",
       "      <td>1.04</td>\n",
       "      <td>3.92</td>\n",
       "      <td>1065</td>\n",
       "    </tr>\n",
       "    <tr>\n",
       "      <th>1</th>\n",
       "      <td>1</td>\n",
       "      <td>13.20</td>\n",
       "      <td>1.78</td>\n",
       "      <td>2.14</td>\n",
       "      <td>11.2</td>\n",
       "      <td>100</td>\n",
       "      <td>2.65</td>\n",
       "      <td>2.76</td>\n",
       "      <td>0.26</td>\n",
       "      <td>1.28</td>\n",
       "      <td>4.38</td>\n",
       "      <td>1.05</td>\n",
       "      <td>3.40</td>\n",
       "      <td>1050</td>\n",
       "    </tr>\n",
       "  </tbody>\n",
       "</table>\n",
       "</div>"
      ],
      "text/plain": [
       "   Labels  Alcohol  Malic_acid   Ash  Alca_ash  Magnesium  phenols  \\\n",
       "0       1    14.23        1.71  2.43      15.6        127     2.80   \n",
       "1       1    13.20        1.78  2.14      11.2        100     2.65   \n",
       "\n",
       "   Flavanoids  Nonflav_phenols  Proanthocyanins  Color_int   Hue  \\\n",
       "0        3.06             0.28             2.29       5.64  1.04   \n",
       "1        2.76             0.26             1.28       4.38  1.05   \n",
       "\n",
       "   diluted_wines  Proline  \n",
       "0           3.92     1065  \n",
       "1           3.40     1050  "
      ]
     },
     "execution_count": 178,
     "metadata": {},
     "output_type": "execute_result"
    }
   ],
   "source": [
    "#Naming all the columns based on the source information\n",
    "wine.columns=[\"Labels\",\"Alcohol\",\"Malic_acid\",\"Ash\",\"Alca_ash\",\"Magnesium\",\"phenols\",\n",
    "           \"Flavanoids\",\"Nonflav_phenols\",\"Proanthocyanins\",\n",
    "           \"Color_int\",\"Hue\",\"diluted_wines\",\"Proline\"]\n",
    "print(wine.columns)\n",
    "wine.head(2)"
   ]
  },
  {
   "cell_type": "code",
   "execution_count": 179,
   "metadata": {},
   "outputs": [
    {
     "name": "stdout",
     "output_type": "stream",
     "text": [
      "Target table size is (178,)\n"
     ]
    },
    {
     "data": {
      "text/plain": [
       "0    1\n",
       "1    1\n",
       "2    1\n",
       "3    1\n",
       "4    1\n",
       "Name: Labels, dtype: int64"
      ]
     },
     "execution_count": 179,
     "metadata": {},
     "output_type": "execute_result"
    }
   ],
   "source": [
    "#Assign Target labels to a new table\n",
    "y=wine['Labels']\n",
    "print(\"Target table size is\",y.shape)\n",
    "y.head(5)"
   ]
  },
  {
   "cell_type": "code",
   "execution_count": 180,
   "metadata": {},
   "outputs": [
    {
     "name": "stdout",
     "output_type": "stream",
     "text": [
      "Predictor variables size is  (178, 13)\n"
     ]
    },
    {
     "data": {
      "text/html": [
       "<div>\n",
       "<table border=\"1\" class=\"dataframe\">\n",
       "  <thead>\n",
       "    <tr style=\"text-align: right;\">\n",
       "      <th></th>\n",
       "      <th>Alcohol</th>\n",
       "      <th>Malic_acid</th>\n",
       "      <th>Ash</th>\n",
       "      <th>Alca_ash</th>\n",
       "      <th>Magnesium</th>\n",
       "      <th>phenols</th>\n",
       "      <th>Flavanoids</th>\n",
       "      <th>Nonflav_phenols</th>\n",
       "      <th>Proanthocyanins</th>\n",
       "      <th>Color_int</th>\n",
       "      <th>Hue</th>\n",
       "      <th>diluted_wines</th>\n",
       "      <th>Proline</th>\n",
       "    </tr>\n",
       "  </thead>\n",
       "  <tbody>\n",
       "    <tr>\n",
       "      <th>0</th>\n",
       "      <td>14.23</td>\n",
       "      <td>1.71</td>\n",
       "      <td>2.43</td>\n",
       "      <td>15.6</td>\n",
       "      <td>127</td>\n",
       "      <td>2.80</td>\n",
       "      <td>3.06</td>\n",
       "      <td>0.28</td>\n",
       "      <td>2.29</td>\n",
       "      <td>5.64</td>\n",
       "      <td>1.04</td>\n",
       "      <td>3.92</td>\n",
       "      <td>1065</td>\n",
       "    </tr>\n",
       "    <tr>\n",
       "      <th>1</th>\n",
       "      <td>13.20</td>\n",
       "      <td>1.78</td>\n",
       "      <td>2.14</td>\n",
       "      <td>11.2</td>\n",
       "      <td>100</td>\n",
       "      <td>2.65</td>\n",
       "      <td>2.76</td>\n",
       "      <td>0.26</td>\n",
       "      <td>1.28</td>\n",
       "      <td>4.38</td>\n",
       "      <td>1.05</td>\n",
       "      <td>3.40</td>\n",
       "      <td>1050</td>\n",
       "    </tr>\n",
       "    <tr>\n",
       "      <th>2</th>\n",
       "      <td>13.16</td>\n",
       "      <td>2.36</td>\n",
       "      <td>2.67</td>\n",
       "      <td>18.6</td>\n",
       "      <td>101</td>\n",
       "      <td>2.80</td>\n",
       "      <td>3.24</td>\n",
       "      <td>0.30</td>\n",
       "      <td>2.81</td>\n",
       "      <td>5.68</td>\n",
       "      <td>1.03</td>\n",
       "      <td>3.17</td>\n",
       "      <td>1185</td>\n",
       "    </tr>\n",
       "    <tr>\n",
       "      <th>3</th>\n",
       "      <td>14.37</td>\n",
       "      <td>1.95</td>\n",
       "      <td>2.50</td>\n",
       "      <td>16.8</td>\n",
       "      <td>113</td>\n",
       "      <td>3.85</td>\n",
       "      <td>3.49</td>\n",
       "      <td>0.24</td>\n",
       "      <td>2.18</td>\n",
       "      <td>7.80</td>\n",
       "      <td>0.86</td>\n",
       "      <td>3.45</td>\n",
       "      <td>1480</td>\n",
       "    </tr>\n",
       "    <tr>\n",
       "      <th>4</th>\n",
       "      <td>13.24</td>\n",
       "      <td>2.59</td>\n",
       "      <td>2.87</td>\n",
       "      <td>21.0</td>\n",
       "      <td>118</td>\n",
       "      <td>2.80</td>\n",
       "      <td>2.69</td>\n",
       "      <td>0.39</td>\n",
       "      <td>1.82</td>\n",
       "      <td>4.32</td>\n",
       "      <td>1.04</td>\n",
       "      <td>2.93</td>\n",
       "      <td>735</td>\n",
       "    </tr>\n",
       "  </tbody>\n",
       "</table>\n",
       "</div>"
      ],
      "text/plain": [
       "   Alcohol  Malic_acid   Ash  Alca_ash  Magnesium  phenols  Flavanoids  \\\n",
       "0    14.23        1.71  2.43      15.6        127     2.80        3.06   \n",
       "1    13.20        1.78  2.14      11.2        100     2.65        2.76   \n",
       "2    13.16        2.36  2.67      18.6        101     2.80        3.24   \n",
       "3    14.37        1.95  2.50      16.8        113     3.85        3.49   \n",
       "4    13.24        2.59  2.87      21.0        118     2.80        2.69   \n",
       "\n",
       "   Nonflav_phenols  Proanthocyanins  Color_int   Hue  diluted_wines  Proline  \n",
       "0             0.28             2.29       5.64  1.04           3.92     1065  \n",
       "1             0.26             1.28       4.38  1.05           3.40     1050  \n",
       "2             0.30             2.81       5.68  1.03           3.17     1185  \n",
       "3             0.24             2.18       7.80  0.86           3.45     1480  \n",
       "4             0.39             1.82       4.32  1.04           2.93      735  "
      ]
     },
     "execution_count": 180,
     "metadata": {},
     "output_type": "execute_result"
    }
   ],
   "source": [
    "X=wine.ix[:,1:]\n",
    "print(\"Predictor variables size is \", X.shape)\n",
    "X.head(5)"
   ]
  },
  {
   "cell_type": "markdown",
   "metadata": {},
   "source": [
    "##Problem 1-a"
   ]
  },
  {
   "cell_type": "code",
   "execution_count": 181,
   "metadata": {},
   "outputs": [],
   "source": [
    "#Split the train set, test set, train class, test class\n",
    "from sklearn.cross_validation import train_test_split\n",
    "x_train,x_test,y_train,y_test = train_test_split(X, #Predictor Variables\n",
    "                                                 y, #Class labels\n",
    "                                                 stratify=y, #data is split in a stratified fashion, using this as the class labels\n",
    "                                                 test_size=0.34,#Test size is set as 34% of entire set\n",
    "                                                 random_state=2) # Set the randon state for spliting data  in same order"
   ]
  },
  {
   "cell_type": "code",
   "execution_count": 182,
   "metadata": {},
   "outputs": [
    {
     "name": "stdout",
     "output_type": "stream",
     "text": [
      "(117, 13)\n",
      "(61, 13)\n",
      "(117,)\n",
      "(61,)\n"
     ]
    }
   ],
   "source": [
    "print(x_train.shape)\n",
    "print(x_test.shape)\n",
    "print(y_train.shape)\n",
    "print(y_test.shape)"
   ]
  },
  {
   "cell_type": "code",
   "execution_count": 183,
   "metadata": {},
   "outputs": [],
   "source": [
    "#Import Desision Tree, Naive Bayes , K-Nearest Neighors\n",
    "from sklearn import neighbors, tree, naive_bayes"
   ]
  },
  {
   "cell_type": "code",
   "execution_count": 184,
   "metadata": {},
   "outputs": [
    {
     "data": {
      "text/plain": [
       "DecisionTreeClassifier(class_weight=None, criterion='gini', max_depth=3,\n",
       "            max_features=None, max_leaf_nodes=None,\n",
       "            min_impurity_split=1e-07, min_samples_leaf=2,\n",
       "            min_samples_split=2, min_weight_fraction_leaf=0.0,\n",
       "            presort=False, random_state=28, splitter='best')"
      ]
     },
     "execution_count": 184,
     "metadata": {},
     "output_type": "execute_result"
    }
   ],
   "source": [
    "#Set up Decision Tree classifier with ALL default setting\n",
    "treeclf = tree.DecisionTreeClassifier(criterion = \"gini\", \n",
    "                                      random_state = 28,\n",
    "                                      max_depth=3, \n",
    "                                      min_samples_leaf=2)\n",
    "#Plug in the train dataset with target class\n",
    "treeclf = treeclf.fit(x_train, y_train)\n",
    "treeclf"
   ]
  },
  {
   "cell_type": "code",
   "execution_count": 185,
   "metadata": {},
   "outputs": [
    {
     "name": "stdout",
     "output_type": "stream",
     "text": [
      "(61,)\n"
     ]
    }
   ],
   "source": [
    "#Classify the Target Class\n",
    "y_pre = treeclf.predict(x_test)\n",
    "print (y_pre.shape)"
   ]
  },
  {
   "cell_type": "code",
   "execution_count": 186,
   "metadata": {},
   "outputs": [
    {
     "name": "stdout",
     "output_type": "stream",
     "text": [
      "99.1452991453 %\n"
     ]
    }
   ],
   "source": [
    "#The average Accuracy score across the train instances\n",
    "print (treeclf.score(x_train, y_train)*100,\"%\")"
   ]
  },
  {
   "cell_type": "code",
   "execution_count": 187,
   "metadata": {},
   "outputs": [
    {
     "name": "stdout",
     "output_type": "stream",
     "text": [
      "93.4426229508 %\n"
     ]
    }
   ],
   "source": [
    "from sklearn.metrics import accuracy_score\n",
    "print(accuracy_score(y_test, y_pre)*100,\"%\")"
   ]
  },
  {
   "cell_type": "markdown",
   "metadata": {},
   "source": [
    "####Repeat 100 times on Holdout Partition and Decision Tree Model to calculate their Means, Variances, Confidence Interval"
   ]
  },
  {
   "cell_type": "code",
   "execution_count": 188,
   "metadata": {},
   "outputs": [],
   "source": [
    "n_times=100 #Preset 35 times trial \n",
    "train_score_lst=[] #Preset the Train score list\n",
    "test_score_lst=[] #Preset the Test score list\n",
    "\n",
    "for i in range(1,n_times+1):\n",
    "\n",
    "    #Split the train set, test set, train class, test class\n",
    "    from sklearn.cross_validation import train_test_split\n",
    "    x_train,x_test,y_train,y_test = train_test_split(X, #Predictor Variables\n",
    "                                                     y, #Class labels\n",
    "                                                     stratify=y, #data is split in a stratified fashion, using this as the class labels\n",
    "                                                     test_size=0.34,#Test size is set as 34% of entire set\n",
    "                                                     random_state=i) # Set the randon state for spliting data  in same order\n",
    "\n",
    "    #Set up Decision Tree classifier with the optimal setting from Assignment #1\n",
    "    treeclf = tree.DecisionTreeClassifier(criterion = \"gini\", \n",
    "                                          random_state = 28,\n",
    "                                          max_depth=3, \n",
    "                                          min_samples_leaf=2)\n",
    "    #Plug in the train dataset with target class\n",
    "    treeclf = treeclf.fit(x_train, y_train)\n",
    "    #Predict y value on testing data\n",
    "    y_pre = treeclf.predict(x_test)\n",
    "\n",
    "    #Calculate the Accuracy Score of the Training and Testing Set\n",
    "    train_score_lst.append(treeclf.score(x_train, y_train))\n",
    "    test_score_lst.append(accuracy_score(y_test, y_pre))\n",
    "    \n"
   ]
  },
  {
   "cell_type": "code",
   "execution_count": 189,
   "metadata": {},
   "outputs": [
    {
     "data": {
      "text/plain": [
       "(61, 13)"
      ]
     },
     "execution_count": 189,
     "metadata": {},
     "output_type": "execute_result"
    }
   ],
   "source": [
    "x_test.shape"
   ]
  },
  {
   "cell_type": "markdown",
   "metadata": {},
   "source": [
    "####Calculate the Means of Training and Testing Data"
   ]
  },
  {
   "cell_type": "code",
   "execution_count": 190,
   "metadata": {},
   "outputs": [
    {
     "name": "stdout",
     "output_type": "stream",
     "text": [
      "Decision Tree Result:\n",
      "Mean of Accuracy of Training Data is  97.89 %\n",
      "Mean of Accuracy of Testing Data is  90.0 %\n"
     ]
    }
   ],
   "source": [
    "train_score_lst_DT = train_score_lst\n",
    "test_score_lst_DT = test_score_lst\n",
    "\n",
    "train_mean=np.mean(np.array(train_score_lst))\n",
    "test_mean=np.mean(np.array(test_score_lst))\n",
    "\n",
    "print(\"Decision Tree Result:\")\n",
    "print(\"Mean of Accuracy of Training Data is \",round(train_mean*100,2),'%')\n",
    "print(\"Mean of Accuracy of Testing Data is \",round(test_mean*100,2),'%')"
   ]
  },
  {
   "cell_type": "code",
   "execution_count": null,
   "metadata": {},
   "outputs": [],
   "source": []
  },
  {
   "cell_type": "markdown",
   "metadata": {},
   "source": [
    "####Calculate the Variances of Training and Testing Data"
   ]
  },
  {
   "cell_type": "code",
   "execution_count": 191,
   "metadata": {},
   "outputs": [
    {
     "name": "stdout",
     "output_type": "stream",
     "text": [
      "Decision Tree Result:\n",
      "Variance of Accuracy of Training Data is  0.000266571699905\n",
      "Variance of Accuracy of Testing Data is  0.00204514915345\n"
     ]
    }
   ],
   "source": [
    "train_var = np.var(np.array(train_score_lst))\n",
    "test_var = np.var(np.array(test_score_lst))\n",
    "\n",
    "print(\"Decision Tree Result:\")\n",
    "print(\"Variance of Accuracy of Training Data is \",train_var)\n",
    "print(\"Variance of Accuracy of Testing Data is \",test_var)"
   ]
  },
  {
   "cell_type": "markdown",
   "metadata": {},
   "source": [
    "####Confidence Interval"
   ]
  },
  {
   "cell_type": "code",
   "execution_count": 192,
   "metadata": {},
   "outputs": [
    {
     "name": "stdout",
     "output_type": "stream",
     "text": [
      "Decision Tree Result:\n",
      "95 Percent Confidence Interval of Training Data is (0.953,1.005)\n",
      "90 Percent Confidence Interval of Training Data is (0.957,1.001)\n",
      "80 Percent Confidence Interval of Training Data is (0.962,0.996)\n"
     ]
    }
   ],
   "source": [
    "#p,q, n values setting\n",
    "p=train_mean\n",
    "q=1-p\n",
    "n=len(x_train)\n",
    "\n",
    "print(\"Decision Tree Result:\")\n",
    "\n",
    "#95% C.I.\n",
    "z=1.96\n",
    "ci_left, ci_right = (p)-(z*np.sqrt(p*q/n)), (p)+(z*np.sqrt(p*q/n))\n",
    "print(\"95 Percent Confidence Interval of Training Data is (%0.3f,%0.3f)\"%(ci_left,ci_right))\n",
    "\n",
    "#90% C.I.\n",
    "z=1.65\n",
    "ci_left, ci_right = (p)-(z*np.sqrt(p*q/n)), (p)+(z*np.sqrt(p*q/n))\n",
    "print(\"90 Percent Confidence Interval of Training Data is (%0.3f,%0.3f)\"%(ci_left,ci_right))\n",
    "\n",
    "#80%C.I.\n",
    "z=1.28\n",
    "ci_left, ci_right = (p)-(z*np.sqrt(p*q/n)), (p)+(z*np.sqrt(p*q/n))\n",
    "print(\"80 Percent Confidence Interval of Training Data is (%0.3f,%0.3f)\"%(ci_left,ci_right))"
   ]
  },
  {
   "cell_type": "code",
   "execution_count": 193,
   "metadata": {},
   "outputs": [
    {
     "name": "stdout",
     "output_type": "stream",
     "text": [
      "Decision Tree Result:\n",
      "95 Percent Confidence Interval of Testing Data is (0.825,0.975)\n",
      "90 Percent Confidence Interval of Testing Data is (0.837,0.963)\n",
      "80 Percent Confidence Interval of Testing Data is (0.851,0.949)\n"
     ]
    }
   ],
   "source": [
    "#p,q, n values setting\n",
    "p=test_mean\n",
    "q=1-p\n",
    "n=len(x_test)\n",
    "\n",
    "print(\"Decision Tree Result:\")\n",
    "\n",
    "#95% C.I.\n",
    "z=1.96\n",
    "ci_left, ci_right = (p)-(z*np.sqrt(p*q/n)), (p)+(z*np.sqrt(p*q/n))\n",
    "print(\"95 Percent Confidence Interval of Testing Data is (%0.3f,%0.3f)\"%(ci_left,ci_right))\n",
    "\n",
    "#90% C.I.\n",
    "z=1.65\n",
    "ci_left, ci_right = (p)-(z*np.sqrt(p*q/n)), (p)+(z*np.sqrt(p*q/n))\n",
    "print(\"90 Percent Confidence Interval of Testing Data is (%0.3f,%0.3f)\"%(ci_left,ci_right))\n",
    "\n",
    "#80%C.I.\n",
    "z=1.28\n",
    "ci_left, ci_right = (p)-(z*np.sqrt(p*q/n)), (p)+(z*np.sqrt(p*q/n))\n",
    "print(\"80 Percent Confidence Interval of Testing Data is (%0.3f,%0.3f)\"%(ci_left,ci_right))"
   ]
  },
  {
   "cell_type": "markdown",
   "metadata": {},
   "source": [
    "####Repeat 100 times on Holdout Partition and Naive Bayes Model to calculate their Means, Variances, Confidence Interval"
   ]
  },
  {
   "cell_type": "code",
   "execution_count": 194,
   "metadata": {},
   "outputs": [],
   "source": [
    "n_times=100 #Preset 35 times trial \n",
    "train_score_lst=[] #Preset the Train score list\n",
    "test_score_lst=[] #Preset the Test score list\n",
    "\n",
    "for i in range(1,n_times+1):\n",
    "\n",
    "    #Split the train set, test set, train class, test class\n",
    "    from sklearn.cross_validation import train_test_split\n",
    "    x_train,x_test,y_train,y_test = train_test_split(X, #Predictor Variables\n",
    "                                                     y, #Class labels\n",
    "                                                     stratify=y, #data is split in a stratified fashion, using this as the class labels\n",
    "                                                     test_size=0.34,#Test size is set as 34% of entire set\n",
    "                                                     random_state=i) # Set the randon state for spliting data  in same order\n",
    "\n",
    "   #Set up Naive Bayes classifier with ALL default setting\n",
    "    nbclf = naive_bayes.GaussianNB()\n",
    "    #Plug in the 66% of training set of data\n",
    "    nbclf=nbclf.fit(x_train,y_train)\n",
    "    #Predict y value on testing data\n",
    "    y_pre = nbclf.predict(x_test)\n",
    "\n",
    "    #Calculate the Accuracy Score of the Training and Testing Set\n",
    "    train_score_lst.append(nbclf.score(x_train, y_train))\n",
    "    test_score_lst.append(accuracy_score(y_test, y_pre))"
   ]
  },
  {
   "cell_type": "markdown",
   "metadata": {},
   "source": [
    "####Calculate the Means of Training and Testing Data"
   ]
  },
  {
   "cell_type": "code",
   "execution_count": 195,
   "metadata": {},
   "outputs": [
    {
     "name": "stdout",
     "output_type": "stream",
     "text": [
      "Naive Bayes Classifer Result:\n",
      "Mean of Accuracy of Training Data is  98.43 %\n",
      "Mean of Accuracy of Testing Data is  97.57 %\n"
     ]
    }
   ],
   "source": [
    "train_score_lst_nb = train_score_lst\n",
    "test_score_lst_nb = test_score_lst\n",
    "\n",
    "train_mean=np.mean(np.array(train_score_lst))\n",
    "test_mean=np.mean(np.array(test_score_lst))\n",
    "\n",
    "print(\"Naive Bayes Classifer Result:\")\n",
    "print(\"Mean of Accuracy of Training Data is \",round(train_mean*100,2),'%')\n",
    "print(\"Mean of Accuracy of Testing Data is \",round(test_mean*100,2),'%')"
   ]
  },
  {
   "cell_type": "markdown",
   "metadata": {},
   "source": [
    "####Calculate the Variances of Training and Testing Data"
   ]
  },
  {
   "cell_type": "code",
   "execution_count": 196,
   "metadata": {},
   "outputs": [
    {
     "name": "stdout",
     "output_type": "stream",
     "text": [
      "Naive Bayes Classifer Result:\n",
      "Variance of Accuracy of Training Data is  7.1181240412e-05\n",
      "Variance of Accuracy of Testing Data is  0.000249825315775\n"
     ]
    }
   ],
   "source": [
    "train_var = np.var(np.array(train_score_lst))\n",
    "test_var = np.var(np.array(test_score_lst))\n",
    "\n",
    "print(\"Naive Bayes Classifer Result:\")\n",
    "print(\"Variance of Accuracy of Training Data is \",train_var)\n",
    "print(\"Variance of Accuracy of Testing Data is \",test_var)"
   ]
  },
  {
   "cell_type": "markdown",
   "metadata": {},
   "source": [
    "####Confidence Interval"
   ]
  },
  {
   "cell_type": "code",
   "execution_count": 197,
   "metadata": {},
   "outputs": [
    {
     "name": "stdout",
     "output_type": "stream",
     "text": [
      "Decision Tree Result:\n",
      "95 Percent Confidence Interval of Training Data is (0.962,1.007)\n",
      "90 Percent Confidence Interval of Training Data is (0.965,1.003)\n",
      "80 Percent Confidence Interval of Training Data is (0.970,0.999)\n"
     ]
    }
   ],
   "source": [
    "#p,q, n values setting\n",
    "p=train_mean\n",
    "q=1-p\n",
    "n=len(x_train)\n",
    "\n",
    "print(\"Decision Tree Result:\")\n",
    "\n",
    "#95% C.I.\n",
    "z=1.96\n",
    "ci_left, ci_right = (p)-(z*np.sqrt(p*q/n)), (p)+(z*np.sqrt(p*q/n))\n",
    "print(\"95 Percent Confidence Interval of Training Data is (%0.3f,%0.3f)\"%(ci_left,ci_right))\n",
    "\n",
    "#90% C.I.\n",
    "z=1.65\n",
    "ci_left, ci_right = (p)-(z*np.sqrt(p*q/n)), (p)+(z*np.sqrt(p*q/n))\n",
    "print(\"90 Percent Confidence Interval of Training Data is (%0.3f,%0.3f)\"%(ci_left,ci_right))\n",
    "\n",
    "#80%C.I.\n",
    "z=1.28\n",
    "ci_left, ci_right = (p)-(z*np.sqrt(p*q/n)), (p)+(z*np.sqrt(p*q/n))\n",
    "print(\"80 Percent Confidence Interval of Training Data is (%0.3f,%0.3f)\"%(ci_left,ci_right))"
   ]
  },
  {
   "cell_type": "code",
   "execution_count": 198,
   "metadata": {},
   "outputs": [
    {
     "name": "stdout",
     "output_type": "stream",
     "text": [
      "Decision Tree Result:\n",
      "95 Percent Confidence Interval of Testing Data is (0.937,1.014)\n",
      "90 Percent Confidence Interval of Testing Data is (0.943,1.008)\n",
      "80 Percent Confidence Interval of Testing Data is (0.951,1.001)\n"
     ]
    }
   ],
   "source": [
    "#p,q, n values setting\n",
    "p=test_mean\n",
    "q=1-p\n",
    "n=len(x_test)\n",
    "\n",
    "print(\"Decision Tree Result:\")\n",
    "\n",
    "#95% C.I.\n",
    "z=1.96\n",
    "ci_left, ci_right = (p)-(z*np.sqrt(p*q/n)), (p)+(z*np.sqrt(p*q/n))\n",
    "print(\"95 Percent Confidence Interval of Testing Data is (%0.3f,%0.3f)\"%(ci_left,ci_right))\n",
    "\n",
    "#90% C.I.\n",
    "z=1.65\n",
    "ci_left, ci_right = (p)-(z*np.sqrt(p*q/n)), (p)+(z*np.sqrt(p*q/n))\n",
    "print(\"90 Percent Confidence Interval of Testing Data is (%0.3f,%0.3f)\"%(ci_left,ci_right))\n",
    "\n",
    "#80%C.I.\n",
    "z=1.28\n",
    "ci_left, ci_right = (p)-(z*np.sqrt(p*q/n)), (p)+(z*np.sqrt(p*q/n))\n",
    "print(\"80 Percent Confidence Interval of Testing Data is (%0.3f,%0.3f)\"%(ci_left,ci_right))"
   ]
  },
  {
   "cell_type": "markdown",
   "metadata": {},
   "source": [
    "##Problem-1-b: Paired t-test\n",
    "\n",
    "Paired t-test with the following Hypothesis:\n",
    "\n",
    "P0 (Null): Mean Accuracy of TWO Models are the SAME\n",
    "\n",
    "Pa (Alternative): Mean Accuracy of TWO Models are different from each other\n",
    "\n",
    "Based on the calculation below, we could summarize as the following:\n",
    "\n",
    "Training Set: The t-statistics is -192.38 with df=99 (Degree of Freedom) which means that the corresponding p-value is greater 0.25. With assumed 95% Confidence Interval, we could NOT reject he P0 Null hypothesis, we should collect more data for further analysis\n",
    "\n",
    "Testing Set: The t-statistics is -353.363645575 with df=99 (Degree of Freedom) which means that the corresponding p-value is greater 0.25. With assumed 95% Confidence Interval, we could NOT reject he P0 Null hypothesis, we should collect more data for further analysis."
   ]
  },
  {
   "cell_type": "code",
   "execution_count": 199,
   "metadata": {},
   "outputs": [
    {
     "name": "stdout",
     "output_type": "stream",
     "text": [
      "Table Size is  (100, 3)\n"
     ]
    },
    {
     "data": {
      "text/html": [
       "<div>\n",
       "<table border=\"1\" class=\"dataframe\">\n",
       "  <thead>\n",
       "    <tr style=\"text-align: right;\">\n",
       "      <th></th>\n",
       "      <th>DT_train_score</th>\n",
       "      <th>nb_train_score</th>\n",
       "      <th>Score_Difference</th>\n",
       "    </tr>\n",
       "  </thead>\n",
       "  <tbody>\n",
       "    <tr>\n",
       "      <th>0</th>\n",
       "      <td>0.991453</td>\n",
       "      <td>0.982906</td>\n",
       "      <td>0.008547</td>\n",
       "    </tr>\n",
       "    <tr>\n",
       "      <th>1</th>\n",
       "      <td>0.991453</td>\n",
       "      <td>0.965812</td>\n",
       "      <td>0.025641</td>\n",
       "    </tr>\n",
       "    <tr>\n",
       "      <th>2</th>\n",
       "      <td>0.974359</td>\n",
       "      <td>0.982906</td>\n",
       "      <td>-0.008547</td>\n",
       "    </tr>\n",
       "    <tr>\n",
       "      <th>3</th>\n",
       "      <td>0.957265</td>\n",
       "      <td>0.974359</td>\n",
       "      <td>-0.017094</td>\n",
       "    </tr>\n",
       "    <tr>\n",
       "      <th>4</th>\n",
       "      <td>1.000000</td>\n",
       "      <td>0.991453</td>\n",
       "      <td>0.008547</td>\n",
       "    </tr>\n",
       "  </tbody>\n",
       "</table>\n",
       "</div>"
      ],
      "text/plain": [
       "   DT_train_score  nb_train_score  Score_Difference\n",
       "0        0.991453        0.982906          0.008547\n",
       "1        0.991453        0.965812          0.025641\n",
       "2        0.974359        0.982906         -0.008547\n",
       "3        0.957265        0.974359         -0.017094\n",
       "4        1.000000        0.991453          0.008547"
      ]
     },
     "execution_count": 199,
     "metadata": {},
     "output_type": "execute_result"
    }
   ],
   "source": [
    "#Calculate Difference of Score of Training Data of the Decision Tree and Naive Bayes Models\n",
    "diff_score = list(map(lambda x,y: x-y, train_score_lst_DT,train_score_lst_nb))\n",
    "\n",
    "#Transform the Score lists into DataFrame\n",
    "df = pd.DataFrame(list(zip(train_score_lst_DT,train_score_lst_nb,diff_score)), \n",
    "                  columns=['DT_train_score','nb_train_score','Score_Difference'])\n",
    "print(\"Table Size is \",df.shape)\n",
    "df.head(5)"
   ]
  },
  {
   "cell_type": "code",
   "execution_count": 200,
   "metadata": {},
   "outputs": [
    {
     "name": "stdout",
     "output_type": "stream",
     "text": [
      "Mean of Score Difference is  -0.005384615384615371\n",
      "Variance of Score Difference is  0.0002798899949897102\n",
      "Sample size of Training Set is  100\n",
      "Degree of Freedom is  99\n",
      "Calculated t-Statistic is  -192.383274894\n"
     ]
    }
   ],
   "source": [
    "Score_mean = df['Score_Difference'].mean()\n",
    "Score_var = df['Score_Difference'].var()\n",
    "print(\"Mean of Score Difference is \",df['Score_Difference'].mean())\n",
    "print(\"Variance of Score Difference is \",df['Score_Difference'].var())\n",
    "print(\"Sample size of Training Set is \", df.shape[0])\n",
    "print(\"Degree of Freedom is \", df.shape[0]-1)\n",
    "\n",
    "#Calculate t statistic:\n",
    "t_stat = Score_mean / (Score_var/np.sqrt(df.shape[0]))\n",
    "print(\"Calculated t-Statistic is \", t_stat)"
   ]
  },
  {
   "cell_type": "code",
   "execution_count": 201,
   "metadata": {},
   "outputs": [
    {
     "name": "stdout",
     "output_type": "stream",
     "text": [
      "Table Size is  (100, 3)\n"
     ]
    },
    {
     "data": {
      "text/html": [
       "<div>\n",
       "<table border=\"1\" class=\"dataframe\">\n",
       "  <thead>\n",
       "    <tr style=\"text-align: right;\">\n",
       "      <th></th>\n",
       "      <th>DT_test_score</th>\n",
       "      <th>nb_test_score</th>\n",
       "      <th>Score_Difference</th>\n",
       "    </tr>\n",
       "  </thead>\n",
       "  <tbody>\n",
       "    <tr>\n",
       "      <th>0</th>\n",
       "      <td>0.950820</td>\n",
       "      <td>0.983607</td>\n",
       "      <td>-0.032787</td>\n",
       "    </tr>\n",
       "    <tr>\n",
       "      <th>1</th>\n",
       "      <td>0.934426</td>\n",
       "      <td>0.967213</td>\n",
       "      <td>-0.032787</td>\n",
       "    </tr>\n",
       "    <tr>\n",
       "      <th>2</th>\n",
       "      <td>0.852459</td>\n",
       "      <td>0.967213</td>\n",
       "      <td>-0.114754</td>\n",
       "    </tr>\n",
       "    <tr>\n",
       "      <th>3</th>\n",
       "      <td>0.885246</td>\n",
       "      <td>0.950820</td>\n",
       "      <td>-0.065574</td>\n",
       "    </tr>\n",
       "    <tr>\n",
       "      <th>4</th>\n",
       "      <td>0.918033</td>\n",
       "      <td>0.983607</td>\n",
       "      <td>-0.065574</td>\n",
       "    </tr>\n",
       "  </tbody>\n",
       "</table>\n",
       "</div>"
      ],
      "text/plain": [
       "   DT_test_score  nb_test_score  Score_Difference\n",
       "0       0.950820       0.983607         -0.032787\n",
       "1       0.934426       0.967213         -0.032787\n",
       "2       0.852459       0.967213         -0.114754\n",
       "3       0.885246       0.950820         -0.065574\n",
       "4       0.918033       0.983607         -0.065574"
      ]
     },
     "execution_count": 201,
     "metadata": {},
     "output_type": "execute_result"
    }
   ],
   "source": [
    "#Calculate Difference of Score of Testing Data of the Decision Tree and Naive Bayes Models\n",
    "diff_score = list(map(lambda x,y: x-y, test_score_lst_DT,test_score_lst_nb))\n",
    "\n",
    "#Transform the Score lists into DataFrame\n",
    "df = pd.DataFrame(list(zip(test_score_lst_DT,test_score_lst_nb,diff_score)), \n",
    "                  columns=['DT_test_score','nb_test_score','Score_Difference'])\n",
    "print(\"Table Size is \",df.shape)\n",
    "df.head(5)"
   ]
  },
  {
   "cell_type": "code",
   "execution_count": 202,
   "metadata": {},
   "outputs": [
    {
     "name": "stdout",
     "output_type": "stream",
     "text": [
      "Mean of Score Difference is  -0.07573770491803276\n",
      "Variance of Score Difference is  0.002143336075074855\n",
      "Sample size of Testing Set is  100\n",
      "Degree of Freedom is  99\n",
      "Calculated t-Statistic is  -353.363645575\n"
     ]
    }
   ],
   "source": [
    "Score_mean = df['Score_Difference'].mean()\n",
    "Score_var = df['Score_Difference'].var()\n",
    "print(\"Mean of Score Difference is \",df['Score_Difference'].mean())\n",
    "print(\"Variance of Score Difference is \",df['Score_Difference'].var())\n",
    "print(\"Sample size of Testing Set is \", df.shape[0])\n",
    "print(\"Degree of Freedom is \", df.shape[0]-1)\n",
    "\n",
    "#Calculate t statistic:\n",
    "t_stat = Score_mean / (Score_var/np.sqrt(df.shape[0]))\n",
    "print(\"Calculated t-Statistic is \", t_stat)"
   ]
  },
  {
   "cell_type": "markdown",
   "metadata": {},
   "source": [
    "##Problem-2\n",
    "\n"
   ]
  },
  {
   "cell_type": "code",
   "execution_count": 203,
   "metadata": {},
   "outputs": [],
   "source": [
    "#Import Desision Tree, Naive Bayes , K-Nearest Neighors\n",
    "from sklearn import neighbors, tree, naive_bayes\n",
    "from sklearn.metrics import accuracy_score"
   ]
  },
  {
   "cell_type": "code",
   "execution_count": 204,
   "metadata": {},
   "outputs": [],
   "source": [
    "train_size_lst = np.arange(0.25,0.86,0.1) #Preset Size of Training Data\n",
    "DT_train_score_lst=[] #Preset the Train score list\n",
    "DT_test_score_lst=[] #Preset the Test score list\n",
    "\n",
    "for i in train_size_lst:\n",
    "\n",
    "    #Split the train set, test set, train class, test class\n",
    "    from sklearn.cross_validation import train_test_split\n",
    "    x_train,x_test,y_train,y_test = train_test_split(X, #Predictor Variables\n",
    "                                                     y, #Class labels\n",
    "                                                     stratify=y, #data is split in a stratified fashion, using this as the class labels\n",
    "                                                     test_size=1-i,#Iterating the size of Training data set\n",
    "                                                     random_state=28) # Set the randon state for spliting data  in same order\n",
    "\n",
    "    #Set up Decision Tree classifier with the optimal setting from Assignment #1\n",
    "    treeclf = tree.DecisionTreeClassifier(criterion = \"gini\", \n",
    "                                          random_state = 28,\n",
    "                                          max_depth=3, \n",
    "                                          min_samples_leaf=2)\n",
    "    #Plug in the train dataset with target class\n",
    "    treeclf = treeclf.fit(x_train, y_train)\n",
    "    #Predict y value on testing data\n",
    "    y_pre = treeclf.predict(x_test)\n",
    "\n",
    "    #Calculate the Accuracy Score of the Training and Testing Set\n",
    "    DT_train_score_lst.append(treeclf.score(x_train, y_train))\n",
    "    DT_test_score_lst.append(accuracy_score(y_test, y_pre))\n",
    "    \n",
    "\n"
   ]
  },
  {
   "cell_type": "code",
   "execution_count": 205,
   "metadata": {},
   "outputs": [
    {
     "data": {
      "text/plain": [
       "[0.95454545454545459,\n",
       " 0.967741935483871,\n",
       " 0.98750000000000004,\n",
       " 0.98969072164948457,\n",
       " 0.99130434782608701,\n",
       " 0.99248120300751874,\n",
       " 0.99337748344370858]"
      ]
     },
     "execution_count": 205,
     "metadata": {},
     "output_type": "execute_result"
    }
   ],
   "source": [
    "DT_train_score_lst"
   ]
  },
  {
   "cell_type": "code",
   "execution_count": 206,
   "metadata": {},
   "outputs": [
    {
     "data": {
      "text/plain": [
       "[0.79104477611940294,\n",
       " 0.87068965517241381,\n",
       " 0.9285714285714286,\n",
       " 0.9135802469135802,\n",
       " 0.95238095238095233,\n",
       " 0.9555555555555556,\n",
       " 0.92592592592592593]"
      ]
     },
     "execution_count": 206,
     "metadata": {},
     "output_type": "execute_result"
    }
   ],
   "source": [
    "DT_test_score_lst"
   ]
  },
  {
   "cell_type": "code",
   "execution_count": 207,
   "metadata": {},
   "outputs": [],
   "source": [
    "train_size_lst = np.arange(0.25,0.86,0.1) #Preset Size of Training Data\n",
    "nb_train_score_lst=[] #Preset the Train score list\n",
    "nb_test_score_lst=[] #Preset the Test score list\n",
    "\n",
    "for i in train_size_lst:\n",
    "\n",
    "    #Split the train set, test set, train class, test class\n",
    "    from sklearn.cross_validation import train_test_split\n",
    "    x_train,x_test,y_train,y_test = train_test_split(X, #Predictor Variables\n",
    "                                                     y, #Class labels\n",
    "                                                     stratify=y, #data is split in a stratified fashion, using this as the class labels\n",
    "                                                     test_size=1-i,#Iterating the size of Training data set\n",
    "                                                     random_state=28) # Set the randon state for spliting data  in same order\n",
    "\n",
    "   #Set up Naive Bayes classifier with ALL default setting\n",
    "    nbclf = naive_bayes.GaussianNB()\n",
    "    #Plug in the 66% of training set of data\n",
    "    nbclf=nbclf.fit(x_train,y_train)\n",
    "    #Predict y value on testing data\n",
    "    y_pre = nbclf.predict(x_test)\n",
    "\n",
    "    #Calculate the Accuracy Score of the Training and Testing Set\n",
    "    nb_train_score_lst.append(nbclf.score(x_train, y_train))\n",
    "    nb_test_score_lst.append(accuracy_score(y_test, y_pre))"
   ]
  },
  {
   "cell_type": "code",
   "execution_count": 208,
   "metadata": {},
   "outputs": [
    {
     "data": {
      "text/plain": [
       "[0.97727272727272729,\n",
       " 0.9838709677419355,\n",
       " 0.97499999999999998,\n",
       " 0.97938144329896903,\n",
       " 0.9826086956521739,\n",
       " 0.98496240601503759,\n",
       " 0.98675496688741726]"
      ]
     },
     "execution_count": 208,
     "metadata": {},
     "output_type": "execute_result"
    }
   ],
   "source": [
    "nb_train_score_lst"
   ]
  },
  {
   "cell_type": "code",
   "execution_count": 209,
   "metadata": {},
   "outputs": [
    {
     "data": {
      "text/plain": [
       "[0.9850746268656716,\n",
       " 0.99137931034482762,\n",
       " 0.98979591836734693,\n",
       " 0.97530864197530864,\n",
       " 0.98412698412698407,\n",
       " 1.0,\n",
       " 0.96296296296296291]"
      ]
     },
     "execution_count": 209,
     "metadata": {},
     "output_type": "execute_result"
    }
   ],
   "source": [
    "nb_test_score_lst"
   ]
  },
  {
   "cell_type": "code",
   "execution_count": 210,
   "metadata": {},
   "outputs": [
    {
     "name": "stdout",
     "output_type": "stream",
     "text": [
      "The size of Accuracy Table (7, 4)\n"
     ]
    },
    {
     "data": {
      "text/html": [
       "<div>\n",
       "<table border=\"1\" class=\"dataframe\">\n",
       "  <thead>\n",
       "    <tr style=\"text-align: right;\">\n",
       "      <th></th>\n",
       "      <th>DT_train_Acc</th>\n",
       "      <th>DT_test_Acc</th>\n",
       "      <th>nb_train_Acc</th>\n",
       "      <th>nb_test_Acc</th>\n",
       "    </tr>\n",
       "  </thead>\n",
       "  <tbody>\n",
       "    <tr>\n",
       "      <th>0.25</th>\n",
       "      <td>0.954545</td>\n",
       "      <td>0.791045</td>\n",
       "      <td>0.977273</td>\n",
       "      <td>0.985075</td>\n",
       "    </tr>\n",
       "    <tr>\n",
       "      <th>0.35</th>\n",
       "      <td>0.967742</td>\n",
       "      <td>0.870690</td>\n",
       "      <td>0.983871</td>\n",
       "      <td>0.991379</td>\n",
       "    </tr>\n",
       "    <tr>\n",
       "      <th>0.45</th>\n",
       "      <td>0.987500</td>\n",
       "      <td>0.928571</td>\n",
       "      <td>0.975000</td>\n",
       "      <td>0.989796</td>\n",
       "    </tr>\n",
       "    <tr>\n",
       "      <th>0.55</th>\n",
       "      <td>0.989691</td>\n",
       "      <td>0.913580</td>\n",
       "      <td>0.979381</td>\n",
       "      <td>0.975309</td>\n",
       "    </tr>\n",
       "    <tr>\n",
       "      <th>0.65</th>\n",
       "      <td>0.991304</td>\n",
       "      <td>0.952381</td>\n",
       "      <td>0.982609</td>\n",
       "      <td>0.984127</td>\n",
       "    </tr>\n",
       "    <tr>\n",
       "      <th>0.75</th>\n",
       "      <td>0.992481</td>\n",
       "      <td>0.955556</td>\n",
       "      <td>0.984962</td>\n",
       "      <td>1.000000</td>\n",
       "    </tr>\n",
       "    <tr>\n",
       "      <th>0.85</th>\n",
       "      <td>0.993377</td>\n",
       "      <td>0.925926</td>\n",
       "      <td>0.986755</td>\n",
       "      <td>0.962963</td>\n",
       "    </tr>\n",
       "  </tbody>\n",
       "</table>\n",
       "</div>"
      ],
      "text/plain": [
       "      DT_train_Acc  DT_test_Acc  nb_train_Acc  nb_test_Acc\n",
       "0.25      0.954545     0.791045      0.977273     0.985075\n",
       "0.35      0.967742     0.870690      0.983871     0.991379\n",
       "0.45      0.987500     0.928571      0.975000     0.989796\n",
       "0.55      0.989691     0.913580      0.979381     0.975309\n",
       "0.65      0.991304     0.952381      0.982609     0.984127\n",
       "0.75      0.992481     0.955556      0.984962     1.000000\n",
       "0.85      0.993377     0.925926      0.986755     0.962963"
      ]
     },
     "execution_count": 210,
     "metadata": {},
     "output_type": "execute_result"
    }
   ],
   "source": [
    "df2 = pd.DataFrame(list(zip(DT_train_score_lst, DT_test_score_lst,nb_train_score_lst,nb_test_score_lst)), \n",
    "             columns = ['DT_train_Acc','DT_test_Acc','nb_train_Acc','nb_test_Acc'],\n",
    "            index = np.arange(0.25,0.86,0.1))\n",
    "print(\"The size of Accuracy Table\",df2.shape)\n",
    "df2"
   ]
  },
  {
   "cell_type": "code",
   "execution_count": 211,
   "metadata": {},
   "outputs": [
    {
     "name": "stdout",
     "output_type": "stream",
     "text": [
      "(7, 4)\n"
     ]
    },
    {
     "data": {
      "text/html": [
       "<div>\n",
       "<table border=\"1\" class=\"dataframe\">\n",
       "  <thead>\n",
       "    <tr style=\"text-align: right;\">\n",
       "      <th></th>\n",
       "      <th>DT_Resubstition_Err</th>\n",
       "      <th>DT_Generalization_Err</th>\n",
       "      <th>nb_Resubstition_Err</th>\n",
       "      <th>nb_Generalization_Err</th>\n",
       "    </tr>\n",
       "  </thead>\n",
       "  <tbody>\n",
       "    <tr>\n",
       "      <th>0.25</th>\n",
       "      <td>0.045455</td>\n",
       "      <td>0.208955</td>\n",
       "      <td>0.022727</td>\n",
       "      <td>0.014925</td>\n",
       "    </tr>\n",
       "    <tr>\n",
       "      <th>0.35</th>\n",
       "      <td>0.032258</td>\n",
       "      <td>0.129310</td>\n",
       "      <td>0.016129</td>\n",
       "      <td>0.008621</td>\n",
       "    </tr>\n",
       "    <tr>\n",
       "      <th>0.45</th>\n",
       "      <td>0.012500</td>\n",
       "      <td>0.071429</td>\n",
       "      <td>0.025000</td>\n",
       "      <td>0.010204</td>\n",
       "    </tr>\n",
       "    <tr>\n",
       "      <th>0.55</th>\n",
       "      <td>0.010309</td>\n",
       "      <td>0.086420</td>\n",
       "      <td>0.020619</td>\n",
       "      <td>0.024691</td>\n",
       "    </tr>\n",
       "    <tr>\n",
       "      <th>0.65</th>\n",
       "      <td>0.008696</td>\n",
       "      <td>0.047619</td>\n",
       "      <td>0.017391</td>\n",
       "      <td>0.015873</td>\n",
       "    </tr>\n",
       "    <tr>\n",
       "      <th>0.75</th>\n",
       "      <td>0.007519</td>\n",
       "      <td>0.044444</td>\n",
       "      <td>0.015038</td>\n",
       "      <td>0.000000</td>\n",
       "    </tr>\n",
       "    <tr>\n",
       "      <th>0.85</th>\n",
       "      <td>0.006623</td>\n",
       "      <td>0.074074</td>\n",
       "      <td>0.013245</td>\n",
       "      <td>0.037037</td>\n",
       "    </tr>\n",
       "  </tbody>\n",
       "</table>\n",
       "</div>"
      ],
      "text/plain": [
       "      DT_Resubstition_Err  DT_Generalization_Err  nb_Resubstition_Err  \\\n",
       "0.25             0.045455               0.208955             0.022727   \n",
       "0.35             0.032258               0.129310             0.016129   \n",
       "0.45             0.012500               0.071429             0.025000   \n",
       "0.55             0.010309               0.086420             0.020619   \n",
       "0.65             0.008696               0.047619             0.017391   \n",
       "0.75             0.007519               0.044444             0.015038   \n",
       "0.85             0.006623               0.074074             0.013245   \n",
       "\n",
       "      nb_Generalization_Err  \n",
       "0.25               0.014925  \n",
       "0.35               0.008621  \n",
       "0.45               0.010204  \n",
       "0.55               0.024691  \n",
       "0.65               0.015873  \n",
       "0.75               0.000000  \n",
       "0.85               0.037037  "
      ]
     },
     "execution_count": 211,
     "metadata": {},
     "output_type": "execute_result"
    }
   ],
   "source": [
    "df3=np.ones(df2.shape)\n",
    "df3=pd.DataFrame(df3, index = np.arange(0.25,0.86,0.1) )\n",
    "Err_df= pd.DataFrame(df3.values-df2.values, \n",
    "                     index= np.arange(0.25,0.86,0.1), \n",
    "                     columns = ['DT_Resubstition_Err',\n",
    "                                'DT_Generalization_Err',\n",
    "                                'nb_Resubstition_Err',\n",
    "                                'nb_Generalization_Err'])\n",
    "print(Err_df.shape)\n",
    "Err_df"
   ]
  },
  {
   "cell_type": "code",
   "execution_count": 212,
   "metadata": {},
   "outputs": [
    {
     "data": {
      "image/png": "[encoded data removed]",
      "text/plain": [
       "<matplotlib.figure.Figure at 0x11d7f0d68>"
      ]
     },
     "metadata": {},
     "output_type": "display_data"
    }
   ],
   "source": [
    "Err_df.plot(x=Err_df.index.values, figsize=(10,5))\n",
    "plt.title(\"Resubstituation Error and Generalization Error VS Size of Training Data\")\n",
    "plt.xlabel(\"Size of Training Data of Overall (%)\")\n",
    "plt.ylabel(\"Error Rate (%)\")\n",
    "plt.show()"
   ]
  },
  {
   "cell_type": "markdown",
   "metadata": {},
   "source": [
    "##Problem-2\n",
    "\n",
    "Ans:\n",
    "\n",
    "Based on the analysis below, we could observe that the Error Rate on the Training and Testing data are generally Higher when the size of Training data set is small. The Error Rates gradually decline when the size of Training data increases, especially happening in the training dataset (Blue: Decision Tree, Green: Naive Bayes). On the other hand, there is different on the testing data. The Generalization error (Error from Testing data) bounces back up when the size of Training data passes approximately 75%. The bounce-back incident is properably occured due to the over-fitting problem. When the size of Training set weight too much than the Testing data, the overfitting problem would be arised. Besides, we could also observe that the under-fitting problem occurs when the size of training data is too less. \n",
    "\n",
    "Also Based on the below, the Decision Tree model comes up a under-fitting appearance, The Generalization Error (from testing data) is 4-fold higher than the Resubstitution Error when the size of Training data is ONLY 25%. In this case, I believe that is normal because Decision Tree is sensitive to the size of Training and Testing data. The classification cases are built in the Tree, the accuracy of D.T. all depends on the number cases are built in the Tree, the more built-in cases, the more accurate result. On the contrary, the Naive Bayes model is built by the probabilities, so that it is NOT that sensitive to the size of Training data, so that we could see that the deficiency between the training and testing data is not too far. "
   ]
  },
  {
   "cell_type": "markdown",
   "metadata": {},
   "source": [
    "##Problem-3-a:\n",
    "\n",
    "Transform Three Classes into Two Classes"
   ]
  },
  {
   "cell_type": "code",
   "execution_count": 213,
   "metadata": {},
   "outputs": [
    {
     "data": {
      "text/html": [
       "<div>\n",
       "<table border=\"1\" class=\"dataframe\">\n",
       "  <thead>\n",
       "    <tr style=\"text-align: right;\">\n",
       "      <th></th>\n",
       "      <th>Labels</th>\n",
       "      <th>Alcohol</th>\n",
       "      <th>Malic_acid</th>\n",
       "      <th>Ash</th>\n",
       "      <th>Alca_ash</th>\n",
       "      <th>Magnesium</th>\n",
       "      <th>phenols</th>\n",
       "      <th>Flavanoids</th>\n",
       "      <th>Nonflav_phenols</th>\n",
       "      <th>Proanthocyanins</th>\n",
       "      <th>Color_int</th>\n",
       "      <th>Hue</th>\n",
       "      <th>diluted_wines</th>\n",
       "      <th>Proline</th>\n",
       "    </tr>\n",
       "  </thead>\n",
       "  <tbody>\n",
       "    <tr>\n",
       "      <th>0</th>\n",
       "      <td>1</td>\n",
       "      <td>14.23</td>\n",
       "      <td>1.71</td>\n",
       "      <td>2.43</td>\n",
       "      <td>15.6</td>\n",
       "      <td>127</td>\n",
       "      <td>2.80</td>\n",
       "      <td>3.06</td>\n",
       "      <td>0.28</td>\n",
       "      <td>2.29</td>\n",
       "      <td>5.64</td>\n",
       "      <td>1.04</td>\n",
       "      <td>3.92</td>\n",
       "      <td>1065</td>\n",
       "    </tr>\n",
       "    <tr>\n",
       "      <th>1</th>\n",
       "      <td>1</td>\n",
       "      <td>13.20</td>\n",
       "      <td>1.78</td>\n",
       "      <td>2.14</td>\n",
       "      <td>11.2</td>\n",
       "      <td>100</td>\n",
       "      <td>2.65</td>\n",
       "      <td>2.76</td>\n",
       "      <td>0.26</td>\n",
       "      <td>1.28</td>\n",
       "      <td>4.38</td>\n",
       "      <td>1.05</td>\n",
       "      <td>3.40</td>\n",
       "      <td>1050</td>\n",
       "    </tr>\n",
       "    <tr>\n",
       "      <th>2</th>\n",
       "      <td>1</td>\n",
       "      <td>13.16</td>\n",
       "      <td>2.36</td>\n",
       "      <td>2.67</td>\n",
       "      <td>18.6</td>\n",
       "      <td>101</td>\n",
       "      <td>2.80</td>\n",
       "      <td>3.24</td>\n",
       "      <td>0.30</td>\n",
       "      <td>2.81</td>\n",
       "      <td>5.68</td>\n",
       "      <td>1.03</td>\n",
       "      <td>3.17</td>\n",
       "      <td>1185</td>\n",
       "    </tr>\n",
       "    <tr>\n",
       "      <th>3</th>\n",
       "      <td>1</td>\n",
       "      <td>14.37</td>\n",
       "      <td>1.95</td>\n",
       "      <td>2.50</td>\n",
       "      <td>16.8</td>\n",
       "      <td>113</td>\n",
       "      <td>3.85</td>\n",
       "      <td>3.49</td>\n",
       "      <td>0.24</td>\n",
       "      <td>2.18</td>\n",
       "      <td>7.80</td>\n",
       "      <td>0.86</td>\n",
       "      <td>3.45</td>\n",
       "      <td>1480</td>\n",
       "    </tr>\n",
       "    <tr>\n",
       "      <th>4</th>\n",
       "      <td>1</td>\n",
       "      <td>13.24</td>\n",
       "      <td>2.59</td>\n",
       "      <td>2.87</td>\n",
       "      <td>21.0</td>\n",
       "      <td>118</td>\n",
       "      <td>2.80</td>\n",
       "      <td>2.69</td>\n",
       "      <td>0.39</td>\n",
       "      <td>1.82</td>\n",
       "      <td>4.32</td>\n",
       "      <td>1.04</td>\n",
       "      <td>2.93</td>\n",
       "      <td>735</td>\n",
       "    </tr>\n",
       "  </tbody>\n",
       "</table>\n",
       "</div>"
      ],
      "text/plain": [
       "   Labels  Alcohol  Malic_acid   Ash  Alca_ash  Magnesium  phenols  \\\n",
       "0       1    14.23        1.71  2.43      15.6        127     2.80   \n",
       "1       1    13.20        1.78  2.14      11.2        100     2.65   \n",
       "2       1    13.16        2.36  2.67      18.6        101     2.80   \n",
       "3       1    14.37        1.95  2.50      16.8        113     3.85   \n",
       "4       1    13.24        2.59  2.87      21.0        118     2.80   \n",
       "\n",
       "   Flavanoids  Nonflav_phenols  Proanthocyanins  Color_int   Hue  \\\n",
       "0        3.06             0.28             2.29       5.64  1.04   \n",
       "1        2.76             0.26             1.28       4.38  1.05   \n",
       "2        3.24             0.30             2.81       5.68  1.03   \n",
       "3        3.49             0.24             2.18       7.80  0.86   \n",
       "4        2.69             0.39             1.82       4.32  1.04   \n",
       "\n",
       "   diluted_wines  Proline  \n",
       "0           3.92     1065  \n",
       "1           3.40     1050  \n",
       "2           3.17     1185  \n",
       "3           3.45     1480  \n",
       "4           2.93      735  "
      ]
     },
     "execution_count": 213,
     "metadata": {},
     "output_type": "execute_result"
    }
   ],
   "source": [
    "wine.head()"
   ]
  },
  {
   "cell_type": "code",
   "execution_count": 214,
   "metadata": {},
   "outputs": [
    {
     "data": {
      "text/plain": [
       "2    71\n",
       "1    59\n",
       "3    48\n",
       "Name: Labels, dtype: int64"
      ]
     },
     "execution_count": 214,
     "metadata": {},
     "output_type": "execute_result"
    }
   ],
   "source": [
    "#Check the number of each classes\n",
    "y.value_counts()"
   ]
  },
  {
   "cell_type": "code",
   "execution_count": 215,
   "metadata": {},
   "outputs": [],
   "source": [
    "wine2=wine\n",
    "#Convert Class 2 and 3 into 0. However, we keep the Class 1\n",
    "wine2[wine2.Labels==2]=0\n",
    "wine2[wine2.Labels==3]=0"
   ]
  },
  {
   "cell_type": "code",
   "execution_count": 216,
   "metadata": {},
   "outputs": [
    {
     "data": {
      "text/plain": [
       "0    119\n",
       "1     59\n",
       "Name: Labels, dtype: int64"
      ]
     },
     "execution_count": 216,
     "metadata": {},
     "output_type": "execute_result"
    }
   ],
   "source": [
    "#Recheck the number of Class labels\n",
    "y = wine2['Labels']\n",
    "y.value_counts()"
   ]
  },
  {
   "cell_type": "code",
   "execution_count": 217,
   "metadata": {},
   "outputs": [
    {
     "name": "stdout",
     "output_type": "stream",
     "text": [
      "The size of the predictor variables are  (178, 13)\n"
     ]
    },
    {
     "data": {
      "text/html": [
       "<div>\n",
       "<table border=\"1\" class=\"dataframe\">\n",
       "  <thead>\n",
       "    <tr style=\"text-align: right;\">\n",
       "      <th></th>\n",
       "      <th>Alcohol</th>\n",
       "      <th>Malic_acid</th>\n",
       "      <th>Ash</th>\n",
       "      <th>Alca_ash</th>\n",
       "      <th>Magnesium</th>\n",
       "      <th>phenols</th>\n",
       "      <th>Flavanoids</th>\n",
       "      <th>Nonflav_phenols</th>\n",
       "      <th>Proanthocyanins</th>\n",
       "      <th>Color_int</th>\n",
       "      <th>Hue</th>\n",
       "      <th>diluted_wines</th>\n",
       "      <th>Proline</th>\n",
       "    </tr>\n",
       "  </thead>\n",
       "  <tbody>\n",
       "    <tr>\n",
       "      <th>0</th>\n",
       "      <td>14.23</td>\n",
       "      <td>1.71</td>\n",
       "      <td>2.43</td>\n",
       "      <td>15.6</td>\n",
       "      <td>127</td>\n",
       "      <td>2.80</td>\n",
       "      <td>3.06</td>\n",
       "      <td>0.28</td>\n",
       "      <td>2.29</td>\n",
       "      <td>5.64</td>\n",
       "      <td>1.04</td>\n",
       "      <td>3.92</td>\n",
       "      <td>1065</td>\n",
       "    </tr>\n",
       "    <tr>\n",
       "      <th>1</th>\n",
       "      <td>13.20</td>\n",
       "      <td>1.78</td>\n",
       "      <td>2.14</td>\n",
       "      <td>11.2</td>\n",
       "      <td>100</td>\n",
       "      <td>2.65</td>\n",
       "      <td>2.76</td>\n",
       "      <td>0.26</td>\n",
       "      <td>1.28</td>\n",
       "      <td>4.38</td>\n",
       "      <td>1.05</td>\n",
       "      <td>3.40</td>\n",
       "      <td>1050</td>\n",
       "    </tr>\n",
       "    <tr>\n",
       "      <th>2</th>\n",
       "      <td>13.16</td>\n",
       "      <td>2.36</td>\n",
       "      <td>2.67</td>\n",
       "      <td>18.6</td>\n",
       "      <td>101</td>\n",
       "      <td>2.80</td>\n",
       "      <td>3.24</td>\n",
       "      <td>0.30</td>\n",
       "      <td>2.81</td>\n",
       "      <td>5.68</td>\n",
       "      <td>1.03</td>\n",
       "      <td>3.17</td>\n",
       "      <td>1185</td>\n",
       "    </tr>\n",
       "  </tbody>\n",
       "</table>\n",
       "</div>"
      ],
      "text/plain": [
       "   Alcohol  Malic_acid   Ash  Alca_ash  Magnesium  phenols  Flavanoids  \\\n",
       "0    14.23        1.71  2.43      15.6        127     2.80        3.06   \n",
       "1    13.20        1.78  2.14      11.2        100     2.65        2.76   \n",
       "2    13.16        2.36  2.67      18.6        101     2.80        3.24   \n",
       "\n",
       "   Nonflav_phenols  Proanthocyanins  Color_int   Hue  diluted_wines  Proline  \n",
       "0             0.28             2.29       5.64  1.04           3.92     1065  \n",
       "1             0.26             1.28       4.38  1.05           3.40     1050  \n",
       "2             0.30             2.81       5.68  1.03           3.17     1185  "
      ]
     },
     "execution_count": 217,
     "metadata": {},
     "output_type": "execute_result"
    }
   ],
   "source": [
    "X=wine2.ix[:,1:]\n",
    "print(\"The size of the predictor variables are \",X.shape)\n",
    "X.head(3)"
   ]
  },
  {
   "cell_type": "markdown",
   "metadata": {},
   "source": [
    "##Problem-3-b:\n",
    "\n",
    "Ans:\n",
    "\n",
    "Based on the Testing analysis (Plot 3a) below, I would first say that classification result is better than a Random model because the curve is above the Random line. I would choose the optimal probability threshold = 0.498731 with corresponding False Positive Rate = 0.294118 and True Positive Rate = 0.705882. The reason for choosing this threshold because the target on this point is very much perpendicular to the (0,1) point. Also, we could observe that this top-left point provides the largest gap =0.411765 (Plot 3b) between Tpr and Fpr before the gap size is decreasing. The is another sign for us to verify this is the optimal point.\n",
    "\n",
    "Based on the Training analysis (Plot 3c) below, I would first say that classification result is better than a Random model because the curve is above the Random line. I would choose the optimal probability threshold = 0.37500 with corresponding False Positive Rate = 0.224370 and True Positive Rate = 0.794118. The reason for choosing this threshold because the target on this point is very much perpendicular to the (0,1) point. By comparing the testing and training data analysis resut, I would say that their performance are very similar which means they would not be any over-fitting problem occur in this case.\n"
   ]
  },
  {
   "cell_type": "code",
   "execution_count": 218,
   "metadata": {},
   "outputs": [],
   "source": [
    "from sklearn.cross_validation import train_test_split\n",
    "x_train,x_test,y_train,y_test = train_test_split(X, #Predictor Variables\n",
    "                                                 y, #Class labels\n",
    "                                                 stratify=y, #data is split in a stratified fashion, using this as the class labels\n",
    "                                                 test_size=0.34,#Size of Training data set is 34% of Overall\n",
    "                                                 random_state=28) # Set the rand\n",
    "\n",
    "nbclf = naive_bayes.MultinomialNB()\n",
    "nbclf.fit(x_train,y_train) #Plug in the 66% of training set of data\n",
    "y_pre_test = nbclf.predict_proba(x_test)[:,1] #Predict the probability of being Class 1 (Positive Class) in testing set\n",
    "y_pre_train = nbclf.predict_proba(x_train)[:,1] #Predict the probability of being Class 1 (Positive Class) in training set"
   ]
  },
  {
   "cell_type": "code",
   "execution_count": 219,
   "metadata": {},
   "outputs": [],
   "source": [
    "from sklearn import metrics"
   ]
  },
  {
   "cell_type": "code",
   "execution_count": 220,
   "metadata": {},
   "outputs": [
    {
     "name": "stdout",
     "output_type": "stream",
     "text": [
      "   fpr  tpr  Threshold\n",
      "0  0.0  1.0   1.000000\n",
      "1  1.0  1.0   0.333333\n"
     ]
    },
    {
     "data": {
      "image/png": "[encoded data removed]",
      "text/plain": [
       "<matplotlib.figure.Figure at 0x11d705668>"
      ]
     },
     "metadata": {},
     "output_type": "display_data"
    }
   ],
   "source": [
    "#Run the roc_curve function to find out False_positive, True_positive and Threshold with preset positive class =1\n",
    "fpr, tpr, thre = metrics.roc_curve(y_test, y_pre_test,drop_intermediate=True,pos_label=1) #Run the ROC curve function with preset positive class =1\n",
    "\n",
    "\n",
    "df4=pd.DataFrame(list(zip(fpr, tpr,thre)), columns=['fpr','tpr','Threshold'])\n",
    "print(df4)\n",
    "df4.plot(y=\"tpr\", x=\"fpr\", figsize=(10,7))\n",
    "plt.plot([0, 1], [0, 1], color='orange',lw=2, linestyle='--')\n",
    "plt.xlabel(\"False Positive Rate\")\n",
    "plt.ylabel(\"True Positive Rate\")\n",
    "plt.title(\"ROC on Naive Bayes Model (Plot 3a: Testing Set)\")\n",
    "plt.legend().remove()\n",
    "plt.show()"
   ]
  },
  {
   "cell_type": "code",
   "execution_count": 221,
   "metadata": {},
   "outputs": [],
   "source": [
    "temp = nbclf.predict(x_test)"
   ]
  },
  {
   "cell_type": "code",
   "execution_count": 222,
   "metadata": {},
   "outputs": [
    {
     "data": {
      "text/plain": [
       "1.0"
      ]
     },
     "execution_count": 222,
     "metadata": {},
     "output_type": "execute_result"
    }
   ],
   "source": [
    "accuracy_score(y_test,temp)"
   ]
  },
  {
   "cell_type": "code",
   "execution_count": 223,
   "metadata": {},
   "outputs": [
    {
     "name": "stdout",
     "output_type": "stream",
     "text": [
      "   Def_True_False_pos  threshold\n",
      "0                 1.0   1.000000\n",
      "1                 0.0   0.333333\n"
     ]
    },
    {
     "data": {
      "image/png": "[encoded data removed]",
      "text/plain": [
       "<matplotlib.figure.Figure at 0x11d2678d0>"
      ]
     },
     "metadata": {},
     "output_type": "display_data"
    }
   ],
   "source": [
    "df5 = pd.DataFrame(list(zip(tpr-fpr, thre)), columns = [\"Def_True_False_pos\", \"threshold\"])\n",
    "print(df5)\n",
    "df5.plot(x=\"threshold\",y=\"Def_True_False_pos\")\n",
    "plt.xlabel(\"Threshold\")\n",
    "plt.ylabel(\"Diffence of True and False Postive\")\n",
    "plt.title(\"Gap of True and False Positive Against Threshold (Plot 3b)\")\n",
    "plt.show()"
   ]
  },
  {
   "cell_type": "code",
   "execution_count": 224,
   "metadata": {},
   "outputs": [
    {
     "name": "stdout",
     "output_type": "stream",
     "text": [
      "   fpr  tpr  Threshold\n",
      "0  0.0  1.0   1.000000\n",
      "1  1.0  1.0   0.333333\n"
     ]
    },
    {
     "data": {
      "image/png": "[encoded data removed]",
      "text/plain": [
       "<matplotlib.figure.Figure at 0x11da77390>"
      ]
     },
     "metadata": {},
     "output_type": "display_data"
    }
   ],
   "source": [
    "#Run the roc_curve function to find out False_positive, True_positive and Threshold with preset positive class =1\n",
    "fpr, tpr, thre = metrics.roc_curve(y_train, y_pre_train,pos_label=1) \n",
    "#Put all the variables into the dataframe\n",
    "df6=pd.DataFrame(list(zip(fpr, tpr,thre)), columns=['fpr','tpr','Threshold'])\n",
    "print(df6)\n",
    "df6.plot(y=\"tpr\", x=\"fpr\", figsize=(10,7))\n",
    "plt.plot([0, 1], [0, 1], color='orange',lw=2, linestyle='--')\n",
    "plt.xlabel(\"False Positive Rate\")\n",
    "plt.ylabel(\"True Positive Rate\")\n",
    "plt.title(\"ROC on Naive Bayes Model (Plot 3c)\")\n",
    "plt.legend().remove()\n",
    "plt.show()\n"
   ]
  },
  {
   "cell_type": "code",
   "execution_count": 225,
   "metadata": {},
   "outputs": [
    {
     "name": "stdout",
     "output_type": "stream",
     "text": [
      "   Def_True_False_pos  threshold\n",
      "0                 1.0   1.000000\n",
      "1                 0.0   0.333333\n"
     ]
    },
    {
     "data": {
      "image/png": "[encoded data removed]",
      "text/plain": [
       "<matplotlib.figure.Figure at 0x11cefac18>"
      ]
     },
     "metadata": {},
     "output_type": "display_data"
    }
   ],
   "source": [
    "#Find the difference between the TRUE positive rate and False Positive Rate\n",
    "df7 = pd.DataFrame(list(zip(tpr-fpr, thre)), columns = [\"Def_True_False_pos\", \"threshold\"])\n",
    "print(df7)\n",
    "df7.plot(x=\"threshold\",y=\"Def_True_False_pos\")\n",
    "plt.xlabel(\"Threshold\")\n",
    "plt.ylabel(\"Diffence of True and False Postive\")\n",
    "plt.title(\"Gap of True and False Positive Against Threshold (Plot 3d)\")\n",
    "plt.show()"
   ]
  },
  {
   "cell_type": "markdown",
   "metadata": {},
   "source": [
    "##Problem-3-c: Lift Curve\n",
    "\n",
    "Ans:\n",
    "\n",
    "Based on the analysis below, the minimum cost of data acquisition would be about 60.5% to get at least 80% Accuracy ( The proportion of the total number of predictions that were correct) on the Training. For the Testing data, the minimum cost of data acquisition would be about 63% to get at least 80% Accuracy"
   ]
  },
  {
   "cell_type": "code",
   "execution_count": 226,
   "metadata": {},
   "outputs": [
    {
     "name": "stdout",
     "output_type": "stream",
     "text": [
      "Gain Chart size is  (117, 2)\n"
     ]
    },
    {
     "data": {
      "text/html": [
       "<div>\n",
       "<table border=\"1\" class=\"dataframe\">\n",
       "  <thead>\n",
       "    <tr style=\"text-align: right;\">\n",
       "      <th></th>\n",
       "      <th>Score</th>\n",
       "      <th>Target</th>\n",
       "    </tr>\n",
       "  </thead>\n",
       "  <tbody>\n",
       "    <tr>\n",
       "      <th>68</th>\n",
       "      <td>1.0</td>\n",
       "      <td>1</td>\n",
       "    </tr>\n",
       "    <tr>\n",
       "      <th>91</th>\n",
       "      <td>1.0</td>\n",
       "      <td>1</td>\n",
       "    </tr>\n",
       "    <tr>\n",
       "      <th>24</th>\n",
       "      <td>1.0</td>\n",
       "      <td>1</td>\n",
       "    </tr>\n",
       "  </tbody>\n",
       "</table>\n",
       "</div>"
      ],
      "text/plain": [
       "    Score  Target\n",
       "68    1.0       1\n",
       "91    1.0       1\n",
       "24    1.0       1"
      ]
     },
     "execution_count": 226,
     "metadata": {},
     "output_type": "execute_result"
    }
   ],
   "source": [
    "gain_df = pd.DataFrame(list(zip(y_pre_train,y_train)), columns=[\"Score\", \"Target\"])\n",
    "gain_df = gain_df.sort_values(by=[\"Score\"], ascending=False)\n",
    "print(\"Gain Chart size is \",gain_df.shape)\n",
    "gain_df.head(3)"
   ]
  },
  {
   "cell_type": "code",
   "execution_count": 227,
   "metadata": {},
   "outputs": [
    {
     "data": {
      "image/png": "[encoded data removed]",
      "text/plain": [
       "<matplotlib.figure.Figure at 0x11cfa9588>"
      ]
     },
     "metadata": {},
     "output_type": "display_data"
    }
   ],
   "source": [
    "tot_pos = gain_df[gain_df['Target']==1].shape[0] #Total number of Positive Cases\n",
    "sum1=0\n",
    "gain_lst=[]\n",
    "\n",
    "for i in np.arange(0.05,1.001,0.05):    \n",
    "    records = int(gain_df.shape[0]*i)\n",
    "    sum1 = sum(gain_df['Target'].iloc[0:records])\n",
    "    gain_lst.append(sum1/tot_pos)\n",
    "\n",
    "df8 = pd.DataFrame(gain_lst, columns=[\"Target\"], index=np.arange(0.05,1.001,0.05))\n",
    "df8.plot(y=\"Target\", figsize=(8,8))\n",
    "plt.plot((0,1),(0,1), lw=2, linestyle = \"--\")\n",
    "plt.plot((0,0.605), (0.8,0.8), color=\"green\")\n",
    "plt.plot((0.605,0.605), (0,0.8), color=\"green\")\n",
    "plt.title(\"Gain Chart for Training Dataset (Plot 3e)\")\n",
    "plt.xlabel(\"Proportion of Population\")\n",
    "plt.ylabel(\"Proportion of Accuracy\")\n",
    "plt.legend().remove()\n",
    "plt.show()"
   ]
  },
  {
   "cell_type": "code",
   "execution_count": 228,
   "metadata": {},
   "outputs": [
    {
     "name": "stdout",
     "output_type": "stream",
     "text": [
      "Gain Chart size is  (61, 2)\n"
     ]
    },
    {
     "data": {
      "text/html": [
       "<div>\n",
       "<table border=\"1\" class=\"dataframe\">\n",
       "  <thead>\n",
       "    <tr style=\"text-align: right;\">\n",
       "      <th></th>\n",
       "      <th>Score</th>\n",
       "      <th>Target</th>\n",
       "    </tr>\n",
       "  </thead>\n",
       "  <tbody>\n",
       "    <tr>\n",
       "      <th>18</th>\n",
       "      <td>1.0</td>\n",
       "      <td>1</td>\n",
       "    </tr>\n",
       "    <tr>\n",
       "      <th>11</th>\n",
       "      <td>1.0</td>\n",
       "      <td>1</td>\n",
       "    </tr>\n",
       "    <tr>\n",
       "      <th>26</th>\n",
       "      <td>1.0</td>\n",
       "      <td>1</td>\n",
       "    </tr>\n",
       "  </tbody>\n",
       "</table>\n",
       "</div>"
      ],
      "text/plain": [
       "    Score  Target\n",
       "18    1.0       1\n",
       "11    1.0       1\n",
       "26    1.0       1"
      ]
     },
     "execution_count": 228,
     "metadata": {},
     "output_type": "execute_result"
    }
   ],
   "source": [
    "gain_df = pd.DataFrame(list(zip(y_pre_test,y_test)), columns=[\"Score\", \"Target\"])\n",
    "gain_df = gain_df.sort_values(by=[\"Score\"], ascending=False)\n",
    "print(\"Gain Chart size is \",gain_df.shape)\n",
    "gain_df.head(3)"
   ]
  },
  {
   "cell_type": "code",
   "execution_count": 229,
   "metadata": {},
   "outputs": [
    {
     "data": {
      "image/png": "[encoded data removed]",
      "text/plain": [
       "<matplotlib.figure.Figure at 0x11ceac2e8>"
      ]
     },
     "metadata": {},
     "output_type": "display_data"
    }
   ],
   "source": [
    "tot_pos = gain_df[gain_df['Target']==1].shape[0] #Total number of Positive Cases\n",
    "sum1=0\n",
    "gain_lst=[]\n",
    "\n",
    "for i in np.arange(0.05,1.001,0.05):    \n",
    "    records = int(gain_df.shape[0]*i)\n",
    "    sum1 = sum(gain_df['Target'].iloc[0:records])\n",
    "    gain_lst.append(sum1/tot_pos)\n",
    "\n",
    "df9 = pd.DataFrame(gain_lst, columns=[\"Target\"], index=np.arange(0.05,1.001,0.05))\n",
    "df9.plot(y=\"Target\", figsize=(8,8))\n",
    "plt.plot((0,1),(0,1), lw=2, linestyle = \"--\")\n",
    "plt.plot((0,0.63),(0.8,0.8),color=\"green\")\n",
    "plt.plot((0.63,0.63),(0,0.8),color=\"green\")\n",
    "plt.title(\"Gain Chart for Training Dataset (Plot 3g)\")\n",
    "plt.xlabel(\"Proportion of Population\")\n",
    "plt.ylabel(\"Proportion of Accuracy\")\n",
    "plt.legend().remove()\n",
    "plt.show()"
   ]
  },
  {
   "cell_type": "code",
   "execution_count": null,
   "metadata": {},
   "outputs": [],
   "source": []
  },
  {
   "cell_type": "markdown",
   "metadata": {},
   "source": [
    "##Problem-4: Bagging Classifier ( Decision Tree)"
   ]
  },
  {
   "cell_type": "code",
   "execution_count": null,
   "metadata": {},
   "outputs": [],
   "source": []
  },
  {
   "cell_type": "code",
   "execution_count": 579,
   "metadata": {},
   "outputs": [
    {
     "name": "stdout",
     "output_type": "stream",
     "text": [
      "Shape of the downloaded Table is (569, 32)\n"
     ]
    },
    {
     "data": {
      "text/html": [
       "<div>\n",
       "<table border=\"1\" class=\"dataframe\">\n",
       "  <thead>\n",
       "    <tr style=\"text-align: right;\">\n",
       "      <th></th>\n",
       "      <th>0</th>\n",
       "      <th>1</th>\n",
       "      <th>2</th>\n",
       "      <th>3</th>\n",
       "      <th>4</th>\n",
       "      <th>5</th>\n",
       "      <th>6</th>\n",
       "      <th>7</th>\n",
       "      <th>8</th>\n",
       "      <th>9</th>\n",
       "      <th>...</th>\n",
       "      <th>22</th>\n",
       "      <th>23</th>\n",
       "      <th>24</th>\n",
       "      <th>25</th>\n",
       "      <th>26</th>\n",
       "      <th>27</th>\n",
       "      <th>28</th>\n",
       "      <th>29</th>\n",
       "      <th>30</th>\n",
       "      <th>31</th>\n",
       "    </tr>\n",
       "  </thead>\n",
       "  <tbody>\n",
       "    <tr>\n",
       "      <th>0</th>\n",
       "      <td>842302</td>\n",
       "      <td>M</td>\n",
       "      <td>17.99</td>\n",
       "      <td>10.38</td>\n",
       "      <td>122.8</td>\n",
       "      <td>1001.0</td>\n",
       "      <td>0.11840</td>\n",
       "      <td>0.27760</td>\n",
       "      <td>0.3001</td>\n",
       "      <td>0.14710</td>\n",
       "      <td>...</td>\n",
       "      <td>25.38</td>\n",
       "      <td>17.33</td>\n",
       "      <td>184.6</td>\n",
       "      <td>2019.0</td>\n",
       "      <td>0.1622</td>\n",
       "      <td>0.6656</td>\n",
       "      <td>0.7119</td>\n",
       "      <td>0.2654</td>\n",
       "      <td>0.4601</td>\n",
       "      <td>0.11890</td>\n",
       "    </tr>\n",
       "    <tr>\n",
       "      <th>1</th>\n",
       "      <td>842517</td>\n",
       "      <td>M</td>\n",
       "      <td>20.57</td>\n",
       "      <td>17.77</td>\n",
       "      <td>132.9</td>\n",
       "      <td>1326.0</td>\n",
       "      <td>0.08474</td>\n",
       "      <td>0.07864</td>\n",
       "      <td>0.0869</td>\n",
       "      <td>0.07017</td>\n",
       "      <td>...</td>\n",
       "      <td>24.99</td>\n",
       "      <td>23.41</td>\n",
       "      <td>158.8</td>\n",
       "      <td>1956.0</td>\n",
       "      <td>0.1238</td>\n",
       "      <td>0.1866</td>\n",
       "      <td>0.2416</td>\n",
       "      <td>0.1860</td>\n",
       "      <td>0.2750</td>\n",
       "      <td>0.08902</td>\n",
       "    </tr>\n",
       "    <tr>\n",
       "      <th>2</th>\n",
       "      <td>84300903</td>\n",
       "      <td>M</td>\n",
       "      <td>19.69</td>\n",
       "      <td>21.25</td>\n",
       "      <td>130.0</td>\n",
       "      <td>1203.0</td>\n",
       "      <td>0.10960</td>\n",
       "      <td>0.15990</td>\n",
       "      <td>0.1974</td>\n",
       "      <td>0.12790</td>\n",
       "      <td>...</td>\n",
       "      <td>23.57</td>\n",
       "      <td>25.53</td>\n",
       "      <td>152.5</td>\n",
       "      <td>1709.0</td>\n",
       "      <td>0.1444</td>\n",
       "      <td>0.4245</td>\n",
       "      <td>0.4504</td>\n",
       "      <td>0.2430</td>\n",
       "      <td>0.3613</td>\n",
       "      <td>0.08758</td>\n",
       "    </tr>\n",
       "  </tbody>\n",
       "</table>\n",
       "<p>3 rows × 32 columns</p>\n",
       "</div>"
      ],
      "text/plain": [
       "         0  1      2      3      4       5        6        7       8   \\\n",
       "0    842302  M  17.99  10.38  122.8  1001.0  0.11840  0.27760  0.3001   \n",
       "1    842517  M  20.57  17.77  132.9  1326.0  0.08474  0.07864  0.0869   \n",
       "2  84300903  M  19.69  21.25  130.0  1203.0  0.10960  0.15990  0.1974   \n",
       "\n",
       "        9    ...        22     23     24      25      26      27      28  \\\n",
       "0  0.14710   ...     25.38  17.33  184.6  2019.0  0.1622  0.6656  0.7119   \n",
       "1  0.07017   ...     24.99  23.41  158.8  1956.0  0.1238  0.1866  0.2416   \n",
       "2  0.12790   ...     23.57  25.53  152.5  1709.0  0.1444  0.4245  0.4504   \n",
       "\n",
       "       29      30       31  \n",
       "0  0.2654  0.4601  0.11890  \n",
       "1  0.1860  0.2750  0.08902  \n",
       "2  0.2430  0.3613  0.08758  \n",
       "\n",
       "[3 rows x 32 columns]"
      ]
     },
     "execution_count": 579,
     "metadata": {},
     "output_type": "execute_result"
    }
   ],
   "source": [
    "wdbc = pd.read_csv(\"http://archive.ics.uci.edu/ml/machine-learning-databases/breast-cancer-wisconsin/wdbc.data\", \n",
    "                   header=None)\n",
    "print(\"Shape of the downloaded Table is\",wdbc.shape)\n",
    "wdbc.head(3)"
   ]
  },
  {
   "cell_type": "code",
   "execution_count": 580,
   "metadata": {},
   "outputs": [
    {
     "name": "stdout",
     "output_type": "stream",
     "text": [
      "      2      3      4       5        6        7       8        9       10  \\\n",
      "0  17.99  10.38  122.8  1001.0  0.11840  0.27760  0.3001  0.14710  0.2419   \n",
      "1  20.57  17.77  132.9  1326.0  0.08474  0.07864  0.0869  0.07017  0.1812   \n",
      "2  19.69  21.25  130.0  1203.0  0.10960  0.15990  0.1974  0.12790  0.2069   \n",
      "\n",
      "        11   ...        22     23     24      25      26      27      28  \\\n",
      "0  0.07871   ...     25.38  17.33  184.6  2019.0  0.1622  0.6656  0.7119   \n",
      "1  0.05667   ...     24.99  23.41  158.8  1956.0  0.1238  0.1866  0.2416   \n",
      "2  0.05999   ...     23.57  25.53  152.5  1709.0  0.1444  0.4245  0.4504   \n",
      "\n",
      "       29      30       31  \n",
      "0  0.2654  0.4601  0.11890  \n",
      "1  0.1860  0.2750  0.08902  \n",
      "2  0.2430  0.3613  0.08758  \n",
      "\n",
      "[3 rows x 30 columns]\n",
      "B    357\n",
      "M    212\n",
      "Name: 1, dtype: int64\n"
     ]
    }
   ],
   "source": [
    "y=wdbc.ix[:,1] # Assign the predictor variables to the x table\n",
    "X=wdbc.ix[:,2:] # Assign the Class labels to the y table\n",
    "print(X.head(3)) #Check the first 2 ros of x table\n",
    "print(y.value_counts()) #Count the quantities of each class labels\n",
    "\n",
    "X=np.array(X)\n",
    "y=np.array(y)"
   ]
  },
  {
   "cell_type": "code",
   "execution_count": 581,
   "metadata": {},
   "outputs": [],
   "source": [
    "#Split the train set, test set, train class, test class\n",
    "from sklearn.cross_validation import train_test_split\n",
    "x_train,x_test,y_train,y_test = train_test_split(X, #Predictor Variables\n",
    "                                                 y, #Class labels\n",
    "                                                 stratify=y, #data is split in a stratified fashion, using this as the class labels\n",
    "                                                 test_size=0.34,#Test size is set as 34% of entire set\n",
    "                                                 random_state=2) # Set the randon state for spliting data  in same order"
   ]
  },
  {
   "cell_type": "code",
   "execution_count": 582,
   "metadata": {},
   "outputs": [],
   "source": [
    "import pandas as pd\n",
    "from sklearn import model_selection\n",
    "from sklearn.ensemble import BaggingClassifier\n",
    "from sklearn.tree import DecisionTreeClassifier\n",
    "from sklearn.model_selection import cross_val_score\n",
    "from sklearn import metrics\n",
    "from sklearn.cross_validation import KFold\n",
    "\n",
    "def bagging_acc (X, y, clf, seed, kFold_split, num_trees):\n",
    "    kfold = model_selection.KFold(n_splits=kFold_split, shuffle=True,random_state=seed)\n",
    "    model = BaggingClassifier(base_estimator=clf, n_estimators=num_trees, random_state=seed)\n",
    "    results = model_selection.cross_val_score(model, X, y, cv=kfold)\n",
    "    return results.mean()"
   ]
  },
  {
   "cell_type": "code",
   "execution_count": 583,
   "metadata": {},
   "outputs": [],
   "source": [
    "clf = DecisionTreeClassifier()\n",
    "seed = 28\n",
    "kFold_split=10\n",
    "max_num_trees=100\n",
    "acc_lst=[]\n",
    "for num_trees in range(1,max_num_trees):\n",
    "    acc = bagging_acc (X, y, clf, seed, kFold_split, num_trees)\n",
    "    acc_lst.append(acc)\n"
   ]
  },
  {
   "cell_type": "code",
   "execution_count": 584,
   "metadata": {},
   "outputs": [
    {
     "name": "stdout",
     "output_type": "stream",
     "text": [
      "The Algorithm obtains the maximum Scores with the minimum of Trees\n",
      "    num_Trees  Accuracy\n",
      "39         40  0.952538\n"
     ]
    },
    {
     "data": {
      "image/png": "[encoded data removed]",
      "text/plain": [
       "<matplotlib.figure.Figure at 0x11fa05a20>"
      ]
     },
     "metadata": {},
     "output_type": "display_data"
    }
   ],
   "source": [
    "import pylab as plt\n",
    "Acc_table = pd.DataFrame(list(zip(np.arange(1,100,1),acc_lst)), columns=['num_Trees','Accuracy'])\n",
    "Acc_table2 = Acc_table[Acc_table['Accuracy']== max(Acc_table['Accuracy'])]\n",
    "print(\"The Algorithm obtains the maximum Scores with the minimum of Trees\")\n",
    "print(Acc_table2[Acc_table2['num_Trees']== min(Acc_table2['num_Trees'])])\n",
    "\n",
    "Acc_table.plot(x='num_Trees', y=\"Accuracy\", figsize=(15,5))\n",
    "#axes.set_xticklabels(np.arange(1,101,5))\n",
    "plt.show()"
   ]
  },
  {
   "cell_type": "code",
   "execution_count": 577,
   "metadata": {},
   "outputs": [
    {
     "name": "stdout",
     "output_type": "stream",
     "text": [
      "Training Score with 40 is 1.000000\n",
      "Testing Score with 40 is 0.963918\n"
     ]
    }
   ],
   "source": [
    "#Now we test the Accuracy for the max\n",
    "\n",
    "clf = DecisionTreeClassifier()\n",
    "num_trees=40\n",
    "random_state=0\n",
    "\n",
    "#Split the train set, test set, train class, test class\n",
    "from sklearn.cross_validation import train_test_split\n",
    "x_train,x_test,y_train,y_test = train_test_split(X, #Predictor Variables\n",
    "                                                 y, #Class labels\n",
    "                                                 stratify=y, #data is split in a stratified fashion, using this as the class labels\n",
    "                                                 test_size=0.34,#Test size is set as 34% of entire set\n",
    "                                                 random_state=25) # Set the randon state for spliting data  in same order\n",
    "\n",
    "model = BaggingClassifier(base_estimator=clf, n_estimators=num_trees, random_state=seed)\n",
    "model.fit(x_train, y_train)\n",
    "y_pre = model.predict(x_test)\n",
    "\n",
    "print(\"Training Score with %d is %0.6f\"%(num_trees,model.score(x_train,y_train)))\n",
    "print(\"Testing Score with %d is %0.6f\"%(num_trees, accuracy_score(y_test,y_pre)))\n"
   ]
  },
  {
   "cell_type": "code",
   "execution_count": 560,
   "metadata": {},
   "outputs": [],
   "source": [
    "def calc_params(X, y, clf, param_values, param_name, K):\n",
    "    # initialize training and testing scores with zeros\n",
    "    train_scores = np.zeros(len(param_values))\n",
    "    test_scores = np.zeros(len(param_values))\n",
    "    \n",
    "    for i, param_value in enumerate(param_values):\n",
    "        # initialize the K scores obtained for each fold\n",
    "        k_train_scores = np.zeros(K)\n",
    "        k_test_scores = np.zeros(K)\n",
    "        \n",
    "        model=BaggingClassifier().set_params(**{param_name:param_value, \n",
    "                                          \"base_estimator\":clf, \n",
    "                                          \"random_state\":7\n",
    "                                         })\n",
    "        \n",
    "        # create KFold cross validation\n",
    "        cv = KFold(len(X), K, shuffle=True, random_state=10)\n",
    "        \n",
    "        for j, (train,test) in enumerate(cv):\n",
    "            #model = BaggingClassifier(base_estimator=clf, n_estimators=num_trees, random_state=7)\n",
    "            #model.fit(x_train, y_train)\n",
    "            model.fit([X[k] for k in train],y[train])\n",
    "            k_train_scores[j] = model.score([X[k] for k in train],y[train])\n",
    "            k_test_scores[j] = model.score([X[k] for k in test],y[test])\n",
    "            \n",
    "        # store the mean of the K fold scores\n",
    "        train_scores[i] = np.mean(k_train_scores)\n",
    "        test_scores[i] = np.mean(k_test_scores)\n",
    "        \n",
    "     # plot the training and testing scores in a log scale\n",
    "    plt.figure(figsize = (10,5))\n",
    "    plt.plot(param_values, train_scores, label='Train', alpha=0.4, lw=2, c='b')\n",
    "    plt.plot(param_values, test_scores, label='Test', alpha=0.4, lw=2, c='g')\n",
    "    plt.title(\"Accuracy Plot on Bagging Classifier with Number of Tree Classifier as Parameter\")\n",
    "    plt.legend(loc=7)\n",
    "    plt.xlabel(param_name + \" values\")\n",
    "    plt.ylabel(\"Mean cross validation accuracy\")\n",
    "\n",
    "    # return the training and testing scores on each parameter value\n",
    "    return train_scores, test_scores"
   ]
  },
  {
   "cell_type": "code",
   "execution_count": 561,
   "metadata": {},
   "outputs": [
    {
     "data": {
      "image/png": "[encoded data removed]",
      "text/plain": [
       "<matplotlib.figure.Figure at 0x11ceec588>"
      ]
     },
     "metadata": {},
     "output_type": "display_data"
    }
   ],
   "source": [
    "clf = DecisionTreeClassifier()\n",
    "param_values = np.arange(1,101,1)\n",
    "param_name = \"n_estimators\"\n",
    "K=5\n",
    "train_scores=[]\n",
    "test_scores =[]\n",
    "train_scores, test_scores = calc_params(X, y, clf, param_values, param_name, K)"
   ]
  },
  {
   "cell_type": "code",
   "execution_count": 578,
   "metadata": {},
   "outputs": [
    {
     "name": "stdout",
     "output_type": "stream",
     "text": [
      "Training Score with 43 is 1.000000\n",
      "Testing Score with 43 is 0.963918\n"
     ]
    }
   ],
   "source": [
    "#Now we test the Accuracy for the max\n",
    "\n",
    "clf = DecisionTreeClassifier()\n",
    "num_trees=43\n",
    "random_state=0\n",
    "\n",
    "#Split the train set, test set, train class, test class\n",
    "from sklearn.cross_validation import train_test_split\n",
    "x_train,x_test,y_train,y_test = train_test_split(X, #Predictor Variables\n",
    "                                                 y, #Class labels\n",
    "                                                 stratify=y, #data is split in a stratified fashion, using this as the class labels\n",
    "                                                 test_size=0.34,#Test size is set as 34% of entire set\n",
    "                                                 random_state=25) # Set the randon state for spliting data  in same order\n",
    "\n",
    "model = BaggingClassifier(base_estimator=clf, n_estimators=num_trees, random_state=seed)\n",
    "model.fit(x_train, y_train)\n",
    "y_pre = model.predict(x_test)\n",
    "\n",
    "print(\"Training Score with %d is %0.6f\"%(num_trees,model.score(x_train,y_train)))\n",
    "print(\"Testing Score with %d is %0.6f\"%(num_trees, accuracy_score(y_test,y_pre)))\n",
    "\n"
   ]
  },
  {
   "cell_type": "markdown",
   "metadata": {},
   "source": [
    "##Problem-4-b:\n",
    "\n",
    "Ans:\n",
    "\n",
    "Based on the visualization below, we could observe that the variation of predictor variables are large. In this case, I would say that Bagging Classifier is an appropriate choice for the classification. The reason for this because Bagging Machine Learning is designed as Bootstrap Aggregation which means subset of data is randomly sampled with replacement to each classifier. So that the learning process from each classifier with large variation of data could come up large variation of output. At the end of the bagging learning process, the average output (i.e. prediction) from all the bagged classifers could decrease error by decreasing the variance in the results."
   ]
  },
  {
   "cell_type": "code",
   "execution_count": 593,
   "metadata": {},
   "outputs": [
    {
     "data": {
      "image/png": "[encoded data removed]",
      "text/plain": [
       "<matplotlib.figure.Figure at 0x11d931320>"
      ]
     },
     "metadata": {},
     "output_type": "display_data"
    }
   ],
   "source": [
    "import matplotlib.pyplot as plt\n",
    "%matplotlib inline\n",
    "fig = plt.figure(figsize = (15,30))\n",
    "\n",
    "ax1 = fig.add_subplot(5,2,1)\n",
    "wdbc[1].value_counts().plot(kind=\"bar\")\n",
    "ax1.set_title(\"Class Labels Distribution\")\n",
    "ax1.set_xlabel(\"Class Labels\")\n",
    "ax1.set_ylabel(\"Frequency\")\n",
    "\n",
    "ax2 = fig.add_subplot(5,2,2)\n",
    "wdbc[2].plot(kind=\"hist\")\n",
    "ax2.set_title(\"Column 1 Distribution\")\n",
    "ax2.set_xlabel(\"Column 1\")\n",
    "ax2.set_ylabel(\"Frequency\")\n",
    "\n",
    "ax3 = fig.add_subplot(5,2,3)\n",
    "wdbc[3].plot(kind=\"hist\")\n",
    "ax3.set_title(\"Column 2 Distribution\")\n",
    "ax3.set_xlabel(\"Column 2\")\n",
    "ax3.set_ylabel(\"Frequency\")\n",
    "\n",
    "ax4 = fig.add_subplot(5,2,4)\n",
    "wdbc[10].plot(kind=\"hist\")\n",
    "ax4.set_title(\"Column 9 Distribution\")\n",
    "ax4.set_xlabel(\"Column 9\")\n",
    "ax4.set_ylabel(\"Frequency\")\n",
    "\n",
    "ax5 = fig.add_subplot(5,2,5)\n",
    "wdbc[15].plot(kind=\"hist\")\n",
    "ax5.set_title(\"Column 4 Distribution\")\n",
    "ax5.set_xlabel(\"Column 4\")\n",
    "ax5.set_ylabel(\"Frequency\")\n",
    "\n",
    "ax6 = fig.add_subplot(5,2,6)\n",
    "wdbc[20].plot(kind=\"hist\")\n",
    "ax6.set_title(\"Column 19 Distribution\")\n",
    "ax6.set_xlabel(\"Column 19\")\n",
    "ax6.set_ylabel(\"Frequency\")\n",
    "\n",
    "\n",
    "ax7 = fig.add_subplot(5,2,7)\n",
    "wdbc[29].plot(kind=\"hist\")\n",
    "ax7.set_title(\"Column 28 Distribution\")\n",
    "ax7.set_xlabel(\"Column 28\")\n",
    "ax7.set_ylabel(\"Frequency\")\n",
    "\n",
    "\n",
    "plt.show()"
   ]
  },
  {
   "cell_type": "markdown",
   "metadata": {},
   "source": [
    "##Problem-4-c:\n",
    "\n",
    "Ans:\n",
    "\n",
    "The Bagging Ensemble Learning is also called Bootstrap Aggregate. The idea is to a certain number of homogeneous machine learning algorithm (e.g. Decision Tree) to train on different sub-set of data on identical weights to generate classifier. Then the final result is by voting for classification purpose or by averaging predicted result for regression purpose. \n",
    "\n",
    "The Boosting Ensemble method is basically used to convert a weak learning algorithm into a strong one. At each of the learning iteration, a new hypothesis is learned from the previous learner and analyizing its data with errors. When data sample is mis-classified wrong, it is re-weighted (weight is increased). Then the next learner (hypothesis) will be more likely to classify it sameple corretly. the final classification is based on the weighted vote of weak classifier. For example, In every learning iteration, we could fit in sequential trees to classify instances which were classified wrong by the previous tree model, the aim for that is to reduce the error rate from the previous tree. \n",
    "\n"
   ]
  },
  {
   "cell_type": "code",
   "execution_count": null,
   "metadata": {},
   "outputs": [],
   "source": []
  },
  {
   "cell_type": "code",
   "execution_count": null,
   "metadata": {},
   "outputs": [],
   "source": []
  },
  {
   "cell_type": "code",
   "execution_count": null,
   "metadata": {},
   "outputs": [],
   "source": []
  },
  {
   "cell_type": "code",
   "execution_count": null,
   "metadata": {},
   "outputs": [],
   "source": []
  },
  {
   "cell_type": "code",
   "execution_count": null,
   "metadata": {},
   "outputs": [],
   "source": []
  },
  {
   "cell_type": "code",
   "execution_count": null,
   "metadata": {},
   "outputs": [],
   "source": []
  },
  {
   "cell_type": "markdown",
   "metadata": {},
   "source": [
    "##Extra Credit: Red winered data (Repeat Problem 2)"
   ]
  },
  {
   "cell_type": "code",
   "execution_count": 262,
   "metadata": {},
   "outputs": [],
   "source": [
    "import pandas as pd\n",
    "import numpy as np\n",
    "import matplotlib.pyplot as plt"
   ]
  },
  {
   "cell_type": "code",
   "execution_count": 263,
   "metadata": {},
   "outputs": [
    {
     "name": "stdout",
     "output_type": "stream",
     "text": [
      "(1599, 12)\n"
     ]
    },
    {
     "data": {
      "text/html": [
       "<div>\n",
       "<table border=\"1\" class=\"dataframe\">\n",
       "  <thead>\n",
       "    <tr style=\"text-align: right;\">\n",
       "      <th></th>\n",
       "      <th>fixed acidity</th>\n",
       "      <th>volatile acidity</th>\n",
       "      <th>citric acid</th>\n",
       "      <th>residual sugar</th>\n",
       "      <th>chlorides</th>\n",
       "      <th>free sulfur dioxide</th>\n",
       "      <th>total sulfur dioxide</th>\n",
       "      <th>density</th>\n",
       "      <th>pH</th>\n",
       "      <th>sulphates</th>\n",
       "      <th>alcohol</th>\n",
       "      <th>quality</th>\n",
       "    </tr>\n",
       "  </thead>\n",
       "  <tbody>\n",
       "    <tr>\n",
       "      <th>0</th>\n",
       "      <td>7.4</td>\n",
       "      <td>0.70</td>\n",
       "      <td>0.00</td>\n",
       "      <td>1.9</td>\n",
       "      <td>0.076</td>\n",
       "      <td>11.0</td>\n",
       "      <td>34.0</td>\n",
       "      <td>0.9978</td>\n",
       "      <td>3.51</td>\n",
       "      <td>0.56</td>\n",
       "      <td>9.4</td>\n",
       "      <td>5</td>\n",
       "    </tr>\n",
       "    <tr>\n",
       "      <th>1</th>\n",
       "      <td>7.8</td>\n",
       "      <td>0.88</td>\n",
       "      <td>0.00</td>\n",
       "      <td>2.6</td>\n",
       "      <td>0.098</td>\n",
       "      <td>25.0</td>\n",
       "      <td>67.0</td>\n",
       "      <td>0.9968</td>\n",
       "      <td>3.20</td>\n",
       "      <td>0.68</td>\n",
       "      <td>9.8</td>\n",
       "      <td>5</td>\n",
       "    </tr>\n",
       "    <tr>\n",
       "      <th>2</th>\n",
       "      <td>7.8</td>\n",
       "      <td>0.76</td>\n",
       "      <td>0.04</td>\n",
       "      <td>2.3</td>\n",
       "      <td>0.092</td>\n",
       "      <td>15.0</td>\n",
       "      <td>54.0</td>\n",
       "      <td>0.9970</td>\n",
       "      <td>3.26</td>\n",
       "      <td>0.65</td>\n",
       "      <td>9.8</td>\n",
       "      <td>5</td>\n",
       "    </tr>\n",
       "  </tbody>\n",
       "</table>\n",
       "</div>"
      ],
      "text/plain": [
       "   fixed acidity  volatile acidity  citric acid  residual sugar  chlorides  \\\n",
       "0            7.4              0.70         0.00             1.9      0.076   \n",
       "1            7.8              0.88         0.00             2.6      0.098   \n",
       "2            7.8              0.76         0.04             2.3      0.092   \n",
       "\n",
       "   free sulfur dioxide  total sulfur dioxide  density    pH  sulphates  \\\n",
       "0                 11.0                  34.0   0.9978  3.51       0.56   \n",
       "1                 25.0                  67.0   0.9968  3.20       0.68   \n",
       "2                 15.0                  54.0   0.9970  3.26       0.65   \n",
       "\n",
       "   alcohol  quality  \n",
       "0      9.4        5  \n",
       "1      9.8        5  \n",
       "2      9.8        5  "
      ]
     },
     "execution_count": 263,
     "metadata": {},
     "output_type": "execute_result"
    }
   ],
   "source": [
    "winered_red = pd.read_csv(\"https://archive.ics.uci.edu/ml/machine-learning-databases/wine-quality/winequality-red.csv\", \n",
    "                      sep=\";\")\n",
    "\n",
    "print(winered_red.shape) #Check the dimenisions of winered dataset\n",
    "winered_red.head(3) #Check the top lines "
   ]
  },
  {
   "cell_type": "code",
   "execution_count": 264,
   "metadata": {},
   "outputs": [
    {
     "data": {
      "text/plain": [
       "5    681\n",
       "6    638\n",
       "7    199\n",
       "4     53\n",
       "8     18\n",
       "3     10\n",
       "Name: quality, dtype: int64"
      ]
     },
     "execution_count": 264,
     "metadata": {},
     "output_type": "execute_result"
    }
   ],
   "source": [
    "#Check the number of each class labels\n",
    "winered_red.quality.value_counts()"
   ]
  },
  {
   "cell_type": "code",
   "execution_count": 265,
   "metadata": {},
   "outputs": [
    {
     "data": {
      "text/html": [
       "<div>\n",
       "<table border=\"1\" class=\"dataframe\">\n",
       "  <thead>\n",
       "    <tr style=\"text-align: right;\">\n",
       "      <th></th>\n",
       "      <th>fixed acidity</th>\n",
       "      <th>volatile acidity</th>\n",
       "      <th>citric acid</th>\n",
       "      <th>residual sugar</th>\n",
       "      <th>chlorides</th>\n",
       "      <th>free sulfur dioxide</th>\n",
       "      <th>total sulfur dioxide</th>\n",
       "      <th>density</th>\n",
       "      <th>pH</th>\n",
       "      <th>sulphates</th>\n",
       "      <th>alcohol</th>\n",
       "    </tr>\n",
       "  </thead>\n",
       "  <tbody>\n",
       "    <tr>\n",
       "      <th>0</th>\n",
       "      <td>7.4</td>\n",
       "      <td>0.70</td>\n",
       "      <td>0.00</td>\n",
       "      <td>1.9</td>\n",
       "      <td>0.076</td>\n",
       "      <td>11.0</td>\n",
       "      <td>34.0</td>\n",
       "      <td>0.9978</td>\n",
       "      <td>3.51</td>\n",
       "      <td>0.56</td>\n",
       "      <td>9.4</td>\n",
       "    </tr>\n",
       "    <tr>\n",
       "      <th>1</th>\n",
       "      <td>7.8</td>\n",
       "      <td>0.88</td>\n",
       "      <td>0.00</td>\n",
       "      <td>2.6</td>\n",
       "      <td>0.098</td>\n",
       "      <td>25.0</td>\n",
       "      <td>67.0</td>\n",
       "      <td>0.9968</td>\n",
       "      <td>3.20</td>\n",
       "      <td>0.68</td>\n",
       "      <td>9.8</td>\n",
       "    </tr>\n",
       "    <tr>\n",
       "      <th>2</th>\n",
       "      <td>7.8</td>\n",
       "      <td>0.76</td>\n",
       "      <td>0.04</td>\n",
       "      <td>2.3</td>\n",
       "      <td>0.092</td>\n",
       "      <td>15.0</td>\n",
       "      <td>54.0</td>\n",
       "      <td>0.9970</td>\n",
       "      <td>3.26</td>\n",
       "      <td>0.65</td>\n",
       "      <td>9.8</td>\n",
       "    </tr>\n",
       "    <tr>\n",
       "      <th>3</th>\n",
       "      <td>11.2</td>\n",
       "      <td>0.28</td>\n",
       "      <td>0.56</td>\n",
       "      <td>1.9</td>\n",
       "      <td>0.075</td>\n",
       "      <td>17.0</td>\n",
       "      <td>60.0</td>\n",
       "      <td>0.9980</td>\n",
       "      <td>3.16</td>\n",
       "      <td>0.58</td>\n",
       "      <td>9.8</td>\n",
       "    </tr>\n",
       "    <tr>\n",
       "      <th>4</th>\n",
       "      <td>7.4</td>\n",
       "      <td>0.70</td>\n",
       "      <td>0.00</td>\n",
       "      <td>1.9</td>\n",
       "      <td>0.076</td>\n",
       "      <td>11.0</td>\n",
       "      <td>34.0</td>\n",
       "      <td>0.9978</td>\n",
       "      <td>3.51</td>\n",
       "      <td>0.56</td>\n",
       "      <td>9.4</td>\n",
       "    </tr>\n",
       "  </tbody>\n",
       "</table>\n",
       "</div>"
      ],
      "text/plain": [
       "   fixed acidity  volatile acidity  citric acid  residual sugar  chlorides  \\\n",
       "0            7.4              0.70         0.00             1.9      0.076   \n",
       "1            7.8              0.88         0.00             2.6      0.098   \n",
       "2            7.8              0.76         0.04             2.3      0.092   \n",
       "3           11.2              0.28         0.56             1.9      0.075   \n",
       "4            7.4              0.70         0.00             1.9      0.076   \n",
       "\n",
       "   free sulfur dioxide  total sulfur dioxide  density    pH  sulphates  \\\n",
       "0                 11.0                  34.0   0.9978  3.51       0.56   \n",
       "1                 25.0                  67.0   0.9968  3.20       0.68   \n",
       "2                 15.0                  54.0   0.9970  3.26       0.65   \n",
       "3                 17.0                  60.0   0.9980  3.16       0.58   \n",
       "4                 11.0                  34.0   0.9978  3.51       0.56   \n",
       "\n",
       "   alcohol  \n",
       "0      9.4  \n",
       "1      9.8  \n",
       "2      9.8  \n",
       "3      9.8  \n",
       "4      9.4  "
      ]
     },
     "execution_count": 265,
     "metadata": {},
     "output_type": "execute_result"
    }
   ],
   "source": [
    "#Assign predictor variables to new table\n",
    "X=winered_red.ix[:,0:-1]\n",
    "X.head(5)"
   ]
  },
  {
   "cell_type": "code",
   "execution_count": 266,
   "metadata": {},
   "outputs": [
    {
     "data": {
      "text/plain": [
       "5    681\n",
       "6    638\n",
       "7    199\n",
       "4     53\n",
       "8     18\n",
       "3     10\n",
       "Name: quality, dtype: int64"
      ]
     },
     "execution_count": 266,
     "metadata": {},
     "output_type": "execute_result"
    }
   ],
   "source": [
    "#Assign Target Class labels to a new table\n",
    "y=winered_red.ix[:,-1]\n",
    "y.value_counts()"
   ]
  },
  {
   "cell_type": "code",
   "execution_count": 279,
   "metadata": {},
   "outputs": [
    {
     "data": {
      "text/plain": [
       "DecisionTreeClassifier(class_weight=None, criterion='gini', max_depth=None,\n",
       "            max_features=None, max_leaf_nodes=None,\n",
       "            min_impurity_split=1e-07, min_samples_leaf=1,\n",
       "            min_samples_split=2, min_weight_fraction_leaf=0.0,\n",
       "            presort=False, random_state=55, splitter='best')"
      ]
     },
     "execution_count": 279,
     "metadata": {},
     "output_type": "execute_result"
    }
   ],
   "source": [
    "train_size_lst = np.arange(0.25,0.86,0.1) #Preset Size of Training Data\n",
    "DT_train_score_lst=[] #Preset the Train score list\n",
    "DT_test_score_lst=[] #Preset the Test score list\n",
    "\n",
    "for i in train_size_lst:\n",
    "\n",
    "    #Split the train set, test set, train class, test class\n",
    "    from sklearn.cross_validation import train_test_split\n",
    "    x_train,x_test,y_train,y_test = train_test_split(X, #Predictor Variables\n",
    "                                                     y, #Class labels\n",
    "                                                     stratify=y, #data is split in a stratified fashion, using this as the class labels\n",
    "                                                     test_size=1-i,#Iterating the size of Training data set\n",
    "                                                     random_state=28) # Set the randon state for spliting data  in same order\n",
    "\n",
    "    #Set up Decision Tree classifier with the optimal setting from Assignment #1\n",
    "    treeclf = tree.DecisionTreeClassifier(criterion = \"gini\", \n",
    "                                          random_state = 55)\n",
    "                                          #max_depth=3, \n",
    "                                          #min_samples_leaf=2)\n",
    "    #Plug in the train dataset with target class\n",
    "    treeclf = treeclf.fit(x_train, y_train)\n",
    "    #Predict y value on testing data\n",
    "    y_pre = treeclf.predict(x_test)\n",
    "\n",
    "    #Calculate the Accuracy Score of the Training and Testing Set\n",
    "    DT_train_score_lst.append(treeclf.score(x_train, y_train))\n",
    "    DT_test_score_lst.append(accuracy_score(y_test, y_pre))\n",
    "\n",
    "treeclf"
   ]
  },
  {
   "cell_type": "code",
   "execution_count": 280,
   "metadata": {},
   "outputs": [],
   "source": [
    "train_size_lst = np.arange(0.25,0.86,0.1) #Preset Size of Training Data\n",
    "nb_train_score_lst=[] #Preset the Train score list\n",
    "nb_test_score_lst=[] #Preset the Test score list\n",
    "\n",
    "for i in train_size_lst:\n",
    "\n",
    "    #Split the train set, test set, train class, test class\n",
    "    from sklearn.cross_validation import train_test_split\n",
    "    x_train,x_test,y_train,y_test = train_test_split(X, #Predictor Variables\n",
    "                                                     y, #Class labels\n",
    "                                                     stratify=y, #data is split in a stratified fashion, using this as the class labels\n",
    "                                                     test_size=1-i,#Iterating the size of Training data set\n",
    "                                                     random_state=28) # Set the randon state for spliting data  in same order\n",
    "\n",
    "   #Set up Naive Bayes classifier with ALL default setting\n",
    "    nbclf = naive_bayes.GaussianNB()\n",
    "    #Plug in the 66% of training set of data\n",
    "    nbclf=nbclf.fit(x_train,y_train)\n",
    "    #Predict y value on testing data\n",
    "    y_pre = nbclf.predict(x_test)\n",
    "\n",
    "    #Calculate the Accuracy Score of the Training and Testing Set\n",
    "    nb_train_score_lst.append(nbclf.score(x_train, y_train))\n",
    "    nb_test_score_lst.append(accuracy_score(y_test, y_pre))"
   ]
  },
  {
   "cell_type": "code",
   "execution_count": 281,
   "metadata": {},
   "outputs": [
    {
     "name": "stdout",
     "output_type": "stream",
     "text": [
      "The size of Accuracy Table (7, 4)\n"
     ]
    },
    {
     "data": {
      "text/html": [
       "<div>\n",
       "<table border=\"1\" class=\"dataframe\">\n",
       "  <thead>\n",
       "    <tr style=\"text-align: right;\">\n",
       "      <th></th>\n",
       "      <th>DT_train_Acc</th>\n",
       "      <th>DT_test_Acc</th>\n",
       "      <th>nb_train_Acc</th>\n",
       "      <th>nb_test_Acc</th>\n",
       "    </tr>\n",
       "  </thead>\n",
       "  <tbody>\n",
       "    <tr>\n",
       "      <th>0.25</th>\n",
       "      <td>1.0</td>\n",
       "      <td>0.535000</td>\n",
       "      <td>0.491228</td>\n",
       "      <td>0.449167</td>\n",
       "    </tr>\n",
       "    <tr>\n",
       "      <th>0.35</th>\n",
       "      <td>1.0</td>\n",
       "      <td>0.525000</td>\n",
       "      <td>0.531306</td>\n",
       "      <td>0.505769</td>\n",
       "    </tr>\n",
       "    <tr>\n",
       "      <th>0.45</th>\n",
       "      <td>1.0</td>\n",
       "      <td>0.527273</td>\n",
       "      <td>0.553547</td>\n",
       "      <td>0.552273</td>\n",
       "    </tr>\n",
       "    <tr>\n",
       "      <th>0.55</th>\n",
       "      <td>1.0</td>\n",
       "      <td>0.600000</td>\n",
       "      <td>0.566553</td>\n",
       "      <td>0.558333</td>\n",
       "    </tr>\n",
       "    <tr>\n",
       "      <th>0.65</th>\n",
       "      <td>1.0</td>\n",
       "      <td>0.614286</td>\n",
       "      <td>0.570741</td>\n",
       "      <td>0.567857</td>\n",
       "    </tr>\n",
       "    <tr>\n",
       "      <th>0.75</th>\n",
       "      <td>1.0</td>\n",
       "      <td>0.600000</td>\n",
       "      <td>0.556297</td>\n",
       "      <td>0.567500</td>\n",
       "    </tr>\n",
       "    <tr>\n",
       "      <th>0.85</th>\n",
       "      <td>1.0</td>\n",
       "      <td>0.641667</td>\n",
       "      <td>0.562178</td>\n",
       "      <td>0.566667</td>\n",
       "    </tr>\n",
       "  </tbody>\n",
       "</table>\n",
       "</div>"
      ],
      "text/plain": [
       "      DT_train_Acc  DT_test_Acc  nb_train_Acc  nb_test_Acc\n",
       "0.25           1.0     0.535000      0.491228     0.449167\n",
       "0.35           1.0     0.525000      0.531306     0.505769\n",
       "0.45           1.0     0.527273      0.553547     0.552273\n",
       "0.55           1.0     0.600000      0.566553     0.558333\n",
       "0.65           1.0     0.614286      0.570741     0.567857\n",
       "0.75           1.0     0.600000      0.556297     0.567500\n",
       "0.85           1.0     0.641667      0.562178     0.566667"
      ]
     },
     "execution_count": 281,
     "metadata": {},
     "output_type": "execute_result"
    }
   ],
   "source": [
    "df2 = pd.DataFrame(list(zip(DT_train_score_lst, DT_test_score_lst,nb_train_score_lst,nb_test_score_lst)), \n",
    "             columns = ['DT_train_Acc','DT_test_Acc','nb_train_Acc','nb_test_Acc'],\n",
    "            index = np.arange(0.25,0.86,0.1))\n",
    "print(\"The size of Accuracy Table\",df2.shape)\n",
    "df2"
   ]
  },
  {
   "cell_type": "code",
   "execution_count": 282,
   "metadata": {},
   "outputs": [
    {
     "name": "stdout",
     "output_type": "stream",
     "text": [
      "(7, 4)\n",
      "      DT_Resubstition_Err  DT_Generalization_Err  nb_Resubstition_Err  \\\n",
      "0.25                  0.0               0.465000             0.508772   \n",
      "0.35                  0.0               0.475000             0.468694   \n",
      "0.45                  0.0               0.472727             0.446453   \n",
      "0.55                  0.0               0.400000             0.433447   \n",
      "0.65                  0.0               0.385714             0.429259   \n",
      "0.75                  0.0               0.400000             0.443703   \n",
      "0.85                  0.0               0.358333             0.437822   \n",
      "\n",
      "      nb_Generalization_Err  \n",
      "0.25               0.550833  \n",
      "0.35               0.494231  \n",
      "0.45               0.447727  \n",
      "0.55               0.441667  \n",
      "0.65               0.432143  \n",
      "0.75               0.432500  \n",
      "0.85               0.433333  \n"
     ]
    },
    {
     "data": {
      "image/png": "[encoded data removed]",
      "text/plain": [
       "<matplotlib.figure.Figure at 0x11a4c2e48>"
      ]
     },
     "metadata": {},
     "output_type": "display_data"
    }
   ],
   "source": [
    "df3=np.ones(df2.shape)\n",
    "df3=pd.DataFrame(df3, index = np.arange(0.25,0.86,0.1) )\n",
    "Err_df= pd.DataFrame(df3.values-df2.values, \n",
    "                     index= np.arange(0.25,0.86,0.1), \n",
    "                     columns = ['DT_Resubstition_Err',\n",
    "                                'DT_Generalization_Err',\n",
    "                                'nb_Resubstition_Err',\n",
    "                                'nb_Generalization_Err'])\n",
    "print(Err_df.shape)\n",
    "print(Err_df)\n",
    "\n",
    "Err_df.plot(x=Err_df.index.values, figsize=(10,5))\n",
    "plt.title(\"Resubstituation Error and Generalization Error VS Size of Training Data\")\n",
    "plt.xlabel(\"Size of Training Data of Overall (%)\")\n",
    "plt.ylabel(\"Error Rate (%)\")\n",
    "plt.show()"
   ]
  },
  {
   "cell_type": "markdown",
   "metadata": {},
   "source": [
    "##Extra Credit: White winered data (Repeat Problem 2)"
   ]
  },
  {
   "cell_type": "code",
   "execution_count": 283,
   "metadata": {},
   "outputs": [
    {
     "name": "stdout",
     "output_type": "stream",
     "text": [
      "(4898, 12)\n"
     ]
    },
    {
     "data": {
      "text/html": [
       "<div>\n",
       "<table border=\"1\" class=\"dataframe\">\n",
       "  <thead>\n",
       "    <tr style=\"text-align: right;\">\n",
       "      <th></th>\n",
       "      <th>fixed acidity</th>\n",
       "      <th>volatile acidity</th>\n",
       "      <th>citric acid</th>\n",
       "      <th>residual sugar</th>\n",
       "      <th>chlorides</th>\n",
       "      <th>free sulfur dioxide</th>\n",
       "      <th>total sulfur dioxide</th>\n",
       "      <th>density</th>\n",
       "      <th>pH</th>\n",
       "      <th>sulphates</th>\n",
       "      <th>alcohol</th>\n",
       "      <th>quality</th>\n",
       "    </tr>\n",
       "  </thead>\n",
       "  <tbody>\n",
       "    <tr>\n",
       "      <th>0</th>\n",
       "      <td>7.0</td>\n",
       "      <td>0.27</td>\n",
       "      <td>0.36</td>\n",
       "      <td>20.7</td>\n",
       "      <td>0.045</td>\n",
       "      <td>45.0</td>\n",
       "      <td>170.0</td>\n",
       "      <td>1.0010</td>\n",
       "      <td>3.00</td>\n",
       "      <td>0.45</td>\n",
       "      <td>8.8</td>\n",
       "      <td>6</td>\n",
       "    </tr>\n",
       "    <tr>\n",
       "      <th>1</th>\n",
       "      <td>6.3</td>\n",
       "      <td>0.30</td>\n",
       "      <td>0.34</td>\n",
       "      <td>1.6</td>\n",
       "      <td>0.049</td>\n",
       "      <td>14.0</td>\n",
       "      <td>132.0</td>\n",
       "      <td>0.9940</td>\n",
       "      <td>3.30</td>\n",
       "      <td>0.49</td>\n",
       "      <td>9.5</td>\n",
       "      <td>6</td>\n",
       "    </tr>\n",
       "    <tr>\n",
       "      <th>2</th>\n",
       "      <td>8.1</td>\n",
       "      <td>0.28</td>\n",
       "      <td>0.40</td>\n",
       "      <td>6.9</td>\n",
       "      <td>0.050</td>\n",
       "      <td>30.0</td>\n",
       "      <td>97.0</td>\n",
       "      <td>0.9951</td>\n",
       "      <td>3.26</td>\n",
       "      <td>0.44</td>\n",
       "      <td>10.1</td>\n",
       "      <td>6</td>\n",
       "    </tr>\n",
       "  </tbody>\n",
       "</table>\n",
       "</div>"
      ],
      "text/plain": [
       "   fixed acidity  volatile acidity  citric acid  residual sugar  chlorides  \\\n",
       "0            7.0              0.27         0.36            20.7      0.045   \n",
       "1            6.3              0.30         0.34             1.6      0.049   \n",
       "2            8.1              0.28         0.40             6.9      0.050   \n",
       "\n",
       "   free sulfur dioxide  total sulfur dioxide  density    pH  sulphates  \\\n",
       "0                 45.0                 170.0   1.0010  3.00       0.45   \n",
       "1                 14.0                 132.0   0.9940  3.30       0.49   \n",
       "2                 30.0                  97.0   0.9951  3.26       0.44   \n",
       "\n",
       "   alcohol  quality  \n",
       "0      8.8        6  \n",
       "1      9.5        6  \n",
       "2     10.1        6  "
      ]
     },
     "execution_count": 283,
     "metadata": {},
     "output_type": "execute_result"
    }
   ],
   "source": [
    "winered_white = pd.read_csv(\"https://archive.ics.uci.edu/ml/machine-learning-databases/wine-quality/winequality-white.csv\", \n",
    "                      sep=\";\")\n",
    "\n",
    "print(winered_white.shape) #Check the dimenisions of winered dataset\n",
    "winered_white.head(3) #Check the top lines "
   ]
  },
  {
   "cell_type": "code",
   "execution_count": 284,
   "metadata": {},
   "outputs": [
    {
     "data": {
      "text/plain": [
       "6    2198\n",
       "5    1457\n",
       "7     880\n",
       "8     175\n",
       "4     163\n",
       "3      20\n",
       "9       5\n",
       "Name: quality, dtype: int64"
      ]
     },
     "execution_count": 284,
     "metadata": {},
     "output_type": "execute_result"
    }
   ],
   "source": [
    "#Check the number of Class labels\n",
    "winered_white.quality.value_counts()"
   ]
  },
  {
   "cell_type": "code",
   "execution_count": 285,
   "metadata": {},
   "outputs": [
    {
     "data": {
      "text/html": [
       "<div>\n",
       "<table border=\"1\" class=\"dataframe\">\n",
       "  <thead>\n",
       "    <tr style=\"text-align: right;\">\n",
       "      <th></th>\n",
       "      <th>fixed acidity</th>\n",
       "      <th>volatile acidity</th>\n",
       "      <th>citric acid</th>\n",
       "      <th>residual sugar</th>\n",
       "      <th>chlorides</th>\n",
       "      <th>free sulfur dioxide</th>\n",
       "      <th>total sulfur dioxide</th>\n",
       "      <th>density</th>\n",
       "      <th>pH</th>\n",
       "      <th>sulphates</th>\n",
       "      <th>alcohol</th>\n",
       "    </tr>\n",
       "  </thead>\n",
       "  <tbody>\n",
       "    <tr>\n",
       "      <th>0</th>\n",
       "      <td>7.0</td>\n",
       "      <td>0.27</td>\n",
       "      <td>0.36</td>\n",
       "      <td>20.7</td>\n",
       "      <td>0.045</td>\n",
       "      <td>45.0</td>\n",
       "      <td>170.0</td>\n",
       "      <td>1.0010</td>\n",
       "      <td>3.00</td>\n",
       "      <td>0.45</td>\n",
       "      <td>8.8</td>\n",
       "    </tr>\n",
       "    <tr>\n",
       "      <th>1</th>\n",
       "      <td>6.3</td>\n",
       "      <td>0.30</td>\n",
       "      <td>0.34</td>\n",
       "      <td>1.6</td>\n",
       "      <td>0.049</td>\n",
       "      <td>14.0</td>\n",
       "      <td>132.0</td>\n",
       "      <td>0.9940</td>\n",
       "      <td>3.30</td>\n",
       "      <td>0.49</td>\n",
       "      <td>9.5</td>\n",
       "    </tr>\n",
       "    <tr>\n",
       "      <th>2</th>\n",
       "      <td>8.1</td>\n",
       "      <td>0.28</td>\n",
       "      <td>0.40</td>\n",
       "      <td>6.9</td>\n",
       "      <td>0.050</td>\n",
       "      <td>30.0</td>\n",
       "      <td>97.0</td>\n",
       "      <td>0.9951</td>\n",
       "      <td>3.26</td>\n",
       "      <td>0.44</td>\n",
       "      <td>10.1</td>\n",
       "    </tr>\n",
       "    <tr>\n",
       "      <th>3</th>\n",
       "      <td>7.2</td>\n",
       "      <td>0.23</td>\n",
       "      <td>0.32</td>\n",
       "      <td>8.5</td>\n",
       "      <td>0.058</td>\n",
       "      <td>47.0</td>\n",
       "      <td>186.0</td>\n",
       "      <td>0.9956</td>\n",
       "      <td>3.19</td>\n",
       "      <td>0.40</td>\n",
       "      <td>9.9</td>\n",
       "    </tr>\n",
       "    <tr>\n",
       "      <th>4</th>\n",
       "      <td>7.2</td>\n",
       "      <td>0.23</td>\n",
       "      <td>0.32</td>\n",
       "      <td>8.5</td>\n",
       "      <td>0.058</td>\n",
       "      <td>47.0</td>\n",
       "      <td>186.0</td>\n",
       "      <td>0.9956</td>\n",
       "      <td>3.19</td>\n",
       "      <td>0.40</td>\n",
       "      <td>9.9</td>\n",
       "    </tr>\n",
       "  </tbody>\n",
       "</table>\n",
       "</div>"
      ],
      "text/plain": [
       "   fixed acidity  volatile acidity  citric acid  residual sugar  chlorides  \\\n",
       "0            7.0              0.27         0.36            20.7      0.045   \n",
       "1            6.3              0.30         0.34             1.6      0.049   \n",
       "2            8.1              0.28         0.40             6.9      0.050   \n",
       "3            7.2              0.23         0.32             8.5      0.058   \n",
       "4            7.2              0.23         0.32             8.5      0.058   \n",
       "\n",
       "   free sulfur dioxide  total sulfur dioxide  density    pH  sulphates  \\\n",
       "0                 45.0                 170.0   1.0010  3.00       0.45   \n",
       "1                 14.0                 132.0   0.9940  3.30       0.49   \n",
       "2                 30.0                  97.0   0.9951  3.26       0.44   \n",
       "3                 47.0                 186.0   0.9956  3.19       0.40   \n",
       "4                 47.0                 186.0   0.9956  3.19       0.40   \n",
       "\n",
       "   alcohol  \n",
       "0      8.8  \n",
       "1      9.5  \n",
       "2     10.1  \n",
       "3      9.9  \n",
       "4      9.9  "
      ]
     },
     "execution_count": 285,
     "metadata": {},
     "output_type": "execute_result"
    }
   ],
   "source": [
    "#Assign predictor variables to new table\n",
    "X=winered_white.ix[:,0:-1]\n",
    "X.head(5)"
   ]
  },
  {
   "cell_type": "code",
   "execution_count": 286,
   "metadata": {},
   "outputs": [
    {
     "data": {
      "text/plain": [
       "6    2198\n",
       "5    1457\n",
       "7     880\n",
       "8     175\n",
       "4     163\n",
       "3      20\n",
       "9       5\n",
       "Name: quality, dtype: int64"
      ]
     },
     "execution_count": 286,
     "metadata": {},
     "output_type": "execute_result"
    }
   ],
   "source": [
    "#Assign Target Class labels to a new table\n",
    "y=winered_white.ix[:,-1]\n",
    "y.value_counts()"
   ]
  },
  {
   "cell_type": "code",
   "execution_count": 287,
   "metadata": {},
   "outputs": [
    {
     "data": {
      "text/plain": [
       "DecisionTreeClassifier(class_weight=None, criterion='gini', max_depth=None,\n",
       "            max_features=None, max_leaf_nodes=None,\n",
       "            min_impurity_split=1e-07, min_samples_leaf=1,\n",
       "            min_samples_split=2, min_weight_fraction_leaf=0.0,\n",
       "            presort=False, random_state=28, splitter='best')"
      ]
     },
     "execution_count": 287,
     "metadata": {},
     "output_type": "execute_result"
    }
   ],
   "source": [
    "train_size_lst = np.arange(0.25,0.86,0.1) #Preset Size of Training Data\n",
    "DT_train_score_lst=[] #Preset the Train score list\n",
    "DT_test_score_lst=[] #Preset the Test score list\n",
    "\n",
    "for i in train_size_lst:\n",
    "\n",
    "    #Split the train set, test set, train class, test class\n",
    "    from sklearn.cross_validation import train_test_split\n",
    "    x_train,x_test,y_train,y_test = train_test_split(X, #Predictor Variables\n",
    "                                                     y, #Class labels\n",
    "                                                     stratify=y, #data is split in a stratified fashion, using this as the class labels\n",
    "                                                     test_size=1-i,#Iterating the size of Training data set\n",
    "                                                     random_state=28) # Set the randon state for spliting data  in same order\n",
    "\n",
    "    #Set up Decision Tree classifier with the optimal setting from Assignment #1\n",
    "    treeclf = tree.DecisionTreeClassifier(criterion = \"gini\", \n",
    "                                          random_state = 28)\n",
    "                                          #max_depth=3, \n",
    "                                          #min_samples_leaf=2)\n",
    "    #Plug in the train dataset with target class\n",
    "    treeclf = treeclf.fit(x_train, y_train)\n",
    "    #Predict y value on testing data\n",
    "    y_pre = treeclf.predict(x_test)\n",
    "\n",
    "    #Calculate the Accuracy Score of the Training and Testing Set\n",
    "    DT_train_score_lst.append(treeclf.score(x_train, y_train))\n",
    "    DT_test_score_lst.append(accuracy_score(y_test, y_pre))\n",
    "\n",
    "treeclf"
   ]
  },
  {
   "cell_type": "code",
   "execution_count": 288,
   "metadata": {},
   "outputs": [],
   "source": [
    "train_size_lst = np.arange(0.25,0.86,0.1) #Preset Size of Training Data\n",
    "nb_train_score_lst=[] #Preset the Train score list\n",
    "nb_test_score_lst=[] #Preset the Test score list\n",
    "\n",
    "for i in train_size_lst:\n",
    "\n",
    "    #Split the train set, test set, train class, test class\n",
    "    from sklearn.cross_validation import train_test_split\n",
    "    x_train,x_test,y_train,y_test = train_test_split(X, #Predictor Variables\n",
    "                                                     y, #Class labels\n",
    "                                                     stratify=y, #data is split in a stratified fashion, using this as the class labels\n",
    "                                                     test_size=1-i,#Iterating the size of Training data set\n",
    "                                                     random_state=28) # Set the randon state for spliting data  in same order\n",
    "\n",
    "   #Set up Naive Bayes classifier with ALL default setting\n",
    "    nbclf = naive_bayes.GaussianNB()\n",
    "    #Plug in the 66% of training set of data\n",
    "    nbclf=nbclf.fit(x_train,y_train)\n",
    "    #Predict y value on testing data\n",
    "    y_pre = nbclf.predict(x_test)\n",
    "\n",
    "    #Calculate the Accuracy Score of the Training and Testing Set\n",
    "    nb_train_score_lst.append(nbclf.score(x_train, y_train))\n",
    "    nb_test_score_lst.append(accuracy_score(y_test, y_pre))"
   ]
  },
  {
   "cell_type": "code",
   "execution_count": 289,
   "metadata": {},
   "outputs": [
    {
     "name": "stdout",
     "output_type": "stream",
     "text": [
      "The size of Accuracy Table (7, 4)\n"
     ]
    },
    {
     "data": {
      "text/html": [
       "<div>\n",
       "<table border=\"1\" class=\"dataframe\">\n",
       "  <thead>\n",
       "    <tr style=\"text-align: right;\">\n",
       "      <th></th>\n",
       "      <th>DT_train_Acc</th>\n",
       "      <th>DT_test_Acc</th>\n",
       "      <th>nb_train_Acc</th>\n",
       "      <th>nb_test_Acc</th>\n",
       "    </tr>\n",
       "  </thead>\n",
       "  <tbody>\n",
       "    <tr>\n",
       "      <th>0.25</th>\n",
       "      <td>1.0</td>\n",
       "      <td>0.511704</td>\n",
       "      <td>0.467320</td>\n",
       "      <td>0.448285</td>\n",
       "    </tr>\n",
       "    <tr>\n",
       "      <th>0.35</th>\n",
       "      <td>1.0</td>\n",
       "      <td>0.529837</td>\n",
       "      <td>0.455659</td>\n",
       "      <td>0.440955</td>\n",
       "    </tr>\n",
       "    <tr>\n",
       "      <th>0.45</th>\n",
       "      <td>1.0</td>\n",
       "      <td>0.533036</td>\n",
       "      <td>0.455989</td>\n",
       "      <td>0.438753</td>\n",
       "    </tr>\n",
       "    <tr>\n",
       "      <th>0.55</th>\n",
       "      <td>1.0</td>\n",
       "      <td>0.561451</td>\n",
       "      <td>0.451170</td>\n",
       "      <td>0.453515</td>\n",
       "    </tr>\n",
       "    <tr>\n",
       "      <th>0.65</th>\n",
       "      <td>1.0</td>\n",
       "      <td>0.590087</td>\n",
       "      <td>0.454917</td>\n",
       "      <td>0.443732</td>\n",
       "    </tr>\n",
       "    <tr>\n",
       "      <th>0.75</th>\n",
       "      <td>1.0</td>\n",
       "      <td>0.608163</td>\n",
       "      <td>0.451674</td>\n",
       "      <td>0.434286</td>\n",
       "    </tr>\n",
       "    <tr>\n",
       "      <th>0.85</th>\n",
       "      <td>1.0</td>\n",
       "      <td>0.634014</td>\n",
       "      <td>0.449195</td>\n",
       "      <td>0.423129</td>\n",
       "    </tr>\n",
       "  </tbody>\n",
       "</table>\n",
       "</div>"
      ],
      "text/plain": [
       "      DT_train_Acc  DT_test_Acc  nb_train_Acc  nb_test_Acc\n",
       "0.25           1.0     0.511704      0.467320     0.448285\n",
       "0.35           1.0     0.529837      0.455659     0.440955\n",
       "0.45           1.0     0.533036      0.455989     0.438753\n",
       "0.55           1.0     0.561451      0.451170     0.453515\n",
       "0.65           1.0     0.590087      0.454917     0.443732\n",
       "0.75           1.0     0.608163      0.451674     0.434286\n",
       "0.85           1.0     0.634014      0.449195     0.423129"
      ]
     },
     "execution_count": 289,
     "metadata": {},
     "output_type": "execute_result"
    }
   ],
   "source": [
    "df2 = pd.DataFrame(list(zip(DT_train_score_lst, DT_test_score_lst,nb_train_score_lst,nb_test_score_lst)), \n",
    "             columns = ['DT_train_Acc','DT_test_Acc','nb_train_Acc','nb_test_Acc'],\n",
    "            index = np.arange(0.25,0.86,0.1))\n",
    "print(\"The size of Accuracy Table\",df2.shape)\n",
    "df2"
   ]
  },
  {
   "cell_type": "code",
   "execution_count": 290,
   "metadata": {},
   "outputs": [
    {
     "name": "stdout",
     "output_type": "stream",
     "text": [
      "(7, 4)\n",
      "      DT_Resubstition_Err  DT_Generalization_Err  nb_Resubstition_Err  \\\n",
      "0.25                  0.0               0.488296             0.532680   \n",
      "0.35                  0.0               0.470163             0.544341   \n",
      "0.45                  0.0               0.466964             0.544011   \n",
      "0.55                  0.0               0.438549             0.548830   \n",
      "0.65                  0.0               0.409913             0.545083   \n",
      "0.75                  0.0               0.391837             0.548326   \n",
      "0.85                  0.0               0.365986             0.550805   \n",
      "\n",
      "      nb_Generalization_Err  \n",
      "0.25               0.551715  \n",
      "0.35               0.559045  \n",
      "0.45               0.561247  \n",
      "0.55               0.546485  \n",
      "0.65               0.556268  \n",
      "0.75               0.565714  \n",
      "0.85               0.576871  \n"
     ]
    },
    {
     "data": {
      "image/png": "[encoded data removed]",
      "text/plain": [
       "<matplotlib.figure.Figure at 0x11d519c50>"
      ]
     },
     "metadata": {},
     "output_type": "display_data"
    }
   ],
   "source": [
    "df3=np.ones(df2.shape)\n",
    "df3=pd.DataFrame(df3, index = np.arange(0.25,0.86,0.1) )\n",
    "Err_df= pd.DataFrame(df3.values-df2.values, \n",
    "                     index= np.arange(0.25,0.86,0.1), \n",
    "                     columns = ['DT_Resubstition_Err',\n",
    "                                'DT_Generalization_Err',\n",
    "                                'nb_Resubstition_Err',\n",
    "                                'nb_Generalization_Err'])\n",
    "print(Err_df.shape)\n",
    "print(Err_df)\n",
    "\n",
    "Err_df.plot(x=Err_df.index.values, figsize=(10,5))\n",
    "plt.title(\"Resubstituation Error and Generalization Error VS Size of Training Data\")\n",
    "plt.xlabel(\"Size of Training Data of Overall (%)\")\n",
    "plt.ylabel(\"Error Rate (%)\")\n",
    "plt.show()"
   ]
  },
  {
   "cell_type": "markdown",
   "metadata": {},
   "source": []
  },
  {
   "cell_type": "markdown",
   "metadata": {},
   "source": [
    "##Extra Credit: banknote data (Repeat Problem 2)"
   ]
  },
  {
   "cell_type": "code",
   "execution_count": 291,
   "metadata": {},
   "outputs": [
    {
     "name": "stdout",
     "output_type": "stream",
     "text": [
      "0    762\n",
      "1    610\n",
      "Name: class, dtype: int64\n"
     ]
    },
    {
     "data": {
      "text/html": [
       "<div>\n",
       "<table border=\"1\" class=\"dataframe\">\n",
       "  <thead>\n",
       "    <tr style=\"text-align: right;\">\n",
       "      <th></th>\n",
       "      <th>variance</th>\n",
       "      <th>skewness</th>\n",
       "      <th>curtosis</th>\n",
       "      <th>entropy</th>\n",
       "      <th>class</th>\n",
       "    </tr>\n",
       "  </thead>\n",
       "  <tbody>\n",
       "    <tr>\n",
       "      <th>0</th>\n",
       "      <td>3.62160</td>\n",
       "      <td>8.6661</td>\n",
       "      <td>-2.8073</td>\n",
       "      <td>-0.44699</td>\n",
       "      <td>0</td>\n",
       "    </tr>\n",
       "    <tr>\n",
       "      <th>1</th>\n",
       "      <td>4.54590</td>\n",
       "      <td>8.1674</td>\n",
       "      <td>-2.4586</td>\n",
       "      <td>-1.46210</td>\n",
       "      <td>0</td>\n",
       "    </tr>\n",
       "    <tr>\n",
       "      <th>2</th>\n",
       "      <td>3.86600</td>\n",
       "      <td>-2.6383</td>\n",
       "      <td>1.9242</td>\n",
       "      <td>0.10645</td>\n",
       "      <td>0</td>\n",
       "    </tr>\n",
       "    <tr>\n",
       "      <th>3</th>\n",
       "      <td>3.45660</td>\n",
       "      <td>9.5228</td>\n",
       "      <td>-4.0112</td>\n",
       "      <td>-3.59440</td>\n",
       "      <td>0</td>\n",
       "    </tr>\n",
       "    <tr>\n",
       "      <th>4</th>\n",
       "      <td>0.32924</td>\n",
       "      <td>-4.4552</td>\n",
       "      <td>4.5718</td>\n",
       "      <td>-0.98880</td>\n",
       "      <td>0</td>\n",
       "    </tr>\n",
       "  </tbody>\n",
       "</table>\n",
       "</div>"
      ],
      "text/plain": [
       "   variance  skewness  curtosis  entropy  class\n",
       "0   3.62160    8.6661   -2.8073 -0.44699      0\n",
       "1   4.54590    8.1674   -2.4586 -1.46210      0\n",
       "2   3.86600   -2.6383    1.9242  0.10645      0\n",
       "3   3.45660    9.5228   -4.0112 -3.59440      0\n",
       "4   0.32924   -4.4552    4.5718 -0.98880      0"
      ]
     },
     "execution_count": 291,
     "metadata": {},
     "output_type": "execute_result"
    }
   ],
   "source": [
    "banknote = pd.read_csv(\"https://archive.ics.uci.edu/ml/machine-learning-databases/00267/data_banknote_authentication.txt\",\n",
    "                      header=None,\n",
    "                      names=[\"variance\",\"skewness\",\"curtosis\",\"entropy\",\"class\"])\n",
    "\n",
    "\n",
    "print(banknote[\"class\"].value_counts())\n",
    "banknote.head(5)"
   ]
  },
  {
   "cell_type": "code",
   "execution_count": 292,
   "metadata": {},
   "outputs": [
    {
     "data": {
      "text/html": [
       "<div>\n",
       "<table border=\"1\" class=\"dataframe\">\n",
       "  <thead>\n",
       "    <tr style=\"text-align: right;\">\n",
       "      <th></th>\n",
       "      <th>variance</th>\n",
       "      <th>skewness</th>\n",
       "      <th>curtosis</th>\n",
       "      <th>entropy</th>\n",
       "    </tr>\n",
       "  </thead>\n",
       "  <tbody>\n",
       "    <tr>\n",
       "      <th>0</th>\n",
       "      <td>3.62160</td>\n",
       "      <td>8.6661</td>\n",
       "      <td>-2.8073</td>\n",
       "      <td>-0.44699</td>\n",
       "    </tr>\n",
       "    <tr>\n",
       "      <th>1</th>\n",
       "      <td>4.54590</td>\n",
       "      <td>8.1674</td>\n",
       "      <td>-2.4586</td>\n",
       "      <td>-1.46210</td>\n",
       "    </tr>\n",
       "    <tr>\n",
       "      <th>2</th>\n",
       "      <td>3.86600</td>\n",
       "      <td>-2.6383</td>\n",
       "      <td>1.9242</td>\n",
       "      <td>0.10645</td>\n",
       "    </tr>\n",
       "    <tr>\n",
       "      <th>3</th>\n",
       "      <td>3.45660</td>\n",
       "      <td>9.5228</td>\n",
       "      <td>-4.0112</td>\n",
       "      <td>-3.59440</td>\n",
       "    </tr>\n",
       "    <tr>\n",
       "      <th>4</th>\n",
       "      <td>0.32924</td>\n",
       "      <td>-4.4552</td>\n",
       "      <td>4.5718</td>\n",
       "      <td>-0.98880</td>\n",
       "    </tr>\n",
       "  </tbody>\n",
       "</table>\n",
       "</div>"
      ],
      "text/plain": [
       "   variance  skewness  curtosis  entropy\n",
       "0   3.62160    8.6661   -2.8073 -0.44699\n",
       "1   4.54590    8.1674   -2.4586 -1.46210\n",
       "2   3.86600   -2.6383    1.9242  0.10645\n",
       "3   3.45660    9.5228   -4.0112 -3.59440\n",
       "4   0.32924   -4.4552    4.5718 -0.98880"
      ]
     },
     "execution_count": 292,
     "metadata": {},
     "output_type": "execute_result"
    }
   ],
   "source": [
    "#Assign predictor variables to new table\n",
    "X=banknote.ix[:,0:-1]\n",
    "X.head(5)"
   ]
  },
  {
   "cell_type": "code",
   "execution_count": 293,
   "metadata": {},
   "outputs": [
    {
     "data": {
      "text/plain": [
       "0    762\n",
       "1    610\n",
       "Name: class, dtype: int64"
      ]
     },
     "execution_count": 293,
     "metadata": {},
     "output_type": "execute_result"
    }
   ],
   "source": [
    "#Assign Target Class labels to a new table\n",
    "y=banknote.ix[:,-1]\n",
    "y.value_counts()"
   ]
  },
  {
   "cell_type": "code",
   "execution_count": 294,
   "metadata": {},
   "outputs": [],
   "source": [
    "train_size_lst = np.arange(0.25,0.86,0.1) #Preset Size of Training Data\n",
    "DT_train_score_lst=[] #Preset the Train score list\n",
    "DT_test_score_lst=[] #Preset the Test score list\n",
    "\n",
    "for i in train_size_lst:\n",
    "\n",
    "    #Split the train set, test set, train class, test class\n",
    "    from sklearn.cross_validation import train_test_split\n",
    "    x_train,x_test,y_train,y_test = train_test_split(X, #Predictor Variables\n",
    "                                                     y, #Class labels\n",
    "                                                     stratify=y, #data is split in a stratified fashion, using this as the class labels\n",
    "                                                     test_size=1-i,#Iterating the size of Training data set\n",
    "                                                     random_state=28) # Set the randon state for spliting data  in same order\n",
    "\n",
    "    #Set up Decision Tree classifier with the optimal setting from Assignment #1\n",
    "    treeclf = tree.DecisionTreeClassifier(criterion = \"gini\", \n",
    "                                          random_state = 28)\n",
    "#                                          max_depth=3, \n",
    " #                                         min_samples_leaf=2)\n",
    "    #Plug in the train dataset with target class\n",
    "    treeclf = treeclf.fit(x_train, y_train)\n",
    "    #Predict y value on testing data\n",
    "    y_pre = treeclf.predict(x_test)\n",
    "\n",
    "    #Calculate the Accuracy Score of the Training and Testing Set\n",
    "    DT_train_score_lst.append(treeclf.score(x_train, y_train))\n",
    "    DT_test_score_lst.append(accuracy_score(y_test, y_pre))"
   ]
  },
  {
   "cell_type": "code",
   "execution_count": 295,
   "metadata": {},
   "outputs": [],
   "source": [
    "train_size_lst = np.arange(0.25,0.86,0.1) #Preset Size of Training Data\n",
    "nb_train_score_lst=[] #Preset the Train score list\n",
    "nb_test_score_lst=[] #Preset the Test score list\n",
    "\n",
    "for i in train_size_lst:\n",
    "\n",
    "    #Split the train set, test set, train class, test class\n",
    "    from sklearn.cross_validation import train_test_split\n",
    "    x_train,x_test,y_train,y_test = train_test_split(X, #Predictor Variables\n",
    "                                                     y, #Class labels\n",
    "                                                     stratify=y, #data is split in a stratified fashion, using this as the class labels\n",
    "                                                     test_size=1-i,#Iterating the size of Training data set\n",
    "                                                     random_state=28) # Set the randon state for spliting data  in same order\n",
    "\n",
    "   #Set up Naive Bayes classifier with ALL default setting\n",
    "    nbclf = naive_bayes.GaussianNB()\n",
    "    #Plug in the 66% of training set of data\n",
    "    nbclf=nbclf.fit(x_train,y_train)\n",
    "    #Predict y value on testing data\n",
    "    y_pre = nbclf.predict(x_test)\n",
    "\n",
    "    #Calculate the Accuracy Score of the Training and Testing Set\n",
    "    nb_train_score_lst.append(nbclf.score(x_train, y_train))\n",
    "    nb_test_score_lst.append(accuracy_score(y_test, y_pre))"
   ]
  },
  {
   "cell_type": "code",
   "execution_count": 296,
   "metadata": {},
   "outputs": [
    {
     "name": "stdout",
     "output_type": "stream",
     "text": [
      "The size of Accuracy Table (7, 4)\n"
     ]
    },
    {
     "data": {
      "text/html": [
       "<div>\n",
       "<table border=\"1\" class=\"dataframe\">\n",
       "  <thead>\n",
       "    <tr style=\"text-align: right;\">\n",
       "      <th></th>\n",
       "      <th>DT_train_Acc</th>\n",
       "      <th>DT_test_Acc</th>\n",
       "      <th>nb_train_Acc</th>\n",
       "      <th>nb_test_Acc</th>\n",
       "    </tr>\n",
       "  </thead>\n",
       "  <tbody>\n",
       "    <tr>\n",
       "      <th>0.25</th>\n",
       "      <td>1.0</td>\n",
       "      <td>0.957240</td>\n",
       "      <td>0.836735</td>\n",
       "      <td>0.816327</td>\n",
       "    </tr>\n",
       "    <tr>\n",
       "      <th>0.35</th>\n",
       "      <td>1.0</td>\n",
       "      <td>0.975336</td>\n",
       "      <td>0.839583</td>\n",
       "      <td>0.825112</td>\n",
       "    </tr>\n",
       "    <tr>\n",
       "      <th>0.45</th>\n",
       "      <td>1.0</td>\n",
       "      <td>0.970861</td>\n",
       "      <td>0.834684</td>\n",
       "      <td>0.837086</td>\n",
       "    </tr>\n",
       "    <tr>\n",
       "      <th>0.55</th>\n",
       "      <td>1.0</td>\n",
       "      <td>0.972492</td>\n",
       "      <td>0.835544</td>\n",
       "      <td>0.839806</td>\n",
       "    </tr>\n",
       "    <tr>\n",
       "      <th>0.65</th>\n",
       "      <td>1.0</td>\n",
       "      <td>0.975052</td>\n",
       "      <td>0.830527</td>\n",
       "      <td>0.846154</td>\n",
       "    </tr>\n",
       "    <tr>\n",
       "      <th>0.75</th>\n",
       "      <td>1.0</td>\n",
       "      <td>0.965116</td>\n",
       "      <td>0.829767</td>\n",
       "      <td>0.854651</td>\n",
       "    </tr>\n",
       "    <tr>\n",
       "      <th>0.85</th>\n",
       "      <td>1.0</td>\n",
       "      <td>0.975728</td>\n",
       "      <td>0.833619</td>\n",
       "      <td>0.859223</td>\n",
       "    </tr>\n",
       "  </tbody>\n",
       "</table>\n",
       "</div>"
      ],
      "text/plain": [
       "      DT_train_Acc  DT_test_Acc  nb_train_Acc  nb_test_Acc\n",
       "0.25           1.0     0.957240      0.836735     0.816327\n",
       "0.35           1.0     0.975336      0.839583     0.825112\n",
       "0.45           1.0     0.970861      0.834684     0.837086\n",
       "0.55           1.0     0.972492      0.835544     0.839806\n",
       "0.65           1.0     0.975052      0.830527     0.846154\n",
       "0.75           1.0     0.965116      0.829767     0.854651\n",
       "0.85           1.0     0.975728      0.833619     0.859223"
      ]
     },
     "execution_count": 296,
     "metadata": {},
     "output_type": "execute_result"
    }
   ],
   "source": [
    "df2 = pd.DataFrame(list(zip(DT_train_score_lst, DT_test_score_lst,nb_train_score_lst,nb_test_score_lst)), \n",
    "             columns = ['DT_train_Acc','DT_test_Acc','nb_train_Acc','nb_test_Acc'],\n",
    "            index = np.arange(0.25,0.86,0.1))\n",
    "print(\"The size of Accuracy Table\",df2.shape)\n",
    "df2"
   ]
  },
  {
   "cell_type": "code",
   "execution_count": 297,
   "metadata": {},
   "outputs": [
    {
     "name": "stdout",
     "output_type": "stream",
     "text": [
      "(7, 4)\n",
      "      DT_Resubstition_Err  DT_Generalization_Err  nb_Resubstition_Err  \\\n",
      "0.25                  0.0               0.042760             0.163265   \n",
      "0.35                  0.0               0.024664             0.160417   \n",
      "0.45                  0.0               0.029139             0.165316   \n",
      "0.55                  0.0               0.027508             0.164456   \n",
      "0.65                  0.0               0.024948             0.169473   \n",
      "0.75                  0.0               0.034884             0.170233   \n",
      "0.85                  0.0               0.024272             0.166381   \n",
      "\n",
      "      nb_Generalization_Err  \n",
      "0.25               0.183673  \n",
      "0.35               0.174888  \n",
      "0.45               0.162914  \n",
      "0.55               0.160194  \n",
      "0.65               0.153846  \n",
      "0.75               0.145349  \n",
      "0.85               0.140777  \n"
     ]
    },
    {
     "data": {
      "image/png": "[encoded data removed]",
      "text/plain": [
       "<matplotlib.figure.Figure at 0x11d550198>"
      ]
     },
     "metadata": {},
     "output_type": "display_data"
    }
   ],
   "source": [
    "df3=np.ones(df2.shape)\n",
    "df3=pd.DataFrame(df3, index = np.arange(0.25,0.86,0.1) )\n",
    "Err_df= pd.DataFrame(df3.values-df2.values, \n",
    "                     index= np.arange(0.25,0.86,0.1), \n",
    "                     columns = ['DT_Resubstition_Err',\n",
    "                                'DT_Generalization_Err',\n",
    "                                'nb_Resubstition_Err',\n",
    "                                'nb_Generalization_Err'])\n",
    "print(Err_df.shape)\n",
    "print(Err_df)\n",
    "\n",
    "Err_df.plot(x=Err_df.index.values, figsize=(10,5))\n",
    "plt.title(\"Resubstituation Error and Generalization Error VS Size of Training Data\")\n",
    "plt.xlabel(\"Size of Training Data of Overall (%)\")\n",
    "plt.ylabel(\"Error Rate (%)\")\n",
    "plt.show()"
   ]
  },
  {
   "cell_type": "markdown",
   "metadata": {},
   "source": [
    "##Extra Credit: banknote data (Repeat Problem 2)\n",
    "\n",
    "Ans\n",
    "\n",
    "Based on the above analysis on the banknote dataset, we could observe that the error rate on the Descision Tree performs a lot better than the Naive Bayes Model. When we look at the error rates on the D.T Model, the Resubstition Error on training dataset is almost ZERO which means this analysis on Training set is almost perfect, the Error Rate on Testing set is very flat throughout the increments of the size of Training set, but the gap (2.5%) of Resubstition error and Generalization Error is small enough to be considered a very acceptable result.\n",
    "\n",
    "On the other hand, the result on the Naive Bayes Model is not as good as the Decision Tree Model. First of all, the Resubstitution error is larger than the Generalization error after pass the 43% of Training Data Samples. This incident might imply that the model has underfitting problem. According to the above, I would propose to choose the Decision Tree Model for the final answer. Also, The above classification result from Decision Tree is a lot better than Naive Bayes might be due to lesser Class Labels are required to be classified in this Dataset. We should try to use Ensemble Classification technique to further analysis. \n",
    "\n"
   ]
  }
 ],
 "metadata": {
  "kernelspec": {
   "display_name": "Python 3",
   "language": "python",
   "name": "python3"
  },
  "language_info": {
   "codemirror_mode": {
    "name": "ipython",
    "version": 3
   },
   "file_extension": ".py",
   "mimetype": "text/x-python",
   "name": "python",
   "nbconvert_exporter": "python",
   "pygments_lexer": "ipython3",
   "version": "3.6.0"
  }
 },
 "nbformat": 4,
 "nbformat_minor": 2
}
