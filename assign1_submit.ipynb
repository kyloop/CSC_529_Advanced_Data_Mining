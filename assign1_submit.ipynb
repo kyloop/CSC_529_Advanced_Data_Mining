{
 "cells": [
  {
   "cell_type": "markdown",
   "metadata": {},
   "source": [
    "##Problem 1a."
   ]
  },
  {
   "cell_type": "code",
   "execution_count": 2,
   "metadata": {
    "collapsed": true
   },
   "outputs": [],
   "source": [
    "import pandas as pd\n",
    "import numpy as np\n",
    "import matplotlib.pyplot as plt\n"
   ]
  },
  {
   "cell_type": "code",
   "execution_count": 3,
   "metadata": {},
   "outputs": [
    {
     "data": {
      "text/html": [
       "<div>\n",
       "<table border=\"1\" class=\"dataframe\">\n",
       "  <thead>\n",
       "    <tr style=\"text-align: right;\">\n",
       "      <th></th>\n",
       "      <th>0</th>\n",
       "      <th>1</th>\n",
       "      <th>2</th>\n",
       "      <th>3</th>\n",
       "      <th>4</th>\n",
       "      <th>5</th>\n",
       "      <th>6</th>\n",
       "      <th>7</th>\n",
       "      <th>8</th>\n",
       "      <th>9</th>\n",
       "      <th>10</th>\n",
       "      <th>11</th>\n",
       "      <th>12</th>\n",
       "      <th>13</th>\n",
       "    </tr>\n",
       "  </thead>\n",
       "  <tbody>\n",
       "    <tr>\n",
       "      <th>0</th>\n",
       "      <td>1</td>\n",
       "      <td>14.23</td>\n",
       "      <td>1.71</td>\n",
       "      <td>2.43</td>\n",
       "      <td>15.6</td>\n",
       "      <td>127</td>\n",
       "      <td>2.80</td>\n",
       "      <td>3.06</td>\n",
       "      <td>0.28</td>\n",
       "      <td>2.29</td>\n",
       "      <td>5.64</td>\n",
       "      <td>1.04</td>\n",
       "      <td>3.92</td>\n",
       "      <td>1065</td>\n",
       "    </tr>\n",
       "    <tr>\n",
       "      <th>1</th>\n",
       "      <td>1</td>\n",
       "      <td>13.20</td>\n",
       "      <td>1.78</td>\n",
       "      <td>2.14</td>\n",
       "      <td>11.2</td>\n",
       "      <td>100</td>\n",
       "      <td>2.65</td>\n",
       "      <td>2.76</td>\n",
       "      <td>0.26</td>\n",
       "      <td>1.28</td>\n",
       "      <td>4.38</td>\n",
       "      <td>1.05</td>\n",
       "      <td>3.40</td>\n",
       "      <td>1050</td>\n",
       "    </tr>\n",
       "    <tr>\n",
       "      <th>2</th>\n",
       "      <td>1</td>\n",
       "      <td>13.16</td>\n",
       "      <td>2.36</td>\n",
       "      <td>2.67</td>\n",
       "      <td>18.6</td>\n",
       "      <td>101</td>\n",
       "      <td>2.80</td>\n",
       "      <td>3.24</td>\n",
       "      <td>0.30</td>\n",
       "      <td>2.81</td>\n",
       "      <td>5.68</td>\n",
       "      <td>1.03</td>\n",
       "      <td>3.17</td>\n",
       "      <td>1185</td>\n",
       "    </tr>\n",
       "    <tr>\n",
       "      <th>3</th>\n",
       "      <td>1</td>\n",
       "      <td>14.37</td>\n",
       "      <td>1.95</td>\n",
       "      <td>2.50</td>\n",
       "      <td>16.8</td>\n",
       "      <td>113</td>\n",
       "      <td>3.85</td>\n",
       "      <td>3.49</td>\n",
       "      <td>0.24</td>\n",
       "      <td>2.18</td>\n",
       "      <td>7.80</td>\n",
       "      <td>0.86</td>\n",
       "      <td>3.45</td>\n",
       "      <td>1480</td>\n",
       "    </tr>\n",
       "    <tr>\n",
       "      <th>4</th>\n",
       "      <td>1</td>\n",
       "      <td>13.24</td>\n",
       "      <td>2.59</td>\n",
       "      <td>2.87</td>\n",
       "      <td>21.0</td>\n",
       "      <td>118</td>\n",
       "      <td>2.80</td>\n",
       "      <td>2.69</td>\n",
       "      <td>0.39</td>\n",
       "      <td>1.82</td>\n",
       "      <td>4.32</td>\n",
       "      <td>1.04</td>\n",
       "      <td>2.93</td>\n",
       "      <td>735</td>\n",
       "    </tr>\n",
       "  </tbody>\n",
       "</table>\n",
       "</div>"
      ],
      "text/plain": [
       "   0      1     2     3     4    5     6     7     8     9     10    11    12  \\\n",
       "0   1  14.23  1.71  2.43  15.6  127  2.80  3.06  0.28  2.29  5.64  1.04  3.92   \n",
       "1   1  13.20  1.78  2.14  11.2  100  2.65  2.76  0.26  1.28  4.38  1.05  3.40   \n",
       "2   1  13.16  2.36  2.67  18.6  101  2.80  3.24  0.30  2.81  5.68  1.03  3.17   \n",
       "3   1  14.37  1.95  2.50  16.8  113  3.85  3.49  0.24  2.18  7.80  0.86  3.45   \n",
       "4   1  13.24  2.59  2.87  21.0  118  2.80  2.69  0.39  1.82  4.32  1.04  2.93   \n",
       "\n",
       "     13  \n",
       "0  1065  \n",
       "1  1050  \n",
       "2  1185  \n",
       "3  1480  \n",
       "4   735  "
      ]
     },
     "execution_count": 3,
     "metadata": {},
     "output_type": "execute_result"
    }
   ],
   "source": [
    "#Load the data from the original source link\n",
    "wine=pd.read_csv(\"https://archive.ics.uci.edu/ml/machine-learning-databases/wine/wine.data\",sep=\",\",header=None)\n",
    "#Check the data \n",
    "wine.head(5)"
   ]
  },
  {
   "cell_type": "code",
   "execution_count": 4,
   "metadata": {},
   "outputs": [
    {
     "data": {
      "text/plain": [
       "(178, 14)"
      ]
     },
     "execution_count": 4,
     "metadata": {},
     "output_type": "execute_result"
    }
   ],
   "source": [
    "#The data size including the class labels\n",
    "wine.shape"
   ]
  },
  {
   "cell_type": "code",
   "execution_count": 7,
   "metadata": {},
   "outputs": [
    {
     "data": {
      "text/html": [
       "<div>\n",
       "<table border=\"1\" class=\"dataframe\">\n",
       "  <thead>\n",
       "    <tr style=\"text-align: right;\">\n",
       "      <th></th>\n",
       "      <th>Labels</th>\n",
       "      <th>Alcohol</th>\n",
       "      <th>Malic_acid</th>\n",
       "      <th>Ash</th>\n",
       "      <th>Alca_ash</th>\n",
       "      <th>Magnesium</th>\n",
       "      <th>phenols</th>\n",
       "      <th>Flavanoids</th>\n",
       "      <th>Nonflav_phenols</th>\n",
       "      <th>Proanthocyanins</th>\n",
       "      <th>Color_int</th>\n",
       "      <th>Hue</th>\n",
       "      <th>diluted_wines</th>\n",
       "      <th>Proline</th>\n",
       "    </tr>\n",
       "  </thead>\n",
       "  <tbody>\n",
       "    <tr>\n",
       "      <th>0</th>\n",
       "      <td>1</td>\n",
       "      <td>14.23</td>\n",
       "      <td>1.71</td>\n",
       "      <td>2.43</td>\n",
       "      <td>15.6</td>\n",
       "      <td>127</td>\n",
       "      <td>2.80</td>\n",
       "      <td>3.06</td>\n",
       "      <td>0.28</td>\n",
       "      <td>2.29</td>\n",
       "      <td>5.64</td>\n",
       "      <td>1.04</td>\n",
       "      <td>3.92</td>\n",
       "      <td>1065</td>\n",
       "    </tr>\n",
       "    <tr>\n",
       "      <th>1</th>\n",
       "      <td>1</td>\n",
       "      <td>13.20</td>\n",
       "      <td>1.78</td>\n",
       "      <td>2.14</td>\n",
       "      <td>11.2</td>\n",
       "      <td>100</td>\n",
       "      <td>2.65</td>\n",
       "      <td>2.76</td>\n",
       "      <td>0.26</td>\n",
       "      <td>1.28</td>\n",
       "      <td>4.38</td>\n",
       "      <td>1.05</td>\n",
       "      <td>3.40</td>\n",
       "      <td>1050</td>\n",
       "    </tr>\n",
       "    <tr>\n",
       "      <th>2</th>\n",
       "      <td>1</td>\n",
       "      <td>13.16</td>\n",
       "      <td>2.36</td>\n",
       "      <td>2.67</td>\n",
       "      <td>18.6</td>\n",
       "      <td>101</td>\n",
       "      <td>2.80</td>\n",
       "      <td>3.24</td>\n",
       "      <td>0.30</td>\n",
       "      <td>2.81</td>\n",
       "      <td>5.68</td>\n",
       "      <td>1.03</td>\n",
       "      <td>3.17</td>\n",
       "      <td>1185</td>\n",
       "    </tr>\n",
       "    <tr>\n",
       "      <th>3</th>\n",
       "      <td>1</td>\n",
       "      <td>14.37</td>\n",
       "      <td>1.95</td>\n",
       "      <td>2.50</td>\n",
       "      <td>16.8</td>\n",
       "      <td>113</td>\n",
       "      <td>3.85</td>\n",
       "      <td>3.49</td>\n",
       "      <td>0.24</td>\n",
       "      <td>2.18</td>\n",
       "      <td>7.80</td>\n",
       "      <td>0.86</td>\n",
       "      <td>3.45</td>\n",
       "      <td>1480</td>\n",
       "    </tr>\n",
       "    <tr>\n",
       "      <th>4</th>\n",
       "      <td>1</td>\n",
       "      <td>13.24</td>\n",
       "      <td>2.59</td>\n",
       "      <td>2.87</td>\n",
       "      <td>21.0</td>\n",
       "      <td>118</td>\n",
       "      <td>2.80</td>\n",
       "      <td>2.69</td>\n",
       "      <td>0.39</td>\n",
       "      <td>1.82</td>\n",
       "      <td>4.32</td>\n",
       "      <td>1.04</td>\n",
       "      <td>2.93</td>\n",
       "      <td>735</td>\n",
       "    </tr>\n",
       "  </tbody>\n",
       "</table>\n",
       "</div>"
      ],
      "text/plain": [
       "   Labels  Alcohol  Malic_acid   Ash  Alca_ash  Magnesium  phenols  \\\n",
       "0       1    14.23        1.71  2.43      15.6        127     2.80   \n",
       "1       1    13.20        1.78  2.14      11.2        100     2.65   \n",
       "2       1    13.16        2.36  2.67      18.6        101     2.80   \n",
       "3       1    14.37        1.95  2.50      16.8        113     3.85   \n",
       "4       1    13.24        2.59  2.87      21.0        118     2.80   \n",
       "\n",
       "   Flavanoids  Nonflav_phenols  Proanthocyanins  Color_int   Hue  \\\n",
       "0        3.06             0.28             2.29       5.64  1.04   \n",
       "1        2.76             0.26             1.28       4.38  1.05   \n",
       "2        3.24             0.30             2.81       5.68  1.03   \n",
       "3        3.49             0.24             2.18       7.80  0.86   \n",
       "4        2.69             0.39             1.82       4.32  1.04   \n",
       "\n",
       "   diluted_wines  Proline  \n",
       "0           3.92     1065  \n",
       "1           3.40     1050  \n",
       "2           3.17     1185  \n",
       "3           3.45     1480  \n",
       "4           2.93      735  "
      ]
     },
     "execution_count": 7,
     "metadata": {},
     "output_type": "execute_result"
    }
   ],
   "source": [
    "#Assign the Variables Names based on the original provided \n",
    "wine.columns=[\"Labels\",\"Alcohol\",\"Malic_acid\",\"Ash\",\"Alca_ash\",\"Magnesium\",\"phenols\",\n",
    "           \"Flavanoids\",\"Nonflav_phenols\",\"Proanthocyanins\",\n",
    "           \"Color_int\",\"Hue\",\"diluted_wines\",\"Proline\"]\n",
    "wine.head(5)"
   ]
  },
  {
   "cell_type": "code",
   "execution_count": 8,
   "metadata": {},
   "outputs": [
    {
     "name": "stdout",
     "output_type": "stream",
     "text": [
      "(178,)\n"
     ]
    },
    {
     "data": {
      "text/plain": [
       "0    1\n",
       "1    1\n",
       "2    1\n",
       "3    1\n",
       "4    1\n",
       "Name: Labels, dtype: int64"
      ]
     },
     "execution_count": 8,
     "metadata": {},
     "output_type": "execute_result"
    }
   ],
   "source": [
    "y=wine[\"Labels\"]\n",
    "print(y.shape)\n",
    "y.head(5)"
   ]
  },
  {
   "cell_type": "code",
   "execution_count": 9,
   "metadata": {},
   "outputs": [
    {
     "name": "stdout",
     "output_type": "stream",
     "text": [
      "(178, 13)\n"
     ]
    },
    {
     "data": {
      "text/html": [
       "<div>\n",
       "<table border=\"1\" class=\"dataframe\">\n",
       "  <thead>\n",
       "    <tr style=\"text-align: right;\">\n",
       "      <th></th>\n",
       "      <th>Alcohol</th>\n",
       "      <th>Malic_acid</th>\n",
       "      <th>Ash</th>\n",
       "      <th>Alca_ash</th>\n",
       "      <th>Magnesium</th>\n",
       "      <th>phenols</th>\n",
       "      <th>Flavanoids</th>\n",
       "      <th>Nonflav_phenols</th>\n",
       "      <th>Proanthocyanins</th>\n",
       "      <th>Color_int</th>\n",
       "      <th>Hue</th>\n",
       "      <th>diluted_wines</th>\n",
       "      <th>Proline</th>\n",
       "    </tr>\n",
       "  </thead>\n",
       "  <tbody>\n",
       "    <tr>\n",
       "      <th>0</th>\n",
       "      <td>14.23</td>\n",
       "      <td>1.71</td>\n",
       "      <td>2.43</td>\n",
       "      <td>15.6</td>\n",
       "      <td>127</td>\n",
       "      <td>2.80</td>\n",
       "      <td>3.06</td>\n",
       "      <td>0.28</td>\n",
       "      <td>2.29</td>\n",
       "      <td>5.64</td>\n",
       "      <td>1.04</td>\n",
       "      <td>3.92</td>\n",
       "      <td>1065</td>\n",
       "    </tr>\n",
       "    <tr>\n",
       "      <th>1</th>\n",
       "      <td>13.20</td>\n",
       "      <td>1.78</td>\n",
       "      <td>2.14</td>\n",
       "      <td>11.2</td>\n",
       "      <td>100</td>\n",
       "      <td>2.65</td>\n",
       "      <td>2.76</td>\n",
       "      <td>0.26</td>\n",
       "      <td>1.28</td>\n",
       "      <td>4.38</td>\n",
       "      <td>1.05</td>\n",
       "      <td>3.40</td>\n",
       "      <td>1050</td>\n",
       "    </tr>\n",
       "    <tr>\n",
       "      <th>2</th>\n",
       "      <td>13.16</td>\n",
       "      <td>2.36</td>\n",
       "      <td>2.67</td>\n",
       "      <td>18.6</td>\n",
       "      <td>101</td>\n",
       "      <td>2.80</td>\n",
       "      <td>3.24</td>\n",
       "      <td>0.30</td>\n",
       "      <td>2.81</td>\n",
       "      <td>5.68</td>\n",
       "      <td>1.03</td>\n",
       "      <td>3.17</td>\n",
       "      <td>1185</td>\n",
       "    </tr>\n",
       "    <tr>\n",
       "      <th>3</th>\n",
       "      <td>14.37</td>\n",
       "      <td>1.95</td>\n",
       "      <td>2.50</td>\n",
       "      <td>16.8</td>\n",
       "      <td>113</td>\n",
       "      <td>3.85</td>\n",
       "      <td>3.49</td>\n",
       "      <td>0.24</td>\n",
       "      <td>2.18</td>\n",
       "      <td>7.80</td>\n",
       "      <td>0.86</td>\n",
       "      <td>3.45</td>\n",
       "      <td>1480</td>\n",
       "    </tr>\n",
       "    <tr>\n",
       "      <th>4</th>\n",
       "      <td>13.24</td>\n",
       "      <td>2.59</td>\n",
       "      <td>2.87</td>\n",
       "      <td>21.0</td>\n",
       "      <td>118</td>\n",
       "      <td>2.80</td>\n",
       "      <td>2.69</td>\n",
       "      <td>0.39</td>\n",
       "      <td>1.82</td>\n",
       "      <td>4.32</td>\n",
       "      <td>1.04</td>\n",
       "      <td>2.93</td>\n",
       "      <td>735</td>\n",
       "    </tr>\n",
       "  </tbody>\n",
       "</table>\n",
       "</div>"
      ],
      "text/plain": [
       "   Alcohol  Malic_acid   Ash  Alca_ash  Magnesium  phenols  Flavanoids  \\\n",
       "0    14.23        1.71  2.43      15.6        127     2.80        3.06   \n",
       "1    13.20        1.78  2.14      11.2        100     2.65        2.76   \n",
       "2    13.16        2.36  2.67      18.6        101     2.80        3.24   \n",
       "3    14.37        1.95  2.50      16.8        113     3.85        3.49   \n",
       "4    13.24        2.59  2.87      21.0        118     2.80        2.69   \n",
       "\n",
       "   Nonflav_phenols  Proanthocyanins  Color_int   Hue  diluted_wines  Proline  \n",
       "0             0.28             2.29       5.64  1.04           3.92     1065  \n",
       "1             0.26             1.28       4.38  1.05           3.40     1050  \n",
       "2             0.30             2.81       5.68  1.03           3.17     1185  \n",
       "3             0.24             2.18       7.80  0.86           3.45     1480  \n",
       "4             0.39             1.82       4.32  1.04           2.93      735  "
      ]
     },
     "execution_count": 9,
     "metadata": {},
     "output_type": "execute_result"
    }
   ],
   "source": [
    "x=wine.ix[:,1:]\n",
    "print(x.shape)\n",
    "x.head(5)"
   ]
  },
  {
   "cell_type": "code",
   "execution_count": 59,
   "metadata": {},
   "outputs": [
    {
     "name": "stdout",
     "output_type": "stream",
     "text": [
      "Size of Class 1: (59, 14)\n",
      "Size of Class 2: (71, 14)\n",
      "Size of Class 3: (48, 14)\n"
     ]
    }
   ],
   "source": [
    "c1_data=wine[wine[\"Labels\"]==1]\n",
    "c2_data=wine[wine[\"Labels\"]==2]\n",
    "c3_data=wine[wine[\"Labels\"]==3]\n",
    "\n",
    "print(\"Size of Class 1:\",c1_data.shape)\n",
    "print(\"Size of Class 2:\",c2_data.shape)\n",
    "print(\"Size of Class 3:\",c3_data.shape)"
   ]
  },
  {
   "cell_type": "code",
   "execution_count": 100,
   "metadata": {
    "collapsed": true
   },
   "outputs": [],
   "source": [
    "#Randomly extracting the TWO columns of variables from original data\n",
    "#for ploting against the THREE classes labels\n",
    "c1_sub1 = c1_data.loc[:,[\"Alcohol\",\"diluted_wines\"]]\n",
    "c2_sub1=c2_data[[\"Alcohol\",\"diluted_wines\"]]\n",
    "c3_sub1=c3_data[[\"Alcohol\",\"diluted_wines\"]]"
   ]
  },
  {
   "cell_type": "code",
   "execution_count": 102,
   "metadata": {
    "collapsed": true
   },
   "outputs": [],
   "source": [
    "#Transform the above data to numpy array format\n",
    "c1_sub1=np.array(c1_sub1.T)\n",
    "c2_sub1=np.array(c2_sub1.T)\n",
    "c3_sub1=np.array(c3_sub1.T)"
   ]
  },
  {
   "cell_type": "code",
   "execution_count": 205,
   "metadata": {},
   "outputs": [
    {
     "name": "stderr",
     "output_type": "stream",
     "text": [
      "/Users/KevQuant/anaconda/lib/python3.6/site-packages/matplotlib/cbook.py:136: MatplotlibDeprecationWarning: The axisbg attribute was deprecated in version 2.0. Use facecolor instead.\n",
      "  warnings.warn(message, mplDeprecation, stacklevel=1)\n"
     ]
    },
    {
     "data": {
      "image/png": "[encoded data removed]",
      "text/plain": [
       "<matplotlib.figure.Figure at 0x11a7a2550>"
      ]
     },
     "metadata": {},
     "output_type": "display_data"
    }
   ],
   "source": [
    "import numpy as np\n",
    "import matplotlib.pyplot as plt\n",
    " \n",
    "data = (c1_sub1, c2_sub1, c3_sub1)\n",
    "colors = (\"red\", \"green\", \"blue\")\n",
    "groups = (\"c1\", \"c2\", \"c3\")\n",
    "markers = (\"+\",\">\",\"*\")\n",
    " \n",
    "# Create plot\n",
    "fig = plt.figure(figsize=(15,8))\n",
    "ax = fig.add_subplot( 1,1,1,axisbg=\"1.0\")\n",
    " \n",
    "for data, color, group, mark in zip(data, colors, groups, markers):\n",
    "    x, y = data\n",
    "    ax.scatter(x, y, alpha=0.8, c=color, edgecolors='none', s=100, label=group, marker=mark)\n",
    " \n",
    "ax.set_title('Plot 1: Diluted wines vs Alcohol', size=20)\n",
    "ax.set_xlabel(\"Alcohol\", size=15)\n",
    "ax.set_ylabel(\"OD280/OD315 of diluted wines\", size=15)\n",
    "plt.legend(loc=2)\n",
    "plt.show()"
   ]
  },
  {
   "cell_type": "markdown",
   "metadata": {},
   "source": [
    "##Problem 1b."
   ]
  },
  {
   "cell_type": "code",
   "execution_count": 177,
   "metadata": {},
   "outputs": [
    {
     "data": {
      "text/html": [
       "<div>\n",
       "<table border=\"1\" class=\"dataframe\">\n",
       "  <thead>\n",
       "    <tr style=\"text-align: right;\">\n",
       "      <th></th>\n",
       "      <th>Labels</th>\n",
       "      <th>Alcohol</th>\n",
       "      <th>Malic_acid</th>\n",
       "      <th>Ash</th>\n",
       "      <th>Alca_ash</th>\n",
       "      <th>Magnesium</th>\n",
       "      <th>phenols</th>\n",
       "      <th>Flavanoids</th>\n",
       "      <th>Nonflav_phenols</th>\n",
       "      <th>Proanthocyanins</th>\n",
       "      <th>Color_int</th>\n",
       "      <th>Hue</th>\n",
       "      <th>diluted_wines</th>\n",
       "      <th>Proline</th>\n",
       "    </tr>\n",
       "  </thead>\n",
       "  <tbody>\n",
       "    <tr>\n",
       "      <th>0</th>\n",
       "      <td>1</td>\n",
       "      <td>14.23</td>\n",
       "      <td>1.71</td>\n",
       "      <td>2.43</td>\n",
       "      <td>15.6</td>\n",
       "      <td>127</td>\n",
       "      <td>2.8</td>\n",
       "      <td>3.06</td>\n",
       "      <td>0.28</td>\n",
       "      <td>2.29</td>\n",
       "      <td>5.64</td>\n",
       "      <td>1.04</td>\n",
       "      <td>3.92</td>\n",
       "      <td>1065</td>\n",
       "    </tr>\n",
       "  </tbody>\n",
       "</table>\n",
       "</div>"
      ],
      "text/plain": [
       "   Labels  Alcohol  Malic_acid   Ash  Alca_ash  Magnesium  phenols  \\\n",
       "0       1    14.23        1.71  2.43      15.6        127      2.8   \n",
       "\n",
       "   Flavanoids  Nonflav_phenols  Proanthocyanins  Color_int   Hue  \\\n",
       "0        3.06             0.28             2.29       5.64  1.04   \n",
       "\n",
       "   diluted_wines  Proline  \n",
       "0           3.92     1065  "
      ]
     },
     "execution_count": 177,
     "metadata": {},
     "output_type": "execute_result"
    }
   ],
   "source": [
    "wine.head(1)"
   ]
  },
  {
   "cell_type": "code",
   "execution_count": 201,
   "metadata": {},
   "outputs": [
    {
     "name": "stdout",
     "output_type": "stream",
     "text": [
      "The first row of Variables: \n",
      "[  1.42300000e+01   1.71000000e+00   2.43000000e+00   1.56000000e+01\n",
      "   1.27000000e+02   2.80000000e+00   3.06000000e+00   2.80000000e-01\n",
      "   2.29000000e+00   5.64000000e+00   1.04000000e+00   3.92000000e+00\n",
      "   1.06500000e+03]\n",
      "All Class Labels: \n",
      "[1 1 1 1 1 1 1 1 1 1 1 1 1 1 1 1 1 1 1 1 1 1 1 1 1 1 1 1 1 1 1 1 1 1 1 1 1\n",
      " 1 1 1 1 1 1 1 1 1 1 1 1 1 1 1 1 1 1 1 1 1 1 2 2 2 2 2 2 2 2 2 2 2 2 2 2 2\n",
      " 2 2 2 2 2 2 2 2 2 2 2 2 2 2 2 2 2 2 2 2 2 2 2 2 2 2 2 2 2 2 2 2 2 2 2 2 2\n",
      " 2 2 2 2 2 2 2 2 2 2 2 2 2 2 2 2 2 2 2 3 3 3 3 3 3 3 3 3 3 3 3 3 3 3 3 3 3\n",
      " 3 3 3 3 3 3 3 3 3 3 3 3 3 3 3 3 3 3 3 3 3 3 3 3 3 3 3 3 3 3]\n"
     ]
    }
   ],
   "source": [
    "wine_x = np.array(wine.ix[:,1:])\n",
    "wine_y = np.array(wine.ix[:,0])\n",
    "print(\"The first row of Variables: \")\n",
    "print(wine_x[0])\n",
    "print(\"All Class Labels: \")\n",
    "print(wine_y)"
   ]
  },
  {
   "cell_type": "code",
   "execution_count": 202,
   "metadata": {},
   "outputs": [
    {
     "name": "stdout",
     "output_type": "stream",
     "text": [
      "(178, 2)\n"
     ]
    },
    {
     "data": {
      "text/plain": [
       "array([[    5.64,  1065.  ],\n",
       "       [    4.38,  1050.  ],\n",
       "       [    5.68,  1185.  ],\n",
       "       [    7.8 ,  1480.  ],\n",
       "       [    4.32,   735.  ]])"
      ]
     },
     "execution_count": 202,
     "metadata": {},
     "output_type": "execute_result"
    }
   ],
   "source": [
    "from sklearn.feature_selection import SelectKBest\n",
    "from sklearn.feature_selection import chi2\n",
    "wine_x_new = SelectKBest(chi2, k=2).fit_transform(wine_x,wine_y)\n",
    "print(wine_x_new.shape)\n",
    "wine_x_new[0:5]"
   ]
  },
  {
   "cell_type": "markdown",
   "metadata": {},
   "source": [
    "Based on the above Univariate feature selection by using chi-square stat, the best 2 variables for the classification are \"Proline\" and \"Color intensity\". The Ch-2 statistic is used to measure the dependence of the random variables (Boolean / Numerical). \n",
    "The \"SelectKBest\" function with the ch-2 stat and pre-set k (The number of best relevant variables to be choosen) REMOVES the most likely independence of variables which shows the least relationship between variables and Class Labels. In other words, the most related variables for classification are remained by \"SelectKBest\" function"
   ]
  },
  {
   "cell_type": "code",
   "execution_count": 181,
   "metadata": {
    "collapsed": true
   },
   "outputs": [],
   "source": [
    "#Randomly extracting the TWO columns of variables from original data\n",
    "#for ploting against the THREE classes labels\n",
    "c1_sub2 = c1_data.loc[:,[\"Color_int\",\"Proline\"]]\n",
    "c2_sub2 = c2_data[[\"Color_int\",\"Proline\"]]\n",
    "c3_sub2 = c3_data[[\"Color_int\",\"Proline\"]]"
   ]
  },
  {
   "cell_type": "code",
   "execution_count": 182,
   "metadata": {
    "collapsed": true
   },
   "outputs": [],
   "source": [
    "#Transform the above data to numpy array format\n",
    "c1_sub2=np.array(c1_sub2.T)\n",
    "c2_sub2=np.array(c2_sub2.T)\n",
    "c3_sub2=np.array(c3_sub2.T)"
   ]
  },
  {
   "cell_type": "code",
   "execution_count": 204,
   "metadata": {},
   "outputs": [
    {
     "name": "stderr",
     "output_type": "stream",
     "text": [
      "/Users/KevQuant/anaconda/lib/python3.6/site-packages/matplotlib/cbook.py:136: MatplotlibDeprecationWarning: The axisbg attribute was deprecated in version 2.0. Use facecolor instead.\n",
      "  warnings.warn(message, mplDeprecation, stacklevel=1)\n"
     ]
    },
    {
     "data": {
      "image/png": "[encoded data removed]",
      "text/plain": [
       "<matplotlib.figure.Figure at 0x11d7be4a8>"
      ]
     },
     "metadata": {},
     "output_type": "display_data"
    }
   ],
   "source": [
    "import numpy as np\n",
    "import matplotlib.pyplot as plt\n",
    " \n",
    "data = (c1_sub2, c2_sub2, c3_sub2)\n",
    "colors = (\"red\", \"green\", \"blue\")\n",
    "groups = (\"c1\", \"c2\", \"c3\")\n",
    "markers = (\"+\",\">\",\"*\")\n",
    " \n",
    "# Create plot\n",
    "fig = plt.figure(figsize=(15,8))\n",
    "ax = fig.add_subplot( 1,1,1,axisbg=\"1.0\")\n",
    " \n",
    "for data, color, group, mark in zip(data, colors, groups, markers):\n",
    "    x, y = data\n",
    "    ax.scatter(x, y, alpha=0.8, c=color, edgecolors='none', s=100, label=group, marker=mark)\n",
    " \n",
    "ax.set_title('Plot 2: Proline vs Color Intensity', size=20)\n",
    "ax.set_xlabel(\"Color Intensity\", size=15)\n",
    "ax.set_ylabel(\"Proline\", size=15)\n",
    "plt.legend(loc=2)\n",
    "plt.show()"
   ]
  },
  {
   "cell_type": "markdown",
   "metadata": {},
   "source": [
    "The above plot shows that the class labels are classified by the TWO variables (\"color Intensity\" and \"Proline\"). The graph shows a better divided partition between the THREE classes, especially the boundary is very clear between the c1 (Red) and c3 (Blue). However, it is still obsure to classify between c2 and (c1 & c3)."
   ]
  },
  {
   "cell_type": "code",
   "execution_count": 194,
   "metadata": {},
   "outputs": [
    {
     "name": "stdout",
     "output_type": "stream",
     "text": [
      "(178, 2)\n"
     ]
    },
    {
     "data": {
      "text/plain": [
       "array([[    3.06,  1065.  ],\n",
       "       [    2.76,  1050.  ],\n",
       "       [    3.24,  1185.  ],\n",
       "       [    3.49,  1480.  ],\n",
       "       [    2.69,   735.  ]])"
      ]
     },
     "execution_count": 194,
     "metadata": {},
     "output_type": "execute_result"
    }
   ],
   "source": [
    "from sklearn.feature_selection import SelectKBest\n",
    "from sklearn.feature_selection import f_classif\n",
    "wine_x_new = SelectKBest(f_classif, k=2).fit_transform(wine_x,wine_y)\n",
    "print(wine_x_new.shape)\n",
    "wine_x_new[0:5]"
   ]
  },
  {
   "cell_type": "markdown",
   "metadata": {},
   "source": [
    "The above best TWO choosen columns are \"phenols\" and \"Proline\" based on the function \"selectKBest\" with f_classif statistics and k (Number of variables). The f_classif stat is based on the ANOVA F-value (F statistics) analysis which determine which variables (2 variables in our case) are statistically significant for the classification model.  "
   ]
  },
  {
   "cell_type": "code",
   "execution_count": 200,
   "metadata": {},
   "outputs": [
    {
     "name": "stdout",
     "output_type": "stream",
     "text": [
      "(178, 2)\n"
     ]
    },
    {
     "data": {
      "text/plain": [
       "array([[    3.06,  1065.  ],\n",
       "       [    2.76,  1050.  ],\n",
       "       [    3.24,  1185.  ],\n",
       "       [    3.49,  1480.  ],\n",
       "       [    2.69,   735.  ]])"
      ]
     },
     "execution_count": 200,
     "metadata": {},
     "output_type": "execute_result"
    }
   ],
   "source": [
    "from sklearn.feature_selection import SelectKBest\n",
    "from sklearn.feature_selection import mutual_info_classif\n",
    "wine_x_new = SelectKBest(mutual_info_classif, k=2).fit_transform(wine_x,wine_y)\n",
    "print(wine_x_new.shape)\n",
    "wine_x_new[0:5]"
   ]
  },
  {
   "cell_type": "markdown",
   "metadata": {},
   "source": [
    "The above best TWO choosen columns are \"phenols\" and \"Proline\" based on the function \"selectKBest\" with mutual_info_classif and k (Number of variables). The mutual_info_classif is used to measure the dependency between the variables. e.g. if the variables are totally independent to each other, the value turns out ZERO. In our case, the variables of \"phenols\" and \"Proline\" turns out the most independent to each other among all other variables."
   ]
  },
  {
   "cell_type": "code",
   "execution_count": 196,
   "metadata": {},
   "outputs": [
    {
     "data": {
      "text/html": [
       "<div>\n",
       "<table border=\"1\" class=\"dataframe\">\n",
       "  <thead>\n",
       "    <tr style=\"text-align: right;\">\n",
       "      <th></th>\n",
       "      <th>Labels</th>\n",
       "      <th>Alcohol</th>\n",
       "      <th>Malic_acid</th>\n",
       "      <th>Ash</th>\n",
       "      <th>Alca_ash</th>\n",
       "      <th>Magnesium</th>\n",
       "      <th>phenols</th>\n",
       "      <th>Flavanoids</th>\n",
       "      <th>Nonflav_phenols</th>\n",
       "      <th>Proanthocyanins</th>\n",
       "      <th>Color_int</th>\n",
       "      <th>Hue</th>\n",
       "      <th>diluted_wines</th>\n",
       "      <th>Proline</th>\n",
       "    </tr>\n",
       "  </thead>\n",
       "  <tbody>\n",
       "    <tr>\n",
       "      <th>0</th>\n",
       "      <td>1</td>\n",
       "      <td>14.23</td>\n",
       "      <td>1.71</td>\n",
       "      <td>2.43</td>\n",
       "      <td>15.6</td>\n",
       "      <td>127</td>\n",
       "      <td>2.80</td>\n",
       "      <td>3.06</td>\n",
       "      <td>0.28</td>\n",
       "      <td>2.29</td>\n",
       "      <td>5.64</td>\n",
       "      <td>1.04</td>\n",
       "      <td>3.92</td>\n",
       "      <td>1065</td>\n",
       "    </tr>\n",
       "    <tr>\n",
       "      <th>1</th>\n",
       "      <td>1</td>\n",
       "      <td>13.20</td>\n",
       "      <td>1.78</td>\n",
       "      <td>2.14</td>\n",
       "      <td>11.2</td>\n",
       "      <td>100</td>\n",
       "      <td>2.65</td>\n",
       "      <td>2.76</td>\n",
       "      <td>0.26</td>\n",
       "      <td>1.28</td>\n",
       "      <td>4.38</td>\n",
       "      <td>1.05</td>\n",
       "      <td>3.40</td>\n",
       "      <td>1050</td>\n",
       "    </tr>\n",
       "    <tr>\n",
       "      <th>2</th>\n",
       "      <td>1</td>\n",
       "      <td>13.16</td>\n",
       "      <td>2.36</td>\n",
       "      <td>2.67</td>\n",
       "      <td>18.6</td>\n",
       "      <td>101</td>\n",
       "      <td>2.80</td>\n",
       "      <td>3.24</td>\n",
       "      <td>0.30</td>\n",
       "      <td>2.81</td>\n",
       "      <td>5.68</td>\n",
       "      <td>1.03</td>\n",
       "      <td>3.17</td>\n",
       "      <td>1185</td>\n",
       "    </tr>\n",
       "    <tr>\n",
       "      <th>3</th>\n",
       "      <td>1</td>\n",
       "      <td>14.37</td>\n",
       "      <td>1.95</td>\n",
       "      <td>2.50</td>\n",
       "      <td>16.8</td>\n",
       "      <td>113</td>\n",
       "      <td>3.85</td>\n",
       "      <td>3.49</td>\n",
       "      <td>0.24</td>\n",
       "      <td>2.18</td>\n",
       "      <td>7.80</td>\n",
       "      <td>0.86</td>\n",
       "      <td>3.45</td>\n",
       "      <td>1480</td>\n",
       "    </tr>\n",
       "    <tr>\n",
       "      <th>4</th>\n",
       "      <td>1</td>\n",
       "      <td>13.24</td>\n",
       "      <td>2.59</td>\n",
       "      <td>2.87</td>\n",
       "      <td>21.0</td>\n",
       "      <td>118</td>\n",
       "      <td>2.80</td>\n",
       "      <td>2.69</td>\n",
       "      <td>0.39</td>\n",
       "      <td>1.82</td>\n",
       "      <td>4.32</td>\n",
       "      <td>1.04</td>\n",
       "      <td>2.93</td>\n",
       "      <td>735</td>\n",
       "    </tr>\n",
       "  </tbody>\n",
       "</table>\n",
       "</div>"
      ],
      "text/plain": [
       "   Labels  Alcohol  Malic_acid   Ash  Alca_ash  Magnesium  phenols  \\\n",
       "0       1    14.23        1.71  2.43      15.6        127     2.80   \n",
       "1       1    13.20        1.78  2.14      11.2        100     2.65   \n",
       "2       1    13.16        2.36  2.67      18.6        101     2.80   \n",
       "3       1    14.37        1.95  2.50      16.8        113     3.85   \n",
       "4       1    13.24        2.59  2.87      21.0        118     2.80   \n",
       "\n",
       "   Flavanoids  Nonflav_phenols  Proanthocyanins  Color_int   Hue  \\\n",
       "0        3.06             0.28             2.29       5.64  1.04   \n",
       "1        2.76             0.26             1.28       4.38  1.05   \n",
       "2        3.24             0.30             2.81       5.68  1.03   \n",
       "3        3.49             0.24             2.18       7.80  0.86   \n",
       "4        2.69             0.39             1.82       4.32  1.04   \n",
       "\n",
       "   diluted_wines  Proline  \n",
       "0           3.92     1065  \n",
       "1           3.40     1050  \n",
       "2           3.17     1185  \n",
       "3           3.45     1480  \n",
       "4           2.93      735  "
      ]
     },
     "execution_count": 196,
     "metadata": {},
     "output_type": "execute_result"
    }
   ],
   "source": [
    "wine.head(5)"
   ]
  },
  {
   "cell_type": "code",
   "execution_count": 189,
   "metadata": {
    "collapsed": true
   },
   "outputs": [],
   "source": [
    "#Randomly extracting the TWO columns of variables from original data\n",
    "#for ploting against the THREE classes labels\n",
    "c1_sub3 = c1_data.loc[:,[\"phenols\",\"Proline\"]]\n",
    "c2_sub3 = c2_data[[\"phenols\",\"Proline\"]]\n",
    "c3_sub3 = c3_data[[\"phenols\",\"Proline\"]]"
   ]
  },
  {
   "cell_type": "code",
   "execution_count": 190,
   "metadata": {
    "collapsed": true
   },
   "outputs": [],
   "source": [
    "#Transform the above data to numpy array format\n",
    "c1_sub3=np.array(c1_sub3.T)\n",
    "c2_sub3=np.array(c2_sub3.T)\n",
    "c3_sub3=np.array(c3_sub3.T)"
   ]
  },
  {
   "cell_type": "code",
   "execution_count": 206,
   "metadata": {},
   "outputs": [
    {
     "name": "stderr",
     "output_type": "stream",
     "text": [
      "/Users/KevQuant/anaconda/lib/python3.6/site-packages/matplotlib/cbook.py:136: MatplotlibDeprecationWarning: The axisbg attribute was deprecated in version 2.0. Use facecolor instead.\n",
      "  warnings.warn(message, mplDeprecation, stacklevel=1)\n"
     ]
    },
    {
     "data": {
      "image/png": "[encoded data removed]",
      "text/plain": [
       "<matplotlib.figure.Figure at 0x11d263780>"
      ]
     },
     "metadata": {},
     "output_type": "display_data"
    }
   ],
   "source": [
    "import numpy as np\n",
    "import matplotlib.pyplot as plt\n",
    " \n",
    "data = (c1_sub3, c2_sub3, c3_sub3)\n",
    "colors = (\"red\", \"green\", \"blue\")\n",
    "groups = (\"c1\", \"c2\", \"c3\")\n",
    "markers = (\"+\",\">\",\"*\")\n",
    " \n",
    "# Create plot\n",
    "fig = plt.figure(figsize=(15,8))\n",
    "ax = fig.add_subplot( 1,1,1,axisbg=\"1.0\")\n",
    " \n",
    "for data, color, group, mark in zip(data, colors, groups, markers):\n",
    "    x, y = data\n",
    "    ax.scatter(x, y, alpha=0.8, c=color, edgecolors='none', s=100, label=group, marker=mark)\n",
    " \n",
    "ax.set_title('Plot 3: Proline vs phenols', size=20)\n",
    "ax.set_xlabel(\"phenols\", size=15)\n",
    "ax.set_ylabel(\"Proline\", size=15)\n",
    "plt.legend(loc=2)\n",
    "plt.show()"
   ]
  },
  {
   "cell_type": "markdown",
   "metadata": {},
   "source": [
    "The above plot is based on the \"phenols\" and \"Proline\" variables, we can see that there is NOT very clear on the partition between Classes, especially between c3 and c2. the c1 is more stand out in this case, but there is still NOT so obivious for the classes division by these 2 variables.\n",
    "\n",
    "According to observations, I would propose the best 2 variables to be used for wine classification would be \"Color Intensity\" and \"Proline\" (by SelectKBest function with Chi-Square statistic). However, further classification analysis would be necessary for explore more detail on the data. "
   ]
  },
  {
   "cell_type": "markdown",
   "metadata": {},
   "source": [
    "##Problem 2a"
   ]
  },
  {
   "cell_type": "code",
   "execution_count": 16,
   "metadata": {},
   "outputs": [
    {
     "name": "stdout",
     "output_type": "stream",
     "text": [
      "(178, 13)\n"
     ]
    },
    {
     "data": {
      "text/html": [
       "<div>\n",
       "<table border=\"1\" class=\"dataframe\">\n",
       "  <thead>\n",
       "    <tr style=\"text-align: right;\">\n",
       "      <th></th>\n",
       "      <th>Alcohol</th>\n",
       "      <th>Malic_acid</th>\n",
       "      <th>Ash</th>\n",
       "      <th>Alca_ash</th>\n",
       "      <th>Magnesium</th>\n",
       "      <th>phenols</th>\n",
       "      <th>Flavanoids</th>\n",
       "      <th>Nonflav_phenols</th>\n",
       "      <th>Proanthocyanins</th>\n",
       "      <th>Color_int</th>\n",
       "      <th>Hue</th>\n",
       "      <th>diluted_wines</th>\n",
       "      <th>Proline</th>\n",
       "    </tr>\n",
       "  </thead>\n",
       "  <tbody>\n",
       "    <tr>\n",
       "      <th>0</th>\n",
       "      <td>14.23</td>\n",
       "      <td>1.71</td>\n",
       "      <td>2.43</td>\n",
       "      <td>15.6</td>\n",
       "      <td>127</td>\n",
       "      <td>2.80</td>\n",
       "      <td>3.06</td>\n",
       "      <td>0.28</td>\n",
       "      <td>2.29</td>\n",
       "      <td>5.64</td>\n",
       "      <td>1.04</td>\n",
       "      <td>3.92</td>\n",
       "      <td>1065</td>\n",
       "    </tr>\n",
       "    <tr>\n",
       "      <th>1</th>\n",
       "      <td>13.20</td>\n",
       "      <td>1.78</td>\n",
       "      <td>2.14</td>\n",
       "      <td>11.2</td>\n",
       "      <td>100</td>\n",
       "      <td>2.65</td>\n",
       "      <td>2.76</td>\n",
       "      <td>0.26</td>\n",
       "      <td>1.28</td>\n",
       "      <td>4.38</td>\n",
       "      <td>1.05</td>\n",
       "      <td>3.40</td>\n",
       "      <td>1050</td>\n",
       "    </tr>\n",
       "    <tr>\n",
       "      <th>2</th>\n",
       "      <td>13.16</td>\n",
       "      <td>2.36</td>\n",
       "      <td>2.67</td>\n",
       "      <td>18.6</td>\n",
       "      <td>101</td>\n",
       "      <td>2.80</td>\n",
       "      <td>3.24</td>\n",
       "      <td>0.30</td>\n",
       "      <td>2.81</td>\n",
       "      <td>5.68</td>\n",
       "      <td>1.03</td>\n",
       "      <td>3.17</td>\n",
       "      <td>1185</td>\n",
       "    </tr>\n",
       "    <tr>\n",
       "      <th>3</th>\n",
       "      <td>14.37</td>\n",
       "      <td>1.95</td>\n",
       "      <td>2.50</td>\n",
       "      <td>16.8</td>\n",
       "      <td>113</td>\n",
       "      <td>3.85</td>\n",
       "      <td>3.49</td>\n",
       "      <td>0.24</td>\n",
       "      <td>2.18</td>\n",
       "      <td>7.80</td>\n",
       "      <td>0.86</td>\n",
       "      <td>3.45</td>\n",
       "      <td>1480</td>\n",
       "    </tr>\n",
       "    <tr>\n",
       "      <th>4</th>\n",
       "      <td>13.24</td>\n",
       "      <td>2.59</td>\n",
       "      <td>2.87</td>\n",
       "      <td>21.0</td>\n",
       "      <td>118</td>\n",
       "      <td>2.80</td>\n",
       "      <td>2.69</td>\n",
       "      <td>0.39</td>\n",
       "      <td>1.82</td>\n",
       "      <td>4.32</td>\n",
       "      <td>1.04</td>\n",
       "      <td>2.93</td>\n",
       "      <td>735</td>\n",
       "    </tr>\n",
       "  </tbody>\n",
       "</table>\n",
       "</div>"
      ],
      "text/plain": [
       "   Alcohol  Malic_acid   Ash  Alca_ash  Magnesium  phenols  Flavanoids  \\\n",
       "0    14.23        1.71  2.43      15.6        127     2.80        3.06   \n",
       "1    13.20        1.78  2.14      11.2        100     2.65        2.76   \n",
       "2    13.16        2.36  2.67      18.6        101     2.80        3.24   \n",
       "3    14.37        1.95  2.50      16.8        113     3.85        3.49   \n",
       "4    13.24        2.59  2.87      21.0        118     2.80        2.69   \n",
       "\n",
       "   Nonflav_phenols  Proanthocyanins  Color_int   Hue  diluted_wines  Proline  \n",
       "0             0.28             2.29       5.64  1.04           3.92     1065  \n",
       "1             0.26             1.28       4.38  1.05           3.40     1050  \n",
       "2             0.30             2.81       5.68  1.03           3.17     1185  \n",
       "3             0.24             2.18       7.80  0.86           3.45     1480  \n",
       "4             0.39             1.82       4.32  1.04           2.93      735  "
      ]
     },
     "execution_count": 16,
     "metadata": {},
     "output_type": "execute_result"
    }
   ],
   "source": [
    "print(x.shape)\n",
    "x.head(5)"
   ]
  },
  {
   "cell_type": "code",
   "execution_count": 17,
   "metadata": {},
   "outputs": [
    {
     "name": "stdout",
     "output_type": "stream",
     "text": [
      "(178,)\n"
     ]
    },
    {
     "data": {
      "text/plain": [
       "0    1\n",
       "1    1\n",
       "2    1\n",
       "3    1\n",
       "4    1\n",
       "Name: Labels, dtype: int64"
      ]
     },
     "execution_count": 17,
     "metadata": {},
     "output_type": "execute_result"
    }
   ],
   "source": [
    "print(y.shape)\n",
    "y.head(5)"
   ]
  },
  {
   "cell_type": "code",
   "execution_count": 18,
   "metadata": {},
   "outputs": [],
   "source": [
    "#Split the train set, test set, train class, test class\n",
    "from sklearn.cross_validation import train_test_split\n",
    "x_train,x_test,y_train,y_test = train_test_split(x, #Predictor Variables\n",
    "                                                 y, #Class labels\n",
    "                                                 stratify=y, #data is split in a stratified fashion, using this as the class labels\n",
    "                                                 test_size=0.34,#Test size is set as 34% of entire set\n",
    "                                                 random_state=28)"
   ]
  },
  {
   "cell_type": "code",
   "execution_count": 14,
   "metadata": {},
   "outputs": [
    {
     "name": "stdout",
     "output_type": "stream",
     "text": [
      "(117, 13)\n",
      "(61, 13)\n",
      "(117,)\n",
      "(61,)\n"
     ]
    }
   ],
   "source": [
    "print(x_train.shape)\n",
    "print(x_test.shape)\n",
    "print(y_train.shape)\n",
    "print(y_test.shape)\n"
   ]
  },
  {
   "cell_type": "code",
   "execution_count": 21,
   "metadata": {
    "collapsed": true
   },
   "outputs": [],
   "source": [
    "#We will us KNN classifier \n",
    "from sklearn import neighbors, tree, naive_bayes"
   ]
  },
  {
   "cell_type": "markdown",
   "metadata": {},
   "source": [
    "####Decision Tree Classifer with default setting"
   ]
  },
  {
   "cell_type": "code",
   "execution_count": 104,
   "metadata": {},
   "outputs": [
    {
     "data": {
      "text/plain": [
       "DecisionTreeClassifier(class_weight=None, criterion='gini', max_depth=None,\n",
       "            max_features=None, max_leaf_nodes=None,\n",
       "            min_impurity_split=1e-07, min_samples_leaf=1,\n",
       "            min_samples_split=2, min_weight_fraction_leaf=0.0,\n",
       "            presort=False, random_state=None, splitter='best')"
      ]
     },
     "execution_count": 104,
     "metadata": {},
     "output_type": "execute_result"
    }
   ],
   "source": [
    "#Set up Decision Tree classifier with ALL default setting\n",
    "treeclf = tree.DecisionTreeClassifier()\n",
    "#Plug in the train dataset with target class\n",
    "treeclf = treeclf.fit(x_train, y_train)\n",
    "treeclf"
   ]
  },
  {
   "cell_type": "code",
   "execution_count": 105,
   "metadata": {},
   "outputs": [
    {
     "name": "stdout",
     "output_type": "stream",
     "text": [
      "(61,)\n"
     ]
    }
   ],
   "source": [
    "#Classify the Target Class\n",
    "y_pre = treeclf.predict(x_test)\n",
    "print (y_pre.shape)"
   ]
  },
  {
   "cell_type": "code",
   "execution_count": 106,
   "metadata": {},
   "outputs": [
    {
     "name": "stdout",
     "output_type": "stream",
     "text": [
      "             precision    recall  f1-score   support\n",
      "\n",
      "          1       1.00      0.85      0.92        20\n",
      "          2       0.85      0.96      0.90        24\n",
      "          3       0.94      0.94      0.94        17\n",
      "\n",
      "avg / total       0.93      0.92      0.92        61\n",
      "\n"
     ]
    }
   ],
   "source": [
    "#Generate the Classification Report\n",
    "#Generate the precision, recall, F1 score for each class\n",
    "from sklearn.metrics import classification_report\n",
    "print(classification_report(y_test, y_pre))"
   ]
  },
  {
   "cell_type": "code",
   "execution_count": 107,
   "metadata": {},
   "outputs": [
    {
     "name": "stdout",
     "output_type": "stream",
     "text": [
      "[[17  3  0]\n",
      " [ 0 23  1]\n",
      " [ 0  1 16]]\n"
     ]
    }
   ],
   "source": [
    "#Generate confustion matrix \n",
    "#Columns represent the Actual Values 1 through 3 from top to bottom\n",
    "#Rows represent the Predicted Values 1 through 3 from left to right\n",
    "from sklearn.metrics import confusion_matrix\n",
    "tree_cm = confusion_matrix(y_test, y_pre, labels=[1,2,3])\n",
    "print (tree_cm)"
   ]
  },
  {
   "cell_type": "code",
   "execution_count": 108,
   "metadata": {},
   "outputs": [
    {
     "name": "stdout",
     "output_type": "stream",
     "text": [
      "100.0 %\n"
     ]
    }
   ],
   "source": [
    "#The average Accuracy score across the train instances\n",
    "print (treeclf.score(x_train, y_train)*100,\"%\")"
   ]
  },
  {
   "cell_type": "code",
   "execution_count": 109,
   "metadata": {},
   "outputs": [
    {
     "name": "stdout",
     "output_type": "stream",
     "text": [
      "91.8032786885 %\n"
     ]
    }
   ],
   "source": [
    "from sklearn.metrics import accuracy_score\n",
    "print(accuracy_score(y_test, y_pre)*100,\"%\")"
   ]
  },
  {
   "cell_type": "code",
   "execution_count": 48,
   "metadata": {
    "collapsed": true
   },
   "outputs": [],
   "source": [
    "####Decision Tree Classifer with with criterion gini index"
   ]
  },
  {
   "cell_type": "code",
   "execution_count": 110,
   "metadata": {},
   "outputs": [
    {
     "data": {
      "text/plain": [
       "DecisionTreeClassifier(class_weight=None, criterion='gini', max_depth=3,\n",
       "            max_features=None, max_leaf_nodes=None,\n",
       "            min_impurity_split=1e-07, min_samples_leaf=4,\n",
       "            min_samples_split=2, min_weight_fraction_leaf=0.0,\n",
       "            presort=False, random_state=28, splitter='best')"
      ]
     },
     "execution_count": 110,
     "metadata": {},
     "output_type": "execute_result"
    }
   ],
   "source": [
    "treeclf_gini = tree.DecisionTreeClassifier(criterion = \"gini\", \n",
    "                                      random_state = 28,\n",
    "                                      max_depth=3, \n",
    "                                      min_samples_leaf=4)\n",
    "#Plug in the train dataset with target class\n",
    "treeclf_gini = treeclf_gini.fit(x_train, y_train)\n",
    "treeclf_gini"
   ]
  },
  {
   "cell_type": "code",
   "execution_count": 111,
   "metadata": {},
   "outputs": [
    {
     "name": "stdout",
     "output_type": "stream",
     "text": [
      "(61,)\n"
     ]
    }
   ],
   "source": [
    "#Classify the Target Class\n",
    "y_pre = treeclf_gini.predict(x_test)\n",
    "print (y_pre.shape)"
   ]
  },
  {
   "cell_type": "code",
   "execution_count": 112,
   "metadata": {},
   "outputs": [
    {
     "name": "stdout",
     "output_type": "stream",
     "text": [
      "97.4358974359 %\n"
     ]
    }
   ],
   "source": [
    "#The average Accuracy score across the train instances\n",
    "print (treeclf_gini.score(x_train, y_train)*100,\"%\")"
   ]
  },
  {
   "cell_type": "code",
   "execution_count": 113,
   "metadata": {},
   "outputs": [
    {
     "name": "stdout",
     "output_type": "stream",
     "text": [
      "88.5245901639 %\n"
     ]
    }
   ],
   "source": [
    "from sklearn.metrics import accuracy_score\n",
    "print(accuracy_score(y_test, y_pre)*100,\"%\")"
   ]
  },
  {
   "cell_type": "code",
   "execution_count": 88,
   "metadata": {},
   "outputs": [
    {
     "data": {
      "image/svg+xml": [
       "<?xml version=\"1.0\" encoding=\"UTF-8\" standalone=\"no\"?>\n",
       "<!DOCTYPE svg PUBLIC \"-//W3C//DTD SVG 1.1//EN\"\n",
       " \"http://www.w3.org/Graphics/SVG/1.1/DTD/svg11.dtd\">\n",
       "<!-- Generated by graphviz version 2.40.1 (20161225.0304)\n",
       " -->\n",
       "<!-- Title: Tree Pages: 1 -->\n",
       "<svg width=\"574pt\" height=\"358pt\"\n",
       " viewBox=\"0.00 0.00 573.54 358.00\" xmlns=\"http://www.w3.org/2000/svg\" xmlns:xlink=\"http://www.w3.org/1999/xlink\">\n",
       "<g id=\"graph0\" class=\"graph\" transform=\"scale(1 1) rotate(0) translate(4 354)\">\n",
       "<title>Tree</title>\n",
       "<polygon fill=\"#ffffff\" stroke=\"transparent\" points=\"-4,4 -4,-354 569.5371,-354 569.5371,4 -4,4\"/>\n",
       "<!-- 0 -->\n",
       "<g id=\"node1\" class=\"node\">\n",
       "<title>0</title>\n",
       "<polygon fill=\"none\" stroke=\"#000000\" points=\"311.3065,-350 185.2306,-350 185.2306,-286 311.3065,-286 311.3065,-350\"/>\n",
       "<text text-anchor=\"middle\" x=\"248.2686\" y=\"-334.8\" font-family=\"Times,serif\" font-size=\"14.00\" fill=\"#000000\">Color_int &lt;= 3.945</text>\n",
       "<text text-anchor=\"middle\" x=\"248.2686\" y=\"-320.8\" font-family=\"Times,serif\" font-size=\"14.00\" fill=\"#000000\">gini = 0.6573</text>\n",
       "<text text-anchor=\"middle\" x=\"248.2686\" y=\"-306.8\" font-family=\"Times,serif\" font-size=\"14.00\" fill=\"#000000\">samples = 117</text>\n",
       "<text text-anchor=\"middle\" x=\"248.2686\" y=\"-292.8\" font-family=\"Times,serif\" font-size=\"14.00\" fill=\"#000000\">value = [39, 47, 31]</text>\n",
       "</g>\n",
       "<!-- 1 -->\n",
       "<g id=\"node2\" class=\"node\">\n",
       "<title>1</title>\n",
       "<polygon fill=\"none\" stroke=\"#000000\" points=\"236.3066,-250 124.2305,-250 124.2305,-186 236.3066,-186 236.3066,-250\"/>\n",
       "<text text-anchor=\"middle\" x=\"180.2686\" y=\"-234.8\" font-family=\"Times,serif\" font-size=\"14.00\" fill=\"#000000\">Proline &lt;= 719.0</text>\n",
       "<text text-anchor=\"middle\" x=\"180.2686\" y=\"-220.8\" font-family=\"Times,serif\" font-size=\"14.00\" fill=\"#000000\">gini = 0.1238</text>\n",
       "<text text-anchor=\"middle\" x=\"180.2686\" y=\"-206.8\" font-family=\"Times,serif\" font-size=\"14.00\" fill=\"#000000\">samples = 46</text>\n",
       "<text text-anchor=\"middle\" x=\"180.2686\" y=\"-192.8\" font-family=\"Times,serif\" font-size=\"14.00\" fill=\"#000000\">value = [2, 43, 1]</text>\n",
       "</g>\n",
       "<!-- 0&#45;&gt;1 -->\n",
       "<g id=\"edge1\" class=\"edge\">\n",
       "<title>0&#45;&gt;1</title>\n",
       "<path fill=\"none\" stroke=\"#000000\" d=\"M226.3786,-285.8089C220.4942,-277.1553 214.053,-267.683 207.9004,-258.635\"/>\n",
       "<polygon fill=\"#000000\" stroke=\"#000000\" points=\"210.6349,-256.4319 202.1175,-250.1308 204.8464,-260.3681 210.6349,-256.4319\"/>\n",
       "<text text-anchor=\"middle\" x=\"197.4397\" y=\"-270.4892\" font-family=\"Times,serif\" font-size=\"14.00\" fill=\"#000000\">True</text>\n",
       "</g>\n",
       "<!-- 4 -->\n",
       "<g id=\"node5\" class=\"node\">\n",
       "<title>4</title>\n",
       "<polygon fill=\"none\" stroke=\"#000000\" points=\"379.5013,-250 255.0358,-250 255.0358,-186 379.5013,-186 379.5013,-250\"/>\n",
       "<text text-anchor=\"middle\" x=\"317.2686\" y=\"-234.8\" font-family=\"Times,serif\" font-size=\"14.00\" fill=\"#000000\">Flavanoids &lt;= 1.49</text>\n",
       "<text text-anchor=\"middle\" x=\"317.2686\" y=\"-220.8\" font-family=\"Times,serif\" font-size=\"14.00\" fill=\"#000000\">gini = 0.5467</text>\n",
       "<text text-anchor=\"middle\" x=\"317.2686\" y=\"-206.8\" font-family=\"Times,serif\" font-size=\"14.00\" fill=\"#000000\">samples = 71</text>\n",
       "<text text-anchor=\"middle\" x=\"317.2686\" y=\"-192.8\" font-family=\"Times,serif\" font-size=\"14.00\" fill=\"#000000\">value = [37, 4, 30]</text>\n",
       "</g>\n",
       "<!-- 0&#45;&gt;4 -->\n",
       "<g id=\"edge4\" class=\"edge\">\n",
       "<title>0&#45;&gt;4</title>\n",
       "<path fill=\"none\" stroke=\"#000000\" d=\"M270.4804,-285.8089C276.4514,-277.1553 282.9873,-267.683 289.2304,-258.635\"/>\n",
       "<polygon fill=\"#000000\" stroke=\"#000000\" points=\"292.2998,-260.3493 295.0983,-250.1308 286.5382,-256.3738 292.2998,-260.3493\"/>\n",
       "<text text-anchor=\"middle\" x=\"299.6089\" y=\"-270.5205\" font-family=\"Times,serif\" font-size=\"14.00\" fill=\"#000000\">False</text>\n",
       "</g>\n",
       "<!-- 2 -->\n",
       "<g id=\"node3\" class=\"node\">\n",
       "<title>2</title>\n",
       "<polygon fill=\"none\" stroke=\"#000000\" points=\"112.3066,-143 .2305,-143 .2305,-93 112.3066,-93 112.3066,-143\"/>\n",
       "<text text-anchor=\"middle\" x=\"56.2686\" y=\"-127.8\" font-family=\"Times,serif\" font-size=\"14.00\" fill=\"#000000\">gini = 0.0</text>\n",
       "<text text-anchor=\"middle\" x=\"56.2686\" y=\"-113.8\" font-family=\"Times,serif\" font-size=\"14.00\" fill=\"#000000\">samples = 39</text>\n",
       "<text text-anchor=\"middle\" x=\"56.2686\" y=\"-99.8\" font-family=\"Times,serif\" font-size=\"14.00\" fill=\"#000000\">value = [0, 39, 0]</text>\n",
       "</g>\n",
       "<!-- 1&#45;&gt;2 -->\n",
       "<g id=\"edge2\" class=\"edge\">\n",
       "<title>1&#45;&gt;2</title>\n",
       "<path fill=\"none\" stroke=\"#000000\" d=\"M140.3516,-185.8089C126.0292,-174.2586 109.8982,-161.2497 95.6238,-149.7381\"/>\n",
       "<polygon fill=\"#000000\" stroke=\"#000000\" points=\"97.4427,-146.7086 87.4614,-143.1555 93.0484,-152.1576 97.4427,-146.7086\"/>\n",
       "</g>\n",
       "<!-- 3 -->\n",
       "<g id=\"node4\" class=\"node\">\n",
       "<title>3</title>\n",
       "<polygon fill=\"none\" stroke=\"#000000\" points=\"235.8067,-143 130.7304,-143 130.7304,-93 235.8067,-93 235.8067,-143\"/>\n",
       "<text text-anchor=\"middle\" x=\"183.2686\" y=\"-127.8\" font-family=\"Times,serif\" font-size=\"14.00\" fill=\"#000000\">gini = 0.5714</text>\n",
       "<text text-anchor=\"middle\" x=\"183.2686\" y=\"-113.8\" font-family=\"Times,serif\" font-size=\"14.00\" fill=\"#000000\">samples = 7</text>\n",
       "<text text-anchor=\"middle\" x=\"183.2686\" y=\"-99.8\" font-family=\"Times,serif\" font-size=\"14.00\" fill=\"#000000\">value = [2, 4, 1]</text>\n",
       "</g>\n",
       "<!-- 1&#45;&gt;3 -->\n",
       "<g id=\"edge3\" class=\"edge\">\n",
       "<title>1&#45;&gt;3</title>\n",
       "<path fill=\"none\" stroke=\"#000000\" d=\"M181.2343,-185.8089C181.5452,-175.446 181.8913,-163.909 182.2086,-153.3327\"/>\n",
       "<polygon fill=\"#000000\" stroke=\"#000000\" points=\"185.7124,-153.256 182.5139,-143.1555 178.7155,-153.0461 185.7124,-153.256\"/>\n",
       "</g>\n",
       "<!-- 5 -->\n",
       "<g id=\"node6\" class=\"node\">\n",
       "<title>5</title>\n",
       "<polygon fill=\"none\" stroke=\"#000000\" points=\"371.3066,-143 259.2305,-143 259.2305,-93 371.3066,-93 371.3066,-143\"/>\n",
       "<text text-anchor=\"middle\" x=\"315.2686\" y=\"-127.8\" font-family=\"Times,serif\" font-size=\"14.00\" fill=\"#000000\">gini = 0.0</text>\n",
       "<text text-anchor=\"middle\" x=\"315.2686\" y=\"-113.8\" font-family=\"Times,serif\" font-size=\"14.00\" fill=\"#000000\">samples = 30</text>\n",
       "<text text-anchor=\"middle\" x=\"315.2686\" y=\"-99.8\" font-family=\"Times,serif\" font-size=\"14.00\" fill=\"#000000\">value = [0, 0, 30]</text>\n",
       "</g>\n",
       "<!-- 4&#45;&gt;5 -->\n",
       "<g id=\"edge5\" class=\"edge\">\n",
       "<title>4&#45;&gt;5</title>\n",
       "<path fill=\"none\" stroke=\"#000000\" d=\"M316.6247,-185.8089C316.4175,-175.446 316.1867,-163.909 315.9752,-153.3327\"/>\n",
       "<polygon fill=\"#000000\" stroke=\"#000000\" points=\"319.471,-153.0835 315.7717,-143.1555 312.4724,-153.2236 319.471,-153.0835\"/>\n",
       "</g>\n",
       "<!-- 6 -->\n",
       "<g id=\"node7\" class=\"node\">\n",
       "<title>6</title>\n",
       "<polygon fill=\"none\" stroke=\"#000000\" points=\"502.3066,-150 390.2305,-150 390.2305,-86 502.3066,-86 502.3066,-150\"/>\n",
       "<text text-anchor=\"middle\" x=\"446.2686\" y=\"-134.8\" font-family=\"Times,serif\" font-size=\"14.00\" fill=\"#000000\">Proline &lt;= 706.5</text>\n",
       "<text text-anchor=\"middle\" x=\"446.2686\" y=\"-120.8\" font-family=\"Times,serif\" font-size=\"14.00\" fill=\"#000000\">gini = 0.1761</text>\n",
       "<text text-anchor=\"middle\" x=\"446.2686\" y=\"-106.8\" font-family=\"Times,serif\" font-size=\"14.00\" fill=\"#000000\">samples = 41</text>\n",
       "<text text-anchor=\"middle\" x=\"446.2686\" y=\"-92.8\" font-family=\"Times,serif\" font-size=\"14.00\" fill=\"#000000\">value = [37, 4, 0]</text>\n",
       "</g>\n",
       "<!-- 4&#45;&gt;6 -->\n",
       "<g id=\"edge6\" class=\"edge\">\n",
       "<title>4&#45;&gt;6</title>\n",
       "<path fill=\"none\" stroke=\"#000000\" d=\"M358.795,-185.8089C370.8789,-176.4416 384.2002,-166.115 396.7252,-156.4057\"/>\n",
       "<polygon fill=\"#000000\" stroke=\"#000000\" points=\"399.0608,-159.0237 404.8199,-150.1308 394.7721,-153.4913 399.0608,-159.0237\"/>\n",
       "</g>\n",
       "<!-- 7 -->\n",
       "<g id=\"node8\" class=\"node\">\n",
       "<title>7</title>\n",
       "<polygon fill=\"none\" stroke=\"#000000\" points=\"434.8067,-50 329.7304,-50 329.7304,0 434.8067,0 434.8067,-50\"/>\n",
       "<text text-anchor=\"middle\" x=\"382.2686\" y=\"-34.8\" font-family=\"Times,serif\" font-size=\"14.00\" fill=\"#000000\">gini = 0.0</text>\n",
       "<text text-anchor=\"middle\" x=\"382.2686\" y=\"-20.8\" font-family=\"Times,serif\" font-size=\"14.00\" fill=\"#000000\">samples = 4</text>\n",
       "<text text-anchor=\"middle\" x=\"382.2686\" y=\"-6.8\" font-family=\"Times,serif\" font-size=\"14.00\" fill=\"#000000\">value = [0, 4, 0]</text>\n",
       "</g>\n",
       "<!-- 6&#45;&gt;7 -->\n",
       "<g id=\"edge7\" class=\"edge\">\n",
       "<title>6&#45;&gt;7</title>\n",
       "<path fill=\"none\" stroke=\"#000000\" d=\"M424.2434,-85.9947C418.1056,-77.0756 411.4237,-67.3661 405.2333,-58.3706\"/>\n",
       "<polygon fill=\"#000000\" stroke=\"#000000\" points=\"408.0348,-56.2677 399.4825,-50.014 402.2684,-60.2361 408.0348,-56.2677\"/>\n",
       "</g>\n",
       "<!-- 8 -->\n",
       "<g id=\"node9\" class=\"node\">\n",
       "<title>8</title>\n",
       "<polygon fill=\"none\" stroke=\"#000000\" points=\"565.3066,-50 453.2305,-50 453.2305,0 565.3066,0 565.3066,-50\"/>\n",
       "<text text-anchor=\"middle\" x=\"509.2686\" y=\"-34.8\" font-family=\"Times,serif\" font-size=\"14.00\" fill=\"#000000\">gini = 0.0</text>\n",
       "<text text-anchor=\"middle\" x=\"509.2686\" y=\"-20.8\" font-family=\"Times,serif\" font-size=\"14.00\" fill=\"#000000\">samples = 37</text>\n",
       "<text text-anchor=\"middle\" x=\"509.2686\" y=\"-6.8\" font-family=\"Times,serif\" font-size=\"14.00\" fill=\"#000000\">value = [37, 0, 0]</text>\n",
       "</g>\n",
       "<!-- 6&#45;&gt;8 -->\n",
       "<g id=\"edge8\" class=\"edge\">\n",
       "<title>6&#45;&gt;8</title>\n",
       "<path fill=\"none\" stroke=\"#000000\" d=\"M467.9496,-85.9947C473.9915,-77.0756 480.5689,-67.3661 486.6626,-58.3706\"/>\n",
       "<polygon fill=\"#000000\" stroke=\"#000000\" points=\"489.6128,-60.2562 492.3236,-50.014 483.8173,-56.3303 489.6128,-60.2562\"/>\n",
       "</g>\n",
       "</g>\n",
       "</svg>\n"
      ],
      "text/plain": [
       "<graphviz.files.Source at 0x10f4f84a8>"
      ]
     },
     "execution_count": 88,
     "metadata": {},
     "output_type": "execute_result"
    }
   ],
   "source": [
    "import graphviz \n",
    "tree_image=tree.export_graphviz(treeclf_gini,\n",
    "                        out_file=None,\n",
    "                        feature_names=wine.columns[1:]\n",
    "                       ) \n",
    "graph = graphviz.Source(tree_image) \n",
    "graph"
   ]
  },
  {
   "cell_type": "markdown",
   "metadata": {},
   "source": [
    "####Decision Tree Classifer with with criterion entropy index"
   ]
  },
  {
   "cell_type": "code",
   "execution_count": 121,
   "metadata": {},
   "outputs": [
    {
     "name": "stdout",
     "output_type": "stream",
     "text": [
      "(61,)\n"
     ]
    }
   ],
   "source": [
    "treeclf_entropy = tree.DecisionTreeClassifier(criterion = \"entropy\", \n",
    "                                          random_state = 28,\n",
    "                                          max_depth=2, \n",
    "                                          min_samples_leaf=4)\n",
    "#Plug in the train dataset with target class\n",
    "treeclf_entropy = treeclf_entropy.fit(x_train, y_train)\n",
    "y_pre = treeclf_entropy.predict(x_test)\n",
    "print(y_pre.shape)"
   ]
  },
  {
   "cell_type": "code",
   "execution_count": 122,
   "metadata": {},
   "outputs": [
    {
     "name": "stdout",
     "output_type": "stream",
     "text": [
      "97.4358974359 %\n"
     ]
    }
   ],
   "source": [
    "#The average Accuracy score across the train instances\n",
    "print (treeclf_entropy.score(x_train, y_train)*100,\"%\")"
   ]
  },
  {
   "cell_type": "code",
   "execution_count": 123,
   "metadata": {},
   "outputs": [
    {
     "name": "stdout",
     "output_type": "stream",
     "text": [
      "93.4426229508 %\n"
     ]
    }
   ],
   "source": [
    "from sklearn.metrics import accuracy_score\n",
    "print(accuracy_score(y_test, y_pre)*100,\"%\")"
   ]
  },
  {
   "cell_type": "code",
   "execution_count": 124,
   "metadata": {},
   "outputs": [
    {
     "data": {
      "image/svg+xml": [
       "<?xml version=\"1.0\" encoding=\"UTF-8\" standalone=\"no\"?>\n",
       "<!DOCTYPE svg PUBLIC \"-//W3C//DTD SVG 1.1//EN\"\n",
       " \"http://www.w3.org/Graphics/SVG/1.1/DTD/svg11.dtd\">\n",
       "<!-- Generated by graphviz version 2.40.1 (20161225.0304)\n",
       " -->\n",
       "<!-- Title: Tree Pages: 1 -->\n",
       "<svg width=\"510pt\" height=\"258pt\"\n",
       " viewBox=\"0.00 0.00 510.04 258.00\" xmlns=\"http://www.w3.org/2000/svg\" xmlns:xlink=\"http://www.w3.org/1999/xlink\">\n",
       "<g id=\"graph0\" class=\"graph\" transform=\"scale(1 1) rotate(0) translate(4 254)\">\n",
       "<title>Tree</title>\n",
       "<polygon fill=\"#ffffff\" stroke=\"transparent\" points=\"-4,4 -4,-254 506.0371,-254 506.0371,4 -4,4\"/>\n",
       "<!-- 0 -->\n",
       "<g id=\"node1\" class=\"node\">\n",
       "<title>0</title>\n",
       "<polygon fill=\"none\" stroke=\"#000000\" points=\"312.5012,-250 181.0359,-250 181.0359,-186 312.5012,-186 312.5012,-250\"/>\n",
       "<text text-anchor=\"middle\" x=\"246.7686\" y=\"-234.8\" font-family=\"Times,serif\" font-size=\"14.00\" fill=\"#000000\">Flavanoids &lt;= 1.425</text>\n",
       "<text text-anchor=\"middle\" x=\"246.7686\" y=\"-220.8\" font-family=\"Times,serif\" font-size=\"14.00\" fill=\"#000000\">entropy = 1.5646</text>\n",
       "<text text-anchor=\"middle\" x=\"246.7686\" y=\"-206.8\" font-family=\"Times,serif\" font-size=\"14.00\" fill=\"#000000\">samples = 117</text>\n",
       "<text text-anchor=\"middle\" x=\"246.7686\" y=\"-192.8\" font-family=\"Times,serif\" font-size=\"14.00\" fill=\"#000000\">value = [39, 47, 31]</text>\n",
       "</g>\n",
       "<!-- 1 -->\n",
       "<g id=\"node2\" class=\"node\">\n",
       "<title>1</title>\n",
       "<polygon fill=\"none\" stroke=\"#000000\" points=\"238.7285,-150 114.8086,-150 114.8086,-86 238.7285,-86 238.7285,-150\"/>\n",
       "<text text-anchor=\"middle\" x=\"176.7686\" y=\"-134.8\" font-family=\"Times,serif\" font-size=\"14.00\" fill=\"#000000\">Color_int &lt;= 3.725</text>\n",
       "<text text-anchor=\"middle\" x=\"176.7686\" y=\"-120.8\" font-family=\"Times,serif\" font-size=\"14.00\" fill=\"#000000\">entropy = 0.6892</text>\n",
       "<text text-anchor=\"middle\" x=\"176.7686\" y=\"-106.8\" font-family=\"Times,serif\" font-size=\"14.00\" fill=\"#000000\">samples = 38</text>\n",
       "<text text-anchor=\"middle\" x=\"176.7686\" y=\"-92.8\" font-family=\"Times,serif\" font-size=\"14.00\" fill=\"#000000\">value = [0, 7, 31]</text>\n",
       "</g>\n",
       "<!-- 0&#45;&gt;1 -->\n",
       "<g id=\"edge1\" class=\"edge\">\n",
       "<title>0&#45;&gt;1</title>\n",
       "<path fill=\"none\" stroke=\"#000000\" d=\"M224.2348,-185.8089C218.1148,-177.0661 211.4099,-167.4876 205.0173,-158.3553\"/>\n",
       "<polygon fill=\"#000000\" stroke=\"#000000\" points=\"207.8621,-156.316 199.2601,-150.1308 202.1274,-160.3302 207.8621,-156.316\"/>\n",
       "<text text-anchor=\"middle\" x=\"194.9155\" y=\"-170.5503\" font-family=\"Times,serif\" font-size=\"14.00\" fill=\"#000000\">True</text>\n",
       "</g>\n",
       "<!-- 4 -->\n",
       "<g id=\"node5\" class=\"node\">\n",
       "<title>4</title>\n",
       "<polygon fill=\"none\" stroke=\"#000000\" points=\"376.3066,-150 257.2306,-150 257.2306,-86 376.3066,-86 376.3066,-150\"/>\n",
       "<text text-anchor=\"middle\" x=\"316.7686\" y=\"-134.8\" font-family=\"Times,serif\" font-size=\"14.00\" fill=\"#000000\">Proline &lt;= 724.5</text>\n",
       "<text text-anchor=\"middle\" x=\"316.7686\" y=\"-120.8\" font-family=\"Times,serif\" font-size=\"14.00\" fill=\"#000000\">entropy = 0.9999</text>\n",
       "<text text-anchor=\"middle\" x=\"316.7686\" y=\"-106.8\" font-family=\"Times,serif\" font-size=\"14.00\" fill=\"#000000\">samples = 79</text>\n",
       "<text text-anchor=\"middle\" x=\"316.7686\" y=\"-92.8\" font-family=\"Times,serif\" font-size=\"14.00\" fill=\"#000000\">value = [39, 40, 0]</text>\n",
       "</g>\n",
       "<!-- 0&#45;&gt;4 -->\n",
       "<g id=\"edge4\" class=\"edge\">\n",
       "<title>0&#45;&gt;4</title>\n",
       "<path fill=\"none\" stroke=\"#000000\" d=\"M269.3023,-185.8089C275.4223,-177.0661 282.1272,-167.4876 288.5198,-158.3553\"/>\n",
       "<polygon fill=\"#000000\" stroke=\"#000000\" points=\"291.4097,-160.3302 294.277,-150.1308 285.675,-156.316 291.4097,-160.3302\"/>\n",
       "<text text-anchor=\"middle\" x=\"298.6217\" y=\"-170.5503\" font-family=\"Times,serif\" font-size=\"14.00\" fill=\"#000000\">False</text>\n",
       "</g>\n",
       "<!-- 2 -->\n",
       "<g id=\"node3\" class=\"node\">\n",
       "<title>2</title>\n",
       "<polygon fill=\"none\" stroke=\"#000000\" points=\"105.3067,-50 .2304,-50 .2304,0 105.3067,0 105.3067,-50\"/>\n",
       "<text text-anchor=\"middle\" x=\"52.7686\" y=\"-34.8\" font-family=\"Times,serif\" font-size=\"14.00\" fill=\"#000000\">entropy = 0.0</text>\n",
       "<text text-anchor=\"middle\" x=\"52.7686\" y=\"-20.8\" font-family=\"Times,serif\" font-size=\"14.00\" fill=\"#000000\">samples = 7</text>\n",
       "<text text-anchor=\"middle\" x=\"52.7686\" y=\"-6.8\" font-family=\"Times,serif\" font-size=\"14.00\" fill=\"#000000\">value = [0, 7, 0]</text>\n",
       "</g>\n",
       "<!-- 1&#45;&gt;2 -->\n",
       "<g id=\"edge2\" class=\"edge\">\n",
       "<title>1&#45;&gt;2</title>\n",
       "<path fill=\"none\" stroke=\"#000000\" d=\"M134.0948,-85.9947C121.222,-76.3401 107.1141,-65.7592 94.3157,-56.1604\"/>\n",
       "<polygon fill=\"#000000\" stroke=\"#000000\" points=\"96.2206,-53.2141 86.1206,-50.014 92.0206,-58.8141 96.2206,-53.2141\"/>\n",
       "</g>\n",
       "<!-- 3 -->\n",
       "<g id=\"node4\" class=\"node\">\n",
       "<title>3</title>\n",
       "<polygon fill=\"none\" stroke=\"#000000\" points=\"235.8066,-50 123.7305,-50 123.7305,0 235.8066,0 235.8066,-50\"/>\n",
       "<text text-anchor=\"middle\" x=\"179.7686\" y=\"-34.8\" font-family=\"Times,serif\" font-size=\"14.00\" fill=\"#000000\">entropy = 0.0</text>\n",
       "<text text-anchor=\"middle\" x=\"179.7686\" y=\"-20.8\" font-family=\"Times,serif\" font-size=\"14.00\" fill=\"#000000\">samples = 31</text>\n",
       "<text text-anchor=\"middle\" x=\"179.7686\" y=\"-6.8\" font-family=\"Times,serif\" font-size=\"14.00\" fill=\"#000000\">value = [0, 0, 31]</text>\n",
       "</g>\n",
       "<!-- 1&#45;&gt;3 -->\n",
       "<g id=\"edge3\" class=\"edge\">\n",
       "<title>1&#45;&gt;3</title>\n",
       "<path fill=\"none\" stroke=\"#000000\" d=\"M177.801,-85.9947C178.0709,-77.6273 178.3633,-68.5643 178.638,-60.0478\"/>\n",
       "<polygon fill=\"#000000\" stroke=\"#000000\" points=\"182.1373,-60.1217 178.9617,-50.014 175.141,-59.896 182.1373,-60.1217\"/>\n",
       "</g>\n",
       "<!-- 5 -->\n",
       "<g id=\"node6\" class=\"node\">\n",
       "<title>5</title>\n",
       "<polygon fill=\"none\" stroke=\"#000000\" points=\"370.8066,-50 258.7305,-50 258.7305,0 370.8066,0 370.8066,-50\"/>\n",
       "<text text-anchor=\"middle\" x=\"314.7686\" y=\"-34.8\" font-family=\"Times,serif\" font-size=\"14.00\" fill=\"#000000\">entropy = 0.0</text>\n",
       "<text text-anchor=\"middle\" x=\"314.7686\" y=\"-20.8\" font-family=\"Times,serif\" font-size=\"14.00\" fill=\"#000000\">samples = 37</text>\n",
       "<text text-anchor=\"middle\" x=\"314.7686\" y=\"-6.8\" font-family=\"Times,serif\" font-size=\"14.00\" fill=\"#000000\">value = [0, 37, 0]</text>\n",
       "</g>\n",
       "<!-- 4&#45;&gt;5 -->\n",
       "<g id=\"edge5\" class=\"edge\">\n",
       "<title>4&#45;&gt;5</title>\n",
       "<path fill=\"none\" stroke=\"#000000\" d=\"M316.0803,-85.9947C315.9003,-77.6273 315.7054,-68.5643 315.5223,-60.0478\"/>\n",
       "<polygon fill=\"#000000\" stroke=\"#000000\" points=\"319.0208,-59.9364 315.3065,-50.014 312.0224,-60.087 319.0208,-59.9364\"/>\n",
       "</g>\n",
       "<!-- 6 -->\n",
       "<g id=\"node7\" class=\"node\">\n",
       "<title>6</title>\n",
       "<polygon fill=\"none\" stroke=\"#000000\" points=\"501.8066,-50 389.7305,-50 389.7305,0 501.8066,0 501.8066,-50\"/>\n",
       "<text text-anchor=\"middle\" x=\"445.7686\" y=\"-34.8\" font-family=\"Times,serif\" font-size=\"14.00\" fill=\"#000000\">entropy = 0.3712</text>\n",
       "<text text-anchor=\"middle\" x=\"445.7686\" y=\"-20.8\" font-family=\"Times,serif\" font-size=\"14.00\" fill=\"#000000\">samples = 42</text>\n",
       "<text text-anchor=\"middle\" x=\"445.7686\" y=\"-6.8\" font-family=\"Times,serif\" font-size=\"14.00\" fill=\"#000000\">value = [39, 3, 0]</text>\n",
       "</g>\n",
       "<!-- 4&#45;&gt;6 -->\n",
       "<g id=\"edge6\" class=\"edge\">\n",
       "<title>4&#45;&gt;6</title>\n",
       "<path fill=\"none\" stroke=\"#000000\" d=\"M361.163,-85.9947C374.6825,-76.2481 389.5113,-65.5575 402.9261,-55.8864\"/>\n",
       "<polygon fill=\"#000000\" stroke=\"#000000\" points=\"405.0067,-58.7012 411.0717,-50.014 400.9131,-53.023 405.0067,-58.7012\"/>\n",
       "</g>\n",
       "</g>\n",
       "</svg>\n"
      ],
      "text/plain": [
       "<graphviz.files.Source at 0x10f4f94a8>"
      ]
     },
     "execution_count": 124,
     "metadata": {},
     "output_type": "execute_result"
    }
   ],
   "source": [
    "import graphviz \n",
    "tree_image=tree.export_graphviz(treeclf_entropy,\n",
    "                        out_file=None,\n",
    "                        feature_names=wine.columns[1:]\n",
    "                       ) \n",
    "graph = graphviz.Source(tree_image) \n",
    "graph"
   ]
  },
  {
   "cell_type": "code",
   "execution_count": 149,
   "metadata": {},
   "outputs": [
    {
     "data": {
      "image/png": "[encoded data removed]",
      "text/plain": [
       "<matplotlib.figure.Figure at 0x1135e2d30>"
      ]
     },
     "metadata": {},
     "output_type": "display_data"
    }
   ],
   "source": [
    "import numpy as np\n",
    "import matplotlib.mlab as mlab\n",
    "import matplotlib.pyplot as plt\n",
    "\n",
    "\n",
    "# the histogram of the data\n",
    "plt.hist(np.array(x_train))\n",
    "plt.show()"
   ]
  },
  {
   "cell_type": "code",
   "execution_count": 166,
   "metadata": {},
   "outputs": [
    {
     "data": {
      "image/png": "[encoded data removed]",
      "text/plain": [
       "<matplotlib.figure.Figure at 0x113a37e10>"
      ]
     },
     "metadata": {},
     "output_type": "display_data"
    }
   ],
   "source": [
    "#Using matplotlib module for graph plotting\n",
    "import matplotlib.pyplot as plt\n",
    "%matplotlib inline\n",
    "fig = plt.figure(figsize=(15, 5))\n",
    "# Create an Axes object.\n",
    "\n",
    "ax1 = fig.add_subplot(1,2,1) # one row, two column, first plot\n",
    "# Plot the data.\n",
    "y_train.value_counts().plot(kind='bar', color='green')\n",
    "ax1.set_title(\"Train Set Class Labels\", size=20)\n",
    "ax1.set_xlabel(\"Class Labels\", size=15)\n",
    "ax1.set_ylabel(\"Count\", size=15)\n",
    "ax1.tick_params(axis='x', labelsize=14)\n",
    "ax1.tick_params(axis='y', labelsize=14)\n",
    "\n",
    "ax2 = fig.add_subplot(1,2,2) # one row, two column, first plot\n",
    "# Plot the data.\n",
    "y_test.value_counts().plot(kind='bar', color='orange')\n",
    "ax2.set_title(\"Test Set Class Labels\", size=20)\n",
    "ax2.set_xlabel(\"Class Labels\", size=15)\n",
    "ax2.set_ylabel(\"Count\", size=15)\n",
    "ax2.tick_params(axis='x', labelsize=14)\n",
    "ax2.tick_params(axis='y', labelsize=14)"
   ]
  },
  {
   "cell_type": "code",
   "execution_count": null,
   "metadata": {
    "collapsed": true
   },
   "outputs": [],
   "source": []
  },
  {
   "cell_type": "code",
   "execution_count": null,
   "metadata": {
    "collapsed": true
   },
   "outputs": [],
   "source": []
  },
  {
   "cell_type": "code",
   "execution_count": null,
   "metadata": {
    "collapsed": true
   },
   "outputs": [],
   "source": []
  },
  {
   "cell_type": "code",
   "execution_count": null,
   "metadata": {
    "collapsed": true
   },
   "outputs": [],
   "source": []
  },
  {
   "cell_type": "code",
   "execution_count": null,
   "metadata": {
    "collapsed": true
   },
   "outputs": [],
   "source": []
  },
  {
   "cell_type": "code",
   "execution_count": null,
   "metadata": {
    "collapsed": true
   },
   "outputs": [],
   "source": []
  }
 ],
 "metadata": {
  "kernelspec": {
   "display_name": "Python 3",
   "language": "python",
   "name": "python3"
  },
  "language_info": {
   "codemirror_mode": {
    "name": "ipython",
    "version": 3
   },
   "file_extension": ".py",
   "mimetype": "text/x-python",
   "name": "python",
   "nbconvert_exporter": "python",
   "pygments_lexer": "ipython3",
   "version": "3.6.0"
  }
 },
 "nbformat": 4,
 "nbformat_minor": 2
}
